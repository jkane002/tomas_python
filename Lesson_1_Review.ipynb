{
  "nbformat": 4,
  "nbformat_minor": 0,
  "metadata": {
    "colab": {
      "name": "Lesson 1: Review",
      "provenance": [],
      "collapsed_sections": [
        "08U1TML_7T6Y",
        "glCedjN-Gd6s",
        "Cfh4_WoHI3Lg",
        "491J4PAkI5Yy",
        "hBL5za7bI_8t",
        "jACYJD42I76y",
        "zEYj00FRI96L"
      ],
      "toc_visible": true,
      "include_colab_link": true
    },
    "kernelspec": {
      "display_name": "Python 3",
      "name": "python3"
    }
  },
  "cells": [
    {
      "cell_type": "markdown",
      "metadata": {
        "id": "view-in-github",
        "colab_type": "text"
      },
      "source": [
        "<a href=\"https://colab.research.google.com/github/jkane002/tomas_python/blob/master/Lesson_1_Review.ipynb\" target=\"_parent\"><img src=\"https://colab.research.google.com/assets/colab-badge.svg\" alt=\"Open In Colab\"/></a>"
      ]
    },
    {
      "cell_type": "markdown",
      "metadata": {
        "id": "EOgzXtVT4ytN",
        "colab_type": "text"
      },
      "source": [
        "# Lesson 1: Review (5/31/2020)\n",
        "---\n",
        "Intro: We will be going over previous topics and common mistakes that beginners in python usually make."
      ]
    },
    {
      "cell_type": "markdown",
      "metadata": {
        "id": "08U1TML_7T6Y",
        "colab_type": "text"
      },
      "source": [
        "# Concept 1: = and ==\n",
        "---"
      ]
    },
    {
      "cell_type": "markdown",
      "metadata": {
        "id": "_5KZ_BYj7dFi",
        "colab_type": "text"
      },
      "source": [
        "##  What are they?\n",
        "### = \n",
        "* '=' is the assignment operator\n",
        "* Assigns value on the right to the variable on the left\n",
        "* It's different from a typical math equation.\n",
        "```\n",
        " x + y = z\n",
        "```\n",
        "```\n",
        " z = x + y\n",
        "```\n",
        "\n",
        "* There are compound operators like +=. Name other compound operators.\n",
        "\n",
        "### == \n",
        "* '==' is the equals operator\n",
        "* two consecutive equal marks is used to check whether 2 expressions give the same value\n",
        "\n",
        "Note: Don't confuse '==' with 'is'\n",
        "\n",
        "```\n",
        ">>> foo = 10\n",
        ">>> dir(foo) == dir(10)\n",
        "True\n",
        ">>> dir(foo) is dir(10)\n",
        "False\n",
        ">>> \n",
        "```\n",
        "is checks that 2 arguments refer to the same object, == checks that 2 arguments have the same value"
      ]
    },
    {
      "cell_type": "markdown",
      "metadata": {
        "id": "JRA1wHqyALL4",
        "colab_type": "text"
      },
      "source": [
        "## Examples: \n",
        "---"
      ]
    },
    {
      "cell_type": "code",
      "metadata": {
        "id": "Etu-Mdvs4xz-",
        "colab_type": "code",
        "colab": {}
      },
      "source": [
        "'''\n",
        "Read right to left \n",
        "Assign 5 to variable a\n",
        "'''\n",
        "a = 5\n",
        "\n",
        "# checks value of a to the value 5\n",
        "if a == 5:\n",
        "  print(\"Yes\")"
      ],
      "execution_count": 0,
      "outputs": []
    },
    {
      "cell_type": "code",
      "metadata": {
        "id": "ao5izCoHGIL1",
        "colab_type": "code",
        "colab": {}
      },
      "source": [
        "car = \"Ferrari\""
      ],
      "execution_count": 0,
      "outputs": []
    },
    {
      "cell_type": "markdown",
      "metadata": {
        "id": "24sQpRc1DNMj",
        "colab_type": "text"
      },
      "source": [
        "## DIY\n",
        "---\n",
        "1. Assign string \"a\" to variable a\n",
        "2. Check if a is \"a\"\n",
        "3. Now, check if \"aa\" is \"a\" * 2\n",
        "4. Next, check if \"aa\" is a * 2 "
      ]
    },
    {
      "cell_type": "code",
      "metadata": {
        "id": "tNYqoX2DF_IY",
        "colab_type": "code",
        "colab": {}
      },
      "source": [
        ""
      ],
      "execution_count": 0,
      "outputs": []
    },
    {
      "cell_type": "markdown",
      "metadata": {
        "id": "glCedjN-Gd6s",
        "colab_type": "text"
      },
      "source": [
        "# Concept 2: If/ else statements\n",
        "---\n"
      ]
    },
    {
      "cell_type": "markdown",
      "metadata": {
        "id": "25oLA8_cHOH7",
        "colab_type": "text"
      },
      "source": [
        "## What are they?\n",
        "\n",
        "Decision making is required when we want to execute a code only if a certain condition is satisfied.\n",
        "If/ else statements evaluate boolean conditions.\n",
        "\n",
        "```\n",
        "if expression:\n",
        "    statement\n",
        "elif expression:\n",
        "    statement\n",
        "else:\n",
        "    statement\n",
        "```\n",
        "\n",
        "Note: Remember to use colons after the if/elif/else keyterms. After that, you must indent to signify a code block.\n",
        "\n",
        "Python supports the usual logical conditions from mathematics:\n",
        "\n",
        "* Equals: a == b\n",
        "* Not Equals: a != b\n",
        "* Less than: a < b\n",
        "* Less than or equal to: a <= b\n",
        "* Greater than: a > b\n",
        "* Greater than or equal to: a >= b\n"
      ]
    },
    {
      "cell_type": "markdown",
      "metadata": {
        "id": "1ZBpqEKtG_oj",
        "colab_type": "text"
      },
      "source": [
        "## Examples:\n",
        "---"
      ]
    },
    {
      "cell_type": "code",
      "metadata": {
        "id": "_0450pN7HCoa",
        "colab_type": "code",
        "colab": {}
      },
      "source": [
        "# If the number is positive, we print an appropriate message\n",
        "\n",
        "num = 3\n",
        "if num > 0:\n",
        "    print(num, \"is a positive number.\")\n",
        "print(\"This is always printed.\")\n",
        "\n",
        "# Discuss why there is no else statement ^^^\n",
        "# The next statement, include the else\n",
        "\n",
        "num = -1\n",
        "if num > 0:\n",
        "    print(num, \"is a positive number.\")\n",
        "print(\"This is also always printed.\")"
      ],
      "execution_count": 0,
      "outputs": []
    },
    {
      "cell_type": "markdown",
      "metadata": {
        "id": "lKe-QKCKHDHF",
        "colab_type": "text"
      },
      "source": [
        "## DIY:\n",
        "---\n",
        "1. Create a grading scale for an elementary school. An A is 100-90, B is 80-89,..., F is 50-59.\n",
        "2. A student, Sam has a grade of 85. \n",
        "3. Create a variable for Sam and evaluate her grade.\n",
        "4. Print out \"Sam has a [grade]\""
      ]
    },
    {
      "cell_type": "code",
      "metadata": {
        "id": "x-Hkb0FFHFbp",
        "colab_type": "code",
        "colab": {}
      },
      "source": [
        ""
      ],
      "execution_count": 0,
      "outputs": []
    },
    {
      "cell_type": "markdown",
      "metadata": {
        "colab_type": "text",
        "id": "Cfh4_WoHI3Lg"
      },
      "source": [
        "# Concept 3: For Loops\n",
        "---\n"
      ]
    },
    {
      "cell_type": "markdown",
      "metadata": {
        "colab_type": "text",
        "id": "11n0yJI5I3Ln"
      },
      "source": [
        "## What are they?\n",
        "A for loop is used for iterating over a sequence (that is either a list, a tuple, a dictionary, a set, or a string).\n",
        "\n",
        "This is less like the for keyword in other programming languages, and works more like an iterator method as found in other object-orientated programming languages.\n",
        "\n",
        "With the for loop we can execute a set of statements, once for each item in a list, tuple, set etc.\n",
        "\n",
        "```\n",
        "for i in num:\n",
        "  statement\n",
        "```\n",
        "* 'i' is the iterator variable\n",
        "* 'in' to iterate through a sequence in a for loop. \n",
        "* iterable object/sequence\n",
        "\n",
        "### range()\n",
        "To loop through a set of code a specified number of times, we can use the range() function,\n",
        "The range() function returns a sequence of numbers, starting from 0 by default, and increments by 1 (by default), and ends at a specified number.\n",
        "\n",
        "```\n",
        "for i in range(start, end, step):\n",
        "```\n",
        "\n",
        "### enumerate()\n",
        "Python’s built-in enumerate function allows us to loop over a list and retrieve both the index and the value of each item in the list:\n",
        "\n",
        "Syntax:\n",
        "```\n",
        "enumerate(iterable, start=0)\n",
        "```\n",
        "```\n",
        "presidents = [\"Washington\", \"Adams\", \"Jefferson\", \"Madison\", \"Monroe\", \"Adams\", \"Jackson\"]\n",
        "for num, name in enumerate(presidents, start=1):\n",
        "    print(\"President {}: {}\".format(num, name))\n",
        "```\n",
        "\n",
        "### The pass Statement\n",
        "for loops cannot be empty, but if you for some reason have a for loop with no content, put in the pass statement to avoid getting an error.\n",
        "```\n",
        "for x in [0, 1, 2]:\n",
        "  pass\n",
        "```\n",
        "\n",
        "### Talk about break and continue\n",
        "\n",
        "\n",
        "\n"
      ]
    },
    {
      "cell_type": "markdown",
      "metadata": {
        "colab_type": "text",
        "id": "D3ngmMIbI3Lo"
      },
      "source": [
        "## Examples:\n",
        "---"
      ]
    },
    {
      "cell_type": "code",
      "metadata": {
        "colab_type": "code",
        "id": "4mGF9CBUI3Lp",
        "colab": {}
      },
      "source": [
        "fruits = [\"apple\", \"banana\", \"cherry\"]\n",
        "for x in fruits:\n",
        "  print(x)"
      ],
      "execution_count": 0,
      "outputs": []
    },
    {
      "cell_type": "code",
      "metadata": {
        "id": "m_LH82IT_GDz",
        "colab_type": "code",
        "colab": {}
      },
      "source": [
        "for x in range(2, 6):\n",
        "  print(x)"
      ],
      "execution_count": 0,
      "outputs": []
    },
    {
      "cell_type": "code",
      "metadata": {
        "id": "NCiB7wJy_G2l",
        "colab_type": "code",
        "colab": {}
      },
      "source": [
        "l1 = [\"eat\",\"sleep\",\"repeat\"] \n",
        "for count,ele in enumerate(l1,100): \n",
        "    print count,ele "
      ],
      "execution_count": 0,
      "outputs": []
    },
    {
      "cell_type": "markdown",
      "metadata": {
        "colab_type": "text",
        "id": "a4ae3NOtI3Ly"
      },
      "source": [
        "## DIY:\n",
        "---\n",
        "1. Create a list of basketball teams called bball_teams. Iterate through the list and print out the team names.\n",
        "2. Use enumerate to do the same thing but retrieve the index of that variable."
      ]
    },
    {
      "cell_type": "code",
      "metadata": {
        "colab_type": "code",
        "id": "8G4uTQ0QI3Ly",
        "colab": {}
      },
      "source": [
        ""
      ],
      "execution_count": 0,
      "outputs": []
    },
    {
      "cell_type": "code",
      "metadata": {
        "id": "Y7mWIYgSAr-I",
        "colab_type": "code",
        "colab": {}
      },
      "source": [
        ""
      ],
      "execution_count": 0,
      "outputs": []
    },
    {
      "cell_type": "markdown",
      "metadata": {
        "colab_type": "text",
        "id": "491J4PAkI5Yy"
      },
      "source": [
        "# Concept 4: While Loops\n",
        "---\n"
      ]
    },
    {
      "cell_type": "markdown",
      "metadata": {
        "colab_type": "text",
        "id": "bORLpYzKI5Yy"
      },
      "source": [
        "## What are they?\n",
        "With the while loop we can execute a set of statements as long as a condition is true.\n",
        "\n",
        "Print i as long as i is less than 6:\n",
        "```\n",
        "i = 1\n",
        "while i < 6:\n",
        "  print(i)\n",
        "  i += 1\n",
        "```\n",
        "Note: remember to increment i, or else the loop will continue forever.\n",
        "\n",
        "The while loop requires relevant variables to be ready, in this example we need to define an indexing variable, i, which we set to 1.\n",
        "\n",
        "\n"
      ]
    },
    {
      "cell_type": "markdown",
      "metadata": {
        "colab_type": "text",
        "id": "C4WmrS2eI5Yz"
      },
      "source": [
        "## Examples:\n",
        "---"
      ]
    },
    {
      "cell_type": "code",
      "metadata": {
        "colab_type": "code",
        "id": "2LpAMIUXI5Yz",
        "colab": {}
      },
      "source": [
        "count = 0\n",
        "while (count < 9):\n",
        "   print 'The count is:', count\n",
        "   count = count + 1"
      ],
      "execution_count": 0,
      "outputs": []
    },
    {
      "cell_type": "markdown",
      "metadata": {
        "colab_type": "text",
        "id": "u3ZsRaZ9I5Y2"
      },
      "source": [
        "## DIY:\n",
        "---"
      ]
    },
    {
      "cell_type": "markdown",
      "metadata": {
        "id": "qUA0osh1C0x_",
        "colab_type": "text"
      },
      "source": [
        "1. Initialize a variable i to 1. While it is less than 6, print i. If i is equal to 3, break from loop."
      ]
    },
    {
      "cell_type": "code",
      "metadata": {
        "id": "-8ZvrPtRCwJv",
        "colab_type": "code",
        "colab": {}
      },
      "source": [
        ""
      ],
      "execution_count": 0,
      "outputs": []
    },
    {
      "cell_type": "markdown",
      "metadata": {
        "colab_type": "text",
        "id": "hBL5za7bI_8t"
      },
      "source": [
        "# Concept 5: Functions\n",
        "---\n"
      ]
    },
    {
      "cell_type": "markdown",
      "metadata": {
        "colab_type": "text",
        "id": "aQgWAz04I_8t"
      },
      "source": [
        "## What are they?\n",
        "A function is a block of organized, reusable code that is used to perform a single, related action. Functions provide better modularity for your application and a high degree of code reusing.\n",
        "\n",
        "Here are simple rules to define a function in Python.\n",
        "\n",
        "* Function blocks begin with the keyword def followed by the function name and parentheses ( ( ) ).\n",
        "\n",
        "* Any input parameters or arguments should be placed within these parentheses. You can also define parameters inside these parentheses.\n",
        "\n",
        "* The code block within every function starts with a colon (:) and is indented.\n",
        "\n",
        "* The statement return [expression] exits a function, optionally passing back an expression to the caller. A return statement with no arguments is the same as return None.\n",
        "\n",
        "```\n",
        "def functionname( parameters ):\n",
        "   \"function_docstring\"\n",
        "   function_suite\n",
        "   return [expression]\n",
        "```\n",
        "\n",
        "### Scope\n",
        "\n",
        "Talk about lifetime.\n",
        "```\n",
        "def scope_test():\n",
        "    def do_local():\n",
        "        spam = \"local spam\"\n",
        "\n",
        "    def do_nonlocal():\n",
        "        nonlocal spam\n",
        "        spam = \"nonlocal spam\"\n",
        "\n",
        "    def do_global():\n",
        "        global spam\n",
        "        spam = \"global spam\"\n",
        "\n",
        "    spam = \"test spam\"\n",
        "    do_local()\n",
        "    print(\"After local assignment:\", spam)\n",
        "    do_nonlocal()\n",
        "    print(\"After nonlocal assignment:\", spam)\n",
        "    do_global()\n",
        "    print(\"After global assignment:\", spam)\n",
        "\n",
        "scope_test()\n",
        "print(\"In global scope:\", spam)\n",
        "```"
      ]
    },
    {
      "cell_type": "markdown",
      "metadata": {
        "colab_type": "text",
        "id": "fMC1MMLnI_8u"
      },
      "source": [
        "## Examples:\n",
        "---"
      ]
    },
    {
      "cell_type": "code",
      "metadata": {
        "colab_type": "code",
        "id": "ciWzI0UmI_8u",
        "colab": {}
      },
      "source": [
        "def printme( str ):\n",
        "   \"This prints a passed string into this function\"\n",
        "   print (str)\n",
        "   return"
      ],
      "execution_count": 0,
      "outputs": []
    },
    {
      "cell_type": "code",
      "metadata": {
        "id": "iGe1cQ8NEZ8y",
        "colab_type": "code",
        "colab": {}
      },
      "source": [
        "def hello():\n",
        "    print(\"hello!\")"
      ],
      "execution_count": 0,
      "outputs": []
    },
    {
      "cell_type": "markdown",
      "metadata": {
        "colab_type": "text",
        "id": "Xrr_Ky8SI_8x"
      },
      "source": [
        "## DIY:\n",
        "---\n",
        "Define a function called FizzBuzz which iterates the integers from 1 to 50. For multiples of three print \"Fizz\" instead of the number and for the multiples of five print \"Buzz\". For numbers which are multiples of both three and five print \"FizzBuzz\"."
      ]
    },
    {
      "cell_type": "code",
      "metadata": {
        "colab_type": "code",
        "id": "SeRPsQ_oI_8x",
        "colab": {}
      },
      "source": [
        ""
      ],
      "execution_count": 0,
      "outputs": []
    },
    {
      "cell_type": "markdown",
      "metadata": {
        "colab_type": "text",
        "id": "jACYJD42I76y"
      },
      "source": [
        "# Concept 6: Classes\n",
        "---\n"
      ]
    },
    {
      "cell_type": "markdown",
      "metadata": {
        "colab_type": "text",
        "id": "_wuh4PJ3I76z"
      },
      "source": [
        "## What are they?\n",
        "Classes provide a means of bundling data and functionality together. Creating a new class creates a new type of object, allowing new instances of that type to be made. Each class instance can have attributes attached to it for maintaining its state. Class instances can also have methods (defined by its class) for modifying its state.\n",
        "\n",
        "```\n",
        "class ClassName:\n",
        "    <statement-1>\n",
        "    .\n",
        "    .\n",
        "    .\n",
        "    <statement-N>\n",
        "```"
      ]
    },
    {
      "cell_type": "markdown",
      "metadata": {
        "colab_type": "text",
        "id": "OTO2CDREI760"
      },
      "source": [
        "## Examples:\n",
        "---"
      ]
    },
    {
      "cell_type": "code",
      "metadata": {
        "colab_type": "code",
        "id": "HjHOL8rGI760",
        "colab": {}
      },
      "source": [
        "class MyClass:\n",
        "    \"\"\"A simple example class\"\"\"\n",
        "    i = 12345\n",
        "\n",
        "    def f(self):\n",
        "        return 'hello world'"
      ],
      "execution_count": 0,
      "outputs": []
    },
    {
      "cell_type": "markdown",
      "metadata": {
        "colab_type": "text",
        "id": "PFOE_VFrI763"
      },
      "source": [
        "## DIY:\n",
        "---\n",
        "1. Create a class called Basketball. Within that class, create a function called score that just prints out two basketball teams and their scores."
      ]
    },
    {
      "cell_type": "code",
      "metadata": {
        "colab_type": "code",
        "id": "DXgmLc-pI763",
        "colab": {}
      },
      "source": [
        ""
      ],
      "execution_count": 0,
      "outputs": []
    },
    {
      "cell_type": "markdown",
      "metadata": {
        "colab_type": "text",
        "id": "zEYj00FRI96L"
      },
      "source": [
        "# Concept 7: Creating Instances\n",
        "---\n"
      ]
    },
    {
      "cell_type": "markdown",
      "metadata": {
        "colab_type": "text",
        "id": "cZ13YL8KI96M"
      },
      "source": [
        "## What are they?\n",
        "Class instantiation uses function notation. Just pretend that the class object is a parameterless or parameterized function that returns a new instance of the class. For example (assuming the above class):\n",
        "\n",
        "```\n",
        "x = MyClass()\n",
        "```\n",
        "creates a new instance of the class and assigns this object to the local variable x.\n",
        "\n",
        "Similar meaning:\n",
        "* Create an instance of a class\n",
        "* Create an object of a class\n",
        "* Instantiate an object\n",
        "\n",
        "### Creating functions within classes\n",
        "Ensure that the first parameter of functions include self.\n",
        "\n",
        "self represents the instance of the class. By using the “self” keyword we can access the attributes and methods of the class in python. It binds the attributes with the given arguments.\n",
        "\n",
        "The reason you need to use self. is because Python does not use the @ syntax to refer to instance attributes. Python decided to do methods in a way that makes the instance to which the method belongs be passed automatically, but not received automatically: the first parameter of methods is the instance the method is called on\n",
        "\n",
        "```\n",
        "class car(): \n",
        "    def show(self): \n",
        "        print(\"Model is\", self.model ) \n",
        "        print(\"color is\", self.color )\n",
        "```\n"
      ]
    },
    {
      "cell_type": "markdown",
      "metadata": {
        "colab_type": "text",
        "id": "2nRqtDUPI96N"
      },
      "source": [
        "## Examples:\n",
        "---"
      ]
    },
    {
      "cell_type": "code",
      "metadata": {
        "colab_type": "code",
        "id": "-ItESaGiI96N",
        "colab": {}
      },
      "source": [
        "class basketball:\n",
        "  def f(self):\n",
        "    print(\"I like basketball!\")\n",
        "\n",
        "b = basketball()\n",
        "b.f()"
      ],
      "execution_count": 0,
      "outputs": []
    },
    {
      "cell_type": "markdown",
      "metadata": {
        "colab_type": "text",
        "id": "epn_IKp1I96Q"
      },
      "source": [
        "## DIY:\n",
        "---\n",
        "If I have a class called Node. Create an instance of class node."
      ]
    },
    {
      "cell_type": "code",
      "metadata": {
        "colab_type": "code",
        "id": "FNfJMGHJI96R",
        "colab": {}
      },
      "source": [
        ""
      ],
      "execution_count": 0,
      "outputs": []
    },
    {
      "cell_type": "markdown",
      "metadata": {
        "colab_type": "text",
        "id": "yMpfcVtGI_UB"
      },
      "source": [
        "# Concept 8: Constructors\n",
        "---\n"
      ]
    },
    {
      "cell_type": "markdown",
      "metadata": {
        "colab_type": "text",
        "id": "KfHKbRBWI_UD"
      },
      "source": [
        "## What are they?\n",
        "A constructor is a special kind of method that Python calls when it instantiates an object using the definitions found in your class. Python relies on the constructor to perform tasks such as initializing (assigning values to) any instance variables that the object will need when it starts. Constructors can also verify that there are enough resources for the object and perform any other start-up task you can think of.\n",
        "\n",
        "The name of a constructor is always the same, __init__(). The constructor can accept arguments when necessary to create the object. When you create a class without a constructor, Python automatically creates a default constructor for you that doesn’t do anything. Every class must have a constructor, even if it simply relies on the default constructor. \n",
        "\n",
        "```\n",
        "def __init__(self):\n",
        "    self.data = []\n",
        "```\n"
      ]
    },
    {
      "cell_type": "markdown",
      "metadata": {
        "colab_type": "text",
        "id": "I3NG8GeAI_UE"
      },
      "source": [
        "## Example:\n",
        "---"
      ]
    },
    {
      "cell_type": "code",
      "metadata": {
        "colab_type": "code",
        "id": "OselAyOUI_UE",
        "colab": {}
      },
      "source": [
        "class Complex:\n",
        "  def __init__(self, realpart, imagpart):\n",
        "    self.r = realpart\n",
        "    self.i = imagpart\n",
        "\n",
        "x = Complex(3.0, -4.5)"
      ],
      "execution_count": 0,
      "outputs": []
    },
    {
      "cell_type": "markdown",
      "metadata": {
        "colab_type": "text",
        "id": "CeMq911YI_UG"
      },
      "source": [
        "## DIY:\n",
        "---\n",
        "1. Create a class called Dinner with attributes food and drink. In the constructor, pass in food and drink. Initialize an object of class Dinner."
      ]
    },
    {
      "cell_type": "code",
      "metadata": {
        "colab_type": "code",
        "id": "1ZBGo0aaI_UH",
        "colab": {}
      },
      "source": [
        ""
      ],
      "execution_count": 0,
      "outputs": []
    },
    {
      "cell_type": "markdown",
      "metadata": {
        "id": "sGIYpA2949ZK",
        "colab_type": "text"
      },
      "source": [
        "# Notes on homework:\n",
        "---\n",
        "I will check in on Thursday, June 4 through email to check on your progress. Respond with any questions you might have. Otherwise, a simple “all good” is appropriate if you have no questions or comments. \n",
        "\n",
        "You will need to upload your coding homework assignments to GitHub.\n",
        "1. In gitbash, change directories to the homework directory: tomas_python/homework\n",
        "* TIP: use ‘cd’ to change directories\n",
        "* Use ‘cd ..’ to return to the previous directory\n",
        "* Use ‘pwd’ to show full pathname of the current working directory \n",
        "* Use ‘ls’ to list all your directories\n",
        "2. Once you’re in that directory, type in ‘git pull’\n",
        "* This ensures you have all updated files\n",
        "* If there is an error involved, email me immediately so we can try resolving it.\n",
        "* Otherwise, type your code below and we’ll resolve issues next class\n",
        "3. To create a new file, type in ‘touch hw01.py’ or the appropriate file name\n",
        "* ‘Touch’ creates a new file\n",
        "4. Open up the python file and start coding!\n",
        "\n",
        "Note: Become familiar with these actions. This is essentially what happens in the backend when you right-click and create a new folder/file!\n"
      ]
    },
    {
      "cell_type": "markdown",
      "metadata": {
        "id": "4AmHQnAO6UP9",
        "colab_type": "text"
      },
      "source": [
        "# Homework:\n",
        "---\n",
        "1. Watch the video and take notes if necessary: [Learn Python in 5 Minutes](https://youtu.be/I2wURDqiXdM)\n",
        "2. In your new homework file, create a base class called Person. Create functions called walk and speak. \n",
        "3. Create a subclass named Tomas that inherits from Person. Override the functions walk and speak. \n",
        "4. Create instances of both classes and call each function that you’ve written.\n"
      ]
    }
  ]
}