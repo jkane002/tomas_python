{
  "nbformat": 4,
  "nbformat_minor": 0,
  "metadata": {
    "colab": {
      "name": "Lesson 9: Class-Based Views",
      "provenance": [],
      "collapsed_sections": [
        "Uq6oR46pHrLH",
        "QanMmuiXOoLE",
        "glCedjN-Gd6s",
        "25oLA8_cHOH7",
        "1ZBpqEKtG_oj",
        "lKe-QKCKHDHF",
        "FZ9xsOIe4RoP",
        "DWB8SPOi4RoV",
        "lr0KyV6KnCWc",
        "QGG19qLBnCWu",
        "Oc3mmF2_br3x",
        "hCnIAfqGbr3z",
        "r9KKdcjyjgRc",
        "Dcj5YTYMfeWy",
        "8gaB8MIHk_jg",
        "GTrAsHVkk_jq",
        "Q7uCzxxmGzqP",
        "4AmHQnAO6UP9",
        "sGIYpA2949ZK"
      ]
    },
    "kernelspec": {
      "display_name": "Python 3",
      "name": "python3"
    }
  },
  "cells": [
    {
      "cell_type": "markdown",
      "metadata": {
        "id": "Uq6oR46pHrLH"
      },
      "source": [
        "# Lesson 9: Class-Based Views\n",
        "---\n",
        "Intro: We will look at various class-based views in Django and apply them to our website."
      ]
    },
    {
      "cell_type": "markdown",
      "metadata": {
        "id": "QanMmuiXOoLE"
      },
      "source": [
        "# Review\n",
        "---"
      ]
    },
    {
      "cell_type": "markdown",
      "metadata": {
        "id": "B4znJroiGyau"
      },
      "source": [
        "1. In your own words what is a decorator?\n",
        "2. What does the render function do?\n",
        "3. In general, what are the differences between a class and a function?"
      ]
    },
    {
      "cell_type": "markdown",
      "metadata": {
        "id": "glCedjN-Gd6s"
      },
      "source": [
        "# Concept 1: Class Based Views vs Function Based Views\n",
        "---\n"
      ]
    },
    {
      "cell_type": "markdown",
      "metadata": {
        "id": "25oLA8_cHOH7"
      },
      "source": [
        "## What are they?\n",
        "\n",
        "We have been working with function based views this whole time. Here's what a function based view looks like:\n",
        "\n",
        "```\n",
        "def about(request):\n",
        "    return render(request, 'blog/about.html', {'title': 'About'})\n",
        "```\n",
        "This is a function based view because it is a function and it renders a view - the about.html file.\n",
        "\n",
        "Now let's take a look at a class based view:\n",
        "```\n",
        "class PostListView(ListView)\n",
        "    model = Post\n",
        "```\n",
        "* We create a class called PostListView that inherits from ListView. \n",
        "* The model interacts with the view so it can decide what to render as a view.\n",
        "\n",
        "Just by inheriting from ListView, it renders the page and handles the HTTP requests. Essentially it does all the background work for us. Django recognizes that many websites in production need to display lists so they made it easier to create a list view or any view of some sort. Django calls these \"generic views\" because they provide solutions to common requirements. So why ListView? We are making a blog website so we need to display our list of posts.\n",
        "\n",
        "There are different Views that we can inherit such as:\n",
        "* DetailView\n",
        "* CreateView\n",
        "* DeleteView\n",
        "* TemplateView\n",
        "* FormView\n",
        "* ListView\n",
        "\n",
        "In its pure form, they are Python classes but once they need to be rendered then we need to cast them as views using `as_view()`.\n",
        "\n",
        "So when do you use class based views and function based views? \n",
        "> It depends! \n",
        "* If you want something easier to read or require decorators, then function based views are better. However, it's a pain to reuse this code and HTTP requests must be handled manually.\n",
        "* If you want to use Django's views or reuse code, then class based views are better. However, it's harder to read if you don't truly understand what's going on."
      ]
    },
    {
      "cell_type": "markdown",
      "metadata": {
        "id": "1ZBpqEKtG_oj"
      },
      "source": [
        "## Examples:\n",
        "---"
      ]
    },
    {
      "cell_type": "code",
      "metadata": {
        "id": "_0450pN7HCoa"
      },
      "source": [
        "# Function based view\n",
        "def about(request):\n",
        "    return render(request, 'blog/about.html', {'title': 'About'})"
      ],
      "execution_count": null,
      "outputs": []
    },
    {
      "cell_type": "code",
      "metadata": {
        "id": "NACO8X4Mn_eS"
      },
      "source": [
        "# Class based view\n",
        "class PostListView(ListView)\n",
        "    model = Post"
      ],
      "execution_count": null,
      "outputs": []
    },
    {
      "cell_type": "markdown",
      "metadata": {
        "id": "lKe-QKCKHDHF"
      },
      "source": [
        "## DIY:\n",
        "---"
      ]
    },
    {
      "cell_type": "markdown",
      "metadata": {
        "id": "p0v8fyxjoJma"
      },
      "source": [
        "1. What are the components of a function based view?\n",
        "2. What are the components of a class based view?\n",
        "3. In a class based view, what do you inherit?\n",
        "4. What are the differences between CBV and FBV?"
      ]
    },
    {
      "cell_type": "markdown",
      "metadata": {
        "id": "FZ9xsOIe4RoP"
      },
      "source": [
        "# Concept 2: ListView\n",
        "---\n"
      ]
    },
    {
      "cell_type": "markdown",
      "metadata": {
        "id": "DWB8SPOi4RoV"
      },
      "source": [
        "## Objective\n",
        "Let's create our class based view. As we talked about earlier, Django has a ListView so we can use that to display our list of posts. We are going to transform the home function to become a class based view.\n",
        "\n",
        "## PostListView\n",
        "1. `from django.views.generic import ListView` - At the top, let's import the list view.\n",
        "2. `class PostListView(ListView):` - Create a class that inherits from ListView \n",
        "3. `model = Post` - Create a variable called model. This will tell our list view what model to examine to create the list. We set this to all of our posts. Technically, this is all we need to create a class based view but we will add more details in a bit.\n",
        "4. Open the `blog/urls.py` file. Instead of using `views.home`, we will use the PostListView. \n",
        "5. `from .views import PostListView` - So first we need to import it. \n",
        "6. Now replace `views.home` with `PostListView.as_view()`.\n",
        "> Answer this: why do we need the as_view function here?\n",
        "7. Let's run the server at `localhost:8000`.\n",
        "8. There is an error! By default, class-based views look for templates of a certain naming pattern. Take a look at the error again. This naming pattern is this: `<app>/<model>_<viewtype>.html`\n",
        "9. `template_name = 'blog/home.html'` - Since we have a template already, we just provide its name.\n",
        "10. `context_object_name = 'posts'` - Remember we also have a context dictionary. Django needs to loop over our posts. We simply provide a context object name and assign it to our list of posts.\n",
        "11. `ordering = ['-date_posted']` - Now since we have a list of blog posts, we want our most recent posts at the top. This orders the posts by the date posted and the negative sign just means to go from newest to oldest.\n",
        "12. Let's run it in the browser! Try make another post in the admin page to see if the ordering works.\n",
        "\n",
        "> Take a look at the home function-based view and PostListView class-based view. In home(), we had to render everything out and provide a context dictionary. In PostListView, we simply assign variables.\n"
      ]
    },
    {
      "cell_type": "markdown",
      "metadata": {
        "id": "5APEU4UI4Rob"
      },
      "source": [
        "## DIY:\n",
        "---"
      ]
    },
    {
      "cell_type": "markdown",
      "metadata": {
        "id": "OGmC9lp8b88o"
      },
      "source": [
        "1. For our list of blog posts, what type of class-based view are we using?\n",
        "2. Why do we need `as_view()`?"
      ]
    },
    {
      "cell_type": "markdown",
      "metadata": {
        "id": "lr0KyV6KnCWc"
      },
      "source": [
        "# Concept 3: DetailView\n",
        "---\n"
      ]
    },
    {
      "cell_type": "markdown",
      "metadata": {
        "id": "QGG19qLBnCWu"
      },
      "source": [
        "## Objective\n",
        "Let's now create a view for individual posts. This is going to be a [DetailView](https://docs.djangoproject.com/en/3.1/ref/class-based-views/generic-display/#generic-display-views) because we would like to see details about the post.\n",
        "## PostDetailView\n",
        "13. On the same line where you imported ListView,  include `DetailView`\n",
        "14. `class PostDetailView(DetailView):` - Create a class called PostDetailView that inherits from DetailView.\n",
        "15. `model = Post` - This detail view will use each post and reveal its details.\n",
        "16. Open `blog/urls.py`. We need to create a route that takes us to a specific post. We haven't seen this yet so we have to create a URL pattern that contains a variable. Example: `localhost:8000/post/1/`, `localhost:8000/post/2/`, etc.\n",
        "17. First off, along with PostListView, import `PostDetailView`\n",
        "18. Now to create the variable in our URL path we will use an auto-incrementing primary key. Add this to the urlpatterns list:\n",
        "```\n",
        "path('post/<int:pk>/', PostDetailView.as_view(), name='post-detail'),\n",
        "```\n",
        "* `<int:pk>` - This is the primary key stated as an integer. The primary key will always be an integer and not any other data type.\n",
        "19. Now create a template that displays our post details. Recall that our generic class-based view is looking for a template with this naming convention `<app>/<model>_<viewtype>.html`. For our example, it needs to look for `blog/post_detail.html`.\n",
        "20. In `blog/templates/blog`, create a template called `post_detail.html`. A single post's details are revealed here.\n",
        "21. Let's copy `home.html` and paste it into `post_detail.html`. This already has the styling for multiple posts so now we just need it for one post.\n",
        "22. Remove the for loop and the end for.\n",
        "23. Take a look at the h2 tag containing `{{ post.title}}`. We don't need the a tag anymore because we don't need to link anything to the title. Change it to this - `<h2 class=\"article-title\">{{post.title}}</h2>`\n",
        "24. One more change. When dealing with detail views, it expects the context of this template to be called `object`. So change all post variables to use `object`. There are 5 post variables to replace.\n",
        "25. Let's open the browser and check out `localhost:8000/post/1/`. What do you see?\n",
        "26. Go to `localhost:8000` and try click on the blog titles. Nothing happens but we will fix that right now.\n",
        "27. Open the `home.html` template and go to the line containing `{{post.title}}`. Edit the href so it can link to each post using `href=\"{% url 'post-detail' post.id %}\"`\n",
        "* Post.id is the primary key we saw earlier when setting up the url paths\n",
        "28. Reload `localhost:8000` and click on the post titles. "
      ]
    },
    {
      "cell_type": "markdown",
      "metadata": {
        "id": "IEKKhsz-nCXN"
      },
      "source": [
        "## DIY:\n",
        "---"
      ]
    },
    {
      "cell_type": "markdown",
      "metadata": {
        "id": "A5XwHmbJhqIv"
      },
      "source": [
        "1. What is a primary key?\n",
        "2. In your own words, describe DetailView."
      ]
    },
    {
      "cell_type": "markdown",
      "metadata": {
        "id": "Oc3mmF2_br3x"
      },
      "source": [
        "# Concept 4: CreateView\n",
        "---\n"
      ]
    },
    {
      "cell_type": "markdown",
      "metadata": {
        "id": "hCnIAfqGbr3z"
      },
      "source": [
        "## Objective\n",
        "Before, only the admin can create posts by going on the admin page. Let's create a view where users can create posts in the blog itself.\n",
        "## CreateView\n",
        "29. First off, go [here](https://docs.djangoproject.com/en/3.1/ref/class-based-views/generic-editing/) to read more about the generic views.\n",
        "30. Open `views.py`, and include `CreateView` with all the rest of the views.\n",
        "31. `class PostCreateView(CreateView):` - Create a class called PostCreateView that inherits from CreateView. So when a user wants to create a post, they need to enter a title and the content. CreateView handles the model and the fields to create the view selected.\n",
        "32. `model = Post` - The Post model handles what goes on behind the scenes\n",
        "33. `fields = ['title','content']` - These input fields are necessary when creating a post.\n",
        "34. Since we're finished with that part, go to the urls.py page and create a url pattern for this - `path('post/new/', PostCreateView.as_view(), name='post-create')`\n",
        "35. We now need a template to go along with this. The UpdateView that we will create later will share this template so let's name it `post_form.html` and put it in `blog/templates/blog`.\n",
        "36. As a starting point, copy the register page from users/ and paste it onto post_form.html.\n",
        "37. Change the legend to say Blog Post instead of Join Today. Change the button to say Post instead of Sign up. Delete the entire div containing the class border-top pt-3. With all these changes, we just have the form available.\n",
        "38. Now open the webiste on the browser and head to `localhost:8000/post/new/`. We can't create a post yet because we didn't set up the button nor the validation checks.\n",
        "39. So head over to `views.py` and within the PostCreateView, create this function\n",
        "```\n",
        "def form_valid(self, form):\n",
        "      form.instance.author = self.request.user\n",
        "      return super().form_valid(form)\n",
        "```\n",
        "* `form.instance.author = self.request.user` - Set the current author logged in to be the author of the post that will be created\n",
        "* `return super().form_valid(form)` - This uses the base class (CreateView's) form_valid method that simply checks if a form is valid given the current author\n",
        "40. Let's run the browser again and try create a new post at `localhost:8000/post/new/`. What happens?\n",
        "41. When you click submit. We get an error saying we must provide a url or define a get_absolute_url method on the Model. We will do just that.\n",
        "\n",
        "> Difference between relative url and absolute url:\n",
        "An absolute URL contains all the information necessary to locate a resource.\n",
        "Ex: https://www.google.com/images/id/383/cats\n",
        "A relative URL provides only the tag of an absolute URL. \n",
        "Ex: /383/cats\n",
        "\n",
        "Click this [picture](https://images.app.goo.gl/azNRNV5xPZeDjtLTA)\n",
        "\n",
        "42. Open the blog's `models.py` and create this method:\n",
        "\n",
        "```\n",
        "from django.urls import reverse\n",
        "\n",
        "def get_absolute_url(self):\n",
        "    return reverse('post-detail', kwargs={'pk':self.pk})\n",
        "```\n",
        "* Reverse will return the full path as a string. The path that we want to get is the path to the post-detail route. We need a specific post with a primary key so we set our [kwargs](https://www.geeksforgeeks.org/args-kwargs-python/) value or keyword argument equal to the primary key.\n",
        "\n",
        "\n",
        "43. Let's go to the browser again and create a new post. This should work now!\n",
        "\n",
        "## Mixins\n",
        "\n",
        "44. One more thing, we need to make sure that we are logged in to create a post. Otherwise, we will just be redirected to the login page. Since we are using class-based views we can't use decorators anymore because those are reserved for functions. We will use mixins. Mixins allow for multiple inheritances for a single class. Put it simply, mixins are basically decorators for classes. Put it even more simply, mixins provide more features.\n",
        "45. Go to the views.py page and include this:\n",
        "`from django.contrib.auth.mixins import LoginRequiredMixin`\n",
        "46. So Python allows for multiple inheritance so in the PostCreateView on the far left of what's being passed in put `LoginRequiredMixin`. It becomes this - `class PostCreateView(LoginRequiredMixin, CreateView)`\n",
        "47. Now log out, and go to `localhost:8000/post/new/`. You should be redirected to the log in page."
      ]
    },
    {
      "cell_type": "markdown",
      "metadata": {
        "id": "pPrffF-Rbr34"
      },
      "source": [
        "## DIY:\n",
        "---"
      ]
    },
    {
      "cell_type": "markdown",
      "metadata": {
        "id": "cOqzxwEBfxrj"
      },
      "source": [
        "1. Explain CreateView. What is necessary to have when using CreateView?\n",
        "2. What are mixins?"
      ]
    },
    {
      "cell_type": "markdown",
      "metadata": {
        "id": "Q7uCzxxmGzqP"
      },
      "source": [
        "# Summary:\n",
        "---\n"
      ]
    },
    {
      "cell_type": "markdown",
      "metadata": {
        "id": "cCuonwBfo2_E"
      },
      "source": [
        "1. What are class-based views?\n",
        "2. What are function-based views?\n",
        "3. Explain ListView\n",
        "3. Explain DetailView\n",
        "3. Explain CreateView\n",
        "3. Explain UpdateView\n",
        "3. Explain DeleteView"
      ]
    },
    {
      "cell_type": "markdown",
      "metadata": {
        "id": "4AmHQnAO6UP9"
      },
      "source": [
        "# Homework:\n",
        "---\n",
        "\n"
      ]
    },
    {
      "cell_type": "markdown",
      "metadata": {
        "id": "4HWwIuZpL3Qt"
      },
      "source": [
        "1. Continue working on the BlackJack game."
      ]
    },
    {
      "cell_type": "markdown",
      "metadata": {
        "id": "sGIYpA2949ZK"
      },
      "source": [
        "# Notes on homework:\n",
        "---"
      ]
    },
    {
      "cell_type": "markdown",
      "metadata": {
        "id": "1W21sec6G3Rq"
      },
      "source": [
        "I will check in on Thursday,  through email to check on your progress. Respond with any questions you might have. Otherwise, a simple “all good” is appropriate if you have no questions or comments. \n",
        "\n",
        "You will need to upload your coding homework assignments to GitHub.\n",
        "1. In gitbash, change directories to the homework directory: tomas_python/homework\n",
        "* TIP: use ‘cd’ to change directories\n",
        "* Use ‘cd ..’ to return to the previous directory\n",
        "* Use ‘pwd’ to show full pathname of the current working directory \n",
        "* Use ‘ls’ to list all your directories\n",
        "2. Once you’re in that directory, type in ‘git pull’\n",
        "* This ensures you have all updated files\n",
        "* If there is an error involved, email me immediately so we can try resolving it.\n",
        "* Otherwise, type your code below and we’ll resolve issues next class\n",
        "3. To create a new file, type in ‘touch hw01.py’ or the appropriate file name\n",
        "* ‘Touch’ creates a new file\n",
        "4. Open up the python file and start coding!\n",
        "\n",
        "Note: Become familiar with these actions. This is essentially what happens in the backend when you right-click and create a new folder/file!\n"
      ]
    }
  ]
}