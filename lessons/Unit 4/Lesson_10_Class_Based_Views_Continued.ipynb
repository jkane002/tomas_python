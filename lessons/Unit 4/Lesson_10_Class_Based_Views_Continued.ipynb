{
  "nbformat": 4,
  "nbformat_minor": 0,
  "metadata": {
    "colab": {
      "name": "Lesson 10: Class-Based Views Continued",
      "provenance": [],
      "collapsed_sections": [
        "QanMmuiXOoLE",
        "Oc3mmF2_br3x",
        "r9KKdcjyjgRc",
        "Dcj5YTYMfeWy",
        "8gaB8MIHk_jg",
        "Q7uCzxxmGzqP",
        "4AmHQnAO6UP9",
        "sGIYpA2949ZK"
      ]
    },
    "kernelspec": {
      "display_name": "Python 3",
      "name": "python3"
    }
  },
  "cells": [
    {
      "cell_type": "markdown",
      "metadata": {
        "id": "Uq6oR46pHrLH"
      },
      "source": [
        "# Lesson 10: Class-Based Views Continued\n",
        "---\n",
        "Intro: We will continue learning about different class-based views."
      ]
    },
    {
      "cell_type": "markdown",
      "metadata": {
        "id": "QanMmuiXOoLE"
      },
      "source": [
        "# Review\n",
        "---"
      ]
    },
    {
      "cell_type": "markdown",
      "metadata": {
        "id": "B4znJroiGyau"
      },
      "source": [
        "1. What are the differences between a class-based view and a function-based view?\n",
        "2. What is a DetailView?\n",
        "2. What is a ListView?"
      ]
    },
    {
      "cell_type": "markdown",
      "metadata": {
        "id": "Oc3mmF2_br3x"
      },
      "source": [
        "# Concept 1: CreateView\n",
        "---\n"
      ]
    },
    {
      "cell_type": "markdown",
      "metadata": {
        "id": "hCnIAfqGbr3z"
      },
      "source": [
        "## Objective\n",
        "Before, only the admin can create posts by going on the admin page. Let's create a view where users can create posts in the blog itself. Review the following steps.\n",
        "## CreateView\n",
        "1. First off, go [here](https://docs.djangoproject.com/en/3.1/ref/class-based-views/generic-editing/) to read more about the generic views.\n",
        "30. Open `views.py`, and include `CreateView` with all the rest of the views.\n",
        "31. `class PostCreateView(CreateView):` - Create a class called PostCreateView that inherits from CreateView. So when a user wants to create a post, they need to enter a title and the content. CreateView handles the model and the fields to create the view selected.\n",
        "32. `model = Post` - The Post model handles what goes on behind the scenes\n",
        "33. `fields = ['title','content']` - These input fields are necessary when creating a post.\n",
        "34. Since we're finished with that part, go to the urls.py page and create a url pattern for this - `path('post/new/', PostCreateView.as_view(), name='post-create')`\n",
        "35. We now need a template to go along with this. The UpdateView that we will create later will share this template so let's name it `post_form.html` and put it in `blog/templates/blog`.\n",
        "36. As a starting point, copy the register page from users/ and paste it onto post_form.html.\n",
        "37. Change the legend to say Blog Post instead of Join Today. Change the button to say Post instead of Sign up. Delete the entire div containing the class border-top pt-3. With all these changes, we just have the form available.\n",
        "38. Now open the webiste on the browser and head to `localhost:8000/post/new/`. We can't create a post yet because we didn't set up the button nor the validation checks.\n",
        "39. So head over to `views.py` and within the PostCreateView, create this function\n",
        "```\n",
        "def form_valid(self, form):\n",
        "      form.instance.author = self.request.user\n",
        "      return super().form_valid(form)\n",
        "```\n",
        "* `form.instance.author = self.request.user` - Set the current author logged in to be the author of the post that will be created\n",
        "* `return super().form_valid(form)` - This uses the base class (CreateView's) form_valid method that simply checks if a form is valid given the current author\n",
        "12. Let's run the browser again and try create a new post at `localhost:8000/post/new/`. What happens?\n",
        "41. When you click submit. We get an error saying we must provide a url or define a get_absolute_url method on the Model. We will do just that.\n",
        "\n",
        "> Difference between relative url and absolute url:\n",
        "An absolute URL contains all the information necessary to locate a resource.\n",
        "Ex: https://www.google.com/images/id/383/cats\n",
        "A relative URL provides only the tag of an absolute URL. \n",
        "Ex: /383/cats\n",
        "\n",
        "Click this [picture](https://images.app.goo.gl/azNRNV5xPZeDjtLTA)\n",
        "\n",
        "## SKIP TO HERE\n",
        "\n",
        "14. Open the blog's `models.py` and create this method:\n",
        "\n",
        "```\n",
        "from django.urls import reverse\n",
        "\n",
        "def get_absolute_url(self):\n",
        "    return reverse('post-detail', kwargs={'pk':self.pk})\n",
        "```\n",
        "* Reverse will return the full path as a string. The path that we want to get is the path to the post-detail route. We need a specific post with a primary key so we set our [kwargs](https://www.geeksforgeeks.org/args-kwargs-python/) value or keyword argument equal to the primary key.\n",
        "\n",
        "\n",
        "15. Let's go to the browser again and create a new post. This should work now!\n",
        "\n",
        "## Mixins\n",
        "\n",
        "16. One more thing, we need to make sure that we are logged in to create a post. Otherwise, we will just be redirected to the login page. Since we are using class-based views we can't use decorators anymore because those are reserved for functions. We will use mixins. Mixins allow for multiple inheritances for a single class. Put it simply, mixins are basically decorators for classes. Put it even more simply, mixins provide more features.\n",
        "45. Go to the views.py page and include this:\n",
        "`from django.contrib.auth.mixins import LoginRequiredMixin`\n",
        "46. So Python allows for multiple inheritance so in the PostCreateView on the far left of what's being passed in put `LoginRequiredMixin`. It becomes this - `class PostCreateView(LoginRequiredMixin, CreateView)`\n",
        "47. Now log out, and go to `localhost:8000/post/new/`. You should be redirected to the log in page."
      ]
    },
    {
      "cell_type": "markdown",
      "metadata": {
        "id": "pPrffF-Rbr34"
      },
      "source": [
        "## DIY:\n",
        "---"
      ]
    },
    {
      "cell_type": "markdown",
      "metadata": {
        "id": "cOqzxwEBfxrj"
      },
      "source": [
        "1. Explain CreateView. What is necessary to have when using CreateView?\n",
        "2. What are mixins?"
      ]
    },
    {
      "cell_type": "markdown",
      "metadata": {
        "id": "r9KKdcjyjgRc"
      },
      "source": [
        "# Concept 2: UpdateView\n",
        "---\n"
      ]
    },
    {
      "cell_type": "markdown",
      "metadata": {
        "id": "C12UGNngjgRi"
      },
      "source": [
        "## Objective\n",
        "Now we need an UpdateView so we can update posts on the frontend instead of going to the admin page.\n",
        "## UpdateView\n",
        "20. Open views.py and include `UpdateView` when importing from `django.views.generic`.\n",
        "49. The UpdateView is very similar to PostCreateView because we need to update the fields that we already have. So simply copy the `PostCreateView` class and paste what you copied beneath it.\n",
        "50. Rename it to `PostUpdateView`, import from `UpdateView` instead of `CreateView`. That's it!\n",
        "51. Now we need a url path so go to the urls.py page and import `PostUpdateView` from `.views`\n",
        "52. Create a path that will update for each post which means we need to include the primary key. Here is the full path - `path('post/<int:pk>/update/', PostUpdateView.as_view(), name='post-update')`\n",
        "* Since we are providing the primary key to the post we want to update, Django will take care of the rest to update the views.\n",
        "25. Let's open the browser, log in, click on a post, then go to `localhost:8000/post/<number>/update/`. Update it and then post it.\n",
        "54. So as of right now, anyone can edit the posts. We need a check where only the author of the post can edit. We are going to use another mixin called UserPassesTestMixin. Let's read about it [here](https://docs.djangoproject.com/en/3.1/topics/auth/default/#django.contrib.auth.mixins.UserPassesTestMixin).\n",
        "55. Go to views.py and import `UserPassesTestMixin` from `django.contrib.auth.mixins`\n",
        "56. Now go to the PostUpdateView class and pass in `UserPassesTestMixin` in the middle of the two parameters.\n",
        "57. Just as mentioned in the documentation, we need to override test_func(). So within the class, create a method like this - \n",
        "```\n",
        "def test_func(self):\n",
        "      post = self.get_object()\n",
        "      return self.request.user == post.author\n",
        "```\n",
        "* `post = self.get_object()` - get_object() is a method of UpdateView so use this to get the single post.\n",
        "* `return self.request.user == post.author` - This checks the current user is equal to the post's author. \n",
        "30. Let's open the browser again and try edit a post from another user. If you don't have another post from someone else, log out and create a post under another user.\n"
      ]
    },
    {
      "cell_type": "markdown",
      "metadata": {
        "id": "744eF_jzjgRp"
      },
      "source": [
        "## DIY:\n",
        "---"
      ]
    },
    {
      "cell_type": "markdown",
      "metadata": {
        "id": "IJMPKj1HdhV2"
      },
      "source": [
        "1. Why are `PostCreateView` and `PostUpdateView` similar?\n",
        "2. What are mixins again?"
      ]
    },
    {
      "cell_type": "markdown",
      "metadata": {
        "id": "Dcj5YTYMfeWy"
      },
      "source": [
        "# Concept 3: DeleteView\n",
        "---\n"
      ]
    },
    {
      "cell_type": "markdown",
      "metadata": {
        "id": "2fWxdC3-feW0"
      },
      "source": [
        "## Objective\n",
        "As it says in the name, we need a view to delete posts. \n",
        "## DeleteView\n",
        "31. Return to our views.py and import `DeleteView` from `django.views.generic`\n",
        "60. `class PostDeleteView(DeleteView):` - Here we create a class called PostDeleteView that inherits from DeleteView\n",
        "61. `model = Post` - we set the model to Post. \n",
        "> Do you remember why?\n",
        "62. Okay, in order to delete a post we need to make sure someone is logged in and is the author of the post. These checks are simple as we just include the mixins to the parameters. Include `LoginRequiredMixin` and `UserPassesTestMixin` to the left of the `DeleteView` parameter in the PostDeleteView class.\n",
        "63. Remember that we need to override the test_func() for the `UserPassesTestMixin` so we can simply copy the `test_func()` from the UpdateView and paste it within the `PostDeleteView` class.\n",
        "64. You should know the next step! Next go to the urls.py page and import `PostDeleteView`.\n",
        "65. Copy the PostUpdateView path and paste it beneath the PostUpdateView path. Replace `update` with `delete`\n",
        "66. Now we need a template that goes with the PostDeleteView. This will be a form that askss if we're sure that we want to delete the post and if we submit the form then the post will be deleted.\n",
        "67. So under `blog/templates/blog` create a file called `post_confirm_delete.html`. Simply copy the code from `post_form.html` and paste it onto the newly created file.\n",
        "68. Delete the load crispy forms line at the top and also `{{form | crispy}}}`. Change the legend to say `Delete Post`. \n",
        "69. Beneath the legend create an h2 tag that says \"Are you sure you want to delete the post\" so it looks like this - \n",
        "```\n",
        "<h2>Are you sure you want to delete the post \"{{ object.title }}\"</h2>\n",
        "```\n",
        "70. Change the button to say `Yes, delete` with a class of `btn-outline-danger` instead of info.\n",
        "71. If the user changes their mind and not want to delete the post, we need to account for that as well. We will create an a tag beneath the button. \n",
        "72. Simply copy the button divs and paste it beneath itself. Change the `<button>` tags to `<a>` tags. Remove `type=submit` and add in `href=\"{% url 'post-detail' object.id %}\"`. Change the btn-outline class to become `btn-outline-secondary`. Change the text to say Cancel.\n",
        "73. Let's open the browser, make sure you are logged in, go to a post, then go to `localhost:8000/post/<number>/delete/`, press cancel and then delete.\n",
        "74. We should get an error because Django doesn't know where to redirect us once we delete a post. We need to provide a success_url that goes to the home page.\n",
        "75. So return to the views.py to the PostDeleteView class. Right below the model variable include this - `success_url = '/'` This just takes us right back to the home page.\n",
        "76. Let's open the browser, make sure you are logged in, go to a post, then go to `localhost:8000/post/<number>/delete/`, then delete a post. "
      ]
    },
    {
      "cell_type": "markdown",
      "metadata": {
        "id": "A85Y6GUvfeW4"
      },
      "source": [
        "## DIY:\n",
        "---"
      ]
    },
    {
      "cell_type": "markdown",
      "metadata": {
        "id": "b3kGprXvuI8u"
      },
      "source": [
        "1. To check your understanding, what do the LoginRequiredMixin and UserPassesTestMixin do?\n",
        "2. What is the success_url variable?\n",
        "3. Do you remember why we need to include model for our class-based views?\n",
        "\n"
      ]
    },
    {
      "cell_type": "markdown",
      "metadata": {
        "id": "8gaB8MIHk_jg"
      },
      "source": [
        "# Concept 4: Bringing it all together\n",
        "---\n"
      ]
    },
    {
      "cell_type": "markdown",
      "metadata": {
        "id": "E-DL-9RCk_jj"
      },
      "source": [
        "## Objective\n",
        "Now instead of manually typing the url paths for creating, updating, and deleting posts, we will clean it up so we can click on links.\n",
        "## Navigation Bar\n",
        "49. Let's put a link in our navigation bar to create a new post. Open the `base.html` and scroll down to the Navbar Right Side. To make it easier on ourselves, copy the Profile a tag and paste it right below it. Change the url to become `'post-create'` and the text from Profile to `New Post`.\n",
        "78. Now add links to update and delete posts. This will be done in the `post_detail.html` where only the correct user can update and delete their posts.  \n",
        "79. Right after the small tag with the date posted variable. Include this code - \n",
        "```\n",
        "{% if object.author == user %}\n",
        "{% endif %}\n",
        "```\n",
        "* This checks if the post's author is the current user.\n",
        "52. Now in between the if statement include this - \n",
        "```\n",
        "<div>\n",
        "      <a class=\"btn btn-secondary btn-sm mt-1 mb-1\" href={% url 'post-update' object.id %}>Update</a>\n",
        "      <a class=\"btn btn-danger btn-sm mt-1 mb-1\" href={% url 'post-delete' object.id %}>Delete</a>\n",
        "</div>\n",
        "```\n",
        "* > Can you describe what's going on here?\n",
        "53. Let's check it out in the browser again. Log in and you should see a link that takes you to create a new post. Click on a post that you created. You should see update and delete buttons.\n",
        "82. We're done! Push all your code to GitHub."
      ]
    },
    {
      "cell_type": "markdown",
      "metadata": {
        "id": "GTrAsHVkk_jq"
      },
      "source": [
        "## DIY:\n",
        "---"
      ]
    },
    {
      "cell_type": "markdown",
      "metadata": {
        "id": "wERCrmazrQuQ"
      },
      "source": [
        "1. What does `class=\"btn btn-danger` display?\n",
        "2. What is `object.id`?"
      ]
    },
    {
      "cell_type": "markdown",
      "metadata": {
        "id": "Q7uCzxxmGzqP"
      },
      "source": [
        "# Summary:\n",
        "---\n"
      ]
    },
    {
      "cell_type": "markdown",
      "metadata": {
        "id": "cCuonwBfo2_E"
      },
      "source": [
        "1. What are class-based views?\n",
        "2. What are function-based views?\n",
        "3. Explain ListView\n",
        "3. Explain DetailView\n",
        "3. Explain CreateView\n",
        "3. Explain UpdateView\n",
        "3. Explain DeleteView"
      ]
    },
    {
      "cell_type": "markdown",
      "metadata": {
        "id": "4AmHQnAO6UP9"
      },
      "source": [
        "# Homework:\n",
        "---\n",
        "\n"
      ]
    },
    {
      "cell_type": "markdown",
      "metadata": {
        "id": "4HWwIuZpL3Qt"
      },
      "source": [
        "1. Continue working on the BlackJack game."
      ]
    },
    {
      "cell_type": "markdown",
      "metadata": {
        "id": "sGIYpA2949ZK"
      },
      "source": [
        "# Notes on homework:\n",
        "---"
      ]
    },
    {
      "cell_type": "markdown",
      "metadata": {
        "id": "1W21sec6G3Rq"
      },
      "source": [
        "I will check in on Thursday,  through email to check on your progress. Respond with any questions you might have. Otherwise, a simple “all good” is appropriate if you have no questions or comments. \n",
        "\n",
        "You will need to upload your coding homework assignments to GitHub.\n",
        "1. In gitbash, change directories to the homework directory: tomas_python/homework\n",
        "* TIP: use ‘cd’ to change directories\n",
        "* Use ‘cd ..’ to return to the previous directory\n",
        "* Use ‘pwd’ to show full pathname of the current working directory \n",
        "* Use ‘ls’ to list all your directories\n",
        "2. Once you’re in that directory, type in ‘git pull’\n",
        "* This ensures you have all updated files\n",
        "* If there is an error involved, email me immediately so we can try resolving it.\n",
        "* Otherwise, type your code below and we’ll resolve issues next class\n",
        "3. To create a new file, type in ‘touch hw01.py’ or the appropriate file name\n",
        "* ‘Touch’ creates a new file\n",
        "4. Open up the python file and start coding!\n",
        "\n",
        "Note: Become familiar with these actions. This is essentially what happens in the backend when you right-click and create a new folder/file!\n"
      ]
    }
  ]
}