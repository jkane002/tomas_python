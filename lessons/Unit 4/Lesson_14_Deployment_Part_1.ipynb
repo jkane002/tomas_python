{
  "nbformat": 4,
  "nbformat_minor": 0,
  "metadata": {
    "colab": {
      "name": "Lesson 14: Deployment Part 1",
      "provenance": [],
      "collapsed_sections": [
        "QanMmuiXOoLE",
        "glCedjN-Gd6s",
        "7wxKWIle1EgC",
        "6CjaypeM1FN1",
        "YCfqkkDXRwah",
        "5wcMxQkaK_xv",
        "lCjyTrKVK_x5",
        "Q7uCzxxmGzqP",
        "4AmHQnAO6UP9",
        "sGIYpA2949ZK"
      ]
    },
    "kernelspec": {
      "display_name": "Python 3",
      "name": "python3"
    }
  },
  "cells": [
    {
      "cell_type": "markdown",
      "metadata": {
        "id": "Uq6oR46pHrLH"
      },
      "source": [
        "# Lesson 14: Deployment \n",
        "---\n",
        "Intro: We will now begin the process of deployment where we can make our website accessible on the internet. Throughout this lesson, high-level concepts will be introduced so you are not expected to know everything in full detail."
      ]
    },
    {
      "cell_type": "markdown",
      "metadata": {
        "id": "QanMmuiXOoLE"
      },
      "source": [
        "# Review\n",
        "---"
      ]
    },
    {
      "cell_type": "markdown",
      "metadata": {
        "id": "B4znJroiGyau"
      },
      "source": [
        "1. What are the differences between class-based views and function-based views?\n",
        "2. Give an example of signals in real life and in Django's use.\n",
        "3. What is the purpose of the Meta class?\n",
        "4. What does encode mean?"
      ]
    },
    {
      "cell_type": "markdown",
      "metadata": {
        "id": "glCedjN-Gd6s"
      },
      "source": [
        "# Concept 1: Introduction to Deployment\n",
        "---\n"
      ]
    },
    {
      "cell_type": "markdown",
      "metadata": {
        "id": "25oLA8_cHOH7"
      },
      "source": [
        "\n",
        "## Deployment\n",
        "First off, what does it mean to deploy a site? Deployment is moving a website from a local environment to live servers. We are able to view our website on our local machine - hence the `localhost:8000`. Now we need to push our code onto a server. We can technically create our own server and let it serve to host our website but that is too complex for right now. \n",
        "\n",
        "There are many different hosting platforms that serve different purposes:\n",
        "* [Heroku](https://www.heroku.com/) - for startups and small businesses, for frontend and backend development. Not for performance-heavy applications\n",
        "* [GitHub Pages](https://pages.github.com/) - simple, easy to use, mainly for frontend work\n",
        "* [Amazon Web Services (AWS)](https://aws.amazon.com/websites/) - better, advanced geographical cloud services \n",
        "* [Microsoft Azure](https://azure.microsoft.com/en-us/services/app-service/web/) - Comes with built-in and ready to run server apps that support a range of languages\n",
        "* [Google App Engine](https://cloud.google.com/appengine) - lower cost, better UX\n",
        "* and many more!\n",
        "\n",
        "## Cloud services\n",
        "This is a high-level topic. You do not need to know everything about cloud services but it's best to know these acronyms -\n",
        "* Saas - Software as a service - Others manage almost all cloud services. The user does not have to do much. Example - Dropbox. Users have the ability to upload/download files but no extensive code or software is used.\n",
        "* Paas - Platform as a service - The developer manages applications and data and others manage the cloud. Example - Heroku. We code the website and Heroku handles the cloud\n",
        "* Iaas - Infrastructure as a service - Developers handle all the complex work needed. IaaS allows businesses to purchase resources on-demand and as-needed instead of having to buy hardware outright. Example - Amazon Web Services. Developers have almost full control of the infrastructure provided by the platform"
      ]
    },
    {
      "cell_type": "markdown",
      "metadata": {
        "id": "lKe-QKCKHDHF"
      },
      "source": [
        "## DIY:\n",
        "---"
      ]
    },
    {
      "cell_type": "markdown",
      "metadata": {
        "id": "geVYLyhSBktK"
      },
      "source": [
        "1. What does deployment mean?\n",
        "1. Heroku is what type of cloud service?\n",
        "2. If I am a well-known company (like Facebook) with lots of employees, software, and I want to have almost full control of the cloud service, which type do I choose?\n"
      ]
    },
    {
      "cell_type": "markdown",
      "metadata": {
        "id": "7wxKWIle1EgC"
      },
      "source": [
        "# Concept 2: Heroku Setup\n",
        "---\n"
      ]
    },
    {
      "cell_type": "markdown",
      "metadata": {
        "id": "RNO_E69Z1EgC"
      },
      "source": [
        "## Objective\n",
        "In a practical sense and with time remaining, we are technically finished with our website! Now it's time to deploy or distribute our website onto the website. We will use [Heroku](https://www.heroku.com/) a free-tiered web hosting platform to publish it. If we are storing uploads like our images then we would have to use AWS for this.\n",
        "## Heroku\n",
        "1. First sign up on [Heroku's website](https://www.heroku.com/). It's free.\n",
        "2. Next download the [Heroku Command Line Interface](https://devcenter.heroku.com/articles/heroku-cli#download-and-install). We need this to operate Heroku using Heroku specific commands from Git Bash similar to operating GitHub.\n",
        "3. To check if it's downloaded on Git Bash, type in `heroku`. It should list all Heroku commands.\n",
        "4. Once you verified that Heroku is downloaded, log in from Git Bash using the command - `heroku login`. Enter your credentials.\n",
        "5. Change directory to the main project directory.\n",
        "6. `pip install gunicorn` - First off, we need to install (Gee-Unicorn) which implements a WSGI (Web Server Gateway Interface) server so that it can run Python web applications. `wsgi.py` is in your project's directory.\n",
        "7. We need to create a `requirements.txt`. This is a file that holds all the Python dependencies that we installed for this project. Create this under the outer project directory where you have the `manage.py` file."
      ]
    },
    {
      "cell_type": "code",
      "metadata": {
        "id": "fLzUHv0kKyAo"
      },
      "source": [
        "# requirements.txt\n",
        "boto3==1.9.96\n",
        "botocore==1.12.96\n",
        "certifi==2018.10.15\n",
        "chardet==3.0.4\n",
        "dj-database-url==0.5.0\n",
        "Django==2.1\n",
        "django-crispy-forms==1.7.2\n",
        "django-heroku==0.3.1\n",
        "django-storages==1.7.1\n",
        "docutils==0.14\n",
        "gunicorn==19.9.0\n",
        "idna==2.7\n",
        "jmespath==0.9.3\n",
        "Pillow==5.2.0\n",
        "psycopg2==2.7.7\n",
        "python-dateutil==2.8.0\n",
        "pytz==2018.5\n",
        "requests==2.19.1\n",
        "s3transfer==0.2.0\n",
        "six==1.12.0\n",
        "urllib3==1.23\n",
        "whitenoise==4.1.2"
      ],
      "execution_count": null,
      "outputs": []
    },
    {
      "cell_type": "markdown",
      "metadata": {
        "id": "6A-qqV6M1EgC"
      },
      "source": [
        "## DIY:\n",
        "---"
      ]
    },
    {
      "cell_type": "markdown",
      "metadata": {
        "id": "PTvHVkaJR2DV"
      },
      "source": [
        "1. What is Heroku?\n",
        "2. What is inside a `requirements.txt` file?"
      ]
    },
    {
      "cell_type": "markdown",
      "metadata": {
        "id": "6CjaypeM1FN1"
      },
      "source": [
        "# Concept 3: File Rearrangement\n",
        "---\n"
      ]
    },
    {
      "cell_type": "markdown",
      "metadata": {
        "id": "-H-dBI_M1FN2"
      },
      "source": [
        "## Objective\n",
        "We need to isolate our project directories so we can upload them to Git and to Heroku. Currently the project is inside another folder containing lessons and homework. Let's create a separate folder for this project.\n",
        "## Rearranging Files\n",
        "8. So first make sure all changes are saved and push the added files to GitHub.\n",
        "9. Next, copy the entire `tomas_project` folder and place it on the Desktop for now. Rename it to `tomas_project_desktop`.\n",
        "10. Open Git Bash and change directory to `tomas_project_desktop`.\n",
        "11. `git init` - Make sure you're inside the project folder. This command will initialize a git repository.\n",
        "12. Next, we need to create a `.gitignore` file so git can ignore all unnecessary files. So go to Atom and make sure to open `tomas_project_desktop`.\n",
        "13. In your project create a file called `.gitignore` and don't forget about the dot at the beginnin.\n",
        "14. Copy all the code from this [file](https://raw.githubusercontent.com/github/gitignore/master/Python.gitignores://) and paste it into your `.gitignore`. This was created by GitHub which ignores all files and folders specified there.\n",
        "15. Return to Git Bash and double check you're in the `tomas_project_desktop` directory.\n",
        "16. `git add -A` - Let's starting committing our files to Git. This is similar to `git add .` but it also includes deletions and new files.\n",
        "17. We can check the status of git by typing - `git status`\n",
        "18. Commit our files with a message of `\"initial commit\"`\n",
        "19. Now let's push our code to Heroku instead of GitHub.  To do this, type - `heroku create tomasblogsite`. This will also be the name of your website url. Ensure you are logged in to Heroku. Also you may need to think of other names if they are already taken.\n",
        "20. `heroku open` - Once you get a working website, type in this command to see what is on your site. For now, it's the Heroku default page so let's push our code to Heroku.\n",
        "21. `git push heroku master` - This begins pushing our code to Heroku. Don't worry if you see errors! We will address these in the next concept."
      ]
    },
    {
      "cell_type": "markdown",
      "metadata": {
        "id": "XXWdfCbt1FN2"
      },
      "source": [
        "## DIY:\n",
        "---"
      ]
    },
    {
      "cell_type": "markdown",
      "metadata": {
        "id": "tujisi9OLrzx"
      },
      "source": [
        "1. What does a `.gitignore` file do?\n",
        "2. What is the command to create a Heroku project?"
      ]
    },
    {
      "cell_type": "markdown",
      "metadata": {
        "id": "YCfqkkDXRwah"
      },
      "source": [
        "# Concept 4: Heroku Installation\n",
        "---\n"
      ]
    },
    {
      "cell_type": "markdown",
      "metadata": {
        "id": "DyTX9Q-rRwah"
      },
      "source": [
        "## Objective\n",
        "We are getting errors when uploading to Heroku because our website is more complex than a standard Python application. Let's address these errors.\n",
        "## Errors\n",
        "22. `Error while running  '$ python manage.py collectstatic --noinput'` - This error occurs because we are using the staticfiles app without having set the STATIC_ROOT setting to a filesystem path. We need to edit the STATIC_ROOT in our project's settings.\n",
        "23. So open up Atom, ensure you are in the correct project on the Desktop and open up the project's `settings.py` file.\n",
        "24. Above STATIC_URL, create this - \n",
        "```\n",
        "STATIC_ROOT = os.path.join(BASE_DIR, 'staticfiles')\n",
        "```\n",
        "* We create a static root variable creates a staticfiles folder under the base directory\n",
        "25. Return to Git Bash and clear the screen using `clear` or `cls` or `cntrl+l`.\n",
        "26. `git add -A` - add the changes once again.\n",
        "27. `git commit -m \"Updated STATIC_ROOT\"` - commit a message\n",
        "28. `git push heroku master` - try deploying this again.\n",
        "29. Double check if everything is pushed to Heroku. If it is now open the Heroku project using `heroku open`\n",
        "30. We should see an application error. This is a different error than deployment errors so run `heroku logs --tail` to view them.\n",
        "31. One error that we need to address is the `\"No web processes running\"` error. We have not told Heroku how we want Heroku to run our Python application.\n",
        "32. At the root of our project in Atom, create a file called `Procfile` with no extensions. This is a text file without the `.txt` extension.\n",
        "33. Inside that Procfile, enter this -\n",
        "```\n",
        "web: gunicorn tomas_project.wsgi \n",
        "``` \n",
        "* web declares that this application is a website\n",
        "* gunicorn is a command needed to run this process\n",
        "* tomas_project.wsgi is the file needed to set a Python web application. The name may need to change if this gives us more errors.\n",
        "34. `git add -A` - Return to Git Bash and add the changes once again.\n",
        "27. `git commit -m \"Added Procfile\"` - commit a message\n",
        "28. `git push heroku master` - try deploying this again.\n",
        "29. Open the Heroku project using `heroku open`\n",
        "30. We should see the page is displaying Django-like errors. Now we need to add our website name to ALLOWED_HOSTS.\n",
        "31. Return to Atom and open the project's settings file. Search for `ALLOWED_HOSTS` and as a string enter the website name i.e (`'tomasblogsite.herokuapp.com'`)\n",
        "\n"
      ]
    },
    {
      "cell_type": "markdown",
      "metadata": {
        "id": "hhMWylK6Rwah"
      },
      "source": [
        "## DIY:\n",
        "---"
      ]
    },
    {
      "cell_type": "markdown",
      "metadata": {
        "id": "2LlDPOx547YA"
      },
      "source": [
        "1. Why is it a best practice to commit every little change to Git/GitHub?"
      ]
    },
    {
      "cell_type": "markdown",
      "metadata": {
        "id": "5wcMxQkaK_xv"
      },
      "source": [
        "# Concept 5: Environment Variables\n",
        "---\n"
      ]
    },
    {
      "cell_type": "markdown",
      "metadata": {
        "id": "Iq66khNhK_x5"
      },
      "source": [
        "## Objective\n",
        "We will be learning how to hide passwords and secret information within environment variables on Windows machines. Hard-coding secret information is a common mistake. Hiding this information within environment variables allows you to access your secret information within your code without anyone else being able to see these values from your source code.\n",
        "## Environment Variables\n",
        "32. Go to Windows -> Control Panel -> System and Security -> System -> Advanced System settings -> Click on environment variables \n",
        "33. Here we will create environment variables given the variable name and the variable value. Let's create one for our secrets key.\n",
        "34. Now the secrets key is unique to each Django project as it ensures its privacy security. Return to GitBash and open the python interpreter/shell by typing in `python`.\n",
        "35. Do the following -\n",
        "```\n",
        "import secrets\n",
        "secrets.token_hex(24)\n",
        "```\n",
        "* We are importing a random secrets generator with a length of 24 digits. Copy the secrets value.\n",
        "36. Return to the environment variables page. For the variable name type in `SECRET_KEY` and paste the secrets value into the variable value.\n",
        "37. Let's create another one for the debug boolean variable. Remember we need to set this to false if we're going into production. For now let's set it to True by naming it `DEBUG_VALUE` and the value to `True`.\n",
        "38. Return to Git Bash. Save these configurations to Heroku by using `heroku config:set SECRET_KEY='<secretsvalue>'`. It's best to copy and paste these values from the environment variables.\n",
        "39. Repeat this for the debug value - `heroku config:set DEBUG_VALUE=\"True\"`.\n",
        "40. Now set these environment variables in Django by heading towards the project's `settings.py` file. Comment out the `SECRET_KEY`. Then below it enter this -\n",
        "```\n",
        "SECRET_KEY = os.environ.get('SECRET_KEY')\n",
        "```\n",
        "* This tells your operating system to get the environment variable called SECRET_KEY.\n",
        "41. We will set the debug variable right before we finish with all the deployment changes. Let's add the updated code to Git.\n",
        "42. `git add -A; git commit -m \"Edited settings\"; git push heroku master; heroku open` - push our code to Git and open Heroku. Now we set up the Django settings. Next, we need to set up the database in the next concept/lesson.\n"
      ]
    },
    {
      "cell_type": "markdown",
      "metadata": {
        "id": "lCjyTrKVK_x5"
      },
      "source": [
        "## DIY:\n",
        "---"
      ]
    },
    {
      "cell_type": "markdown",
      "metadata": {
        "id": "WqSJUYR7QmZv"
      },
      "source": [
        "1. What are environment variables?"
      ]
    },
    {
      "cell_type": "markdown",
      "metadata": {
        "id": "Q7uCzxxmGzqP"
      },
      "source": [
        "# Summary:\n",
        "---\n"
      ]
    },
    {
      "cell_type": "markdown",
      "metadata": {
        "id": "cCuonwBfo2_E"
      },
      "source": [
        "1. What is Heroku?\n",
        "2. Why do we need to go through the process of deployment if we already can view our website on a local host?\n",
        "3. What types of files would you ignore in a `.gitignore` file?"
      ]
    },
    {
      "cell_type": "markdown",
      "metadata": {
        "id": "4AmHQnAO6UP9"
      },
      "source": [
        "# Homework:\n",
        "---\n",
        "\n"
      ]
    },
    {
      "cell_type": "markdown",
      "metadata": {
        "id": "4HWwIuZpL3Qt"
      },
      "source": [
        "Say you have an array for which the ith element is the price of a given stock on day i.\n",
        "\n",
        "If you were only permitted to complete at most one transaction (i.e., buy one and sell one share of the stock), design an algorithm to find the maximum profit.\n",
        "\n",
        "Note that you cannot sell a stock before you buy one.\n",
        "\n",
        "Example 1:\n",
        "\n",
        "* Input: [7,1,5,3,6,4]\n",
        "* Output: 5\n",
        "* Explanation: Buy on day 2 (price = 1) and sell on day 5 (price = 6), profit = 6-1 = 5. Not 7-1 = 6, as selling price needs to be larger than buying price.\n",
        "\n",
        "Example 2:\n",
        "\n",
        "* Input: [7,6,4,3,1]\n",
        "* Output: 0\n",
        "* Explanation: In this case, no transaction is done, i.e. max profit = 0."
      ]
    },
    {
      "cell_type": "markdown",
      "metadata": {
        "id": "sGIYpA2949ZK"
      },
      "source": [
        "# Notes on homework:\n",
        "---"
      ]
    },
    {
      "cell_type": "markdown",
      "metadata": {
        "id": "1W21sec6G3Rq"
      },
      "source": [
        "I will check in on Thursday,  through email to check on your progress. Respond with any questions you might have. Otherwise, a simple “all good” is appropriate if you have no questions or comments. \n",
        "\n",
        "You will need to upload your coding homework assignments to GitHub.\n",
        "1. In gitbash, change directories to the homework directory: tomas_python/homework\n",
        "* TIP: use ‘cd’ to change directories\n",
        "* Use ‘cd ..’ to return to the previous directory\n",
        "* Use ‘pwd’ to show full pathname of the current working directory \n",
        "* Use ‘ls’ to list all your directories\n",
        "2. Once you’re in that directory, type in ‘git pull’\n",
        "* This ensures you have all updated files\n",
        "* If there is an error involved, email me immediately so we can try resolving it.\n",
        "* Otherwise, type your code below and we’ll resolve issues next class\n",
        "3. To create a new file, type in ‘touch hw01.py’ or the appropriate file name\n",
        "* ‘Touch’ creates a new file\n",
        "4. Open up the python file and start coding!\n",
        "\n",
        "Note: Become familiar with these actions. This is essentially what happens in the backend when you right-click and create a new folder/file!\n"
      ]
    },
    {
      "cell_type": "code",
      "metadata": {
        "id": "q3mU738bMzR6"
      },
      "source": [
        "def countSteps(n):\n",
        "    count = 0\n",
        "    while (n > 1):\n",
        "        count += 1\n",
        " \n",
        "        # num even, divide by 2\n",
        "        if (n % 2 == 0):\n",
        "            n //= 2\n",
        " \n",
        "        # num odd, n%4 == 1, decrement by 1\n",
        "        elif (n % 4 == 1):\n",
        "            n -= 1\n",
        " \n",
        "        # num odd, n%4 == 3, increment by 1\n",
        "        else:\n",
        "            n += 1\n",
        " \n",
        "    return count"
      ],
      "execution_count": null,
      "outputs": []
    }
  ]
}