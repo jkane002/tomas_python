{
  "nbformat": 4,
  "nbformat_minor": 0,
  "metadata": {
    "colab": {
      "name": "Lesson 6: User Registration",
      "provenance": [],
      "collapsed_sections": [
        "QanMmuiXOoLE",
        "glCedjN-Gd6s",
        "yyZv85Wh5fDo",
        "ijzxw9Wc5fwn",
        "4AmHQnAO6UP9",
        "sGIYpA2949ZK"
      ]
    },
    "kernelspec": {
      "display_name": "Python 3",
      "name": "python3"
    }
  },
  "cells": [
    {
      "cell_type": "markdown",
      "metadata": {
        "id": "Uq6oR46pHrLH"
      },
      "source": [
        "# Lesson 6: User Registration \n",
        "---\n",
        "Intro: We will learn how to use forms so users can register to our website."
      ]
    },
    {
      "cell_type": "markdown",
      "metadata": {
        "id": "QanMmuiXOoLE"
      },
      "source": [
        "# Review\n",
        "---"
      ]
    },
    {
      "cell_type": "markdown",
      "metadata": {
        "id": "B4znJroiGyau"
      },
      "source": [
        "1. Explain the Model-View-Template Pattern.\n",
        "2. Click [here](https://docs.djangoproject.com/en/3.1/topics/migrations/) for Django's documentation on migrations. Explain `makemigrations` and `migrate`\n",
        "3. What is a Django app? Recall that we have a blog app."
      ]
    },
    {
      "cell_type": "markdown",
      "metadata": {
        "id": "glCedjN-Gd6s"
      },
      "source": [
        "# Concept 1: User Django Application\n",
        "---\n"
      ]
    },
    {
      "cell_type": "markdown",
      "metadata": {
        "id": "25oLA8_cHOH7"
      },
      "source": [
        "## Objective\n",
        "We will create a user registration form on the front-end of our website. We need this because we don't want to share our admin page to random users. If you don't want other users joining this website, this concept is great to learn about form creation.\n",
        "## User App\n",
        "1. `python manage.py startapp users`: Go to Git Bash. The user account portion for our project is going to have its own forms, templates, and routes that are logically separate from the blog itself. We would need a new app for the user registration where it's contained in its own section.\n",
        "2. Do you remember what we need to do when we created a new app? We need to add it to our installed apps list in our project settings. Go to the project settings file and add this in: `'users.apps.UsersConfig',`\n",
        "\n",
        "> What is the purpose of doing this again?\n",
        "\n",
        "3. Let's start with the view that will handle the logic for this register route. Open `users/views.py` and start by defining a register view function like so:\n",
        "\n",
        "```\n",
        "def register(request):\n",
        "```\n",
        "4. Now we need to create a form that we will pass to the template. We can make a form from scratch but that will take a long time because we need to do many validation checks for emails, passwords. This process is too common and we don't want to reinvent it. Luckily in Django, we can create Python classes and these classes generate HTML forms for us. Simply import this from Django:\n",
        "`from django.contrib.auth.forms import UserCreationForm`\n",
        "\n",
        "* Let's take a look at the documentation for this: [UserCreationForm](https://docs.djangoproject.com/en/3.1/topics/auth/default/#django.contrib.auth.forms.UserCreationForm)\n",
        "\n",
        "5. `form = UserCreationForm()`- In the register function, create an instance of the form\n",
        "6. `return render(request, 'users/register.html', {'form': form})` - Now let's render a template that uses this form. This template doesn't exist yet but we'll create it in a bit.\n",
        "\n",
        "* Explain what render does.\n",
        "* **1st param**: request - Remember that we always need a request argument. Django essentially requests access to the provided html.\n",
        "* **2nd param**: html - Once Django's request is granted, it searches for the html page to render.\n",
        "* **3rd param**: context - Explain what is a context dictionary.\n",
        "\n",
        "> Hint: Remember this format for your final exam.\n",
        "\n",
        "7. Create a folder in the users directory called `templates` and within the the templates folder create another folder called `users`. Now in `users/`, create a file called `register.html`\n",
        "8. Similarly to our previous files, we will need to extend the base template and then fill in our content block. Copy the below code into `register.html`\n",
        "\n",
        "```\n",
        "{% extends \"blog/base.html\" %}\n",
        "{% block content %}\n",
        "  <div class=\"content-section\">\n",
        "  </div>\n",
        "{% endblock content %}\n",
        "```\n",
        "\n",
        "* The content-section reveals exactly that. It's telling the HTML code that this is section is for content.\n",
        "\n",
        "9. `<form method=\"POST\"></form>` - Put this in between the divs. So remember we are creating a form where users can register to join.  POST is used to send data to a server to create/update a resource.\n",
        "10. `{% csrf_token %}`- We need to add something called a CSRF token. This is a hidden tag provided by Django that protects our form against certain attacks. Without this, it won't work. Put this in between the form tags.\n",
        "11. `<fieldset></fieldset>` - Create fieldset tags. Recall that fields collect user input. We need to collect users' information. Inside fieldset put `class=form-group`.\n",
        "12. `<legend>Join Today</legend>` - The `<legend>` tag defines a caption for the `<fieldset>` element. Provide `class=\"border-bottom mb-4\"` This creates a border at the bottom and provides a margin of 4. Click [here](https://stackoverflow.com/questions/41574776/what-is-class-mb-0-in-bootstrap-4) to learn more about this.\n",
        "13. `{{ form.as_p }}` - Below the legend, we will print out our form so we can simply access that form through the variable passed. As_p just denotes the form to be in paragraph form.\n",
        "\n",
        "## Submit Button\n",
        "14. Below the fieldset tags, create opening and closing tags for a `<div>` with the class `\"form-group\"`.\n",
        "15. Now within the div tags, create `<button>` tags with the class `\"btn btn-outline-info\"` and a type called `\"submit\"`. Now within the button tags type in Sign Up. This will be displayed on the button.\n",
        "\n",
        "## Already have an account?\n",
        "16. Below the form tags, create opening and closing `<divs>`. Give a class of `\"border-top pt-3\"`. This provides a border at the top with padding of 3.\n",
        "17. Within those divs, create opening and closing `<small>` tags with a class of `\"text-muted\"`. Within the small tags, type in Already have an account?\n",
        "18. Now below that create `<a>` tags with a class of `\"ml-2\"` and an href of `\"#\"`. This provides a margin left of 2 and a hypertext reference to pound which means nothing as of now. Within those `<a>` tags, type in `Sign In`.\n",
        "\n",
        "\n",
        "\n"
      ]
    },
    {
      "cell_type": "markdown",
      "metadata": {
        "id": "lKe-QKCKHDHF"
      },
      "source": [
        "## DIY:\n",
        "---"
      ]
    },
    {
      "cell_type": "markdown",
      "metadata": {
        "id": "t2RAQPXBgXpM"
      },
      "source": [
        "1. What is the command to create a new Django application?\n",
        "2. What is the format of the render function?"
      ]
    },
    {
      "cell_type": "markdown",
      "metadata": {
        "id": "yyZv85Wh5fDo"
      },
      "source": [
        "# Concept 2: URL Routes / HTTP Request\n",
        "---\n"
      ]
    },
    {
      "cell_type": "markdown",
      "metadata": {
        "id": "HPY2Z4eA5fDr"
      },
      "source": [
        "## Objective\n",
        "Now we need to have a URL route where users can register an account with us.\n",
        "\n",
        "## URL Register Pattern\n",
        "19. Open the project's url file.\n",
        "20. `from users import views as user_views` - We import the views module so we can use the view directly.\n",
        "20. `path('register/', user_views.register, name='register'),` -  Inside the urlpatterns, we will give a path called register where it renders the views' register function.\n",
        "21. Run the server again and check out `localhost:8000/register/` in your browser.\n",
        "\n",
        "\n",
        "Overall the `register.html` should look like this as of now:"
      ]
    },
    {
      "cell_type": "code",
      "metadata": {
        "id": "mr0f8F88dbDB"
      },
      "source": [
        "{% extends \"blog/base.html\" %}\n",
        "{% block content %}\n",
        "    <div class=\"content-section\">\n",
        "        <form method=\"POST\">\n",
        "            {% csrf_token %}\n",
        "            <fieldset class=\"form-group\">\n",
        "                <legend class=\"border-bottom mb-4\">Join Today</legend>\n",
        "                {{ form.as_p}}\n",
        "            </fieldset>\n",
        "            <div class=\"form-group\">\n",
        "                <button class=\"btn btn-outline-info\" type=\"submit\">Sign Up</button>\n",
        "            </div>\n",
        "        </form>\n",
        "        <div class=\"border-top pt-3\">\n",
        "            <small class=\"text-muted\">\n",
        "                Already Have An Account? <a class=\"ml-2\" href=\"#\">Sign In</a>\n",
        "            </small>\n",
        "        </div>\n",
        "    </div>\n",
        "{% endblock content %}"
      ],
      "execution_count": null,
      "outputs": []
    },
    {
      "cell_type": "markdown",
      "metadata": {
        "id": "uX5YXFyWNLgy"
      },
      "source": [
        "## POST Request Data (High-Level)\n",
        "Responses from HTTP requests are a high-level topic. Just know that we can either GET data and POST data. We will talk about POST data.\n",
        "\n",
        "23. Return to `views.py`. We need to specify that if we get a POST request that we can try to validate the form data. To do this, enter this code:\n",
        "\n",
        "```\n",
        "if request.method == 'POST':\n",
        "  form = UserCreationForm(request.POST)\n",
        "  if form.is_valid():\n",
        "    form.save()\n",
        "    username = form.cleaned_data.get('username')\n",
        "else:\n",
        "  form = UserCreationForm()\n",
        "```\n",
        "* If the HTTP Request is a POST, then post that data onto the form. The save method saves the data completing the registration. Now we need to make sure that the data coming from the form is valid. \n",
        "* If not, just display a form.\n",
        "\n",
        "## Flash Messages\n",
        "These are pop-up messages that will be displayed when the user registers successfully. \n",
        "\n",
        "24. To make sure this is successful, let's create a flash message. So at the top `from django.contrib import messages` and then after username in the second if statement, include this `messages.success(request, f'Account created for {username}!')`\n",
        "\n",
        "> Note there are message tags like messages.warning, messages.debug, messages.error, etc.\n",
        "\n",
        "25. So after the user successfully registers their account, we want them to return to the home page. At the top with `from django.shortcuts...` import `redirect` also.\n",
        "26. Now under messages in the second if statement, `return redirect('blog-home')`. We can do this beccause this is the name that we gave to our URL pattern for the blog home.\n",
        "27. Open the base template in the blog directory. We will create a flash message above the block content. Enter the following:\n",
        "```\n",
        "{% if messages %}\n",
        "  {% for message in messages%}\n",
        "    <div class=\"alert alert-{{message.tags}}\">\n",
        "      {{ message }}\n",
        "    </div>\n",
        "  {% endfor%}\n",
        "{% endif %}\n",
        "```\n",
        "\n",
        "* If there is a message, it will follow this code block.\n",
        "* If there are multiple messages, it will iterate through each message.\n",
        "* `\"alert alert-{{message.tags}}\"` - This will style the messages as alerts and remember the message tags? If it's a success, it will pop up as a success. If it shows a warning, it will pop up as a warning.\n",
        "28. Now let's try register a new user in your browser. Check it out in the admin page. The next steps will figure out how we can also input the user's email.\n",
        "\n",
        "So let's recap:\n",
        "Follow along with the code with Atom next to this lesson.\n",
        "Here is an example: a user wants to register for our website.\n",
        "1. Registration is valid\n",
        "2. Registration is invalid\n",
        "\n",
        "If their registration is valid:\n",
        "* the request.method is a POST because they made an attempt to register. \n",
        "* It checks out as valid and saves the incoming data like the username and password. \n",
        "* Then it prompts a success message and redirects you to the home page.  \n",
        "\n",
        "If their registration is invalid:\n",
        "* the request.method is a POST because they made an attempt to register.\n",
        "* Django goes into the backend and checks if everything is valid. But, the form is not. \n",
        "* So then it goes all the way down to the last line where it renders the register template hoping the user registers a valid account.\n",
        "\n",
        "\n"
      ]
    },
    {
      "cell_type": "markdown",
      "metadata": {
        "id": "HKWvapaS5fDy"
      },
      "source": [
        "## DIY:\n",
        "---"
      ]
    },
    {
      "cell_type": "markdown",
      "metadata": {
        "id": "bCyc0ICDhaRE"
      },
      "source": [
        "1. Give an example of a HTTP POST request?\n",
        "2. Give an example of a HTTP GET request? Use your intuition.\n",
        "3. Follow the code as if someone wanted to register an account but it was invalid."
      ]
    },
    {
      "cell_type": "markdown",
      "metadata": {
        "id": "Q7uCzxxmGzqP"
      },
      "source": [
        "# Summary:\n",
        "---\n"
      ]
    },
    {
      "cell_type": "markdown",
      "metadata": {
        "id": "cCuonwBfo2_E"
      },
      "source": [
        "1. We created a User App because it runs separately from the blog app. We use this to register users.\n",
        "2. Crispy forms is a third-party app that allows us to adjust the form's properties while having full control on the backend."
      ]
    },
    {
      "cell_type": "markdown",
      "metadata": {
        "id": "4AmHQnAO6UP9"
      },
      "source": [
        "# Homework:\n",
        "---\n",
        "\n"
      ]
    },
    {
      "cell_type": "markdown",
      "metadata": {
        "id": "4HWwIuZpL3Qt"
      },
      "source": [
        "1. Continue with the War card game\n",
        "2. If finished with that, use the same class to create a simple guessing card game.\n",
        "\n",
        "First you deal a card. The user can guess the value or the suit of the card."
      ]
    },
    {
      "cell_type": "markdown",
      "metadata": {
        "id": "sGIYpA2949ZK"
      },
      "source": [
        "# Notes on homework:\n",
        "---"
      ]
    },
    {
      "cell_type": "markdown",
      "metadata": {
        "id": "1W21sec6G3Rq"
      },
      "source": [
        "I will check in on Thursday,  through email to check on your progress. Respond with any questions you might have. Otherwise, a simple “all good” is appropriate if you have no questions or comments. \n",
        "\n",
        "You will need to upload your coding homework assignments to GitHub.\n",
        "1. In gitbash, change directories to the homework directory: tomas_python/homework\n",
        "* TIP: use ‘cd’ to change directories\n",
        "* Use ‘cd ..’ to return to the previous directory\n",
        "* Use ‘pwd’ to show full pathname of the current working directory \n",
        "* Use ‘ls’ to list all your directories\n",
        "2. Once you’re in that directory, type in ‘git pull’\n",
        "* This ensures you have all updated files\n",
        "* If there is an error involved, email me immediately so we can try resolving it.\n",
        "* Otherwise, type your code below and we’ll resolve issues next class\n",
        "3. To create a new file, type in ‘touch hw01.py’ or the appropriate file name\n",
        "* ‘Touch’ creates a new file\n",
        "4. Open up the python file and start coding!\n",
        "\n",
        "Note: Become familiar with these actions. This is essentially what happens in the backend when you right-click and create a new folder/file!\n"
      ]
    }
  ]
}