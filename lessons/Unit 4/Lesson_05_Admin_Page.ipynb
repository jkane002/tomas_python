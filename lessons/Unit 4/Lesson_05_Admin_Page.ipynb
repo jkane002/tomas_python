{
  "nbformat": 4,
  "nbformat_minor": 0,
  "metadata": {
    "colab": {
      "name": "Lesson 5: Admin Page",
      "provenance": [],
      "collapsed_sections": [
        "QanMmuiXOoLE",
        "glCedjN-Gd6s",
        "RbYrelLx2jMM",
        "Q7uCzxxmGzqP",
        "4AmHQnAO6UP9",
        "sGIYpA2949ZK"
      ]
    },
    "kernelspec": {
      "display_name": "Python 3",
      "name": "python3"
    }
  },
  "cells": [
    {
      "cell_type": "markdown",
      "metadata": {
        "id": "Uq6oR46pHrLH"
      },
      "source": [
        "# Lesson 5: Admin Page \n",
        "---\n",
        "Intro: We will look at the admin page and how to connect a database to our project."
      ]
    },
    {
      "cell_type": "markdown",
      "metadata": {
        "id": "QanMmuiXOoLE"
      },
      "source": [
        "# Review\n",
        "---"
      ]
    },
    {
      "cell_type": "markdown",
      "metadata": {
        "id": "B4znJroiGyau"
      },
      "source": [
        "1. Give an example of template inheritance.\n",
        "2. What is the main difference between CSS and Bootstrap?\n",
        "3. Describe how Django finds URLs."
      ]
    },
    {
      "cell_type": "markdown",
      "metadata": {
        "id": "glCedjN-Gd6s"
      },
      "source": [
        "# Concept 1: Admin Page\n",
        "---\n"
      ]
    },
    {
      "cell_type": "markdown",
      "metadata": {
        "id": "25oLA8_cHOH7"
      },
      "source": [
        "## Objective\n",
        "Our blog posts are in the views page. We need a better way to edit, update, and delete our posts. We can use the admin page for these tasks.\n",
        "## What is it?\n",
        "1. Let's run the server. Now go to `localhost:8000/admin/` What do see?\n",
        "2. There isn't a username or password set up but we can do that now. Return to Git Bash. Quit the server with control + c.\n",
        "3. `python manage.py createsuperuser` - This command creates a user but we get an error when we run this. It says there is no such table. Django needs a database linked with this project to have a user involved.\n",
        "4. `python manage.py makemigrations` - This creates new migrations based on the changes you made in your models. Recall that models map or interact with a database. Since there is no database yet, no changes are detected.\n",
        "5. `python manage.py migrate` - To apply the migrations, we use this command. Now a database table exists.\n",
        "6. `python manage.py createsuperuser` - Enter a username, email, and password. Keep the password simple for testing purposes. You can change it later on.\n",
        "7. Run the server and reload the admin page. Sign in.\n",
        "8. Let's take a look at the admin page.\n",
        "* Groups: The group model categorizes users so you can apply permissions. A user can belong to any number of groups. \n",
        "\n",
        "> Think of an example where users can have different levels of permissions. \n",
        "\n",
        "* Users: A list of registered users.\n",
        "* Recent actions: Recent edits, additions, deletions show up here.\n",
        "9. Click on Users. What do you see?\n",
        "10. Feel free to play around with the admin site. Be sure to delete any changes afterwards."
      ]
    },
    {
      "cell_type": "markdown",
      "metadata": {
        "id": "lKe-QKCKHDHF"
      },
      "source": [
        "## DIY:\n",
        "---"
      ]
    },
    {
      "cell_type": "markdown",
      "metadata": {
        "id": "Ol1DfrzuhT3c"
      },
      "source": [
        "1. What is the difference between `makemigrations` and `migrate`?\n",
        "2. How is having an admin page helpful?\n"
      ]
    },
    {
      "cell_type": "markdown",
      "metadata": {
        "id": "RbYrelLx2jMM"
      },
      "source": [
        "# Concept 2: Database and Migrations (High Level)\n",
        "---\n"
      ]
    },
    {
      "cell_type": "markdown",
      "metadata": {
        "id": "RZ5DKFu62jMP"
      },
      "source": [
        "## Objective\n",
        "As mentioned earlier, we need a database to store all blog posts instead of writing our posts in the views module. This is a high-level concept meaning I don't expect you to know or understand everything but try to understand the bigger picture.\n",
        "\n",
        "## Databases\n",
        "\n",
        "11. Explain what are models.\n",
        "12. Our post contains a title, an author, content, and date posted.\n",
        "\n",
        "> Example:\n",
        "* Title: First Blog Post!\n",
        "* Author: Tomas\n",
        "* Content: Hoping this works\n",
        "* Date created: September 27, 2020\n",
        "\n",
        "13. Go to `blog/models.py`. We will create a Post model that represents a single post. \n",
        "14. Create a class called `Post` that inherits from `models.Model`.\n",
        "* models.Model represents a database field like similar to `Please enter a title name`\n",
        "15. `title = models.CharField(max_length=100)` - To enter a title we use a character field with a max length of 100 characters. Our title needs to be short so we are restricting it to that amount. \n",
        "16. `content = models.TextField()` - Our content can have multiple lines of sentences so a text field with no restrictions is reasonable.\n",
        "17. `date_posted = models.DateTimeField(default=timezone.now)` - The date posted has a date time field which will represent the default time as `September 27, 2020`. To use the default datetime in our timezone, we need to import timezone. So at the top include this: `from django.utils import timezone`\n",
        "18. `from django.contrib.auth.models import User` - Add this to the top. We already have a user model as shown in the previous concept. We need to import that model so we can use it with our posts.\n",
        "19. `author = models.ForeignKey(User, on_delete = models.CASCADE)` - Add this to our class. A foreign key allows the user to create many posts but a post can't be created by multiple users. `User` denotes the imported User. `on_delete` shows what happens if a user is deleted. `models.CASCADE` deletes the posts created by that user. This is needed because if you delete a post, you won't delete a user.\n",
        "20. `def __str__(self):` - This is a string method to represent an object of the class Post. How can we represent a post? We use its title. So for this method `return self.title`\n",
        "\n",
        "## Migrate changes\n",
        "Now we need to update the changes we made to our database. Migrations are useful because it allows us to make changes to our database even after it is created. If we didn't have migrations, we need to add more code to our database.\n",
        "\n",
        "21. Return to Git Bash. To create those migrations, use `python manage.py makemigrations`\n",
        "22. We created a migrations file under `blog/migrations/` called `0001_initial.py`. Go ahead and open it in Atom to view what is inside.\n",
        "23. Return to Git Bash. Now we need to migrate these changes using `python manage.py migrate`\n",
        "\n",
        "## Connecting Admin\n",
        "We have our migrations in place so now we need to connect the admin page.\n",
        "\n",
        "24. Open `blog/admin.py`. We first need to import our Post model so at the top type in `from .models import Post` The `.models` just means to get the models module from this current directory.\n",
        "25. `admin.site.register(Post)` - This registers the Post module onto the admin site.\n",
        "26. Now go to `blog/views.py`. We are going to let go of creating our posts in the view and now using the admin page to create posts for now.\n",
        "27. `import .models from Post` - Add this to the very top. This is to import posts into our views page.\n",
        "28. `'posts': Post.objects.all()` - Edit the context dictionary in the home function so it looks like this. Post is a model so we need to return all objects represented. We won't be using the list of posts anymore so delete it.\n",
        "29. Let's run the server to see what happens. \n",
        "30. Go to `localhost:8000/admin` and create your posts.\n",
        "\n",
        "\n"
      ]
    },
    {
      "cell_type": "markdown",
      "metadata": {
        "id": "pNdhp_lA2jMV"
      },
      "source": [
        "## DIY:\n",
        "---"
      ]
    },
    {
      "cell_type": "markdown",
      "metadata": {
        "id": "O5pqE6Sz1m-U"
      },
      "source": [
        "1. First off, what is a database?\n",
        "2. What are fields?"
      ]
    },
    {
      "cell_type": "markdown",
      "metadata": {
        "id": "Q7uCzxxmGzqP"
      },
      "source": [
        "# Summary:\n",
        "---\n"
      ]
    },
    {
      "cell_type": "markdown",
      "metadata": {
        "id": "cCuonwBfo2_E"
      },
      "source": [
        "1. To create a database in Django, we need to provide a model and then migrate those settings. Remember that the Model in MVT interacts with the database and then provides fields for the View to display.\n",
        "2. Why are fields useful?\n",
        "3. What can we do in the admin page?"
      ]
    },
    {
      "cell_type": "markdown",
      "metadata": {
        "id": "4AmHQnAO6UP9"
      },
      "source": [
        "# Homework:\n",
        "---\n",
        "\n"
      ]
    },
    {
      "cell_type": "markdown",
      "metadata": {
        "id": "4HWwIuZpL3Qt"
      },
      "source": [
        "1. Continue with the War card game\n",
        "2. If finished with that, use the same class to create a simple guessing card game.\n",
        "\n",
        "First you deal a card. The user can guess the value or the suit of the card."
      ]
    },
    {
      "cell_type": "markdown",
      "metadata": {
        "id": "sGIYpA2949ZK"
      },
      "source": [
        "# Notes on homework:\n",
        "---"
      ]
    },
    {
      "cell_type": "markdown",
      "metadata": {
        "id": "1W21sec6G3Rq"
      },
      "source": [
        "I will check in on Thursday,  through email to check on your progress. Respond with any questions you might have. Otherwise, a simple “all good” is appropriate if you have no questions or comments. \n",
        "\n",
        "You will need to upload your coding homework assignments to GitHub.\n",
        "1. In gitbash, change directories to the homework directory: tomas_python/homework\n",
        "* TIP: use ‘cd’ to change directories\n",
        "* Use ‘cd ..’ to return to the previous directory\n",
        "* Use ‘pwd’ to show full pathname of the current working directory \n",
        "* Use ‘ls’ to list all your directories\n",
        "2. Once you’re in that directory, type in ‘git pull’\n",
        "* This ensures you have all updated files\n",
        "* If there is an error involved, email me immediately so we can try resolving it.\n",
        "* Otherwise, type your code below and we’ll resolve issues next class\n",
        "3. To create a new file, type in ‘touch hw01.py’ or the appropriate file name\n",
        "* ‘Touch’ creates a new file\n",
        "4. Open up the python file and start coding!\n",
        "\n",
        "Note: Become familiar with these actions. This is essentially what happens in the backend when you right-click and create a new folder/file!\n"
      ]
    }
  ]
}