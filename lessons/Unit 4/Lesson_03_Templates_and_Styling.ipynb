{
  "nbformat": 4,
  "nbformat_minor": 0,
  "metadata": {
    "colab": {
      "name": "Lesson 3: Templates and Styling",
      "provenance": [],
      "collapsed_sections": [
        "QanMmuiXOoLE",
        "glCedjN-Gd6s",
        "8R0tvyfumXJs",
        "suroMsBFmXJ0",
        "x0oWDFXTmXji",
        "Q7uCzxxmGzqP",
        "sGIYpA2949ZK"
      ]
    },
    "kernelspec": {
      "display_name": "Python 3",
      "name": "python3"
    }
  },
  "cells": [
    {
      "cell_type": "markdown",
      "metadata": {
        "id": "Uq6oR46pHrLH"
      },
      "source": [
        "# Lesson 3: Templates and Styling\n",
        "---\n",
        "Intro: We'll be learning about templates to create more complex HTML code."
      ]
    },
    {
      "cell_type": "markdown",
      "metadata": {
        "id": "QanMmuiXOoLE"
      },
      "source": [
        "# Review\n",
        "---"
      ]
    },
    {
      "cell_type": "markdown",
      "metadata": {
        "id": "B4znJroiGyau"
      },
      "source": [
        "1. What is the Model-View-Template?\n",
        "2. Open Atom and review the steps Django uses for URL routing."
      ]
    },
    {
      "cell_type": "markdown",
      "metadata": {
        "id": "glCedjN-Gd6s"
      },
      "source": [
        "# Concept 1: Templates\n",
        "---\n"
      ]
    },
    {
      "cell_type": "markdown",
      "metadata": {
        "id": "25oLA8_cHOH7"
      },
      "source": [
        "## What are they?\n",
        "\n",
        "Recall that templates are ...\n",
        "\n",
        "1. Open Atom and take a look at `views.py - blog`. We can essentially return all the HTML code in that return statement but it would get messy. Templates minimize clutter and provide more complex views.\n",
        "2. We need to create a templates directory. Let's practice this in Git Bash. \n",
        "> * `cd blog`: go into the `blog/` directory\n",
        "> *  `mkdir templates`: creates a folder called templates. By default, Django looks for a templates subdirectory in each app. \n",
        "> * `cd templates`: go into templates\n",
        "> * `mkdir blog`: We want to create another subdirectory within our templates directory with the same name as our app. This ensures the template is specific to this blog application. It might be repetitive but that's Django's convention.\n",
        "> * `cd blog`: Go into the inner blog directory\n",
        "> * `touch home.html`: Recall that touch creates files. We create a html file for our home page.\n",
        "> * `touch about.html`: We create a html file for our about page.\n",
        "3. So we have all our template files set. Next open `home.html` in Atom.\n",
        "4. Simply copy and paste this code into it. This is just standard html code with an h1 tag in the body section.\n",
        "\n",
        "```\n",
        "<html>\n",
        "  <head>\n",
        "      <title> </title>\n",
        "  </head>\n",
        "  <body>\n",
        "      <h1>Blog home!</h1>\n",
        "  </body>\n",
        "</html>\n",
        "```\n",
        "5. Now we need to add our blog application to our list of installed apps so that Django knows to look there for a templates directory. \n",
        "6. Go to `apps.py` in our blog application. We have a BlogConfig that inherits from this AppConfig class. Simply copy the function name `BlogConfig`.\n",
        "7. Now go to `settings.py` within the project directory. Scroll down until you see `INSTALLED_APPS`. \n",
        "8. At the top, enter `'blog.apps.BlogConfig',`. Make sure the format is the same as it is a string.\n",
        "\n",
        "> This process is **very important**! Whenever we create new applications, we need to add it to the INSTALLED_APPS list so Django can correctly search for your template.\n",
        "\n",
        "9. Open `views.py` from the blog directory. Look at line 1 at `render`. We will use the `render` function to return a rendered template instead of our HTTP response.\n",
        "10. `return render(request, 'blog/home.html')`: Delete the `HttpResponse(...)` from the home function and use render as shown previously.\n",
        "\n",
        "* The render function takes the request object as its 1st argument. The 2nd argument is the template name. Specify the subdirectory first and then the template name. In the background, render still returns an HTTP response. Views always return an HTTP response or an exception.\n",
        "\n",
        "11. Let's check if this still works! Go to Git Bash, `cd` into the project directory, and run the server using `python manage.py runserver`. Open it in our browser and inspect it.\n",
        "\n",
        "12. Try recreating the steps on your own for the about page. Starting at step 3 but ignoring steps 5-8 because we have the template already in our settings.\n",
        "\n"
      ]
    },
    {
      "cell_type": "markdown",
      "metadata": {
        "id": "lKe-QKCKHDHF"
      },
      "source": [
        "## DIY:\n",
        "---"
      ]
    },
    {
      "cell_type": "markdown",
      "metadata": {
        "id": "kiKqtTMxPHn4"
      },
      "source": [
        "1. Why do we have another directory called blog in the templates folder?\n",
        "2. What does `mkdir` do?\n",
        "3. Why is the list `INSTALLED_APPS` important?"
      ]
    },
    {
      "cell_type": "markdown",
      "metadata": {
        "id": "8R0tvyfumXJs"
      },
      "source": [
        "# Concept 2: Dynamic posts\n",
        "---\n"
      ]
    },
    {
      "cell_type": "markdown",
      "metadata": {
        "id": "UytQZi_2mXJu"
      },
      "source": [
        "## Dynamic vs Static\n",
        "So currently we created a static HTML page. If this is what we want, we can edit all the HTML code in the html file. However, most modern websites are dynamic or changing. Websites are continually updating and Django can help us with dynamic websites.\n",
        "\n",
        "We are going to create dynamic blog posts for our blog website. \n",
        "\n",
        "13. Go to `views.py` in the blog directory.\n",
        "14. `posts = []`: Initialize a list called posts above the functions. This is going to be a list of dictionaries. Each dictionary will be information associated with one post. \n",
        "15. Let the keys of the first dictionary be author, title, content, and date_posted. These will all be strings.\n",
        "16. Let the values be Tomas, Blog Post 1, First post content, September 13, 2020.\n",
        "17. Overall it should look like this:\n",
        "\n",
        "```\n",
        "posts = [\n",
        "  {\n",
        "    'author':'Tomas',\n",
        "    'title':'Blog Post 1',\n",
        "    'content':'First post content',\n",
        "    'date_posted':'September 13, 2020'\n",
        "  }\n",
        "]\n",
        "```\n",
        "18. Create another dictionary in the list for the second post.\n",
        "\n",
        "19. Let's take a look at the render [documentation](https://docs.djangoproject.com/en/3.1/topics/http/shortcuts/#render). `posts` is our context - a dictionary of values to add to the template context. \n",
        "\n",
        "> Here is another example: A Context is a dictionary with variable names as the key and their values as the value. Hence, if your context looks like: `{myvar1: 101, myvar2: 102}`, when you pass this context to the template render method, `{{ myvar1 }}` would be replaced with `101` and `{{ myvar2 }}` with `102` in your template. This is a simplistic example, but really a Context object is the context in which the template is being rendered.\n",
        "\n",
        "20. So let's imagine we made a database call and got back this list of posts and we want to display these posts on our blog. We create a **context dictionary** to be passed into the render function.\n",
        "21. In our home function of our home view, create a dictionary called context. Our key is posts and our value is the list of posts called `posts`. \n",
        "\n",
        "```\n",
        "context = {\n",
        "  'posts': posts\n",
        "}\n",
        "```\n",
        "> Answer this: Why is the key a string and the value a variable?\n",
        "\n",
        "22. Recall what we learned using the render function. Pass in a context dictionary as our third argument. \n",
        "\n",
        "```\n",
        "return render(request, 'blog/home.html', context)\n",
        "```\n",
        "Now our context is accessible from within the template and it will be equal to that value or our list of posts.\n",
        "23. Go to `home.html`. Now we need a way to loop through those posts in order to display them on our home page. Django uses a templating engine to do this. The code will be shown then we can break it down. The following is called a code block. Django’s template language is designed to strike a balance between power and ease. It’s designed to feel comfortable to those used to working with HTML. \n",
        "\n",
        "```\n",
        "<body>\n",
        "  {% for post in posts %}\n",
        "      <h1>{{ post.title }}</h1>\n",
        "      <p>By {{ post.author }} on {{ post.date_posted }}</p>\n",
        "      <p>{{ post.content }}</p>\n",
        "  {% endfor %}\n",
        "</body>\n",
        "```\n",
        "\n",
        "This time don't copy and paste the code. Try to understand the syntax. What we have here is Django's templating engine in use. All templating code uses `{}` braces and all major keywords must have `%` percent signs at the beginning and end. \n",
        "* `<body></body>`: First thing, delete the h1 tag within the body tag.\n",
        "* `{% for post in posts %}`: Again `for` is a major keyword or preserved in the template library so it begins and ends with `%`. It loops through the posts variable which was passed in through the render function, if you recall.\n",
        "* `<p>By {{ post.author }} on {{ post.date_posted }}</p>`: HTML and templating code are used together. Create a p tag for paragraphs. Now to access a variable we need another set of braces. So the outer set of braces signals the use of the template code and the inner set of braces accesses variables.\n",
        "* `<p>{{ post.content }}</p>`: Similar like the previous p tag.\n",
        "* `{% endfor %}`: All conditional statements need an end statement to end it. For if statements it would be `endif`, while loops would be `endwhile`, and so on.\n",
        "\n",
        "24. Now open your browser to see how it looks. Make sure to run the server and inspect the website page.\n"
      ]
    },
    {
      "cell_type": "markdown",
      "metadata": {
        "id": "suroMsBFmXJ0"
      },
      "source": [
        "## DIY:\n",
        "---"
      ]
    },
    {
      "cell_type": "markdown",
      "metadata": {
        "id": "uO7FnB51SId5"
      },
      "source": [
        "1. What is a context dictionary?\n",
        "2. What are the differences between a static and dynamic page?\n",
        "3. In your own words, describe Django's templating engine."
      ]
    },
    {
      "cell_type": "markdown",
      "metadata": {
        "id": "x0oWDFXTmXji"
      },
      "source": [
        "# Concept 3: Title Tag \n",
        "---\n"
      ]
    },
    {
      "cell_type": "markdown",
      "metadata": {
        "id": "qvdlaqU4mXjj"
      },
      "source": [
        "## What are they?\n",
        "25. Let's recap what's happening\n",
        "*  The templating code in Django takes in a context dictionary which then loops over our list of posts. It then renders the posts into our template.\n",
        "26. Let's pass a title into our webpages now using an if statement in the templating language. Again, don't copy and paste the code. Try to understand what is happening. \n",
        "```\n",
        "<head>\n",
        "      {% if title %}\n",
        "        <title>Django Blog - {{ title }}</title>\n",
        "      {% else %} \n",
        "        <title>Django Blog</title>\n",
        "      {% endif %}\n",
        "</head>\n",
        "```\n",
        "* `{% if title %}`: The title attribute will be passed in via context. This will be shown later on. \n",
        "* `<title>Django Blog - {{ title }}</title>`: We can access the title variable using double braces.\n",
        "* `{% else %} <title>Django Blog</title>`: If there is no title available, then use the default title.\n",
        "* `{% endif %}`: End the if statement\n",
        "\n",
        "27. After you understand all the contents in the head tag, copy and paste the above code into the `about.html` and `home.html`. \n",
        "28. Return to `views.py`. We won't change anything to the home function as we will use the default title. For the about page, we will pass in a title. So let's pass a dictionary as a third parameter in our render function. \n",
        "`{'title': 'About'}`\n",
        "29. Open up your browser and check your titles.\n"
      ]
    },
    {
      "cell_type": "markdown",
      "metadata": {
        "id": "LeCCi1gBmXjn"
      },
      "source": [
        "## DIY:\n",
        "---"
      ]
    },
    {
      "cell_type": "markdown",
      "metadata": {
        "id": "u6lH88ndNj4J"
      },
      "source": [
        "1. How would having different titles be helpful in web design?"
      ]
    },
    {
      "cell_type": "markdown",
      "metadata": {
        "id": "Q7uCzxxmGzqP"
      },
      "source": [
        "# Summary:\n",
        "---\n"
      ]
    },
    {
      "cell_type": "markdown",
      "metadata": {
        "id": "cCuonwBfo2_E"
      },
      "source": [
        "1. Explain template inheritance and its usage in Django.\n",
        "2. Why are modern websites dynamic?\n",
        "3. Where would static websites be more widely used?\n",
        "4. Give another example of a context dictionary and its usage with Django.\n",
        "5. What is the purpose of using Bootstrap instead of using your own CSS styling?"
      ]
    },
    {
      "cell_type": "markdown",
      "metadata": {
        "id": "4AmHQnAO6UP9"
      },
      "source": [
        "# Homework:\n",
        "---\n",
        "\n"
      ]
    },
    {
      "cell_type": "markdown",
      "metadata": {
        "id": "4HWwIuZpL3Qt"
      },
      "source": [
        "## Objective: Using frozen sets\n",
        "\n",
        "1. Write a function checking whether a passed letter is a vowel or not. \n",
        "\n",
        "* Example input: j\n",
        "* Example output: Consonant \n",
        "\n",
        "\n",
        "* Example input: a\n",
        "* Example output: Vowel \n",
        "\n",
        "Then afterwards, count how many vowels are in a word.\n",
        "\n",
        "* Example input: Tomas\n",
        "* Example output: 2 \n"
      ]
    },
    {
      "cell_type": "markdown",
      "metadata": {
        "id": "sGIYpA2949ZK"
      },
      "source": [
        "# Notes on homework:\n",
        "---"
      ]
    },
    {
      "cell_type": "markdown",
      "metadata": {
        "id": "1W21sec6G3Rq"
      },
      "source": [
        "I will check in on Thursday,  through email to check on your progress. Respond with any questions you might have. Otherwise, a simple “all good” is appropriate if you have no questions or comments. \n",
        "\n",
        "You will need to upload your coding homework assignments to GitHub.\n",
        "1. In gitbash, change directories to the homework directory: tomas_python/homework\n",
        "* TIP: use ‘cd’ to change directories\n",
        "* Use ‘cd ..’ to return to the previous directory\n",
        "* Use ‘pwd’ to show full pathname of the current working directory \n",
        "* Use ‘ls’ to list all your directories\n",
        "2. Once you’re in that directory, type in ‘git pull’\n",
        "* This ensures you have all updated files\n",
        "* If there is an error involved, email me immediately so we can try resolving it.\n",
        "* Otherwise, type your code below and we’ll resolve issues next class\n",
        "3. To create a new file, type in ‘touch hw01.py’ or the appropriate file name\n",
        "* ‘Touch’ creates a new file\n",
        "4. Open up the python file and start coding!\n",
        "\n",
        "Note: Become familiar with these actions. This is essentially what happens in the backend when you right-click and create a new folder/file!\n"
      ]
    }
  ]
}