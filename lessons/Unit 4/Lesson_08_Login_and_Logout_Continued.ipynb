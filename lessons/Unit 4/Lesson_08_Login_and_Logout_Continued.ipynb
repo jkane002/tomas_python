{
  "nbformat": 4,
  "nbformat_minor": 0,
  "metadata": {
    "colab": {
      "name": "Lesson 8: Login and Logout Continued",
      "provenance": [],
      "collapsed_sections": [
        "QanMmuiXOoLE",
        "Bt_hU2Di3v8l",
        "58n3ccgYsvKx",
        "glCedjN-Gd6s",
        "Q7uCzxxmGzqP",
        "4AmHQnAO6UP9",
        "sGIYpA2949ZK",
        "q7k0IpSBodhP",
        "ddKcgLGshg1S"
      ]
    },
    "kernelspec": {
      "display_name": "Python 3",
      "name": "python3"
    }
  },
  "cells": [
    {
      "cell_type": "markdown",
      "metadata": {
        "id": "Uq6oR46pHrLH"
      },
      "source": [
        "# Lesson 8: Login and Logout Continued\n",
        "---\n",
        "Intro: We continue working on logins and logouts. We will also set restrictions if a person is not registered or logged in."
      ]
    },
    {
      "cell_type": "markdown",
      "metadata": {
        "id": "QanMmuiXOoLE"
      },
      "source": [
        "# Review\n",
        "---"
      ]
    },
    {
      "cell_type": "markdown",
      "metadata": {
        "id": "B4znJroiGyau"
      },
      "source": [
        "1. What are crispy forms?\n",
        "2. What are the advantages of using crispy forms?\n",
        "1. What does this do?\n",
        "\n",
        " `path('logout/',auth_views.LogoutView.as_view(template_name='users/logout.html'), name='logout')` \n",
        "2. Why do we need to create login and logout pages if we already have an admin page to do that?"
      ]
    },
    {
      "cell_type": "markdown",
      "metadata": {
        "id": "Bt_hU2Di3v8l"
      },
      "source": [
        "# Concept 1: Navigation Bar Conditional\n",
        "---\n"
      ]
    },
    {
      "cell_type": "markdown",
      "metadata": {
        "id": "znuxrDoW3v8p"
      },
      "source": [
        "## Objective\n",
        "We need to change our navigation bar based on if someone is logged in or not. If someone is already logged in, then need to see a log out button and vice versa.\n",
        "## Nav Bar\n",
        "0. Git pull to update changes.\n",
        "1. Open the `base.html` in the `blog/templates/blog`. Recall that our navigation bar is in this file.\n",
        "2. Go to the navigation bar (navbar right side) denoted by the `<nav>` tags. We will edit the links to say login and register if you are logged out. If you are logged in, it will say logout.\n",
        "3. So far the Login and Register links don't link to anython so let's change the Login href to this - `href=\"{% url 'login' %}\"` and the register href to this - `href=\"{% url 'register' %}\"`\n",
        "4. Now we only want to see the login and register links if they're not logged in. If they are, they should see a logout link. Django provides a way to check if a user is authenticated.\n",
        "5. Above the login a tag, include this - `{% if user.is_authenticated  %}` So this returns true if the user is logged in. Since they are, they need to see a logout link. So beneath the if statement include this - `<a class=\"nav-item nav-link\" href=\"{% url 'logout' %}\">Logout</a>`\n",
        "6. `{% else %}` - Beneath the logout link include an else statement. Now if the user is logged out, we want to display the login and the register links. We have them already so simply `{% endif %}` the code block.\n",
        "7. Let's try it out in our browser! Log in and log out."
      ]
    },
    {
      "cell_type": "markdown",
      "metadata": {
        "id": "_abF6PPE3v8v"
      },
      "source": [
        "## DIY:\n",
        "---"
      ]
    },
    {
      "cell_type": "markdown",
      "metadata": {
        "id": "ph306AumM7Ji"
      },
      "source": [
        "1. What does this do -  `{% if user.is_authenticated %}`?"
      ]
    },
    {
      "cell_type": "markdown",
      "metadata": {
        "id": "58n3ccgYsvKx"
      },
      "source": [
        "# Concept 2: Profile and LogIn Restrictions \n",
        "---\n"
      ]
    },
    {
      "cell_type": "markdown",
      "metadata": {
        "id": "VjYKVa5msvKz"
      },
      "source": [
        "## Objective\n",
        "If a person is logged out, they are not allowed to see our entire website. However if logged in, they gain full access. We can denote this by having a profile tab whenever someone is logged in. The profile tab will simply have their username but we will change this later on.\n",
        "\n",
        "## Profile\n",
        "8. First, let's create a view for their profile and then attach a URL route. Open `users/views.py` and create another function - `def profile(request):`\n",
        "8. Return the render function that takes in the request and `'users/profile.html'`. We will create the profile.html now.\n",
        "10. Create the `profile.html` in `users/templates/users`. So in our profile template, we will display just the username but keeping the same style as our website. Put the following code in there:\n",
        "```\n",
        "{% extends \"blog/base.html\" %}\n",
        "{% load crispy_forms_tags %}\n",
        "{% block content %}\n",
        "  <h1>{{ user.username }}</h1>\n",
        "{% endblock content %}\n",
        "```\n",
        "11. Now open the project's `urls.py` and enter the profile path. Try this on your own. Remember the path name will be `profile/` and we are importing the profile from the user views. Don't forget to name it profile.\n",
        "12. Remember we want a logged in user to see the profile and logout link. To change this, go to the `base.html` and in this line where the user is authenticated - `<a class=\"nav-item nav-link\" href=\"{% url 'profile' %}\">Profile</a>`\n",
        "13. Let's open the browser and log in. Check the profile tab. Log out and check the profile tab again.\n",
        "\n",
        "## Profile Restrictions \n",
        "When you log out and manually go to `localhost:8000/profile`, you can see nothing is there. We want to make it a requirement to be logged in to view the profile page.\n",
        "\n",
        "14. We will add a decorator to the function. A decorator takes in a function, adds some functionality and returns it. \n",
        "15. Go to `users/views.py` and import - `from django.contrib.auth.decorators import login_required`\n",
        "16. Right above the profile function include the decorator - `@login_required`. So login_required is a functionality added to the function. It requires the user to be logged in.\n",
        "17. Now Django needs a way to find the login URL so go to the project's settings file and at the very bottom include this - `LOGIN_URL = 'login'`\n",
        "18. Now let's try it out! Log out and go to `localhost:8000/profile`. What happened?\n",
        "19. Great! We're all set. Push your code to Github."
      ]
    },
    {
      "cell_type": "markdown",
      "metadata": {
        "id": "eBSBS0QZsvK3"
      },
      "source": [
        "## DIY:\n",
        "---"
      ]
    },
    {
      "cell_type": "markdown",
      "metadata": {
        "id": "ccRkXRCnKuPH"
      },
      "source": [
        "1. In your own words what is a decorator?"
      ]
    },
    {
      "cell_type": "markdown",
      "metadata": {
        "id": "glCedjN-Gd6s"
      },
      "source": [
        "# Mid-Course Test\n",
        "---\n"
      ]
    },
    {
      "cell_type": "markdown",
      "metadata": {
        "id": "25oLA8_cHOH7"
      },
      "source": [
        "1. What is the full command to start the server?\n",
        "2. What design pattern does Django use?\n",
        "3. Why is `INSTALLED_APPS` important?\n",
        "4. Where does Django go to find the URL patterns?\n",
        "5. Give a rundown of how Django goes from finding a URL pattern to rendering it on the page.\n",
        "6. Differences between HTTP POST and GET.\n",
        "7. What does this command do? `python manage.py startapp market`\n",
        "8. Explain a code block.\n",
        "9. What does the render function do? Give an example.\n",
        "10. What is Django?"
      ]
    },
    {
      "cell_type": "markdown",
      "metadata": {
        "id": "Q7uCzxxmGzqP"
      },
      "source": [
        "# Summary:\n",
        "---\n"
      ]
    },
    {
      "cell_type": "markdown",
      "metadata": {
        "id": "cCuonwBfo2_E"
      },
      "source": [
        "1. We set restrictions on accounts if they are not registered nor logged in.\n",
        "2. Changed the navigation bar links to work with logging in and out."
      ]
    },
    {
      "cell_type": "markdown",
      "metadata": {
        "id": "4AmHQnAO6UP9"
      },
      "source": [
        "# Homework:\n",
        "---\n",
        "\n"
      ]
    },
    {
      "cell_type": "markdown",
      "metadata": {
        "id": "4HWwIuZpL3Qt"
      },
      "source": [
        "1. Watch this [video](https://www.youtube.com/watch?v=MYAEv3JoenI) (4 minutes) about Python decorators.\n",
        "2. Finish the War card game by next week.\n",
        "2. If finished with that, use the same class to create a simple guessing card game.\n",
        "\n",
        "First you deal a card. The user can guess the value or the suit of the card."
      ]
    },
    {
      "cell_type": "markdown",
      "metadata": {
        "id": "sGIYpA2949ZK"
      },
      "source": [
        "# Notes on homework:\n",
        "---"
      ]
    },
    {
      "cell_type": "markdown",
      "metadata": {
        "id": "1W21sec6G3Rq"
      },
      "source": [
        "I will check in on Thursday,  through email to check on your progress. Respond with any questions you might have. Otherwise, a simple “all good” is appropriate if you have no questions or comments. \n",
        "\n",
        "You will need to upload your coding homework assignments to GitHub.\n",
        "1. In gitbash, change directories to the homework directory: tomas_python/homework\n",
        "* TIP: use ‘cd’ to change directories\n",
        "* Use ‘cd ..’ to return to the previous directory\n",
        "* Use ‘pwd’ to show full pathname of the current working directory \n",
        "* Use ‘ls’ to list all your directories\n",
        "2. Once you’re in that directory, type in ‘git pull’\n",
        "* This ensures you have all updated files\n",
        "* If there is an error involved, email me immediately so we can try resolving it.\n",
        "* Otherwise, type your code below and we’ll resolve issues next class\n",
        "3. To create a new file, type in ‘touch hw01.py’ or the appropriate file name\n",
        "* ‘Touch’ creates a new file\n",
        "4. Open up the python file and start coding!\n",
        "\n",
        "Note: Become familiar with these actions. This is essentially what happens in the backend when you right-click and create a new folder/file!\n"
      ]
    },
    {
      "cell_type": "markdown",
      "metadata": {
        "id": "q7k0IpSBodhP"
      },
      "source": [
        "# DIY Solutions\n",
        "---"
      ]
    },
    {
      "cell_type": "code",
      "metadata": {
        "id": "gRSIvIhdhjzs"
      },
      "source": [
        "path('profile/', user_views.profile, name='profile')"
      ],
      "execution_count": null,
      "outputs": []
    },
    {
      "cell_type": "markdown",
      "metadata": {
        "id": "ddKcgLGshg1S"
      },
      "source": [
        "# Mid-course test solutions\n",
        "---"
      ]
    },
    {
      "cell_type": "markdown",
      "metadata": {
        "id": "0t5y_HTQZKH1"
      },
      "source": [
        "1. What is the full command to start the server?\n",
        "* `python manage.py runserver`\n",
        "2. What design pattern does Django use?\n",
        "* Model-View-Template \n",
        "> A user requests for a resource to Django. Django works as a controller and checks the available resource in the URL pattern. If there is a URL mapping, a view is called. The view interacts with the model and template and then it renders the template. Django responds back to the user and sends a template as a response.\n",
        "3. Why is `INSTALLED_APPS` important?\n",
        "* A list of strings designating all applications that are enabled in this Django installation. Each string should be a dotted Python path to: an application configuration class (preferred), or a package containing an application.\n",
        "4. Where does Django go to find the URL patterns?\n",
        "* The project's URL file\n",
        "5. Give a rundown of how Django goes from finding a URL pattern to rendering it on the page.\n",
        "* It searches the URL path in the project's URL file, then it goes to the designated view to render the template.\n",
        "6. Differences between HTTP POST and GET.\n",
        "* POST - inserts data and GET - reads data\n",
        "7. What does this command do? `python manage.py startapp market`\n",
        "* Starts a Django application called market\n",
        "8. Explain a code block.\n",
        "* A code block is used for overriding specific parts of a template. In your case, you have a block named content and this is supposed to be overridden by children that inherit from this template. (Template inheritance)\n",
        "9. What does the render function do? Give an example.\n",
        "* It displays a page on the browser \n",
        "10. What is Django?\n",
        "* Django is a high-level Python web framework that enables rapid development of secure and maintainable websites. Built by experienced developers, Django takes care of much of the hassle of web development, so you can focus on writing your app without needing to reinvent the wheel. "
      ]
    }
  ]
}