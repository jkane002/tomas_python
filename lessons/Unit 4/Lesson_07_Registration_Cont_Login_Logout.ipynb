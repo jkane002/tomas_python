{
  "nbformat": 4,
  "nbformat_minor": 0,
  "metadata": {
    "colab": {
      "name": "Lesson 7: Registration Cont. / Login / Logout",
      "provenance": [],
      "collapsed_sections": [
        "QanMmuiXOoLE",
        "ijzxw9Wc5fwn",
        "glCedjN-Gd6s",
        "Bt_hU2Di3v8l",
        "58n3ccgYsvKx",
        "Q7uCzxxmGzqP",
        "4AmHQnAO6UP9",
        "sGIYpA2949ZK",
        "ddKcgLGshg1S"
      ]
    },
    "kernelspec": {
      "display_name": "Python 3",
      "name": "python3"
    }
  },
  "cells": [
    {
      "cell_type": "markdown",
      "metadata": {
        "id": "Uq6oR46pHrLH"
      },
      "source": [
        "# Lesson 7: Registration Continued / Login & Logout \n",
        "---\n",
        "Intro: We will continue creating a revised version of the registration form and then we will set up a login and logout system."
      ]
    },
    {
      "cell_type": "markdown",
      "metadata": {
        "id": "QanMmuiXOoLE"
      },
      "source": [
        "# Review\n",
        "---"
      ]
    },
    {
      "cell_type": "markdown",
      "metadata": {
        "id": "B4znJroiGyau"
      },
      "source": [
        "1. Take a look at this [image](https://images.app.goo.gl/FCH2eGC243yBkJo8A) to answer 2 and 3. \n",
        "1. Give an example of a HTTP POST request.\n",
        "2. Give an example of a HTTP GET request. Use your intuition.\n",
        "4. What is in the admin page?"
      ]
    },
    {
      "cell_type": "markdown",
      "metadata": {
        "id": "ijzxw9Wc5fwn"
      },
      "source": [
        "# Concept 1: Revised Registration Form\n",
        "---\n"
      ]
    },
    {
      "cell_type": "markdown",
      "metadata": {
        "id": "kt4B5s-Y5fwo"
      },
      "source": [
        "## Objective\n",
        "As seen recently, we couldn't tell what was wrong with our registration form when we entered a commonly used password. We need another way to notify the user. Also, why couldn't the user enter their email? We are using Django's default `UserCreationForm` where it just provides a username and password field. We will create our own form to provide an email field. \n",
        "\n",
        "## Register a user's email\n",
        "1. Within the user's folder, create a file called `forms.py`. We are going to create our first form that inherits from `UserCreationForm`.\n",
        "2. `from django import forms` - This is form module provided by Django that sets up a simple form template. \n",
        "3. `from django.contrib.auth.models import User` - Now we need to import User so we can attach the User model to the form.\n",
        "4. `from django.contrib.auth.forms import UserCreationForm` - A ModelForm for creating a new user.\n",
        "It has three fields: username (from the user model), password1, and password2. It verifies that password1 and password2 match, validates the password using validate_password(), and sets the user’s password using set_password().\n",
        "5. `class UserRegisterForm(UserCreationForm):` - Let's create a class that inherits from `UserCreationForm`. We need to inherit this bceause we need Django's standard fields including username and password.\n",
        "6. `email = forms.EmailField()` - This creates a field for the email. \n",
        "7. `class Meta:` - This is a bit strange but this class is within the UserRegisterForm. This essentially encapsulates or wraps the following data. It keeps these configurations in one place.\n",
        "8. `model = User` - We want the form to interact with the User model because it will create a new user.\n",
        "9. `fields = ['username', 'email', 'password1', 'password2']` - These are the fields that will be shown on our form.\n",
        "10. Return to `users/views.py` and let's import our register form like this - `from .forms import UserRegisterForm`.\n",
        "11. We will use `UserRegisterForm` instead of `UserCreationForm` so look in the file and replace them. There are 2 of them. \n",
        "12. Since we aren't using the `UserCreationForm` we can delete the import at the top.\n",
        "13. Now return to Git Bash and run the server. Let's register a new user at `localhost:8000/register`. Check the admin page.\n",
        "\n",
        "## Crispy Forms\n",
        "We are going to overhaul the style of our register form so it looks similar to [this](https://camo.githubusercontent.com/182a9b1c4fc34f43b2c986dd6ed554ed793f5905/687474703a2f2f692e696d6775722e636f6d2f4c535245672e706e67). It doesn't have our BootStrap styling and we don't need all of the validation information displayed so large. Also we don't have a way to boldly display error messages. Crispy forms allow us to build programmatic reusable layouts out of components, having full control of the rendered HTML without writing HTML in templates. All this without breaking the standard way of doing things in Django, so it plays nice with any other form application.\n",
        "\n",
        "14. `pip install django-crispy-forms` - First, we need to install Crispy forms. So return to Git Bash and enter this command.\n",
        "15. Now whenever we install a new app, we need to tell Django that this is an installed app. So go to the project's setting's module. Enter `'crispy_forms',` in the list.\n",
        "16. Let's also tell crispy form to use the most recent Bootstrap version to use. Go to the very bottom and enter `CRISPY_TEMPLATE_PACK = 'bootstrap4'`\n",
        "17. Next, we need to load this template and use it. Return to `register.html` and at the top right below `{% extends...` load in the crispy form tags by entering `{% load crispy_forms_tags %}`\n",
        "18. Now we can use crispy forms with any forms that we have. Replace `{{ form.as_p }}` with `{{ form|crispy }}`. The bar represents a filter. So first we establish a form and filter it so we can use a crispy form.\n",
        "19. Let's run it on the server. \n",
        "20. Go to the register page again and inspect the page. Try enter an existing user. What happens?"
      ]
    },
    {
      "cell_type": "markdown",
      "metadata": {
        "id": "vNL75Vzd5fws"
      },
      "source": [
        "## DIY:\n",
        "---"
      ]
    },
    {
      "cell_type": "markdown",
      "metadata": {
        "id": "cu6gy0uABlZe"
      },
      "source": [
        "1. What are crispy forms?\n",
        "2. What are the advantages of using crispy forms?"
      ]
    },
    {
      "cell_type": "markdown",
      "metadata": {
        "id": "glCedjN-Gd6s"
      },
      "source": [
        "# Concept 2: Login and Logout\n",
        "---\n"
      ]
    },
    {
      "cell_type": "markdown",
      "metadata": {
        "id": "25oLA8_cHOH7"
      },
      "source": [
        "## Objective\n",
        "Create an authentication system for logins and logouts. We also need to verify that a user is registered before logging in. They also must be logged in to access certain pages.\n",
        "## Logging In\n",
        "21. Within our project's `urls.py`, include `from django.contrib.auth import views as auth_views`. Django provides an authentication view for any authentication. We use \"as auth_views\" because we are already importing `views` somewhere else.\n",
        "22. Now in the urlpatterns list, include `path('login/',auth_views.LoginView.as_view(template_name='users/login.html'), name='login')`. Just note that `LoginView` is a class based view, we will look at those later on. The `as_view()` simply casts the class into view with the provided template. We will create the login.html file in a bit.\n",
        "\n",
        "> Question: What does the view do? (MVT pattern)\n",
        "\n",
        "23. Let's do the same for the logout page. `path('logout/',auth_views.LogoutView.as_view(template_name='users/logout.html'), name='logout')`. Django handles the login and logout verification for us so we don't have to code it in ourselves.\n",
        "24. So let's create the login template first. Create a file called `login.html` in `users/templates/users`. How do we want the login page to look? We simply want a page where the user enters their username and password. Django will do the checks to see if they exist in our database and all the other checks.\n",
        "25. This will be very similar to the register template so simply copy all the code into the `login.html`. Great! we already have a form set up.\n",
        "26. Change the legend to say Log In and the submit button to say Login.\n",
        "27. Replace \"Already have an account\" to \"Need an account?\" Within the a tag and in the href, type in this: `href=\"{% url 'register' %}\"`\n",
        "28. Head back to `register.html` where it says \"Already have an account\". Since we have a login page now, edit the href - `href=\"{% url 'login' %}\"`\n",
        "29. Run the server and go to `localhost:8000/login`. Enter a bad username and bad password. What happens? \n",
        "30. Enter your username and password. What went wrong? It's trying to access a url (accounts/profile) that doesn't have an attached view.\n",
        "31. We want the user to login and be redirected to the home page. To fix this, open the project's `settings.py` and scroll to the very bottom. Include this - `LOGIN_REDIRECT_URL = 'blog-home'`\n",
        "32. Let's check it out. Go to `localhost:8000/login` and log in again. For now, there are no visuals letting us know we logged in but we will fix that later on.\n",
        "33. Check if we are logged in by going to `localhost:8000/admin` and we should see the admin site.\n",
        "34. Let's change the register route so users are redirected to the log in page. Go to the users' `views.py`. Change the success message from \"Account create for username\" to \"Your account has been created! You are able to log in\" and change the redirect to `redirect('login')`\n",
        "\n",
        "## Log Out\n",
        "Once a user logs out, display the log out page.\n",
        "35. Create a file called `logout.html` in `users/templates/users`. Similarly, copy the code from the register template onto the logout page.\n",
        "36. Delete everything except the block contents and the opening and closing div tags of `<div class=\"border-top pt-3\">`\n",
        "37. Now above that div tag, insert this: `<h2>You have been logged out</h2>`\n",
        "38. Replace the a tag with this:\n",
        "`<a href=\"{% url 'login' %}\">Log In Again</a>`\n",
        "39. Run the server and try log in and log out."
      ]
    },
    {
      "cell_type": "markdown",
      "metadata": {
        "id": "lKe-QKCKHDHF"
      },
      "source": [
        "## DIY:\n",
        "---"
      ]
    },
    {
      "cell_type": "markdown",
      "metadata": {
        "id": "Kt5yomykUWYC"
      },
      "source": [
        "1. What does this do?\n",
        "\n",
        " `path('logout/',auth_views.LogoutView.as_view(template_name='users/logout.html'), name='logout')` \n",
        "2. Why do we need to create login and logout pages if we already have an admin page to do that?"
      ]
    },
    {
      "cell_type": "markdown",
      "metadata": {
        "id": "Q7uCzxxmGzqP"
      },
      "source": [
        "# Summary:\n",
        "---\n"
      ]
    },
    {
      "cell_type": "markdown",
      "metadata": {
        "id": "cCuonwBfo2_E"
      },
      "source": [
        "1. We created a User App because it runs separately from the blog app. We use this to register users.\n",
        "2. Crispy forms is a third-party app that allows us to adjust the form's properties while having full control on the backend.\n",
        "3. We checked if the user is logged in and provide the logout link. Similarly, if the user is logged out, we provide a login and a register link."
      ]
    },
    {
      "cell_type": "markdown",
      "metadata": {
        "id": "4AmHQnAO6UP9"
      },
      "source": [
        "# Homework:\n",
        "---\n",
        "\n"
      ]
    },
    {
      "cell_type": "markdown",
      "metadata": {
        "id": "4HWwIuZpL3Qt"
      },
      "source": [
        "1. Watch this [video](https://www.youtube.com/watch?v=MYAEv3JoenI) (4 minutes) about Python decorators.\n",
        "2. Finish the War card game by next week.\n",
        "2. If finished with that, use the same class to create a simple guessing card game.\n",
        "\n",
        "First you deal a card. The user can guess the value or the suit of the card."
      ]
    },
    {
      "cell_type": "markdown",
      "metadata": {
        "id": "sGIYpA2949ZK"
      },
      "source": [
        "# Notes on homework:\n",
        "---"
      ]
    },
    {
      "cell_type": "markdown",
      "metadata": {
        "id": "1W21sec6G3Rq"
      },
      "source": [
        "I will check in on Thursday,  through email to check on your progress. Respond with any questions you might have. Otherwise, a simple “all good” is appropriate if you have no questions or comments. \n",
        "\n",
        "You will need to upload your coding homework assignments to GitHub.\n",
        "1. In gitbash, change directories to the homework directory: tomas_python/homework\n",
        "* TIP: use ‘cd’ to change directories\n",
        "* Use ‘cd ..’ to return to the previous directory\n",
        "* Use ‘pwd’ to show full pathname of the current working directory \n",
        "* Use ‘ls’ to list all your directories\n",
        "2. Once you’re in that directory, type in ‘git pull’\n",
        "* This ensures you have all updated files\n",
        "* If there is an error involved, email me immediately so we can try resolving it.\n",
        "* Otherwise, type your code below and we’ll resolve issues next class\n",
        "3. To create a new file, type in ‘touch hw01.py’ or the appropriate file name\n",
        "* ‘Touch’ creates a new file\n",
        "4. Open up the python file and start coding!\n",
        "\n",
        "Note: Become familiar with these actions. This is essentially what happens in the backend when you right-click and create a new folder/file!\n"
      ]
    },
    {
      "cell_type": "markdown",
      "metadata": {
        "id": "ddKcgLGshg1S"
      },
      "source": [
        "# DIY Solutions\n",
        "---"
      ]
    },
    {
      "cell_type": "code",
      "metadata": {
        "id": "gRSIvIhdhjzs"
      },
      "source": [
        "path('profile/', user_views.profile, name='profile')"
      ],
      "execution_count": null,
      "outputs": []
    }
  ]
}