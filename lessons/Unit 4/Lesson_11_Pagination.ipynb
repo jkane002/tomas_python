{
  "nbformat": 4,
  "nbformat_minor": 0,
  "metadata": {
    "colab": {
      "name": "Lesson 11: Pagination",
      "provenance": [],
      "collapsed_sections": [
        "QanMmuiXOoLE",
        "glCedjN-Gd6s",
        "NkjiTh-yrad2",
        "Q7uCzxxmGzqP",
        "4AmHQnAO6UP9",
        "sGIYpA2949ZK"
      ]
    },
    "kernelspec": {
      "display_name": "Python 3",
      "name": "python3"
    }
  },
  "cells": [
    {
      "cell_type": "markdown",
      "metadata": {
        "id": "Uq6oR46pHrLH"
      },
      "source": [
        "# Lesson 11: Pagination \n",
        "---\n",
        "Intro: Let's look into pagination where we can limit a certain amount of posts per page."
      ]
    },
    {
      "cell_type": "markdown",
      "metadata": {
        "id": "QanMmuiXOoLE"
      },
      "source": [
        "# Review\n",
        "---"
      ]
    },
    {
      "cell_type": "markdown",
      "metadata": {
        "id": "B4znJroiGyau"
      },
      "source": [
        "1. What are the differences between class-based views and function-based views?\n",
        "2. What do all the generic views (DetailView, ListView, UpdatView, etc) have in common?\n",
        "3. How do you create a new URL path?\n",
        "3. How's this course going for you?"
      ]
    },
    {
      "cell_type": "markdown",
      "metadata": {
        "id": "glCedjN-Gd6s"
      },
      "source": [
        "# Concept 1: Pagination\n",
        "---\n"
      ]
    },
    {
      "cell_type": "markdown",
      "metadata": {
        "id": "25oLA8_cHOH7"
      },
      "source": [
        "## Objective\n",
        "Our blog site will eventually contain many posts and we need a way to contain them. With pagination, we can limit the number of posts per page. \n",
        "## Pagination\n",
        "1. Look at the ListView's documentation [here](https://docs.djangoproject.com/en/3.1/topics/pagination/#paginating-a-listview). \n",
        "2. So you saw that we can paginate our posts using the `paginate_by` variable. Go to the blog's views.py page and under the PostListView class, include this `paginate_by = 2`.\n",
        "* This limits the amount of posts per page by 2.\n",
        "3. Go to the browser and check this out. Create more posts with different users to see the difference.\n",
        "4. Now we need a way to switch between different pages. You can actually do this manually by going to `localhost:8000/?page=2`\n",
        "5. Go to `home.html` under `blog/templates/blog`. We will edit this file because this is where our posts are being rendered.\n",
        "6. Between `endfor` and `endblock content` include this if statement:\n",
        "```\n",
        "{% if is_paginated %}\n",
        "{% endif %}\n",
        "```\n",
        "* By giving the ListView a paginated_by variable, this automatically sets the `is_paginated` to True thanks to Django.\n",
        "7. Now in between that if statement, create this nested if statement:\n",
        "```\n",
        "{% if page_obj.has_previous %}\n",
        "{% endif %}\n",
        "```\n",
        "* So overall, first it checks if the ListView is paginated then it checks if the current page has a previous page. (i.e You're on page 2. The current page has a previous page at page 1). If you're wondering where `page_obj` came from, by including `paginate_by` in the ListView, Django enables us to use that variable.\n",
        "8. In between, the nested if statement include this:\n",
        "```\n",
        "<a class=\"btn btn-outline-info mb-4\" href=\"?page=1\">First</a>\n",
        "<a class=\"btn btn-outline-info mb-4\" href=\"?page={{ page_obj.previous_page_number }}\">Previous</a>\n",
        "```\n",
        "* The first line will provide a hyperlinked button that will always go to the first page.\n",
        "* The second line will provide a hyperlinked button that will always go to the previous page.\n",
        "9. Now we want to display a range of pages. For example, if we are on page 5, there will be buttons for pages 3 and 4 and page 6 and 7. This will change depending on the current page.\n",
        "10. Below the `if page_obj.has_previous ` statement, let's create a for loop that iterates through all the pages.\n",
        "```\n",
        "{% for num in page_obj.paginator.page_range %}\n",
        "{% endfor %}\n",
        "```\n",
        "* Iterate through a page object (the ListView) with a paginator (object containing all the posts) that states the range (size of the list).\n",
        "11. Next, in the for loop we will have an if and an else if statement to see which pages to render for the buttons. Type it out.\n",
        "So our first if statement looks like this:\n",
        "```\n",
        "{% if page_obj.number == num %}\n",
        "      <a class=\"btn btn-info mb-4\" href=\"?page={{ num }}\">{{ num }}</a>\n",
        "{% endif %}\n",
        "```\n",
        "* This simply checks if the page we are on matches with num. If it is, provide the href with the current number and display a button with the current number as well. We also made this button a solid color by omitting `outline`.\n",
        "12. Now for the else-if statement, we provide the page range. Type this out so you can understand it more.\n",
        "```\n",
        "{% elif num > page_obj.number|add:'-3' and num < page_obj.number|add:'3' %}\n",
        "        <a class=\"btn btn-outline-info mb-4\" href=\"?page={{ num }}\">{{ num }}</a>\n",
        "```\n",
        "* This prints numbers surrounding the current page. Check if num is greater than the current page and within 3 previous, then render the buttons. Do this similarly when num is less than the current page. The `|` (pipe) filters our command.\n",
        "13. Outside the for loop, let's display buttons for the next page numbers. This if statement is very similar to the has_previous if statement\n",
        "```\n",
        "{% if page_obj.has_next %}\n",
        "        <a class=\"btn btn-outline-info mb-4\" href=\"?page={{ page_obj.next_page_number }}\">Next</a>\n",
        "        <a class=\"btn btn-outline-info mb-4\" href=\"?page={{ page_obj.paginator.num_pages }}\">Last</a>\n",
        "{% endif %}\n",
        "```\n",
        "* First, it checks if the page has a page that follows. If so, it displays the next page number as well as the very last page using `{ page_obj.paginator.num_pages }`\n",
        "14. Let's check it out on the browser. Flip through the pages.\n",
        "15. Now let's change the `paginate_by` variable to something bigger like 5 to display more posts. This is in the views.py file.\n",
        "16. Overall, the code should look like this. Explain what each line does."
      ]
    },
    {
      "cell_type": "code",
      "metadata": {
        "id": "YLpt1cUiWPKK"
      },
      "source": [
        "{% if is_paginated %}\n",
        "\n",
        "{% if page_obj.has_previous %}\n",
        "  <a class=\"btn btn-outline-info mb-4\" href=\"?page=1\">First</a>\n",
        "  <a class=\"btn btn-outline-info mb-4\" href=\"?page={{ page_obj.previous_page_number }}\">Previous</a>\n",
        "{% endif %}\n",
        "\n",
        "{% for num in page_obj.paginator.page_range %}\n",
        "  {% if page_obj.number == num %}\n",
        "    <a class=\"btn btn-info mb-4\" href=\"?page={{ num }}\">{{ num }}</a>\n",
        "  {% elif num > page_obj.number|add:'-3' and num < page_obj.number|add:'3' %}\n",
        "    <a class=\"btn btn-outline-info mb-4\" href=\"?page={{ num }}\">{{ num }}</a>\n",
        "  {% endif %}\n",
        "{% endfor %}\n",
        "\n",
        "{% if page_obj.has_next %}\n",
        "  <a class=\"btn btn-outline-info mb-4\" href=\"?page={{ page_obj.next_page_number }}\">Next</a>\n",
        "  <a class=\"btn btn-outline-info mb-4\" href=\"?page={{ page_obj.paginator.num_pages }}\">Last</a>\n",
        "{% endif %}\n",
        "\n",
        "{% endif %}"
      ],
      "execution_count": null,
      "outputs": []
    },
    {
      "cell_type": "markdown",
      "metadata": {
        "id": "lKe-QKCKHDHF"
      },
      "source": [
        "## DIY:\n",
        "---"
      ]
    },
    {
      "cell_type": "markdown",
      "metadata": {
        "id": "RPJX14_7WlJD"
      },
      "source": [
        "1. Explain the `paginate_by` variable.\n",
        "2. What does the pipe do?\n",
        "3. What's the purpose of the for loop?"
      ]
    },
    {
      "cell_type": "markdown",
      "metadata": {
        "id": "NkjiTh-yrad2"
      },
      "source": [
        "# Concept 2: User Pagination\n",
        "---\n"
      ]
    },
    {
      "cell_type": "markdown",
      "metadata": {
        "id": "C61-9YZNrad4"
      },
      "source": [
        "## Objective\n",
        "If you look at the home page, the user name has a dead link and it doesn't go anywhere. When you click on the user, you should see how many posts that user wrote. Let's build a route that displays a specific user's posts.\n",
        "## User Pagination\n",
        "17. Go to `views.py` under `blog/templates/blog`. We're going to make a separate ListView that holds an individual user's posts. This is very similar to PostListView so simply copy the `PostListView` and paste it underneath it. Change the function name to `UserPostListView`. Change the template_name to `'blog/user_posts.html'`. We will create this in a bit.\n",
        "18. Now let's modify this so we can filter the list of posts to a single user. First let's import some methods. \n",
        "```\n",
        "from django.shortcuts import get_object_or_404\n",
        "```\n",
        "* Note: you have shortcuts already imported. `get_object_or_404` simply means to get the object or to display a 404 error. \n",
        "\n",
        "```\n",
        "from django.contrib.auth.models import User\n",
        "```\n",
        "* Since we need to access a specific user, we access the user model from our models class.\n",
        "\n",
        "19. Inside the class, create a function like this:\n",
        "```\n",
        "def get_queryset(self):\n",
        "```\n",
        "* It determines the list of objects that you want to display. By default, it gives you all for the model you specify. By overriding this method you can extend or completely replace this logic.\n",
        "\n",
        "20. Now in the `get_queryset` method type in this:\n",
        "```\n",
        "user = get_object_or_404(User, username=self.kwargs.get('username'))\n",
        "```\n",
        "\n",
        "* A user variable is passed in. If the user doesn't exist, then this returns a 404 error page.\n",
        "\n",
        "21. Next, return all the posts filtered by the author and the date posted. \n",
        "```\n",
        "return Post.objects.filter(author=user).order_by('date_posted')\n",
        "```\n",
        "\n",
        "22. Just a side note: since we are overriding the query (or list of post) this ListView is managing, our ordering will also be overwritten. So delete `ordering = ['-date_posted']`. \n",
        "\n",
        "## User Path for Pagination\n",
        "\n",
        "23. Open the blog's urls.py page and import `UserPostListView` from `.views`. Since we have `.views` simply add it to the list of imports.\n",
        "24. Now create a path for a specific user. Type this out so you can understand this line.\n",
        "```\n",
        "path('user/<str:username>', UserPostListView.as_view(), name='user-posts'),\n",
        "```\n",
        "* So similar to the integer primary key, we have a username primary key that will always be a string. \n",
        "* > Answer this: why do we have `as_view()`?\n",
        "25. Let's create the `user_posts.html` template that we specified in the UserPostListView.\n",
        "26. Under `blog/templates/blog` name it `user_posts.html`. This will be very similar to the `home.html` page so copy the code from `home.html` and paste it in. This presents all the posts as well as providing pagination.\n",
        "27. So once we click on the user's name, it filters all the posts. We also want a title stating that the viewable posts are from the specific user. So, right below `{% block content %}` add the following:\n",
        "```\n",
        "<h1 class=\"mb-3\">Posts by {{ view.kwargs.username }} ({{ page_obj.paginator.count }})</h1>\n",
        "```\n",
        "* Provide an H1 tag that says `Posts by Tomas (18)`. The kwargs value retrieves the username from the URL. This also prints out the total number of posts (or objects) from this user.\n",
        "\n",
        "28. Remember when we clicked on the user's name and it didn't go anywhere? Now let's fix that. Find the a tag with `{{ post.author }}`. Change the href to this:\n",
        "```\n",
        "href=\"{% url 'user-posts' post.author.username %}\"\n",
        "```\n",
        "* This simply gets the url for user-posts for the specific user.\n",
        "\n",
        "29. Let's do this as well for the home template. So go to `home.html` and find `{{ post.author }}` and change the href to this:\n",
        "```\n",
        "href=\"{% url 'user-posts' post.author.username %}\"\n",
        "```\n",
        "30. Let's change the same thing in `post_detail.html`. Find `{{ object.author }}` and change the href to this:\n",
        "```\n",
        "href=\"{% url 'user-posts' object.author.username %}\"\n",
        "```\n",
        "* Note that this page uses objects. \n",
        "31. Let's open this in the browser and click on a user's name.\n",
        "32. Now test for a bad user. Go to `localhost:8000/user/BadUser`. You should get a 404 error.\n"
      ]
    },
    {
      "cell_type": "markdown",
      "metadata": {
        "id": "CbKd6UOPrad9"
      },
      "source": [
        "## DIY:\n",
        "---"
      ]
    },
    {
      "cell_type": "markdown",
      "metadata": {
        "id": "5VD6j3qZpa_N"
      },
      "source": [
        "1. What's the purpose of `get_object_or_404`?\n",
        "2. Explain `'user/<str:username>'` in `path('user/<str:username>', UserPostListView.as_view(), name='user-posts'),`\n",
        "3. When using the templating engine with hrefs, what is the format used? Here is an example `href=\"{% url 'user-posts' post.author.username %}\"`"
      ]
    },
    {
      "cell_type": "markdown",
      "metadata": {
        "id": "Q7uCzxxmGzqP"
      },
      "source": [
        "# Summary:\n",
        "---\n"
      ]
    },
    {
      "cell_type": "markdown",
      "metadata": {
        "id": "cCuonwBfo2_E"
      },
      "source": [
        "\n",
        "1. Why do we need pagination in our website?\n",
        "1. Explain the `paginate_by` variable.\n",
        "2. What does the pipe do?\n",
        "3. What's the purpose of `get_object_or_404`?\n"
      ]
    },
    {
      "cell_type": "markdown",
      "metadata": {
        "id": "4AmHQnAO6UP9"
      },
      "source": [
        "# Homework:\n",
        "---\n",
        "\n"
      ]
    },
    {
      "cell_type": "markdown",
      "metadata": {
        "id": "4HWwIuZpL3Qt"
      },
      "source": [
        "1. Continue the blackjack game.\n",
        "2. If you're finished, now combine the war game and blackjack. Let the user decide which game to play."
      ]
    },
    {
      "cell_type": "markdown",
      "metadata": {
        "id": "sGIYpA2949ZK"
      },
      "source": [
        "# Notes on homework:\n",
        "---"
      ]
    },
    {
      "cell_type": "markdown",
      "metadata": {
        "id": "1W21sec6G3Rq"
      },
      "source": [
        "I will check in on Thursday,  through email to check on your progress. Respond with any questions you might have. Otherwise, a simple “all good” is appropriate if you have no questions or comments. \n",
        "\n",
        "You will need to upload your coding homework assignments to GitHub.\n",
        "1. In gitbash, change directories to the homework directory: tomas_python/homework\n",
        "* TIP: use ‘cd’ to change directories\n",
        "* Use ‘cd ..’ to return to the previous directory\n",
        "* Use ‘pwd’ to show full pathname of the current working directory \n",
        "* Use ‘ls’ to list all your directories\n",
        "2. Once you’re in that directory, type in ‘git pull’\n",
        "* This ensures you have all updated files\n",
        "* If there is an error involved, email me immediately so we can try resolving it.\n",
        "* Otherwise, type your code below and we’ll resolve issues next class\n",
        "3. To create a new file, type in ‘touch hw01.py’ or the appropriate file name\n",
        "* ‘Touch’ creates a new file\n",
        "4. Open up the python file and start coding!\n",
        "\n",
        "Note: Become familiar with these actions. This is essentially what happens in the backend when you right-click and create a new folder/file!\n"
      ]
    }
  ]
}