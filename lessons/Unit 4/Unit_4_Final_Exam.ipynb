{
  "nbformat": 4,
  "nbformat_minor": 0,
  "metadata": {
    "colab": {
      "name": "Unit 4 Final Exam",
      "provenance": [],
      "collapsed_sections": [
        "ddKcgLGshg1S",
        "hYfSHx_neQkF",
        "3EqhtLd_eQ7G",
        "C_W2aIpReRE5",
        "SKE6jn6KeRNU",
        "wepZom1qeRUr",
        "KTE1ecRjeRcF",
        "mRlfR_i2eRkK",
        "uYtoHjjBeRrs",
        "NM8RWiBPeRzG",
        "H5UzTq3vzT5d"
      ]
    },
    "kernelspec": {
      "display_name": "Python 3",
      "name": "python3"
    }
  },
  "cells": [
    {
      "cell_type": "markdown",
      "metadata": {
        "id": "Uq6oR46pHrLH"
      },
      "source": [
        "# Unit 4 Final Exam\n",
        "---\n",
        "Congratulations! You made it to the end of Unit 4. You have mastered many concepts in Django and this exam tests your understanding of Django. You have 10 free-response questions. Let me know when you are finished. But first, let's read about the next steps."
      ]
    },
    {
      "cell_type": "markdown",
      "metadata": {
        "id": "QanMmuiXOoLE"
      },
      "source": [
        "# Next Steps\n",
        "---"
      ]
    },
    {
      "cell_type": "markdown",
      "metadata": {
        "id": "B4znJroiGyau"
      },
      "source": [
        "So this course mainly focused on web development in Django using Python and some HTML/CSS. All lessons were walkthroughs teaching you each step of the way.\n",
        "\n",
        "If we were to continue with another project, the course would be structured as such: 1/2 - 1/3 theory and 1/2 - 2/3 application. \n",
        "\n",
        "Theory (learning): walkthroughs, tutorials, examples, concepts, videos\n",
        "\n",
        "Application: coding, guidance, testing, debugging, brainstorming, commenting, drawing\n",
        "\n",
        "Some topics:\n",
        "* Create your own visual game (preferred & it's fun!)\n",
        "* Data science/ Machine learning\n",
        "* Web scraping\n",
        "\n",
        "(Also if we didn't fully finish the website, we can add another class to work on it)\n",
        "\n",
        "The course will be either 10, 15 (preferred), or 20 weeks long."
      ]
    },
    {
      "cell_type": "markdown",
      "metadata": {
        "id": "ddKcgLGshg1S"
      },
      "source": [
        "# #1\n",
        "---"
      ]
    },
    {
      "cell_type": "markdown",
      "metadata": {
        "id": "oEasPCRxnHw0"
      },
      "source": [
        "Most websites use a MVC Pattern (Model-View-Controller). However, Django uses a MVT Pattern (Model-View-Template). \n",
        "\n",
        "Here are 3 code snippets of each component:\n",
        "\n",
        "> A"
      ]
    },
    {
      "cell_type": "code",
      "metadata": {
        "id": "-1qAnpzAq8Ou"
      },
      "source": [
        "def home(request):\n",
        "    posts = ProjectPost.objects.all()\n",
        "\n",
        "    context = {'posts': posts }\n",
        "    return render(request, 'base/index.html', context)"
      ],
      "execution_count": null,
      "outputs": []
    },
    {
      "cell_type": "markdown",
      "metadata": {
        "id": "cNc2IYGzrBQZ"
      },
      "source": [
        "> B"
      ]
    },
    {
      "cell_type": "code",
      "metadata": {
        "id": "fHdDxHnMrMDm"
      },
      "source": [
        "<!DOCTYPE html>\n",
        "{% load static %}\n",
        "<html>\n",
        "\n",
        "<head>\n",
        "    <link href=\"{% static 'css/styles.css' %}\" rel=\"stylesheet\" type=\"text/css\">\n",
        "</head>\n",
        "\n",
        "<body>\n",
        "    {% block content %}\n",
        "    {% endblock content %}\n",
        "</body>\n",
        "</html>"
      ],
      "execution_count": null,
      "outputs": []
    },
    {
      "cell_type": "markdown",
      "metadata": {
        "id": "x2mpWHxtrMT7"
      },
      "source": [
        "> C"
      ]
    },
    {
      "cell_type": "code",
      "metadata": {
        "id": "qIEvJ3yRrMtk"
      },
      "source": [
        "class Tag(models.Model):\n",
        "    name = models.CharField(max_length=200)\n",
        "\n",
        "    def __str__(self):\n",
        "        return self.name"
      ],
      "execution_count": null,
      "outputs": []
    },
    {
      "cell_type": "markdown",
      "metadata": {
        "id": "M2vpPhZur82b"
      },
      "source": [
        "Describe what each component does. In the parentheses, place the designated letter of each code snippet to their component."
      ]
    },
    {
      "cell_type": "markdown",
      "metadata": {
        "id": "h6b_0q_UrF2f"
      },
      "source": [
        "## Answer\n",
        "---"
      ]
    },
    {
      "cell_type": "code",
      "metadata": {
        "id": "gRSIvIhdhjzs"
      },
      "source": [
        "\n",
        "Model: ()\n",
        "View: ()\n",
        "Template: ()"
      ],
      "execution_count": null,
      "outputs": []
    },
    {
      "cell_type": "markdown",
      "metadata": {
        "id": "hYfSHx_neQkF"
      },
      "source": [
        "# #2\n",
        "---"
      ]
    },
    {
      "cell_type": "markdown",
      "metadata": {
        "id": "QeO6uR0QnITH"
      },
      "source": [
        "Given this code snippet:\n",
        "```\n",
        "return render(request, 'blog/home.html', context)\n",
        "```\n",
        "What is a context dictionary? Give an example of a context dictionary using the variable `context`."
      ]
    },
    {
      "cell_type": "markdown",
      "metadata": {
        "id": "i16Myik3sLeo"
      },
      "source": [
        "## Answer\n",
        "---"
      ]
    },
    {
      "cell_type": "code",
      "metadata": {
        "id": "AHKUUYcVeQkR"
      },
      "source": [
        ""
      ],
      "execution_count": null,
      "outputs": []
    },
    {
      "cell_type": "markdown",
      "metadata": {
        "id": "3EqhtLd_eQ7G"
      },
      "source": [
        "# #3\n",
        "---"
      ]
    },
    {
      "cell_type": "markdown",
      "metadata": {
        "id": "GEFSnWpInI_y"
      },
      "source": [
        "Explain and give an example of template inheritance. What do you need to make template inheritance work? Use `base.html`, `about.html`, and `extends` in your example."
      ]
    },
    {
      "cell_type": "markdown",
      "metadata": {
        "id": "N2SdbL74sQMn"
      },
      "source": [
        "## Answer\n",
        "---"
      ]
    },
    {
      "cell_type": "code",
      "metadata": {
        "id": "ZA34m5d3eQ7G"
      },
      "source": [
        ""
      ],
      "execution_count": null,
      "outputs": []
    },
    {
      "cell_type": "markdown",
      "metadata": {
        "id": "C_W2aIpReRE5"
      },
      "source": [
        "# #4\n",
        "---"
      ]
    },
    {
      "cell_type": "markdown",
      "metadata": {
        "id": "dF35dHEmnJ9T"
      },
      "source": [
        "Let's use this example: we created a model called `users` where users upload their profile pictures, email, and blog posts. We added these components to Django's database.\n",
        "\n",
        "How are `makemigrations` and `migrate` used? What is the difference? What are the commands to execute these?"
      ]
    },
    {
      "cell_type": "markdown",
      "metadata": {
        "id": "1-WnIgIqsQwH"
      },
      "source": [
        "## Answer\n",
        "---"
      ]
    },
    {
      "cell_type": "code",
      "metadata": {
        "id": "gjzJI2NbeRE5"
      },
      "source": [
        ""
      ],
      "execution_count": null,
      "outputs": []
    },
    {
      "cell_type": "markdown",
      "metadata": {
        "id": "SKE6jn6KeRNU"
      },
      "source": [
        "# #5\n",
        "---"
      ]
    },
    {
      "cell_type": "markdown",
      "metadata": {
        "id": "i26zTq-3nKUY"
      },
      "source": [
        "What is the admin page? How do you access the admin page? How is having an admin page useful when dealing with backend services?"
      ]
    },
    {
      "cell_type": "markdown",
      "metadata": {
        "id": "-zrgg9D0sRRM"
      },
      "source": [
        "## Answer\n",
        "---"
      ]
    },
    {
      "cell_type": "code",
      "metadata": {
        "id": "79zqhMZieRNV"
      },
      "source": [
        ""
      ],
      "execution_count": null,
      "outputs": []
    },
    {
      "cell_type": "markdown",
      "metadata": {
        "id": "wepZom1qeRUr"
      },
      "source": [
        "# #6\n",
        "---"
      ]
    },
    {
      "cell_type": "markdown",
      "metadata": {
        "id": "YjW61x2nnKr4"
      },
      "source": [
        "You are giving this path but what does this do? Explain each argument.\n",
        "\n",
        "`path('post/<int:pk>/update/', PostUpdateView.as_view(), name='post-update')` "
      ]
    },
    {
      "cell_type": "markdown",
      "metadata": {
        "id": "jCygcgmmsRtH"
      },
      "source": [
        "## Answer\n",
        "---"
      ]
    },
    {
      "cell_type": "code",
      "metadata": {
        "id": "2b4hz8fmeRUs"
      },
      "source": [
        "'post/<int:pk>/update/' - \n",
        "PostUpdateView.as_view() - \n",
        "name='post-update' - "
      ],
      "execution_count": null,
      "outputs": []
    },
    {
      "cell_type": "markdown",
      "metadata": {
        "id": "KTE1ecRjeRcF"
      },
      "source": [
        "# #7\n",
        "---"
      ]
    },
    {
      "cell_type": "markdown",
      "metadata": {
        "id": "2wxSM8_6nLT_"
      },
      "source": [
        "Below are examples of a class-based-view and a function-based-view.What are the different functionalities between class-based-views and function-based-views? Which one uses mixins and decorators?\n",
        "\n",
        "```\n",
        "def home(request):\n",
        "    context = {'posts': Post.objects.all()}\n",
        "    return render(request, 'blog/home.html', context)\n",
        "```\n",
        "```\n",
        "class PostListView(ListView):\n",
        "    model = Post\n",
        "    template_name = 'blog/home.html'\n",
        "    context_object_name = 'posts'\n",
        "    ordering = ['-date_posted']\n",
        "    paginate_by = 5\n",
        "```"
      ]
    },
    {
      "cell_type": "markdown",
      "metadata": {
        "id": "si66_I5VsSNu"
      },
      "source": [
        "## Answer\n",
        "---"
      ]
    },
    {
      "cell_type": "code",
      "metadata": {
        "id": "4qv5HcCveRcF"
      },
      "source": [
        ""
      ],
      "execution_count": null,
      "outputs": []
    },
    {
      "cell_type": "markdown",
      "metadata": {
        "id": "mRlfR_i2eRkK"
      },
      "source": [
        "# #8\n",
        "---"
      ]
    },
    {
      "cell_type": "markdown",
      "metadata": {
        "id": "fd8mBrlenL0J"
      },
      "source": [
        "Why is `INSTALLED_APPS` important? When do you add another item to the `INSTALLED_APPS` list?\n",
        "\n"
      ]
    },
    {
      "cell_type": "markdown",
      "metadata": {
        "id": "zr_5actlsSp0"
      },
      "source": [
        "## Answer\n",
        "---"
      ]
    },
    {
      "cell_type": "code",
      "metadata": {
        "id": "klmm0qFaeRkL"
      },
      "source": [
        ""
      ],
      "execution_count": null,
      "outputs": []
    },
    {
      "cell_type": "markdown",
      "metadata": {
        "id": "uYtoHjjBeRrs"
      },
      "source": [
        "# #9\n",
        "---"
      ]
    },
    {
      "cell_type": "markdown",
      "metadata": {
        "id": "VwK6j2lLnMTD"
      },
      "source": [
        "Here is an example url - `tomasblogsite.heroku.com/post/13/`. Give a rundown of how Django goes from finding a URL pattern to rendering it on the page."
      ]
    },
    {
      "cell_type": "markdown",
      "metadata": {
        "id": "_PEjipMAsTD7"
      },
      "source": [
        "## Answer\n",
        "---"
      ]
    },
    {
      "cell_type": "code",
      "metadata": {
        "id": "66APHimqeRrs"
      },
      "source": [
        ""
      ],
      "execution_count": null,
      "outputs": []
    },
    {
      "cell_type": "markdown",
      "metadata": {
        "id": "NM8RWiBPeRzG"
      },
      "source": [
        "# #10\n",
        "\n",
        "---"
      ]
    },
    {
      "cell_type": "markdown",
      "metadata": {
        "id": "0XLWxQf_nMyU"
      },
      "source": [
        "Here is a simple question- What is Django? How can you explain Django to someone who doesn't know about it?\n",
        "\n"
      ]
    },
    {
      "cell_type": "markdown",
      "metadata": {
        "id": "SG5sj7EQsThE"
      },
      "source": [
        "## Answer\n",
        "---"
      ]
    },
    {
      "cell_type": "code",
      "metadata": {
        "id": "LWGhCsjCeRzG"
      },
      "source": [
        ""
      ],
      "execution_count": null,
      "outputs": []
    },
    {
      "cell_type": "markdown",
      "metadata": {
        "id": "H5UzTq3vzT5d"
      },
      "source": [
        "# (Stop Here) Answers\n",
        "---"
      ]
    },
    {
      "cell_type": "markdown",
      "metadata": {
        "id": "s20uGB3pzgrH"
      },
      "source": [
        "### 1. \n",
        "\n",
        "Describe what each component of MVT does. In the parentheses, place the designated letter of each code snippet to their component.\n",
        "\n",
        "---\n",
        "\n",
        "* Model - C - Model is going to act as the interface of your data. It is responsible for maintaining data. It is the logical data structure behind the entire application and is represented by a database. \n",
        "* View - A - The View is the user interface — what you see in your browser when you render a website. It is represented by HTML/CSS/Javascript\n",
        "* Template - B - A template consists of static parts of the desired HTML output as well as some special syntax describing how dynamic content will be inserted.\n",
        "\n",
        "### 2. \n",
        "Given this code snippet:\n",
        "```\n",
        "return render(request, 'blog/home.html', context)\n",
        "```\n",
        "What is a context dictionary? Give an example of a context dictionary using the variable `context`.\n",
        "\n",
        "---\n",
        "\n",
        "* A context dictionary is a dictionary with variable names as the key and their values as the value. A use case for a context dictionary is when you want to insert certain variables inside your template instead of writing code to insert it in each view.\n",
        "\n",
        "```\n",
        "context = {'posts' : post}\n",
        "return render(request, 'blog/home.html', context)\n",
        "```\n",
        "\n",
        "### 3. \n",
        "\n",
        "Explain and give an example of template inheritance. What do you need to make template inheritance work? Use `base.html`, `about.html`, and `extends` in your example.\n",
        "\n",
        "---\n",
        "\n",
        "Template inheritance allows you to build a base “skeleton” template that contains all the common elements of your site and defines blocks that child templates can override.\n",
        "\n",
        "* base.html - is the base skeleton template\n",
        "* about.html - inherits from base.html using extends (`{%  extends \"base.html\" %}`)\n",
        "\n",
        "### 4.\n",
        "\n",
        "Let's use this example: we created a model called `users` where users upload their profile pictures, email, and blog posts. We added these components to Django's database.\n",
        "\n",
        "How are `makemigrations` and `migrate` used? What is the difference? What are the commands to execute these?\n",
        "\n",
        "---\n",
        "\n",
        "* makemigrations, which is responsible for creating new migrations based on the changes you have made to your models. (`python manage.py makemigrations`)\n",
        "* migrate, which is responsible for applying and unapplying migrations. (`python manage.py migrate`)\n",
        "\n",
        "### 5.\n",
        "\n",
        "What is the admin page? How do you access the admin page? How is having an admin page useful when dealing with backend services?\n",
        "\n",
        "---\n",
        "\n",
        "Django comes with a built-in admin interface. With Django's admin you can authenticate users, display and handle forms, and validate input; all automatically. Django also provides a convenient interface to manage model data. You access it by going to `localhost:8000/admin`.\n",
        "\n",
        "### 6.\n",
        "\n",
        "You are giving this path but what does this do? Explain each argument.\n",
        "\n",
        "`path('post/<int:pk>/update/', PostUpdateView.as_view(), name='post-update')` \n",
        "\n",
        "---\n",
        "\n",
        "This is in the views.py page where given the url, it renders the PostUpdateView (casted as a view) with a given name of post-update.\n",
        "\n",
        "\n",
        "### 7.\n",
        "\n",
        "Below are examples of a class-based-view and a function-based-view.What are the different functionalities between class-based-views and function-based-views? Which one uses mixins and decorators?\n",
        "\n",
        "---\n",
        "\n",
        "Function Based Views (uses decorators)\n",
        "\n",
        "* Simple to implement\n",
        "* Easy to read\n",
        "* Explicit code flow\n",
        "* Straightforward usage of decorators\n",
        "* good for specialized functionality\n",
        "\n",
        "\n",
        "Class Based Views (uses mixins)\n",
        "* Code reuseability — In CBV, a view class can be inherited by another view class and modified for a different use case.\n",
        "* Reduce code duplication\n",
        "* Code extendability — CBV can be extended to include more functionalities using Mixins\n",
        "* Code structuring — In CBVs A class based view helps you respond to different http request with different class instance methods instead of conditional branching statements inside a single function based view.\n",
        "* Built-in generic class-based views\n",
        "\n",
        "\n",
        "### 8.\n",
        "\n",
        "Why is `INSTALLED_APPS` important? When do you add another item to the `INSTALLED_APPS` list?\n",
        "\n",
        "---\n",
        "\n",
        "A list of strings designating all applications that are enabled in this Django installation. Each string should be a dotted Python path to:\n",
        "\n",
        "an application configuration class (preferred), or\n",
        "a package containing an application.\n",
        "\n",
        "### 9.\n",
        "\n",
        "Here is an example url - `tomasblogsite.heroku.com/post/13/`. Give a rundown of how Django goes from finding a URL pattern to rendering it on the page.\n",
        "\n",
        "---\n",
        "\n",
        "* Goes to the `''` (home) page \n",
        "* If something is there, it renders the page\n",
        "* If not, it's redirected to the appropriate view\n",
        "* The view then renders a template  \n",
        "\n",
        "### 10.\n",
        "\n",
        "Here is a simple question- What is Django? How can you explain Django to someone who doesn't know about it?\n",
        "\n",
        "---\n",
        "\n",
        "Django is a high-level Python web framework that enables rapid development of secure and maintainable websites. Built by experienced developers, Django takes care of much of the hassle of web development, so you can focus on writing your app without needing to reinvent the wheel. It is free and open source, has a thriving and active community, great documentation, and many options for free and paid-for support. \n"
      ]
    }
  ]
}