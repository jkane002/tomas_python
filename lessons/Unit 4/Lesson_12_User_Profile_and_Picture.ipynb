{
  "nbformat": 4,
  "nbformat_minor": 0,
  "metadata": {
    "colab": {
      "name": "Lesson 12: User Profile and Picture",
      "provenance": [],
      "collapsed_sections": [
        "QanMmuiXOoLE",
        "glCedjN-Gd6s",
        "hKLZOq6PPRgR",
        "UquOSJA5PSKh",
        "HYwMLWFzv81a",
        "zVPc2l1Zv81c",
        "q0XFak2iGwaU",
        "Q7uCzxxmGzqP",
        "4AmHQnAO6UP9",
        "sGIYpA2949ZK"
      ]
    },
    "kernelspec": {
      "display_name": "Python 3",
      "name": "python3"
    }
  },
  "cells": [
    {
      "cell_type": "markdown",
      "metadata": {
        "id": "Uq6oR46pHrLH"
      },
      "source": [
        "# Lesson 12: User Profile and Picture \n",
        "---\n",
        "Intro: We are going to continue working on our user profile page and upload a profile picture."
      ]
    },
    {
      "cell_type": "markdown",
      "metadata": {
        "id": "QanMmuiXOoLE"
      },
      "source": [
        "# Review\n",
        "---"
      ]
    },
    {
      "cell_type": "markdown",
      "metadata": {
        "id": "B4znJroiGyau"
      },
      "source": [
        "1. What is the `paginate_by` variable used for?\n",
        "2. Describe the process of registering a user.\n",
        "3. What is the pipe  `|`?"
      ]
    },
    {
      "cell_type": "markdown",
      "metadata": {
        "id": "glCedjN-Gd6s"
      },
      "source": [
        "# Concept 1: User Model\n",
        "---\n"
      ]
    },
    {
      "cell_type": "markdown",
      "metadata": {
        "id": "25oLA8_cHOH7"
      },
      "source": [
        "## Objective\n",
        "By default, the Django User's Model does not have a field for a profile picture. We have to extend the model to add this feature. This will be a one-to-one relationship where one user will have one photo and vice versa. \n",
        "## User Model\n",
        "1. Open up `models.py` from the users folder. We will create fields to interact with the user database when uploading a picture.\n",
        "2. `from django.contrib.auth.models import User` - Let's extend the current user model by importing it.\n",
        "3. `class Profile(models.Model):` - This will be our new model that we will use which extends or inherits from the Model.\n",
        "4. `user = models.OneToOneField(User, on_delete=models.CASCADE)` -  Creates the one-to-one relationship with existing User model. The CASCADE variable means to delete the profile associated with the User and not the User itself. Let's take a look at this [documentation](https://docs.djangoproject.com/en/3.1/ref/models/fields/#django.db.models.OneToOneField). \n",
        "5. `image = models.ImageField(default='default.jpg', upload_to='profile_pics')` - We create an image field where the user can upload their picture. The default name will be `'default.jpg'` and the pictures will be uploaded to a folder called profile_pics.\n",
        "6. `def __str__(self):` - Now create a dunder (double underscore) method for the string within the class. A dunder method is an “informal” or nicely printable string representation of an object. \n",
        "7. `return f'{self.user.username} Profile'` - We use a format string to print out the name. The result of `str(User)` will be this `Tomas Profile`.\n",
        "8. Since we made changes to the database, we need to update these migrations. Go to Git Bash and type in `python manage.py makemigrations`.\n",
        "9. We get an error because Pillow is not installed. What is Pillow? Pillow is an imaging library that we will use when uploading images. You can read the documentation [here](https://pillow.readthedocs.io/en/stable/#overview).\n",
        "10. `pip install Pillow` - Install Pillow so we can use images in Python.\n",
        "11. Use the up arrow on your keyboard to rerun the `makemigrations` command.\n",
        "12. `python manage.py migrate` - This applies the migrations to the databse.\n",
        "13. Register this model to the admin file so we can view the user profiles on the admin page. Go to the admin file in the users directory and first import the User model - \n",
        "```\n",
        "from .models import Profile\n",
        "admin.site.register(Profile)\n",
        "```\n",
        "14. Run the server and go to the admin page. We can see the profiles on there.\n",
        "15. Let's create one for Tomas and select the image available [here](https://images.app.goo.gl/k9JCxeYE1pGXjrRo8). Download it and save it to the Desktop for now. \n",
        "\n"
      ]
    },
    {
      "cell_type": "markdown",
      "metadata": {
        "id": "lKe-QKCKHDHF"
      },
      "source": [
        "## DIY:\n",
        "---"
      ]
    },
    {
      "cell_type": "markdown",
      "metadata": {
        "id": "SkZ3e2X8g1tz"
      },
      "source": [
        "1. What is Pillow?\n",
        "2. What's the purpose of a dunder function?\n",
        "3. Why do we need to make migrations?"
      ]
    },
    {
      "cell_type": "markdown",
      "metadata": {
        "id": "hKLZOq6PPRgR"
      },
      "source": [
        "# Concept 2: Django Shell\n",
        "---\n"
      ]
    },
    {
      "cell_type": "markdown",
      "metadata": {
        "id": "tAufWfVUPRgU"
      },
      "source": [
        "## Objective\n",
        "Let's use the Django shell to see how images work interactively. The Django shell is a Python interactive interpreter where you can edit code in real-time. We will use the shell to understand the user and image objects more.\n",
        "## Django Shell\n",
        "16. `python manage.py shell` - Enter this command in Git Bash. Python and Django provide a shell, which is used to execute a single Python command and display the result.\n",
        "It is also known as REPL (Read, Evaluate, Print, Loop), where it reads the command, evaluates the command, prints the result, and loop it back to read the command again.\n",
        "17. `from django.contrib.auth.models import User` - Writing in a new shell simulates writing a new file so we must import the User.\n",
        "18. `user = User.objects.filter(username='Tomas').first()` - We filter all the User objects down to the user called 'Tomas' and display the first instance of this user. \n",
        "19. `user` - This just prints out the user object saved in the database. \n",
        "20. `user.profile` - Prints out the profile object associated with the user.\n",
        "21. `user.profile.image` - Prints out the image field file.\n",
        "22. `user.profile.image.width` - This prints out attributes of the image.\n",
        "23. `user.profile.image.url` - We will provide a source location to gather the images in HTML.\n",
        "24. `exit()` - We can exit the shell now. Notice that once you exit, no files were created. We can test our code through the shell."
      ]
    },
    {
      "cell_type": "markdown",
      "metadata": {
        "id": "YmlzuGb5PRgg"
      },
      "source": [
        "## DIY:\n",
        "---"
      ]
    },
    {
      "cell_type": "markdown",
      "metadata": {
        "id": "wkmTXX6giiwa"
      },
      "source": [
        "1. What command do you use to open the Django shell?\n",
        "2. What is a Django shell?\n",
        "3. Tip: You can open the Python interpreter / shell in Git Bash by just typing in `python -i`"
      ]
    },
    {
      "cell_type": "markdown",
      "metadata": {
        "id": "UquOSJA5PSKh"
      },
      "source": [
        "# Concept 3: Image Settings\n",
        "---\n"
      ]
    },
    {
      "cell_type": "markdown",
      "metadata": {
        "id": "zGpmeLvVPSKi"
      },
      "source": [
        "## Objective\n",
        "We need a designated area when uploading images to our website. The following steps help organize our folders. \n",
        "## Image Settings\n",
        "25. The profile_pics directory is created when we added the image field to upload to that specific folder. We need to change this because multiple models may need a place to store folders and we don't want to confuse ourselves down the line.\n",
        "26. Go to the project's settings.py file. Scroll to the very bottom and include these variables - \n",
        "```\n",
        "MEDIA_ROOT = os.path.join(BASE_DIR, 'media')\n",
        "MEDIA_URL = '/media/'\n",
        "```\n",
        "* `os.path.join` - OS stands for operating system. This ensures this will work with any operating system like Mac or Windows. The following methods join the paths so it becomes `<BASE_DIR>/media/`\n",
        "* Media root is going to be the full path to a directory where we want Django to store uploaded media files. So media files will be placed in BASE_DIR (the base directory of the project) and inside a media folder. \n",
        "* Media url is the public url of the media root accessible on the browser. \n",
        "27. Since we made changes to our profile settings, these won't be applied to the users that we created before. So go to the admin page in the browser, delete the selected profiles.\n",
        "28. Once they are deleted, create the same profiles for the users. These now should have the updated profile settings. Create a profile for Tomas with an uploaded image. Create a profile for Jonathan and do not select an image.\n",
        "29. You should see a media folder in our file structure. Thanks to the media root variable.\n"
      ]
    },
    {
      "cell_type": "markdown",
      "metadata": {
        "id": "jotl9ogePSKn"
      },
      "source": [
        "## DIY:\n",
        "---"
      ]
    },
    {
      "cell_type": "markdown",
      "metadata": {
        "id": "xMh5nl7cm_zF"
      },
      "source": [
        "1. Explain MEDIA_ROOT.\n",
        "1. Explain MEDIA_URL.\n",
        "3. What does this do - `os.path.join(BASE_DIR, 'media')`?"
      ]
    },
    {
      "cell_type": "markdown",
      "metadata": {
        "id": "HYwMLWFzv81a"
      },
      "source": [
        "# Concept 4: Profile Page\n",
        "---\n"
      ]
    },
    {
      "cell_type": "markdown",
      "metadata": {
        "id": "zVPc2l1Zv81c"
      },
      "source": [
        "## Objective\n",
        "As of now, we just have the profile name for a given user. Let's change this so we can add more styling as well as including their email and image.\n",
        "## Profile Page\n",
        "30. Go to the `profile.html` in `users/templates/users`. Delete the h1 tag because we will replace these with a proper heading and add in the email and image.\n",
        "31. Let's create a content section for this profile - \n",
        "```\n",
        "<div class=\"content-section\">\n",
        "</div>\n",
        "```\n",
        "* This division just sets up the section available for content.\n",
        "32. Within the content section div, create another div with a media class - \n",
        "```\n",
        "<div class=\"media\">\n",
        "</div>\n",
        "```\n",
        "* The media object helps build complex and repetitive components where some media is positioned alongside content that doesn’t wrap around said media.\n",
        "33. Now let's place the image in this div. Type this out -\n",
        "```\n",
        "<img class=\"rounded-circle account-img\" src=\"{{ user.profile.image.url }}\">\n",
        "```\n",
        "* The src attribute specifies the location (URL) of the external resource.\n",
        "\n",
        "34. Provide a div with a class of media body that contains the username and the email. Type this out - \n",
        "```\n",
        "<div class=\"media-body\">\n",
        "        <h2 class=\"account-heading\">{{ user.username }}</h2>\n",
        "        <p class=\"text-secondary\">{{ user.email }}</p>\n",
        "</div>\n",
        "```\n",
        "* The media body class sets up the div to contain different types of media\n",
        "* The following displays the username and email\n",
        "35. Overall the code should look like this:"
      ]
    },
    {
      "cell_type": "code",
      "metadata": {
        "id": "MbPHTZs8Jfhy"
      },
      "source": [
        "{% extends \"blog/base.html\" %}\n",
        "{% load crispy_forms_tags %}\n",
        "{% block content %}\n",
        "    <div class=\"content-section\">\n",
        "      <div class=\"media\">\n",
        "        <img class=\"rounded-circle account-img\" src=\"{{ user.profile.image.url }}\">\n",
        "        <div class=\"media-body\">\n",
        "          <h2 class=\"account-heading\">{{ user.username }}</h2>\n",
        "          <p class=\"text-secondary\">{{ user.email }}</p>\n",
        "        </div>\n",
        "      </div>\n",
        "      <!-- FORM HERE -->\n",
        "    </div>\n",
        "{% endblock content %}"
      ],
      "execution_count": null,
      "outputs": []
    },
    {
      "cell_type": "markdown",
      "metadata": {
        "id": "-IF9E3oDKImI"
      },
      "source": [
        "## Managing Static Files\n",
        "We still need to add the media routes to our URL patterns. Let's read about this in the [Django documentation](https://docs.djangoproject.com/en/2.1/howto/static-files/#serving-files-uploaded-by-a-user-during-development).\n",
        "36. Since we are only in development, we can copy the code to the `urls.py` file.\n",
        "\n",
        "```\n",
        "from django.conf import settings\n",
        "from django.conf.urls.static import static\n",
        "\n",
        "urlpatterns = [\n",
        "    # ... the rest of your URLconf goes here ...\n",
        "] + static(settings.MEDIA_URL, document_root=settings.MEDIA_ROOT)\n",
        "```\n",
        "37. Go to the project's urls.py file and paste the above code onto the page. We will edit this code in a bit.\n",
        "38. Move the imports to the top.\n",
        "39. Now before we make our edits, we need to check if we are in DEBUG mode so we can separate the logic when it comes to deployment or publishing our site to the server.\n",
        "40. So in our urls.py file below urlpatterns include this if statement. Type this out - \n",
        "```\n",
        "if settings.DEBUG:\n",
        "    urlpatterns += static(settings.MEDIA_URL, document_root=settings.MEDIA_ROOT)\n",
        "```\n",
        "* You see how it's similar to the code we copied from the Django documentation? This just serves as an extra precaution to separate development code from deployment code to reduce any upcoming errors. This also makes it easier to read our code.\n",
        "41. Let's open up the browser and go to our profile page for the current user. You should see the user's username, email, and a profile picture.\n",
        "\n",
        "## Default Image\n",
        "42. Create a default image for those users who did not select an image.\n",
        "43. Download this [image](https://raw.githubusercontent.com/CoreyMSchafer/code_snippets/master/Django_Blog/08-Profile-And-Images/django_project/media/default.jpg) and paste this in the media folder. This should solve the problem."
      ]
    },
    {
      "cell_type": "markdown",
      "metadata": {
        "id": "FKqd09gLv81i"
      },
      "source": [
        "## DIY:\n",
        "---"
      ]
    },
    {
      "cell_type": "markdown",
      "metadata": {
        "id": "WlykKhloo4sd"
      },
      "source": [
        "1. What does `src` do?\n",
        "2. In your own words, describe this command - `static(settings.MEDIA_URL, document_root=settings.MEDIA_ROOT)`"
      ]
    },
    {
      "cell_type": "markdown",
      "metadata": {
        "id": "Q7uCzxxmGzqP"
      },
      "source": [
        "# Summary:\n",
        "---\n"
      ]
    },
    {
      "cell_type": "markdown",
      "metadata": {
        "id": "cCuonwBfo2_E"
      },
      "source": [
        "1. What is a one-to-one relationship?\n",
        "2. What is Pillow?\n",
        "3. What command do you use to open the Django shell?\n",
        "4. What is a Django shell?\n",
        "5. What does this do - os.path.join(BASE_DIR, 'media')?"
      ]
    },
    {
      "cell_type": "markdown",
      "metadata": {
        "id": "4AmHQnAO6UP9"
      },
      "source": [
        "# Homework:\n",
        "---\n",
        "\n"
      ]
    },
    {
      "cell_type": "markdown",
      "metadata": {
        "id": "4HWwIuZpL3Qt"
      },
      "source": [
        "## Objective\n",
        "Organize/ structure code & User Input\n",
        "\n",
        "1. If you're finished with blackjack, now combine the war game and blackjack. Let the user decide which game to play. This should be straightforward. Encapsulate your two games into different functions and then create if statements to decide what game the user wants to play."
      ]
    },
    {
      "cell_type": "markdown",
      "metadata": {
        "id": "sGIYpA2949ZK"
      },
      "source": [
        "# Notes on homework:\n",
        "---"
      ]
    },
    {
      "cell_type": "markdown",
      "metadata": {
        "id": "1W21sec6G3Rq"
      },
      "source": [
        "I will check in on Thursday,  through email to check on your progress. Respond with any questions you might have. Otherwise, a simple “all good” is appropriate if you have no questions or comments. \n",
        "\n",
        "You will need to upload your coding homework assignments to GitHub.\n",
        "1. In gitbash, change directories to the homework directory: tomas_python/homework\n",
        "* TIP: use ‘cd’ to change directories\n",
        "* Use ‘cd ..’ to return to the previous directory\n",
        "* Use ‘pwd’ to show full pathname of the current working directory \n",
        "* Use ‘ls’ to list all your directories\n",
        "2. Once you’re in that directory, type in ‘git pull’\n",
        "* This ensures you have all updated files\n",
        "* If there is an error involved, email me immediately so we can try resolving it.\n",
        "* Otherwise, type your code below and we’ll resolve issues next class\n",
        "3. To create a new file, type in ‘touch hw01.py’ or the appropriate file name\n",
        "* ‘Touch’ creates a new file\n",
        "4. Open up the python file and start coding!\n",
        "\n",
        "Note: Become familiar with these actions. This is essentially what happens in the backend when you right-click and create a new folder/file!\n"
      ]
    }
  ]
}