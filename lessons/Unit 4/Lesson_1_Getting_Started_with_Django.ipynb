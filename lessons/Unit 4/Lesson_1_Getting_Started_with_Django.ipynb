{
  "nbformat": 4,
  "nbformat_minor": 0,
  "metadata": {
    "colab": {
      "name": "Lesson 1: Getting Started with Django",
      "provenance": [],
      "collapsed_sections": [
        "-0LERiEaWC_y",
        "kqd5_uInWDzQ",
        "sGIYpA2949ZK"
      ]
    },
    "kernelspec": {
      "display_name": "Python 3",
      "name": "python3"
    }
  },
  "cells": [
    {
      "cell_type": "markdown",
      "metadata": {
        "id": "Uq6oR46pHrLH"
      },
      "source": [
        "\n",
        "# Lesson 1: Getting Started with Django\n",
        "---\n",
        "Intro: Today we will learn about Django and the MVC/MVT Pattern."
      ]
    },
    {
      "cell_type": "markdown",
      "metadata": {
        "id": "glCedjN-Gd6s"
      },
      "source": [
        "# Concept 1: Django\n",
        "---\n"
      ]
    },
    {
      "cell_type": "markdown",
      "metadata": {
        "id": "25oLA8_cHOH7"
      },
      "source": [
        "## What is it?\n",
        "\n",
        "Django is a free and open-source Python web application framework. Frameworks are software that is developed and used by developers to build applications. They make life easier for developers by allowing them to take control of the entire software development process, or most of it, from a single platform. \n",
        "\n",
        "Here is the official website of [Django](https://www.djangoproject.com/), if you need it for reference.\n",
        "\n",
        "The code is entirely in python but can render (portray) HTML code."
      ]
    },
    {
      "cell_type": "markdown",
      "metadata": {
        "id": "1ZBpqEKtG_oj"
      },
      "source": [
        "## Examples:\n",
        "---"
      ]
    },
    {
      "cell_type": "markdown",
      "metadata": {
        "id": "kiVvBBdvEVad"
      },
      "source": [
        "These companies use Django:\n",
        "* Instagram\n",
        "* Spotify\n",
        "* Udemy\n",
        "* Pinterest\n",
        "* Dropbox\n",
        "\n"
      ]
    },
    {
      "cell_type": "markdown",
      "metadata": {
        "id": "lKe-QKCKHDHF"
      },
      "source": [
        "## DIY:\n",
        "---"
      ]
    },
    {
      "cell_type": "markdown",
      "metadata": {
        "id": "-RxkxldTGXLt"
      },
      "source": [
        "1. What is a framework?\n",
        "2. In your own words, what is Django?"
      ]
    },
    {
      "cell_type": "markdown",
      "metadata": {
        "id": "zDsY8OAxWCjZ"
      },
      "source": [
        "# Concept 2: Installation / Walkthrough\n",
        "---\n"
      ]
    },
    {
      "cell_type": "markdown",
      "metadata": {
        "id": "O9FuZiASWCjb"
      },
      "source": [
        "The following will have the command followed by the command's description and other useful information.\n",
        "\n",
        "1. `pip install django`: Installs Django, open Git Bash and type this\n",
        "2. `python -m django --version` or `py -m django --version`: Ensures that you have the most updated version \n",
        "3. Navigate to the tomas_python directory. \n",
        "4. `django-admin`: View all the commands available to us. We will be using startproject and runserver for now.\n",
        "5. `django-admin startproject tomas_project`: This creates the project folder containing all the files necessary for a Django web application.\n",
        "\n",
        "## Walkthrough\n",
        "\n",
        "6. Now open the project in Atom or another text editor. Open each folder to view the contents.\n",
        "7. We first have the project folder: `tomas_project/` and `manage.py`: runs command line commands. We won't be making any changes in here. Open `manage.py` and try to see what is going on.\n",
        "8. Now open the `tomas_project/` folder. You should see 4 files. Open each one.\n",
        "* `__init__.py`: For now it is empty, this just tells Python it is a Python package.\n",
        "* `settings.py`: Here are the configuration settings for the project. Take a look at the SECRET_KEY. This adds security enhancements to Django. What data structures are being used?\n",
        "* `urls.py`: Sets the mapping / path for certain urls. The admin path is currently set up. The 'admin/' path goes to `admin.site.urls`. For example: google.com/images - the path is images.\n",
        "* `wsgi.py`: Pronounced (wizz-ghee) or W-S-G-I. This file is how our Python application and server communicate. We won't be touching it.\n",
        "\n"
      ]
    },
    {
      "cell_type": "markdown",
      "metadata": {
        "id": "pIPwbfYGWCjg"
      },
      "source": [
        "## DIY:\n",
        "---"
      ]
    },
    {
      "cell_type": "markdown",
      "metadata": {
        "id": "ieLnNIIpC5nk"
      },
      "source": [
        "1. What is the purpose of the `urls.py` file?\n",
        "1. What is the purpose of the `__init__.py` file?"
      ]
    },
    {
      "cell_type": "markdown",
      "metadata": {
        "id": "-0LERiEaWC_y"
      },
      "source": [
        "# Concept 3: Viewing the website on a local server\n",
        "---\n"
      ]
    },
    {
      "cell_type": "markdown",
      "metadata": {
        "id": "DXRr-tWHWC_0"
      },
      "source": [
        "## What is a local server?\n",
        "\n",
        "A local server is, as you might have guessed, hosted locally on your own computer while a remote server is hosted elsewhere. We need to keep a local server running to access our website.\n",
        "\n",
        "9. `py manage.py runserver` or `python manage.py runserver`: Return to the terminal or Git Bash and type in the command. Make sure to be in the same directory as the manage.py file. You can check by typing `pwd`. We will be using this command a lot.\n",
        "* Ignore the migration warnings.\n",
        "* At the bottom, it says our website is running at `http://127.0.0.1:8000/` - our local server/host. Since this is a running server, we need to keep this open at all times when viewing our website. Any edits to our code will be updated in real time as long as the server is running in the background.\n",
        "10. In your web browser, copy and paste `http://127.0.0.1:8000/` to view our site. \n",
        "11. What should open is Django's default website. We will modify this website throughout the course. Take a minute or so to view the website. Check it out using the inspector!\n",
        "12. Remember the admin path? Add in the path as such `http://127.0.0.1:8000/admin`. What do you see?\n",
        "13. Return to `urls.py`. admin.site.urls allows the admin page to appear on the screen. We would need more credentials to edit it but the admin path is one example of using paths in Django.\n",
        "14. `Control + C`: To quit the server, press control + c."
      ]
    },
    {
      "cell_type": "markdown",
      "metadata": {
        "id": "V9eeItRLWC_4"
      },
      "source": [
        "## DIY:\n",
        "---"
      ]
    },
    {
      "cell_type": "markdown",
      "metadata": {
        "id": "1rvsxvi_LvZU"
      },
      "source": [
        "1. What is a local server?\n",
        "2. Why is it important to keep a server running?"
      ]
    },
    {
      "cell_type": "markdown",
      "metadata": {
        "id": "Fbe4RX1IWDzM"
      },
      "source": [
        "# Concept 4: Model-View-Controller Pattern\n",
        "---\n"
      ]
    },
    {
      "cell_type": "markdown",
      "metadata": {
        "id": "dnXbLAlIWDzM"
      },
      "source": [
        "## What is a pattern?\n",
        "\n",
        "First off, a pattern is a general reusable solution to a commonly occurring problem in software design. It allows developers to organize and follow a structure so they do not have to recreate it from scratch. Coders may tweak these structures to accomodate their code.\n",
        "\n",
        "The **MVC pattern** splits code into one of three MVC components which separates application functionality.\n",
        "\n",
        "* **Model:** This level is very important as it ***represents the data*** to the user. For example, user accounts, products you sell, a set of photos, etc. The model component has no knowledge of the interface. \n",
        "\n",
        "* **View:** contains everything that is ***visible on the screen*** and offers interaction to the user.\n",
        "\n",
        "* **Controller:** This is the \"glue\" between the view and the model, which also manages the application logic. The controller reacts to the user's input and presents the data requested by the user. It retrieves ***data from the model***. \n",
        "\n",
        "Click [here](https://images.app.goo.gl/vq8Lv3VLT5U2zxHCA) for a diagram of MVC.\n",
        "\n",
        "Generally, most applications follow MVC but many have derivations of it. Django uses MVT or Model-View-Template which we will see in the next concept."
      ]
    },
    {
      "cell_type": "markdown",
      "metadata": {
        "id": "Oz4vE7zrWDzN"
      },
      "source": [
        "## Example:\n",
        "---"
      ]
    },
    {
      "cell_type": "markdown",
      "metadata": {
        "id": "qOMxnRL_hmeh"
      },
      "source": [
        "1. A user likes a picture on Facebook.\n",
        "* View: On the screen we can see a like button for a picture.\n",
        "\n",
        "`[Like Button]`\n",
        "* Controller: The data updates the post to have a +1 like count on the picture but also would need to tell the Model to update a database containing the likes for that post.\n",
        "\n",
        "`36 Likes`\n",
        "* Model: Since a database contains only data, your like would be added to the database. Again, the model has no knowledge of the user's screen.\n",
        "\n",
        "`Sandra | thumbs down | Jonathan | picture | 08-29-2020`\n",
        "\n",
        "`Tomas | like | Jonathan | picture | 08-30-2020`"
      ]
    },
    {
      "cell_type": "markdown",
      "metadata": {
        "id": "kqd5_uInWDzQ"
      },
      "source": [
        "## DIY:\n",
        "---"
      ]
    },
    {
      "cell_type": "markdown",
      "metadata": {
        "id": "0X8RpCc1kCRo"
      },
      "source": [
        "1. Name another example of the MVC pattern in action."
      ]
    },
    {
      "cell_type": "code",
      "metadata": {
        "id": "O_2ZRYA6WDzQ"
      },
      "source": [
        "1. Example:\n",
        "2. Model:\n",
        "3. View: \n",
        "4: Controller:"
      ],
      "execution_count": null,
      "outputs": []
    },
    {
      "cell_type": "markdown",
      "metadata": {
        "id": "qQetes2Z3J47"
      },
      "source": [
        "# Concept 5: Django's Model-View-Template\n",
        "---\n"
      ]
    },
    {
      "cell_type": "markdown",
      "metadata": {
        "id": "lLLQbImy3J49"
      },
      "source": [
        "## What is it?\n",
        "\n",
        "The Model-View-Template (MVT) is slightly different from MVC. In fact the main difference between the two patterns is that Django itself takes care of the Controller part (Software Code that controls the interactions between the Model and View), leaving us with the template. The template is a HTML file mixed with Django Template Language (DTL).\n",
        "\n",
        "The developer provides the Model, the view and the template then just maps it to a URL and Django does the magic to serve it to the user.\n",
        "\n",
        "Click [here](https://images.app.goo.gl/mrGgq1aPeXKDMxwh9) for Django's MVT Pattern.\n",
        "\n",
        "1. Recall that Django is a framework. It makes developers' lives easier to create web applications. In the picture, Django is the middleperson that takes Python code and turns it into html/css code.\n",
        "2. From `urls.py` : Imagine we have this path `www.market.com/store`\n",
        "3. This sends a request to `views.py` (Django's controller)\n",
        "4. Now the view determines whether data needs to be sorted in a database/server/ any other backend service OR can be viewed in the template.\n",
        "5. If the data needs to interact with a database, it would go through Django's `models.py` file.\n",
        "6. If the data needs to be displayed to the user, it would go to a template containing all the HTML code mixed with DTL (Django Template Language)."
      ]
    },
    {
      "cell_type": "markdown",
      "metadata": {
        "id": "PBzGyw8F3J4-"
      },
      "source": [
        "## Example:\n",
        "---"
      ]
    },
    {
      "cell_type": "markdown",
      "metadata": {
        "id": "NYQK92zAQqk9"
      },
      "source": [
        "1. Setting `localhost:8000/admin` in `urls.py`\n",
        "2. The code goes through `views.py` to determine where it shall go next, either to a data storage or templates.\n",
        "3. Since there is no database, it goes to a template and displays the admin HTML code on the browser.\n"
      ]
    },
    {
      "cell_type": "markdown",
      "metadata": {
        "id": "XqCBq8ap3J5D"
      },
      "source": [
        "## DIY:\n",
        "---"
      ]
    },
    {
      "cell_type": "markdown",
      "metadata": {
        "id": "qi5kpf0_VCKj"
      },
      "source": [
        "1. What are the similarities and differences of MVC and MVT?\n",
        "2. What does DTL stand for?"
      ]
    },
    {
      "cell_type": "markdown",
      "metadata": {
        "id": "Q7uCzxxmGzqP"
      },
      "source": [
        "# Summary:\n",
        "---\n"
      ]
    },
    {
      "cell_type": "markdown",
      "metadata": {
        "id": "et9Pir08V16d"
      },
      "source": [
        "1. What is Django?\n",
        "2. Do we need to keep a server running? Why or why not?\n",
        "3. What is the command to begin a Django project?"
      ]
    },
    {
      "cell_type": "markdown",
      "metadata": {
        "id": "4AmHQnAO6UP9"
      },
      "source": [
        "# Homework:\n",
        "---\n",
        "\n"
      ]
    },
    {
      "cell_type": "markdown",
      "metadata": {
        "id": "4HWwIuZpL3Qt"
      },
      "source": [
        "1. The Distance Formula (Distance = Rate * Time)\n",
        "\n",
        "* Create a function called distance that calculates the distance traveled. Have 2 parameters called rate and time.\n",
        "\n",
        "* Create a function called rate that calculates the speed of an object moving. Have 2 parameters called distance and time.\n",
        "\n",
        "* Create a function called time that calculates how long it would take for an object to move a certain distance. Have 2 parameters called distance and rate.\n",
        "\n",
        "Use these examples:\n",
        "\n",
        "1. If you are traveling at 60 miles/hour and it takes you 270 minutes to reach your destination, how many miles did you travel? (Remember to convert minutes to hours)\n",
        "2. If a space shuttle travels 1,312,524 miles in 2 minutes in space, how fast is the space shuttle traveling?\n",
        "3. If the distance between Los Angeles and San Francisco is 380 miles and you drive at 75 miles per hour, how long is the drive? (Assuming you don't take any breaks) "
      ]
    },
    {
      "cell_type": "markdown",
      "metadata": {
        "id": "sGIYpA2949ZK"
      },
      "source": [
        "# Notes on homework:\n",
        "---"
      ]
    },
    {
      "cell_type": "markdown",
      "metadata": {
        "id": "1W21sec6G3Rq"
      },
      "source": [
        "I will check in on Thursday,  through email to check on your progress. Respond with any questions you might have. Otherwise, a simple “all good” is appropriate if you have no questions or comments. \n",
        "\n",
        "You will need to upload your coding homework assignments to GitHub.\n",
        "1. In gitbash, change directories to the homework directory: tomas_python/homework\n",
        "* TIP: use ‘cd’ to change directories\n",
        "* Use ‘cd ..’ to return to the previous directory\n",
        "* Use ‘pwd’ to show full pathname of the current working directory \n",
        "* Use ‘ls’ to list all your directories\n",
        "2. Once you’re in that directory, type in ‘git pull’\n",
        "* This ensures you have all updated files\n",
        "* If there is an error involved, email me immediately so we can try resolving it.\n",
        "* Otherwise, type your code below and we’ll resolve issues next class\n",
        "3. To create a new file, type in ‘touch hw01.py’ or the appropriate file name\n",
        "* ‘Touch’ creates a new file\n",
        "4. Open up the python file and start coding!\n",
        "\n",
        "Note: Become familiar with these actions. This is essentially what happens in the backend when you right-click and create a new folder/file!\n"
      ]
    }
  ]
}