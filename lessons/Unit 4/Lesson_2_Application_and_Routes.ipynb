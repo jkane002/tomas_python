{
  "nbformat": 4,
  "nbformat_minor": 0,
  "metadata": {
    "colab": {
      "name": "Lesson 2: Application and Routes",
      "provenance": [],
      "collapsed_sections": [
        "QanMmuiXOoLE",
        "glCedjN-Gd6s",
        "AImvPo9zYS41",
        "fzdDsdwHYTxb",
        "Q7uCzxxmGzqP",
        "sGIYpA2949ZK"
      ]
    },
    "kernelspec": {
      "display_name": "Python 3",
      "name": "python3"
    }
  },
  "cells": [
    {
      "cell_type": "markdown",
      "metadata": {
        "id": "Uq6oR46pHrLH"
      },
      "source": [
        "# Lesson 2: Application and Routes \n",
        "---\n",
        "Intro: We will set up URL routes directing people to our pages. There is a lot of information so feel free to pause, reread, and ask for clarifying information."
      ]
    },
    {
      "cell_type": "markdown",
      "metadata": {
        "id": "QanMmuiXOoLE"
      },
      "source": [
        "# Review\n",
        "---"
      ]
    },
    {
      "cell_type": "markdown",
      "metadata": {
        "id": "B4znJroiGyau"
      },
      "source": [
        "1. Explain the Model-View-Template pattern.\n",
        "2. How is it different from the Model-View-Controller pattern?\n",
        "3. What is an URL?"
      ]
    },
    {
      "cell_type": "markdown",
      "metadata": {
        "id": "glCedjN-Gd6s"
      },
      "source": [
        "# Concept 1: Applications (Apps)\n",
        "---\n"
      ]
    },
    {
      "cell_type": "markdown",
      "metadata": {
        "id": "25oLA8_cHOH7"
      },
      "source": [
        "## What are they?\n",
        "\n",
        "We will begin creating a blog app for our Django web application. There might be some confusion with this part. We have a **website project** that we created and within that website we can have multiple apps that are unique. A Django application is a Python package that is specifically intended for use in a Django project\n",
        "\n",
        "For example:\n",
        "> Within our project we can have:\n",
        "* A blog section which is its own app\n",
        "* A store section and it will be its own app\n",
        "\n",
        "Purpose:\n",
        "* Separating different parts of our project\n",
        "* Reuse apps for different parts of a website\n",
        "\n",
        "Example:\n",
        "* About app for the store\n",
        "* About app for the user\n"
      ]
    },
    {
      "cell_type": "markdown",
      "metadata": {
        "id": "1ZBpqEKtG_oj"
      },
      "source": [
        "## Example:\n",
        "---"
      ]
    },
    {
      "cell_type": "markdown",
      "metadata": {
        "id": "l8EAgtfhSqAj"
      },
      "source": [
        "Sports website\n",
        "* Team app - a template for each unique team\n",
        "* Player app - a template for each unique player\n",
        "* Sport app - a template for each unique sport"
      ]
    },
    {
      "cell_type": "markdown",
      "metadata": {
        "id": "lKe-QKCKHDHF"
      },
      "source": [
        "## DIY:\n",
        "---"
      ]
    },
    {
      "cell_type": "markdown",
      "metadata": {
        "id": "HBeczyZqUz4K"
      },
      "source": [
        "1. What is a Django application?\n",
        "2. How are apps useful/important when building websites in Django?"
      ]
    },
    {
      "cell_type": "markdown",
      "metadata": {
        "id": "AImvPo9zYS41"
      },
      "source": [
        "# Concept 2: Creating an App\n",
        "---\n",
        "\n",
        "\n"
      ]
    },
    {
      "cell_type": "markdown",
      "metadata": {
        "id": "wwynJPcTYS42"
      },
      "source": [
        "Let's go to Git Bash.\n",
        "\n",
        "1. `cd` into the project directory\n",
        "2. `python manage.py startapp blog`:\n",
        "First, `manage.py` executes commands, `startapp` creates an application for us, and `blog` is the name of our app.\n",
        "3. `ls`: to view our project structure\n",
        "4. Now we have this new blog/ directory containing a set of files:\n",
        "* `__init__.py`: Our project is in Python\n",
        "* `admin.py`: Think of an administrator: they control access and in this case, admin controls what can be displayed.\n",
        "* `apps.py`: App settings\n",
        "* `migrations/`: Any changes from migrating files are shown here\n",
        "* `models.py`: Specifies different fields of a class or collection. Think of text input fields.\n",
        "* `tests.py`: Provide test cases. You can test whether or not a user enters the correct password, an incorrect one, or leaves it blank.\n",
        "* `views.py`: A view module shown on the screen"
      ]
    },
    {
      "cell_type": "markdown",
      "metadata": {
        "id": "VimEtvJWYS47"
      },
      "source": [
        "## DIY:\n",
        "---"
      ]
    },
    {
      "cell_type": "markdown",
      "metadata": {
        "id": "459qoDOoYZ87"
      },
      "source": [
        "1. What is the command to start a Django app?"
      ]
    },
    {
      "cell_type": "markdown",
      "metadata": {
        "id": "UdDFxkFvYTU2"
      },
      "source": [
        "# Concept 3: Routes (Blog Home)\n",
        "---\n"
      ]
    },
    {
      "cell_type": "markdown",
      "metadata": {
        "id": "R1-1oC9GYTU4"
      },
      "source": [
        "## What are routes?\n",
        "To put simply, routes determine what should happen when a user visits a certain page.\n",
        "\n",
        "For more information about Django's methods, visit the official [Django documentation](https://docs.djangoproject.com/en/3.1/). Use the search text field to search the methods.\n",
        "\n",
        "5. Now go to Atom and open the `views.py` file.\n",
        "6. You will see:\n",
        "`from django.shortcuts import render`\n",
        "* The render keyword returns an HttpResponse object with that rendered text. \n",
        "\n",
        " > An HttpResponse is made by a server to a client. It tells you the status of the website. Have you seen a 404 error before? It means a page isn't found.\n",
        "7. Below the first line add in:\n",
        "`from django.http import HttpResponse`\n",
        "* This HttpResponse object contains metadata about the request. It details the status of an HTTP site.\n",
        "8. ```\n",
        "def home(request):\n",
        "      return HttpResponse('<h1>Blog Home </h1>')\n",
        "``` \n",
        "Let's create a new function that handles the blog home page. The function will take in a request argument. We won't use it yet, but we need to add it to get the function working. Within the function, we are going to return what the user sees when they are sent to this route.\n",
        "\n",
        "9. Let's break this down:\n",
        "* `def home(request)`: This is a view module that takes a request argument. We will use the request variable in the future. Just note, we need it there to make the function work.\n",
        "* `return HttpResponse(...)`: This returns an HttpResponse that says we landed on the blog home page.\n",
        "10. Next we need to map our URL pattern to this view function.\n",
        "11. Let's create a new file called `urls.py` in the app directory. This will be similar to the urls file we saw earlier.\n",
        "12. Put the following code inside the new `urls.py` file:\n",
        "\n",
        "```\n",
        "from django.urls import path\n",
        "\n",
        "urlpatterns = [\n",
        "  path('admin/', admin.site.urls),\n",
        "]\n",
        "``` \n",
        "\n",
        "Notice it is the same as the `urls.py` in the main directory.\n",
        "* `from django.urls import path`: The keyword `path` is used for routing URLs to the appropriate view functions within a Django application\n",
        "* `urlpatterns`: a list containing the paths of the URL to the view function.\n",
        "13. Next we need to import views from the current directory. We do this using:\n",
        "`from . import views`\n",
        "14. Let's edit the path method in the urlpatterns list. Right now, it will go to the admin page. Edit it so it looks like this: \n",
        "\n",
        "```\n",
        "urlpatterns = [\n",
        "  path('', views.home, name='blog-home'),\n",
        "]\n",
        "```\n",
        "* `''`: This becomes an empty path. Essentially this is the home page route. Similar to google.com is the home page, there is no extending path like google.com/images.\n",
        "* `views.home`: We are importing views and using the home function. This will be the home view from our views module.\n",
        "* `name='blog-home'`: This is the name of our created path. \n",
        "15. Now we have the url path for our blog home page mapped to our home function in the views file. This doesn't work yet because we need to modify the `urls.py` file in our main project directory.\n",
        "16. Open the project's `urls.py`\n",
        "17. Now we are going to tell Django to map the route to our blog home page.\n",
        "18. `from django.urls import path, include`: Edit the 2nd line. The keyword include will include the given function to finally map the route to our URL.\n",
        "19. `path('blog/', include('blog.urls')),`: Enter this inside the urlpatterns list. The include function maps `blog.urls` to the path `blog/`.\n",
        "20. Now let's test it out! `python manage.py runserver` Another way to view the page is going to `localhost:8000`\n",
        "21. We should get a 404 error because we don't have URL patterns at this moment. This will come later in the course. Django first tries to find a path called `/`. Since it didn't find that, it goes on to check other patterns with `/`. First it checks `admin/` then `blog/` but they don't match with `/`. The result is a 404 error.\n",
        "22. Now go to `localhost:8000/blog`. This should output the text of Blog Home. Check this out in the inspector.\n",
        "\n",
        "## Breakdown\n",
        "\n",
        "How does Django find the `localhost:8000/blog` URL path? It's best to track the process by viewing it in Atom.\n",
        "* 1: Goes to the project's `urls.py` file and tries to match the path with a string in the urlpatterns list.\n",
        "* 2: If there is no match, a 404 is prompted\n",
        "* 3: If there is a match, send the user to the url route (i.e `blog.urls` in `path('blog/, include('blog.urls'))`)\n",
        "* > Whenever Django encounters the `include()` it chops off whatever part of the URL has matched up to that point. It sends the remaining string for further processing. \n",
        "```\n",
        "path('blog/, include('blog.urls'))\n",
        "```\n",
        "So it chops off `blog/` at the end of the URL. It then sends the remaining URL which is an empty string to `blog.urls`. This is why in `blog.urls`, our path is empty. \n",
        "* 4: Again, Django checks to see if the pattern matches with any listed patterns. (It does! An empty string matches with an empty string) \n",
        "*5: This pattern will be handled through `views.home`. In `views.home`, it returns an HttpResponse with the h1 tag.\n",
        "\n",
        "\n",
        "\n",
        "\n"
      ]
    },
    {
      "cell_type": "markdown",
      "metadata": {
        "id": "KZGC16-KHKPX"
      },
      "source": [
        "Overall the code should look like this:"
      ]
    },
    {
      "cell_type": "code",
      "metadata": {
        "id": "tyQG9VHbHKt4"
      },
      "source": [
        "# views.py - blog app\n",
        "from django.shortcuts import render\n",
        "from django.http import HttpResponse\n",
        "\n",
        "# Create your views here.\n",
        "def home(request):\n",
        "    return HttpResponse('<h1>Blog Home </h1>')"
      ],
      "execution_count": null,
      "outputs": []
    },
    {
      "cell_type": "code",
      "metadata": {
        "id": "UnXVe-rdHLH7"
      },
      "source": [
        "# urls.py - blog app\n",
        "from django.urls import path\n",
        "from . import views\n",
        "\n",
        "urlpatterns = [\n",
        "    path('', views.home, name='blog-home'),\n",
        "]"
      ],
      "execution_count": null,
      "outputs": []
    },
    {
      "cell_type": "code",
      "metadata": {
        "id": "2N_IzowDHP6i"
      },
      "source": [
        "# urls.py - Main Directory\n",
        "from django.contrib import admin\n",
        "from django.urls import path, include\n",
        "\n",
        "urlpatterns = [\n",
        "    path('admin/', admin.site.urls),\n",
        "    path('blog/', include('blog.urls')),\n",
        "]"
      ],
      "execution_count": null,
      "outputs": []
    },
    {
      "cell_type": "markdown",
      "metadata": {
        "id": "1Y0saev-YTU7"
      },
      "source": [
        "## DIY:\n",
        "---"
      ]
    },
    {
      "cell_type": "markdown",
      "metadata": {
        "id": "38MuAfyykqEC"
      },
      "source": [
        "1. What are routes?\n",
        "2. Take your time and try explaining how Django connects URL paths to their routes."
      ]
    },
    {
      "cell_type": "markdown",
      "metadata": {
        "id": "fzdDsdwHYTxb"
      },
      "source": [
        "# Concept 4: Routes (Blog About)\n",
        "---\n"
      ]
    },
    {
      "cell_type": "markdown",
      "metadata": {
        "id": "bvkRPuk3YTxb"
      },
      "source": [
        "## What is it?\n",
        "\n",
        "We will create another route for the Blog About page and revisit the steps again. This time we want the user to visit `localhost:8000/blog/about/`\n",
        "\n",
        "23. Go to `views.py`, below the home function create a function called about that takes in a request and returns an HttpResponse with an h1 tag. Very similar to the home function. \n",
        "```\n",
        "def about(request):\n",
        "        return HttpResponse('<h1>Blog About</h1>')\n",
        "```\n",
        "24. So now we have an \"About\" view. Within our blog urls module, we want to set up the mapping for the path in the path function.\n",
        "25. Open `urls.py - blog`. Copy the path for our home route and paste it in. Change the 1st parameter to `'about/'`. Change the 2nd parameter to `views.about`. Change the 3rd parameter to `name='blog-about'`. Like this `path('about/', views.about,name='blog-about')`\n",
        "\n",
        "> Let's take a look at the URL again: `localhost:8000/blog/about`. Do we need to add anything to our projects urls module? No, because it goes to the blog route then it will go to the about route. The \"home\" page does not know anything about the about route.\n",
        "\n",
        "26. Open your browser and try out the about route.\n",
        "27. If we want `localhost:8000` to be the home page, simply go to `urls.py - project` and inside the urlpatterns, replace `blog/` with `''`. When we run it, Django will match the empty path and return the blog's home page.\n"
      ]
    },
    {
      "cell_type": "markdown",
      "metadata": {
        "id": "qhPBZqAoYTxe"
      },
      "source": [
        "## DIY:\n",
        "---"
      ]
    },
    {
      "cell_type": "markdown",
      "metadata": {
        "id": "6zWSqB7fwl4z"
      },
      "source": [
        "1. Let's say we need another page under this path : `localhost:8000/blog/tomas`, what changes would we make?"
      ]
    },
    {
      "cell_type": "markdown",
      "metadata": {
        "id": "Q7uCzxxmGzqP"
      },
      "source": [
        "# Summary:\n",
        "---\n"
      ]
    },
    {
      "cell_type": "markdown",
      "metadata": {
        "id": "Bzzn9luoYQMU"
      },
      "source": [
        "1. What is a Django application?\n",
        "2. The steps for Django routes:\n",
        "> 1. Goes to the project's `urls.py`\n",
        "> 2. Tries to match a url pattern\n",
        "> 3. If found, goes to the url route\n",
        "> 4. If not, request a 404 error\n",
        "> 5. Renders the `views.py` page\n",
        "3. [Django documentation](https://docs.djangoproject.com/en/3.1/)\n"
      ]
    },
    {
      "cell_type": "markdown",
      "metadata": {
        "id": "4AmHQnAO6UP9"
      },
      "source": [
        "# Homework:\n",
        "---\n",
        "\n"
      ]
    },
    {
      "cell_type": "markdown",
      "metadata": {
        "id": "4HWwIuZpL3Qt"
      },
      "source": [
        "A real life physics problem. You can throw a rock to the height of a tree and count how long it takes to hit the ground. Plug in this equation `height = 16*t^2` and you can tell the height of the tree.\n",
        "\n",
        "Create a function called height that takes in a number representing time and the name of the object you are measuring. Calculate the height using the equation above.\n",
        "\n",
        "Try it yourself! Measure the height of a table for instance by dropping a penny or any other dense item and see how long it takes to hit the ground using a timer. Try measuring your height with it!\n",
        "\n",
        "Example output:\n"
      ]
    },
    {
      "cell_type": "code",
      "metadata": {
        "id": "BH51tpYV3iuo"
      },
      "source": [
        "The building is 12.5 feet tall."
      ],
      "execution_count": null,
      "outputs": []
    },
    {
      "cell_type": "markdown",
      "metadata": {
        "id": "sGIYpA2949ZK"
      },
      "source": [
        "# Notes on homework:\n",
        "---"
      ]
    },
    {
      "cell_type": "markdown",
      "metadata": {
        "id": "1W21sec6G3Rq"
      },
      "source": [
        "I will check in on Thursday,  through email to check on your progress. Respond with any questions you might have. Otherwise, a simple “all good” is appropriate if you have no questions or comments. \n",
        "\n",
        "You will need to upload your coding homework assignments to GitHub.\n",
        "1. In gitbash, change directories to the homework directory: tomas_python/homework\n",
        "* TIP: use ‘cd’ to change directories\n",
        "* Use ‘cd ..’ to return to the previous directory\n",
        "* Use ‘pwd’ to show full pathname of the current working directory \n",
        "* Use ‘ls’ to list all your directories\n",
        "2. Once you’re in that directory, type in ‘git pull’\n",
        "* This ensures you have all updated files\n",
        "* If there is an error involved, email me immediately so we can try resolving it.\n",
        "* Otherwise, type your code below and we’ll resolve issues next class\n",
        "3. To create a new file, type in ‘touch hw01.py’ or the appropriate file name\n",
        "* ‘Touch’ creates a new file\n",
        "4. Open up the python file and start coding!\n",
        "\n",
        "Note: Become familiar with these actions. This is essentially what happens in the backend when you right-click and create a new folder/file!\n"
      ]
    }
  ]
}