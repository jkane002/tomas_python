{
  "nbformat": 4,
  "nbformat_minor": 0,
  "metadata": {
    "colab": {
      "name": "Lesson 4: Templates Continued",
      "provenance": [],
      "collapsed_sections": [
        "QanMmuiXOoLE",
        "M0Cb7VazmYAD",
        "KSPOPKdsLeol",
        "-ynetmgCLfWo",
        "Q7uCzxxmGzqP",
        "4AmHQnAO6UP9",
        "sGIYpA2949ZK"
      ]
    },
    "kernelspec": {
      "display_name": "Python 3",
      "name": "python3"
    }
  },
  "cells": [
    {
      "cell_type": "markdown",
      "metadata": {
        "id": "Uq6oR46pHrLH"
      },
      "source": [
        "# Lesson 4: Templates and Styling Continued \n",
        "---\n",
        "Intro: We are continuing our lesson on templates."
      ]
    },
    {
      "cell_type": "markdown",
      "metadata": {
        "id": "QanMmuiXOoLE"
      },
      "source": [
        "# Review\n",
        "---"
      ]
    },
    {
      "cell_type": "markdown",
      "metadata": {
        "id": "B4znJroiGyau"
      },
      "source": [
        "1. What is a context dictionary?\n",
        "2. What is a code block?\n",
        "3. How can you tell the difference between regular HTML code and Django's templating engine?\n"
      ]
    },
    {
      "cell_type": "markdown",
      "metadata": {
        "id": "M0Cb7VazmYAD"
      },
      "source": [
        "# Concept 4: Template Inheritance\n",
        "---\n"
      ]
    },
    {
      "cell_type": "markdown",
      "metadata": {
        "id": "i7sYI5agmYAE"
      },
      "source": [
        "## Objective\n",
        "The code in `home.html` and `about.html` are very similar. If we add more similar code to both files, it will be very slow to render. We need some sort of a base document to hold all similar code so it can be rendered once.\n",
        "\n",
        "## What is it?\n",
        "So far our code is contained in a single file. If we need to make edits, we would need to revamp most of our code. We need a separation of code.\n",
        "\n",
        "30. Let's go into the inner blog folder in the templates directory. `blog/templates/blog` and create a file called `base.html`\n",
        "31. In `base.html`, we want to pick out all the repeated sections between our home and about templates.\n",
        "32. Switch back and forth between the home page and the about page. So far the only difference is in the body tag. For now, copy and paste all the code from the about page and paste it into `base.html`.\n",
        "33. Delete the `<h1>...</h1>` in the body section.\n",
        "34. Within the body section, we are going to create a **block**. A block is a section that child templates can override.\n",
        "35. `{% block content %}{% endblock %}`: Add this within the body section. A block is denoted by the block keyword. Content is the name of templates will inherit.\n",
        "36. Go to `home.html`. We want to inherit from the base template. First we delete all the excess code (Everything except the for loop).\n",
        "37. You should just have the for loop in the home page. Now above everything include this code: `{% extends \"blog/base.html\" %}`\n",
        "* The keyword `extends` essentially extends or inherits the code from \"blog/base.html\". \n",
        "38. Recall that the block content is in between the body section. How can we call it? Surrounding the for loop include `{% block content %}` and `{% endblock content %}`. So let's recap:\n",
        "* 1st line: extends...\n",
        "* 2nd line: block content....\n",
        "* 3-7 lines: for loop\n",
        "* 8th line: endblock content\n",
        "\n",
        "39. Let's do the same in the about template. Simply copy and paste the code from the home template to the about template, but don't remove the code from the about page just yet.\n",
        "40. Copy the `h1 tag` in the body section from the original code and paste it into the block content. You are replacing `<h1>Blog About!</h1>` with the for loop.\n",
        "41. Now we can remove the rest of the code and leave the remaining template code in the about page. You should have 4 lines of code like this:\n",
        "\n",
        "```\n",
        "{% extends \"blog/base.html\" %}\n",
        "{% block content %}\n",
        "    <h1>Blog About!</h1>\n",
        "{% endblock content %}\n",
        "```\n",
        "42. Check if it's still working by loading it in the browser."
      ]
    },
    {
      "cell_type": "markdown",
      "metadata": {
        "id": "kTxd-PK9mYAJ"
      },
      "source": [
        "## DIY:\n",
        "---"
      ]
    },
    {
      "cell_type": "markdown",
      "metadata": {
        "id": "8Z1EAcOnW5a-"
      },
      "source": [
        "1. What is inheritance?\n",
        "2. What is template inheritance?\n",
        "3. What does `extends` do?"
      ]
    },
    {
      "cell_type": "markdown",
      "metadata": {
        "id": "KSPOPKdsLeol"
      },
      "source": [
        "# Concept 5: Bootstrap \n",
        "---\n"
      ]
    },
    {
      "cell_type": "markdown",
      "metadata": {
        "id": "Rv8CLOSYLeoo"
      },
      "source": [
        "## Objective\n",
        "Our website is pretty basic. We need styling to make our website look better. We can use CSS to style our website but there is a library called Bootstrap that contains relevant CSS styles in classes. With Bootstrap, we don't need to know every detail about CSS.\n",
        "\n",
        "## What is it?\n",
        "\n",
        "Bootstrap is a library that makes it really easy to have nice styles in our website.\n",
        "\n",
        "43. Open the Bootstrap starter template [here](https://getbootstrap.com/docs/4.0/getting-started/introduction/#starter-template). Let's take a look at it:\n",
        "* The meta tags are required for device configurations.\n",
        "* Bootstrap has its own CSS styles.\n",
        "* Javascript is used for animations or making the website more lively.\n",
        "\n",
        "> Let's think back at template inheritance. Imagine having all the bootstrap code in every file that we have. It would be slow to load all these scripts and styling. Using template inheritance with the base template is very efficient.\n",
        "\n",
        "44. In the bootstrap page, simply copy from `<!-- Required meta tags -->` to `<link rel=\"stylesheet\" ...` and paste it into the head section in `base.html` (Before the if statement).\n",
        "45. Return to the bootstrap page. Copy from `<!-- Optional JavaScript -->` to `<script src=\"https://maxcdn....` and paste it right before the closing body tag. (After the block content)\n",
        "46. Great! We've imported Bootstrap specfic CSS classes so now we can use them. Surround the block content with opening and closing `<div>` tags.\n",
        "47. Inside the opening div create a Bootstrap class called container. This will give our content some padding and spacing. It should look like this: `<div class=\"container\">`\n",
        "48. Open the browser and check the new styling changes.\n",
        "\n",
        "> **Quick recap**: We created a base template which is our parent template. Other templates will inherit from this as this is the main structure of our HTML document. We have a content block that other templates can override it with different data. So far we have one block but down the line we will add more blocks. In our child templates, we inherit from the parent class and specify the content block."
      ]
    },
    {
      "cell_type": "markdown",
      "metadata": {
        "id": "ymT3do0-Leot"
      },
      "source": [
        "## DIY:\n",
        "---"
      ]
    },
    {
      "cell_type": "markdown",
      "metadata": {
        "id": "-vWxZS3kYDs3"
      },
      "source": [
        "1. What is Bootstrap?"
      ]
    },
    {
      "cell_type": "markdown",
      "metadata": {
        "id": "-ynetmgCLfWo"
      },
      "source": [
        "# Concept 6: Extra Components\n",
        "---\n"
      ]
    },
    {
      "cell_type": "markdown",
      "metadata": {
        "id": "Gvoe7C-eLfWo"
      },
      "source": [
        "## Objective\n",
        "We need a navigation bar and extra styling. So it turns out we do need more CSS styles. The extra CSS styles are for static portions of our website. The starter code is given to us by Bootstrap.\n",
        "\n",
        "## What are they?\n",
        "For the rest of this concept, we will be using HTML starter code to help build our website. The starter code was taken from Bootstrap's website. Since this is not predominantly an HTML course, we won't be coding the HTML components from scratch. However, we will break down each HTML tag and explain it. To better understand the HTML starter code, look for matching opening and closing tags.\n",
        "\n",
        "## Navigation Bar\n",
        "\n",
        "49. We will create a navigation bar for our website. Add the following code in the beginning of the body section. This contains bootstrap CSS classes that will make the website look nicer. Here is a bootstrap [cheat sheet](https://hackerthemes.com/bootstrap-cheatsheet/)."
      ]
    },
    {
      "cell_type": "code",
      "metadata": {
        "id": "o1Nt6BNLlsN6"
      },
      "source": [
        "<header class=\"site-header\">\n",
        "  <nav class=\"navbar navbar-expand-md navbar-dark bg-steel fixed-top\">\n",
        "    <div class=\"container\">\n",
        "      <a class=\"navbar-brand mr-4\" href=\"{% url 'blog-home' %}\">Django Blog</a>\n",
        "      <button class=\"navbar-toggler\" type=\"button\" data-toggle=\"collapse\" data-target=\"#navbarToggle\" aria-controls=\"navbarToggle\" aria-expanded=\"false\" aria-label=\"Toggle navigation\">\n",
        "        <span class=\"navbar-toggler-icon\"></span>\n",
        "      </button>\n",
        "      <div class=\"collapse navbar-collapse\" id=\"navbarToggle\">\n",
        "        <div class=\"navbar-nav mr-auto\">\n",
        "          <a class=\"nav-item nav-link\" href=\"{% url 'blog-home' %}\">Home</a>\n",
        "          <a class=\"nav-item nav-link\" href=\"{% url 'blog-about' %}\">About</a>\n",
        "        </div>\n",
        "        <!-- Navbar Right Side -->\n",
        "        <div class=\"navbar-nav\">\n",
        "          <a class=\"nav-item nav-link\" href=\"#\">Login</a>\n",
        "          <a class=\"nav-item nav-link\" href=\"#\">Register</a>\n",
        "        </div>\n",
        "      </div>\n",
        "    </div>\n",
        "  </nav>\n",
        "</header>"
      ],
      "execution_count": null,
      "outputs": []
    },
    {
      "cell_type": "markdown",
      "metadata": {
        "id": "nf8tsMxiIhGw"
      },
      "source": [
        "Let's break this down:\n",
        "* `<header>`: The container for setting up navigational links.\n",
        "* `<nav>`: Defines a set of navigation links. The `<nav>` element is intended only for major block of navigation links.\n",
        "* `<div>`: The first outer div sets a container for the entire navigation bar.\n",
        "* `<a>`: A hyperlink tag. Clicking on \"Django Blog\" takes you home. Notice the code block here using the URL names of our views to display the specific pages.\n",
        "* `<button>`: Toggles navigation. Take a look at data-target. It will be used to toggle between home and about.\n",
        "* `<span>`: Used for grouping and applying styles to inline elements.\n",
        "* `<a>`: The following hyperlinks link to Home, About, and Login, Register which we will see later on in this course.\n",
        "\n",
        "## Main Section with Content Block\n",
        "\n",
        "50. The following code will replace `<div class=\"container\">{%%}</div>`. Don't worry about the block content. The following code contains a block content already. This entire code organizes the block content into one side and on the other side is our sidebar which we will get to later on."
      ]
    },
    {
      "cell_type": "code",
      "metadata": {
        "id": "y_8iIj29Ptwa"
      },
      "source": [
        "<main role=\"main\" class=\"container\">\n",
        "  <div class=\"row\">\n",
        "    <div class=\"col-md-8\">\n",
        "      {% block content %}{% endblock %}\n",
        "    </div>\n",
        "    <div class=\"col-md-4\">\n",
        "      <div class=\"content-section\">\n",
        "        <h3>Our Sidebar</h3>\n",
        "        <p class='text-muted'>You can put any information here you'd like.\n",
        "          <ul class=\"list-group\">\n",
        "            <li class=\"list-group-item list-group-item-light\">Latest Posts</li>\n",
        "            <li class=\"list-group-item list-group-item-light\">Announcements</li>\n",
        "            <li class=\"list-group-item list-group-item-light\">Calendars</li>\n",
        "            <li class=\"list-group-item list-group-item-light\">etc</li>\n",
        "          </ul>\n",
        "        </p>\n",
        "      </div>\n",
        "    </div>\n",
        "  </div>\n",
        "</main>"
      ],
      "execution_count": null,
      "outputs": []
    },
    {
      "cell_type": "markdown",
      "metadata": {
        "id": "TW6ADTE0QLgK"
      },
      "source": [
        "Let's break this down:\n",
        "* `<main>`: Represents the dominant content of the `<body>` of a document.\n",
        "* `<div class=\"row\">`: Think in terms of blocking when creating websites. Our entire main code will be within a row. If we want to add more code below our main code, we add another row.\n",
        "* `<div class=\"col-md-8\">`: The 1st column contains our blog posts and the 2nd column is our sidebar.\n",
        "* `<div class=\"content-section\">`: The following section is our sidebar. You have an unordered list of list items.\n",
        "\n",
        "## Main.CSS\n",
        "\n",
        "51. In addition to Bootstrap styling, our project needs static files like CSS and Javascript to be located in a static directory. To be static means to never move. This is also essential to have a main styling context throughout our project.\n",
        "\n",
        "> CSS: only uses CSS\n",
        "\n",
        "> Bootstrap: uses both CSS and Javascript\n",
        "\n",
        "52. In our blog app directory, create a folder called `static` \n",
        "53. Create a subdirectory (under static) called `blog` similar to how we created it with our templates. Again, this is a way for Django to tell the difference between apps.\n",
        "54. In `blog/static/blog/`, create a file called `main.css`.\n",
        "55. Copy the following code and paste it in `main.css`."
      ]
    },
    {
      "cell_type": "code",
      "metadata": {
        "id": "2qgj6cLHXkhO"
      },
      "source": [
        "body {\n",
        "  background: #fafafa;\n",
        "  color: #333333;\n",
        "  margin-top: 5rem;\n",
        "}\n",
        "\n",
        "h1, h2, h3, h4, h5, h6 {\n",
        "  color: #444444;\n",
        "}\n",
        "\n",
        "ul {\n",
        "  margin: 0;\n",
        "}\n",
        "\n",
        ".bg-steel {\n",
        "  background-color: #5f788a;\n",
        "}\n",
        "\n",
        ".site-header .navbar-nav .nav-link {\n",
        "  color: #cbd5db;\n",
        "}\n",
        "\n",
        ".site-header .navbar-nav .nav-link:hover {\n",
        "  color: #ffffff;\n",
        "}\n",
        "\n",
        ".site-header .navbar-nav .nav-link.active {\n",
        "  font-weight: 500;\n",
        "}\n",
        "\n",
        ".content-section {\n",
        "  background: #ffffff;\n",
        "  padding: 10px 20px;\n",
        "  border: 1px solid #dddddd;\n",
        "  border-radius: 3px;\n",
        "  margin-bottom: 20px;\n",
        "}\n",
        "\n",
        ".article-title {\n",
        "  color: #444444;\n",
        "}\n",
        "\n",
        "a.article-title:hover {\n",
        "  color: #428bca;\n",
        "  text-decoration: none;\n",
        "}\n",
        "\n",
        ".article-content {\n",
        "  white-space: pre-line;\n",
        "}\n",
        "\n",
        ".article-img {\n",
        "  height: 65px;\n",
        "  width: 65px;\n",
        "  margin-right: 16px;\n",
        "}\n",
        "\n",
        ".article-metadata {\n",
        "  padding-bottom: 1px;\n",
        "  margin-bottom: 4px;\n",
        "  border-bottom: 1px solid #e3e3e3\n",
        "}\n",
        "\n",
        ".article-metadata a:hover {\n",
        "  color: #333;\n",
        "  text-decoration: none;\n",
        "}\n",
        "\n",
        ".article-svg {\n",
        "  width: 25px;\n",
        "  height: 25px;\n",
        "  vertical-align: middle;\n",
        "}\n",
        "\n",
        ".account-img {\n",
        "  height: 125px;\n",
        "  width: 125px;\n",
        "  margin-right: 20px;\n",
        "  margin-bottom: 16px;\n",
        "}\n",
        "\n",
        ".account-heading {\n",
        "  font-size: 2.5rem;\n",
        "}"
      ],
      "execution_count": null,
      "outputs": []
    },
    {
      "cell_type": "markdown",
      "metadata": {
        "id": "s9e2e3sjXlIl"
      },
      "source": [
        "If a tag contains any of these css styles, it will be displayed on the page.\n",
        "\n",
        "56. Now return to `base.html`. We need to load our static files. To do this we need to add a code block. At the very top of the file, type in this: `{% load static %}`. This makes all the static files acessible to this file.\n",
        "57. Now we need to add our `main.css` file to the document. In between `<link ...>` and `{% if ... %}`, type in `<link rel=\"stylesheet\" type=\"text/css\" href=\"{% static 'blog/main.css' %}\">`\n",
        "* `link`: The link tag defines the relationship between the current document and an external resource.\n",
        "* `rel`: rel stands for relation. The external link is a stylesheet in relation to the html document.\n",
        "* `type`: The file is a css file.\n",
        "* `href`: The hypertext reference is the source of the file used by the tag\n",
        "* `{% static 'blog/main.css' %}`: We create a code block where we access a static file from that path.\n",
        "58. Now open up your browser and check at all the changes we made. \n",
        "\n",
        "> Pro tip: To clear the cache on Windows: cntrl + F5, on Mac: cmd+shift+R\n",
        "\n",
        "## HTML/CSS for a Blog Post\n",
        "59. Let's add more styling to a blog post. Copy the following code and replace it with all the HTML code (inside the for loop) in `home.html`"
      ]
    },
    {
      "cell_type": "code",
      "metadata": {
        "id": "1MH_UYCorpHJ"
      },
      "source": [
        "<article class=\"media content-section\">\n",
        "  <div class=\"media-body\">\n",
        "    <div class=\"article-metadata\">\n",
        "      <a class=\"mr-2\" href=\"#\">{{ post.author }}</a>\n",
        "      <small class=\"text-muted\">{{ post.date_posted }}</small>\n",
        "    </div>\n",
        "    <h2><a class=\"article-title\" href=\"#\">{{ post.title }}</a></h2>\n",
        "    <p class=\"article-content\">{{ post.content }}</p>\n",
        "  </div>\n",
        "</article>"
      ],
      "execution_count": null,
      "outputs": []
    },
    {
      "cell_type": "markdown",
      "metadata": {
        "id": "el3GZU6crrO_"
      },
      "source": [
        "Let's break this down:\n",
        "* `<article>`: The article element represents a section of content that forms an independent part of a document.\n",
        "* `<div class=\"media-body\">`: This presents a media object.\n",
        "* `<div class=\"article-metadata\">`: Presents details about the blog post. Notice the code blocks.\n",
        "* `<h2>, <a>, <p>`: Displays blog content. Notice the code blocks.\n",
        "60. Refresh your browser and view the changes.\n",
        "61. We're all finished for this concept! Be sure to upload everything to GitHub."
      ]
    },
    {
      "cell_type": "markdown",
      "metadata": {
        "id": "RBkvjgkFLfWr"
      },
      "source": [
        "## DIY:\n",
        "---"
      ]
    },
    {
      "cell_type": "markdown",
      "metadata": {
        "id": "o_QfGr5La7y1"
      },
      "source": [
        "1. What is the difference between CSS and Bootstrap?"
      ]
    },
    {
      "cell_type": "markdown",
      "metadata": {
        "id": "Q7uCzxxmGzqP"
      },
      "source": [
        "# Summary:\n",
        "---\n"
      ]
    },
    {
      "cell_type": "markdown",
      "metadata": {
        "id": "cCuonwBfo2_E"
      },
      "source": [
        "1. Explain template inheritance and its usage in Django.\n",
        "2. Why are modern websites dynamic?\n",
        "3. Where would static websites be more widely used?\n",
        "4. Give another example of a context dictionary and its usage with Django.\n",
        "5. What is the purpose of using Bootstrap instead of using your own CSS styling?"
      ]
    },
    {
      "cell_type": "markdown",
      "metadata": {
        "id": "4AmHQnAO6UP9"
      },
      "source": [
        "# Homework:\n",
        "---\n",
        "\n"
      ]
    },
    {
      "cell_type": "markdown",
      "metadata": {
        "id": "4HWwIuZpL3Qt"
      },
      "source": [
        "## War (Card Game)\n",
        "\n",
        "The object of the game is to get a higher card than your opponent. Play until all cards are dealt. Whoever has the most cards at the end wins.\n",
        "\n",
        "This may take more time than usual.\n",
        "Create a class called card. Here you pass in the value of the card and the suit.\n",
        "\n",
        "Things to consider:\n",
        "* In a standard deck of cards you have 52 cards in total. You can change the total to 10 or 20, it doesn't matter. \n",
        "* Start by coding for one game\n",
        "* How will you store the cards? Think of other data structures (lists, dictionaries, sets, etc)\n",
        "* You will need a loop. How does it start? end? \n",
        "* Need a counter to tally up how many cards each person has.\n",
        "\n",
        "Example output:\n",
        "```\n",
        "You: 5 of Spades\n",
        "Opponent: 9 of Hearts\n",
        "\n",
        "Winner: Opponent! 1 card\n",
        "9 cards remaining\n",
        "\n",
        "You: Ace of Diamonds\n",
        "Opponent: 2 of Diamonds\n",
        "\n",
        "Winner: Opponent! 2 cards\n",
        "8 cards remaining\n",
        "```\n",
        "\n",
        "Review classes, functions, object-oriented programming, sets, dictionaries, loops, strings, casting\n"
      ]
    },
    {
      "cell_type": "markdown",
      "metadata": {
        "id": "sGIYpA2949ZK"
      },
      "source": [
        "# Notes on homework:\n",
        "---"
      ]
    },
    {
      "cell_type": "markdown",
      "metadata": {
        "id": "1W21sec6G3Rq"
      },
      "source": [
        "I will check in on Thursday,  through email to check on your progress. Respond with any questions you might have. Otherwise, a simple “all good” is appropriate if you have no questions or comments. \n",
        "\n",
        "You will need to upload your coding homework assignments to GitHub.\n",
        "1. In gitbash, change directories to the homework directory: tomas_python/homework\n",
        "* TIP: use ‘cd’ to change directories\n",
        "* Use ‘cd ..’ to return to the previous directory\n",
        "* Use ‘pwd’ to show full pathname of the current working directory \n",
        "* Use ‘ls’ to list all your directories\n",
        "2. Once you’re in that directory, type in ‘git pull’\n",
        "* This ensures you have all updated files\n",
        "* If there is an error involved, email me immediately so we can try resolving it.\n",
        "* Otherwise, type your code below and we’ll resolve issues next class\n",
        "3. To create a new file, type in ‘touch hw01.py’ or the appropriate file name\n",
        "* ‘Touch’ creates a new file\n",
        "4. Open up the python file and start coding!\n",
        "\n",
        "Note: Become familiar with these actions. This is essentially what happens in the backend when you right-click and create a new folder/file!\n"
      ]
    }
  ]
}