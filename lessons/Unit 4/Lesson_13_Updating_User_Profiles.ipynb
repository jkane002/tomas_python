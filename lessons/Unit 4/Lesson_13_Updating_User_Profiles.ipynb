{
  "nbformat": 4,
  "nbformat_minor": 0,
  "metadata": {
    "colab": {
      "name": "Lesson 13: Updating User Profiles",
      "provenance": [],
      "collapsed_sections": [
        "QanMmuiXOoLE",
        "q0XFak2iGwaU",
        "glCedjN-Gd6s",
        "gNugm4K9VAbx",
        "lNdNeVNk_hSQ",
        "Td9nCOod_hSd",
        "Q7uCzxxmGzqP",
        "4AmHQnAO6UP9",
        "sGIYpA2949ZK",
        "mIeEg-1dwoYh"
      ]
    },
    "kernelspec": {
      "display_name": "Python 3",
      "name": "python3"
    }
  },
  "cells": [
    {
      "cell_type": "markdown",
      "metadata": {
        "id": "Uq6oR46pHrLH"
      },
      "source": [
        "# Lesson 13: Updating User Profiles \n",
        "---\n",
        "Intro: We will continue working on our user profile page allowing users to update their own profiles without going to the admin page. "
      ]
    },
    {
      "cell_type": "markdown",
      "metadata": {
        "id": "QanMmuiXOoLE"
      },
      "source": [
        "# Review\n",
        "---"
      ]
    },
    {
      "cell_type": "markdown",
      "metadata": {
        "id": "B4znJroiGyau"
      },
      "source": [
        "1. What is a one-to-one relationship regarding users and their profiles?\n",
        "2. What is Pillow?\n",
        "3. What command do you use to open the Django shell?\n",
        "4. What is a Django shell?"
      ]
    },
    {
      "cell_type": "markdown",
      "metadata": {
        "id": "q0XFak2iGwaU"
      },
      "source": [
        "# Concept 1: Django Signals\n",
        "---\n"
      ]
    },
    {
      "cell_type": "markdown",
      "metadata": {
        "id": "fqvlDtVnGwaW"
      },
      "source": [
        "## Objective\n",
        "Finally, we will create a receiver function for a Django signal that will make sure our profiles are created when a user first registers. So whenever a new user registers to our site, they also will make a profile.\n",
        "## What are they? \n",
        "\n",
        "Signals allow certain senders to notify a set of receivers that some action has taken place. They’re especially useful when many pieces of code may be interested in the same events. \n",
        "\n",
        "For example, we don't want to sit outside all day and wait for the postal service to drop off mail. The mailman can signal there is mail by raising the mailbox flag. If the flag is down, then there is no mail. \n",
        "\n",
        "1. In the users directory, create a file called `signals.py`. This is outside of the templates folder because we want other models to access these signals.\n",
        "44. Import the following - \n",
        "```\n",
        "from django.db.models.signals import post_save\n",
        "from django.contrib.auth.models import User\n",
        "from django.dispatch import receiver\n",
        "from .models import Profile\n",
        "```\n",
        "* `post_save` - This is a signal that gets fired after an object is saved. We need this when a user is created.\n",
        "* `User` - This will be the \"sender\" that sends the signal.\n",
        "* `receiver` - A receiver receives the signal and performs some tasks.\n",
        "* `Profile` - We need this Profile model since we will be creating a model. \n",
        "\n",
        "So remember our objective, we need a signaling mechanism to signal a new user registration that creates a new profile.\n",
        "3. `def create_profile(sender, instance, created, **kwargs):` - This function creates a profile for each new user.\n",
        "46. Inside this function, include the following - \n",
        "```\n",
        " if created:\n",
        "        Profile.objects.create(user=instance)\n",
        "```\n",
        "* This simply states if a user is created, create a profile under this user instance.\n",
        "4. Include this decorator on top of the create_profile function - \n",
        "```\n",
        "@receiver(post_save, sender=User)\n",
        "```\n",
        "* It takes the signal and sends it to the sender or the User. When a user is saved, then send this signal. Once the receiver receives that signal, it goes through the function to create a profile given a created user. Overall, just know that a signal is needed from the user creation part in order to create a profile.\n",
        "5. Now we need a function that saves the profile given the same signal direction - \n",
        "```\n",
        "@receiver(post_save, sender=User)\n",
        "def save_profile(sender, instance, **kwargs):\n",
        "    instance.profile.save()\n",
        "```\n",
        "* The decorator is similar where it needs a signal from the User to create a profile.\n",
        "* The instance saves the profile created.\n",
        "6. Now we need to import our signals inside a ready function to explicitly tell Django that we are ready for signals to be received and sent. So go to `apps.py` under the users directory.\n",
        "50. Inside the UsersConfig class, created this new method - \n",
        "```\n",
        "def ready(self):\n",
        "        import users.signals\n",
        "```\n",
        "* As it's stated, the ready method is called once Django is ready to receive or send signals then it imports them.\n",
        "8. Now let's go to the browser, register a new user, and check out their profile."
      ]
    },
    {
      "cell_type": "markdown",
      "metadata": {
        "id": "hr_B1xNNGwac"
      },
      "source": [
        "## DIY:\n",
        "---"
      ]
    },
    {
      "cell_type": "markdown",
      "metadata": {
        "id": "Bjk56fiJpVAc"
      },
      "source": [
        "1. What are signals?\n",
        "3. What are the components of a signal?\n",
        "2. Give a real life example for signals in action?"
      ]
    },
    {
      "cell_type": "markdown",
      "metadata": {
        "id": "glCedjN-Gd6s"
      },
      "source": [
        "# Concept 2: User Profile Forms\n",
        "---\n"
      ]
    },
    {
      "cell_type": "markdown",
      "metadata": {
        "id": "25oLA8_cHOH7"
      },
      "source": [
        "## Objective\n",
        "In order to update our user and profile, we need to create forms. The fields on the forms allow users to edit their profiles. This will be very similar to editing our posts.\n",
        "## Form Creation\n",
        "9. Within the users app, open the `forms.py` file. We're going to create a Model Form which allows us to work with a specific database model. In this case, we want a form that will update our user model.\n",
        "10. `class UserUpdateForm(forms.ModelForm):` - In this class, we inherit from Django's model form where we will edit the username and email fields. This will be very similar to the previous function so copy everything inside the `UserRegisterForm` function and paste it into `UserUpdateForm`. Then delete `password1, password2`. In the future, we will have a function to reset the password.\n",
        "* For review, `email = forms.EmailField()` - This provides an email field where users input their email address.\n",
        "* `class Meta:` - The importance of a class is to encapsulate data. This Meta class encapsulates the User model and fields. If we didn't have this class, then we would have to explicitly add each field of the user model.\n",
        "11. `from .models import Profile` - Next, we need to import the Profile model because we need access to the image field.\n",
        "12. `class ProfileUpdateForm(forms.ModelForm):` - Create another function called ProfileUpdateForm that inherits from the ModelForm. \n",
        "13. Now inside the `ProfileUpdateForm` function, create a Meta class (similar to the previous functions). Set `model = Profile` and ` fields = ['image']`.\n",
        "14. Overall `forms.py` should have these additions:"
      ]
    },
    {
      "cell_type": "code",
      "metadata": {
        "id": "Ai5In7n95H9t"
      },
      "source": [
        "from .models import Profile\n",
        "\n",
        "...\n",
        "\n",
        "# Updates username and email\n",
        "class UserUpdateForm(forms.ModelForm):\n",
        "    email = forms.EmailField()\n",
        "\n",
        "    class Meta:\n",
        "        model = User\n",
        "        fields = ['username', 'email']\n",
        "\n",
        "# Updates image\n",
        "class ProfileUpdateForm(forms.ModelForm):\n",
        "    class Meta:\n",
        "        model = Profile\n",
        "        fields = ['image']"
      ],
      "execution_count": null,
      "outputs": []
    },
    {
      "cell_type": "markdown",
      "metadata": {
        "id": "Bup_MS865LnD"
      },
      "source": [
        "15. Now open the `views.py` file in the users directory. Remember that the view renders our page onto the screen. \n",
        "16. We need to import the previously defined forms so at the top where we import from `.forms` include `UserUpdateForm, ProfileUpdateForm`\n",
        "17. In the profile method, let's create instances of these. We'll name them u_form for the user form and p_form for the profile form.\n",
        "```\n",
        "def profile(request):\n",
        "      u_form = UserUpdateForm()\n",
        "      p_form = ProfileUpdateForm()\n",
        "```\n",
        "18. Below the instances, create a context dictionary. Recall that the context dictionary provides key and value pairs as context in which the template is being rendered -\n",
        "```\n",
        "context = {\n",
        "        'u_form': u_form,\n",
        "        'p_form': p_form\n",
        "    }\n",
        "```\n",
        "19. Next, we need to return the context so in the render function, as a third argument, include context -\n",
        "`return render(request, 'users/profile.html', context)`"
      ]
    },
    {
      "cell_type": "markdown",
      "metadata": {
        "id": "lKe-QKCKHDHF"
      },
      "source": [
        "## DIY:\n",
        "---"
      ]
    },
    {
      "cell_type": "markdown",
      "metadata": {
        "id": "9qtGAnCx_le0"
      },
      "source": [
        "1. What is the role of a context dictionary?\n",
        "2. Why do we need `class Meta`?\n",
        "3. What are the differences and similarities between the UserUpdateForm and the ProfileUpdateForm?"
      ]
    },
    {
      "cell_type": "markdown",
      "metadata": {
        "id": "gNugm4K9VAbx"
      },
      "source": [
        "# Concept 3: Pre-Populate Data\n",
        "---\n"
      ]
    },
    {
      "cell_type": "markdown",
      "metadata": {
        "id": "xDvd-a1eVAb6"
      },
      "source": [
        "## Objective\n",
        "Now let's go to the profile template to display these forms. We did this already when creating a register page so we will use that for inspiration.\n",
        "## What are they?\n",
        "20. Within the user's templates, open `register.html` and copy the entire form from the opening to the closing tag.\n",
        "21. Go to `profile.html` and paste the code where it says FORM HERE.\n",
        "22. Recall that we have 2 forms (user and profile forms). We're going to put the fields for both of these forms into a single HTML form so that the user sees it as one.\n",
        "23. Edit `{{ form | crispy }}` so it becomes `{{ u_form | crispy }}`. Below that create another form for the profile - `{{ p_form | crispy }}`\n",
        "24. Let's make changes to the form. Edit the legend to replace `Join Today` with `Profile Info`. Replace `Sign Up` with `Update`.\n",
        "25. Inside the opening form tag, we need to include an encode type. To encode means to convert into a coded form. Edit the form tag so it looks like this - \n",
        "```\n",
        "<form method=\"POST\" enctype=\"multipart/form-data\">\n",
        "```\n",
        "* This value is required when you are using forms that have a file upload control. We are uploading images to the server.\n",
        "26. Let's open up the browser and reload the profile page. \n",
        "27. We want our information to be pre-populated so we can view our current username and email. So let's make this change.\n",
        "28. Go to the profile function in the `views.py` from the users directory. To do this, we need to save the current instance of these forms by passing the instance through the forms -\n",
        "``` \n",
        "u_form = UserUpdateForm(instance=request.user)\n",
        "p_form = ProfileUpdateForm(instance=request.user.profile)\n",
        "``` \n",
        "* This small change will populate those forms with the current users' information.\n",
        "29. Now we need to check if this is a POST route or not because we need to post this data onto the server. If it is a POST route, then we'll want to see if our forms are valid. If they are valid, save the information. Right above the forms include this if statement - \n",
        "```\n",
        "if request.method == 'POST':\n",
        "```\n",
        "30. Indent the forms so they become under the if statement.\n",
        "31. Now place an `else:` below them. Copy the `u_form` and `p_form` variables and paste them inside the else section.\n",
        "32. Now we want to pass in the POST data into our forms. Edit the arguments to look like this - \n",
        "```\n",
        "u_form = UserUpdateForm(request.POST, instance=request.user)\n",
        "p_form = ProfileUpdateForm(request.POST, request.FILES, instance=request.user.profile)\n",
        "```\n",
        "* Within the arguments and as the first argument of both forms, include this `request.POST`. This ensures these forms are requesting a POST request.\n",
        "* Also for the profile form, we will also be getting some additional image data along with the POST request. Do this by adding the argument to the p_form - `request.FILES`. \n",
        "33. Now we have to check if both forms are valid. If they are invalid, then don't save any data. Within the first if statement and below the form variables include these. Please type this out - \n",
        "```\n",
        "if u_form.is_valid() and p_form.is_valid():\n",
        "      u_form.save()\n",
        "      p_form.save()\n",
        "      messages.success(request, f'Your account has been updated!')\n",
        "      return redirect('profile')  \n",
        "```  \n",
        "* The if statement checks if both forms are valid.\n",
        "* If they are, save them and present a message. Finally, redirect them to the profile.\n",
        "34. Let's try it out in the browser. Reload the profile page and change the username.\n",
        "35. Check the admin page to ensure no duplicate users were created. "
      ]
    },
    {
      "cell_type": "code",
      "metadata": {
        "id": "6ys471A3xX_P"
      },
      "source": [
        "@login_required\n",
        "def profile(request):\n",
        "    if request.method == 'POST':\n",
        "        u_form = UserUpdateForm(request.POST, instance=request.user)\n",
        "        p_form = ProfileUpdateForm(request.POST,\n",
        "                                   request.FILES,\n",
        "                                   instance=request.user.profile)\n",
        "        if u_form.is_valid() and p_form.is_valid():\n",
        "            u_form.save()\n",
        "            p_form.save()\n",
        "            messages.success(request, f'Your account has been updated!')\n",
        "            return redirect('profile')\n",
        "\n",
        "    else:\n",
        "        u_form = UserUpdateForm(instance=request.user)\n",
        "        p_form = ProfileUpdateForm(instance=request.user.profile)\n",
        "\n",
        "    context = {\n",
        "        'u_form': u_form,\n",
        "        'p_form': p_form\n",
        "    }\n",
        "\n",
        "    return render(request, 'users/profile.html', context)"
      ],
      "execution_count": null,
      "outputs": []
    },
    {
      "cell_type": "markdown",
      "metadata": {
        "id": "uKULCis0VAcC"
      },
      "source": [
        "## DIY:\n",
        "---"
      ]
    },
    {
      "cell_type": "markdown",
      "metadata": {
        "id": "uOafG57gB87o"
      },
      "source": [
        "1. What is a POST request?\n",
        "2. What changes were made to pre-populated our information?\n",
        "3. What does encode mean?"
      ]
    },
    {
      "cell_type": "markdown",
      "metadata": {
        "id": "lNdNeVNk_hSQ"
      },
      "source": [
        "# Concept 4: Profile Pictures on the Home Page\n",
        "---\n"
      ]
    },
    {
      "cell_type": "markdown",
      "metadata": {
        "id": "gtVUNJhb_hSW"
      },
      "source": [
        "## Objective\n",
        "This is a short concept where we will display all profile pictures on the home page. \n",
        "## What are they?\n",
        "36. Open the `home.html` page from `blog/templates/blog`. Recall that this is where our code for the home page lies.\n",
        "37. In between the opening article tag and the first div tag, place this code in -\n",
        "```\n",
        "<img class=\"rounded-circle article-img\" src=\"{{ post.author.profile.image.url }}\">\n",
        "```\n",
        "* We provide an image tag with a rounded circle class. We also provide the source url of the image.\n",
        "38. Lastly, open the browser to view the changes.\n",
        "39. That's it! Push your code to GitHub."
      ]
    },
    {
      "cell_type": "markdown",
      "metadata": {
        "id": "Td9nCOod_hSd"
      },
      "source": [
        "## DIY:\n",
        "---"
      ]
    },
    {
      "cell_type": "markdown",
      "metadata": {
        "id": "m5QvInSyY6Le"
      },
      "source": [
        "1. In the code block below, create an image tag with a class of rounded-circle that has a source url of `../assets/images/dog.png`"
      ]
    },
    {
      "cell_type": "code",
      "metadata": {
        "id": "9wrZK-21ZORv"
      },
      "source": [
        ""
      ],
      "execution_count": null,
      "outputs": []
    },
    {
      "cell_type": "markdown",
      "metadata": {
        "id": "Q7uCzxxmGzqP"
      },
      "source": [
        "# Summary:\n",
        "---\n"
      ]
    },
    {
      "cell_type": "markdown",
      "metadata": {
        "id": "cCuonwBfo2_E"
      },
      "source": [
        "1. Give an example of signals in real life and in Django's use.\n",
        "2. What is the purpose of the Meta class?\n",
        "3. What does encode mean?\n",
        "4. How are context dictionaries used when rendering a template?"
      ]
    },
    {
      "cell_type": "markdown",
      "metadata": {
        "id": "4AmHQnAO6UP9"
      },
      "source": [
        "# Homework:\n",
        "---\n",
        "\n"
      ]
    },
    {
      "cell_type": "markdown",
      "metadata": {
        "id": "4HWwIuZpL3Qt"
      },
      "source": [
        "## Objective\n",
        "Organize/ structure code & User Input\n",
        "\n",
        "1. If you're finished with blackjack, now combine the war game and blackjack. Let the user decide which game to play. This should be straightforward. Encapsulate your two games into different functions and then create if statements to decide what game the user wants to play."
      ]
    },
    {
      "cell_type": "markdown",
      "metadata": {
        "id": "sGIYpA2949ZK"
      },
      "source": [
        "# Notes on homework:\n",
        "---"
      ]
    },
    {
      "cell_type": "markdown",
      "metadata": {
        "id": "1W21sec6G3Rq"
      },
      "source": [
        "I will check in on Thursday,  through email to check on your progress. Respond with any questions you might have. Otherwise, a simple “all good” is appropriate if you have no questions or comments. \n",
        "\n",
        "You will need to upload your coding homework assignments to GitHub.\n",
        "1. In gitbash, change directories to the homework directory: tomas_python/homework\n",
        "* TIP: use ‘cd’ to change directories\n",
        "* Use ‘cd ..’ to return to the previous directory\n",
        "* Use ‘pwd’ to show full pathname of the current working directory \n",
        "* Use ‘ls’ to list all your directories\n",
        "2. Once you’re in that directory, type in ‘git pull’\n",
        "* This ensures you have all updated files\n",
        "* If there is an error involved, email me immediately so we can try resolving it.\n",
        "* Otherwise, type your code below and we’ll resolve issues next class\n",
        "3. To create a new file, type in ‘touch hw01.py’ or the appropriate file name\n",
        "* ‘Touch’ creates a new file\n",
        "4. Open up the python file and start coding!\n",
        "\n",
        "Note: Become familiar with these actions. This is essentially what happens in the backend when you right-click and create a new folder/file!\n"
      ]
    },
    {
      "cell_type": "markdown",
      "metadata": {
        "id": "mIeEg-1dwoYh"
      },
      "source": [
        "# Update\n",
        "---\n"
      ]
    },
    {
      "cell_type": "markdown",
      "metadata": {
        "id": "8P_otqdqwvgU"
      },
      "source": [
        "Error can be different from Mac/Windows users.\n",
        "If this error occurs: \n",
        "`save() got an unexpected keyword argument 'force_insert'` then update the save method in users/models.py to the following:\n",
        "```\n",
        "def save(self, *args, **kwargs):\n",
        "    super().save(*args, **kwargs)\n",
        "```"
      ]
    }
  ]
}