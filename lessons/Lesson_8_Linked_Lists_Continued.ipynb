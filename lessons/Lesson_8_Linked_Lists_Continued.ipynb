{
  "nbformat": 4,
  "nbformat_minor": 0,
  "metadata": {
    "colab": {
      "name": "Lesson 8: Linked Lists Continued",
      "provenance": [],
      "collapsed_sections": [
        "QanMmuiXOoLE",
        "ENtnA49zQxPl",
        "Bp-Za2l_sGrS",
        "vfdAtsgnsGrU",
        "glCedjN-Gd6s",
        "mv20KuLpwwcF",
        "Q7uCzxxmGzqP",
        "4AmHQnAO6UP9",
        "sGIYpA2949ZK"
      ]
    },
    "kernelspec": {
      "display_name": "Python 3",
      "name": "python3"
    }
  },
  "cells": [
    {
      "cell_type": "markdown",
      "metadata": {
        "id": "Uq6oR46pHrLH",
        "colab_type": "text"
      },
      "source": [
        "# Lesson 8: Linked Lists Continued\n",
        "---\n",
        "Intro: We will continue our lesson on linked lists."
      ]
    },
    {
      "cell_type": "markdown",
      "metadata": {
        "id": "QanMmuiXOoLE",
        "colab_type": "text"
      },
      "source": [
        "# Review\n",
        "---"
      ]
    },
    {
      "cell_type": "markdown",
      "metadata": {
        "id": "B4znJroiGyau",
        "colab_type": "text"
      },
      "source": [
        "1. What are the components of a linked list?\n",
        "2. What is the process of appending an element (inserting at the end) to a linked list?\n",
        "3. What is the process of finding an element in a linked list?\n",
        "4. What is the time complexity of finding an element in a linked list?\n",
        "\n",
        "\n",
        "\n"
      ]
    },
    {
      "cell_type": "markdown",
      "metadata": {
        "colab_type": "text",
        "id": "ENtnA49zQxPl"
      },
      "source": [
        "# Concept 1: Removing an element\n",
        "---\n"
      ]
    },
    {
      "cell_type": "markdown",
      "metadata": {
        "colab_type": "text",
        "id": "jxsL8ob_QxPn"
      },
      "source": [
        "## What is it?\n",
        "\n",
        "Removing an element is a bit more complex than usual. Imagine there is a row of people linking hands. \n",
        "\n",
        "Each person is a node and their arms are links. As you can imagine, the last person in line is holding no one so that represents a node referencing to None. \n",
        "\n",
        "What happens when a person in line removes themself? How does the line remain intact without letting go of their hands?\n",
        "\n",
        "Let's call the person that needs to be removed: Taylor.\n",
        "\n",
        "1. The person to the left of Taylor lets go of his hands and links with the person to the right of Taylor.\n",
        "2. Now Taylor can let go of both people and the line remains intact.\n",
        "\n",
        "These steps are critical when dealing with linked lists as you always want to keep the linked list intact either through temporary variables.\n",
        "\n",
        "So that example was for removing an element somewhere in a linked list. Pause here and think of ways to remove an element when it is the first node and the last node.\n",
        "\n",
        "Here are the steps:\n",
        "\n",
        "1. Iterate through the linked list to find the element to remove. O(n)\n",
        "2. Create variables called previous assigned to None and current assigned to head.\n",
        "3. Next, iterate through the loop while checking if the data is what we need to remove.\n",
        "4. Advance the loop by setting current to current's next and previous to current.\n",
        "5. The loop exits once the current's data is identical to the data that we need to remove.\n",
        "6. Outside the loop, we now check if current is at the head or at other places.\n",
        "7. If the previous is None meaning we are at the beginning of the linked list, set the head to current's next.\n",
        "8. Otherwise, check if the current is not None then set previous' next to current's next, and current's next to None.\n",
        "\n",
        "Below is the code.\n",
        "What is the time and space complexity?"
      ]
    },
    {
      "cell_type": "code",
      "metadata": {
        "id": "lWdpNT05y9xn",
        "colab_type": "code",
        "colab": {}
      },
      "source": [
        "def remove(self, key):\n",
        "      \"\"\"\n",
        "      Remove the first occurrence of `key` in the list.\n",
        "      Takes O(n) time.\n",
        "      \"\"\"\n",
        "      # Find the element and keep a\n",
        "      # reference to the element preceding it\n",
        "      curr = self.head\n",
        "      prev = None\n",
        "      while curr and curr.data != key:\n",
        "          prev = curr\n",
        "          curr = curr.next\n",
        "      # Unlink it from the list\n",
        "      if prev is None:\n",
        "          self.head = curr.next\n",
        "      elif curr:\n",
        "          prev.next = curr.next\n",
        "          curr.next = None\n",
        "'''\n",
        "Original linked list\n",
        "\n",
        "+----+------+     +----+------+     +----+------+ \n",
        "| 1 | o-------->| 2 | o-------->| 3 | null | \n",
        "+----+------+     +----+------+     +----+------+\n",
        "\n",
        "              --------------------|\n",
        "+----+------+ |   +----+------+   V   +----+------+ \n",
        "| 1 | o-------| | 2 | o-------->| 3 | null | \n",
        "+----+------+      +----+------+     +----+------+\n",
        "\n",
        "              --------------------|\n",
        "+----+------+ |   +----+------+   V   +----+------+ \n",
        "| 1 | o-------| | 2 |null         3 | null | \n",
        "+----+------+      +----+------+     +----+------+\n",
        "\n",
        "\n",
        "+----+------+     +----+------+ \n",
        "| 1 | o-------->| 3 | null | \n",
        "+----+------+     +----+------+    \n",
        "\n",
        "'''"
      ],
      "execution_count": null,
      "outputs": []
    },
    {
      "cell_type": "markdown",
      "metadata": {
        "colab_type": "text",
        "id": "exI1VGSoQxPn"
      },
      "source": [
        "## Example:\n",
        "---"
      ]
    },
    {
      "cell_type": "code",
      "metadata": {
        "colab_type": "code",
        "id": "V1TKKXEUQxPo",
        "colab": {}
      },
      "source": [
        "class Node: \n",
        "\tdef __init__(self, data): \n",
        "\t\tself.data = data\n",
        "\t\tself.next = None \n",
        "\n",
        "class LinkedList: \n",
        "  def __init__(self): \n",
        "    self.head = None\n",
        "\n",
        "  def printLinkedList(self):\n",
        "    temp = self.head \n",
        "    while temp: \n",
        "      print(temp.data) \n",
        "      temp = temp.next\n",
        "\n",
        "  # Added this code\n",
        "  def remove(self, key):\n",
        "    \"\"\"\n",
        "    Remove the first occurrence of `key` in the list.\n",
        "    Takes O(n) time.\n",
        "    \"\"\"\n",
        "    # Find the element and keep a\n",
        "    # reference to the element preceding it\n",
        "    curr = self.head\n",
        "    prev = None\n",
        "    while curr and curr.data != key:\n",
        "      prev = curr\n",
        "      curr = curr.next\n",
        "    # Unlink it from the list\n",
        "    if prev is None:\n",
        "      self.head = curr.next\n",
        "    elif curr:\n",
        "      prev.next = curr.next\n",
        "      curr.next = None\n",
        "  \n",
        "\n",
        "\n",
        "if __name__=='__main__': \n",
        "  llist = LinkedList() \n",
        "\n",
        "  llist.head = Node(1) \n",
        "  second = Node(2) \n",
        "  third = Node(3)\n",
        "\n",
        "  llist.head.next = second\n",
        "  second.next = third\n",
        "\n",
        "  print(\"Before\")\n",
        "  llist.printLinkedList()\n",
        "  # added this code\n",
        "  llist.remove(2)\n",
        "  print(\"After\")\n",
        "  llist.printLinkedList()"
      ],
      "execution_count": null,
      "outputs": []
    },
    {
      "cell_type": "markdown",
      "metadata": {
        "colab_type": "text",
        "id": "qhv2QGabQxPr"
      },
      "source": [
        "## DIY:\n",
        "---"
      ]
    },
    {
      "cell_type": "markdown",
      "metadata": {
        "id": "GVlXZPD35R4_",
        "colab_type": "text"
      },
      "source": [
        "1. Without looking at the above code, recreate the remove function.\n",
        "\n"
      ]
    },
    {
      "cell_type": "code",
      "metadata": {
        "colab_type": "code",
        "id": "QcjuD3UVQxPs",
        "colab": {}
      },
      "source": [
        "def remove(key):"
      ],
      "execution_count": null,
      "outputs": []
    },
    {
      "cell_type": "markdown",
      "metadata": {
        "colab_type": "text",
        "id": "Bp-Za2l_sGrS"
      },
      "source": [
        "# Concept 2: Reversing a Linked List\n",
        "---\n",
        "\n"
      ]
    },
    {
      "cell_type": "markdown",
      "metadata": {
        "colab_type": "text",
        "id": "6nl7l1p0sGrT"
      },
      "source": [
        "## What is it?\n",
        "\n",
        "Similar to removing an element, we need to keep track of the links. Yes we can simply just say the tail is the head and vice versa but the links are going to be different. We need to individually switch the links to reverse the linked list.\n",
        "\n",
        "Steps:\n",
        "1. Keep track of current, previous, and next nodes.\n",
        "2. Iterate through the entire list.\n",
        "3. Switch the next node with current's next.\n",
        "4. Assign current's next with previous node.\n",
        "5. Assign previous node with current.\n",
        "6. Assign current with next node.\n",
        "7. Once the loop exits, assign the head with the previous node.\n",
        "\n",
        "Watch this [video](https://youtu.be/D7y_hoT_YZI) now (2 min). The code is in Java but the concept is still similar.\n",
        "\n",
        "The code:\n"
      ]
    },
    {
      "cell_type": "code",
      "metadata": {
        "id": "DG6gH1-z8542",
        "colab_type": "code",
        "colab": {}
      },
      "source": [
        "def reverse(self):\n",
        "  \"\"\"\n",
        "  Reverse the list in-place.\n",
        "  Takes O(n) time.\n",
        "  \"\"\"\n",
        "  curr = self.head\n",
        "  prev_node = None\n",
        "  next_node = None\n",
        "  while curr:\n",
        "    next_node = curr.next\n",
        "    curr.next = prev_node\n",
        "    prev_node = curr\n",
        "    curr = next_node\n",
        "  self.head = prev_node"
      ],
      "execution_count": null,
      "outputs": []
    },
    {
      "cell_type": "markdown",
      "metadata": {
        "id": "lZnu5qJ-89sd",
        "colab_type": "text"
      },
      "source": [
        "\n",
        "Let's break it down further:\n",
        "* `curr = self.head`: Set the current node to the head\n",
        "* `prev_node, next_node`: Initialize these to None\n",
        "* `while curr:`: Iterate through the entire linked list (stops until it reaches None or the end of the list)\n",
        "* `next_node = curr.next`: Need to keep curr.next in a temporary variable. This would be the step or the incrementer to continue looping through the linked list.\n",
        "* `curr.next = prev_node`: This is reversing the links. What would have been the next node is now the previous node. \n",
        "* `prev_node = curr`: Similarly, we set the previous node to the current node.Again we are switching the links.\n",
        "* `curr = next_node`: Remember setting next_node? We now set curr to the next_node so we can continue advancing through the linked list.\n",
        "* `self.head = prev_node`: Once we reach the tail of the list, we can finally say that the tail is head. Here we assign the head with the previous node.\n",
        "\n",
        "What is the time and space complexity?"
      ]
    },
    {
      "cell_type": "markdown",
      "metadata": {
        "colab_type": "text",
        "id": "vfdAtsgnsGrU"
      },
      "source": [
        "## Example:\n",
        "---"
      ]
    },
    {
      "cell_type": "code",
      "metadata": {
        "colab_type": "code",
        "id": "BVZ7QuNAsGrU",
        "colab": {}
      },
      "source": [
        "class Node: \n",
        "\tdef __init__(self, data): \n",
        "\t\tself.data = data\n",
        "\t\tself.next = None \n",
        "\n",
        "class LinkedList: \n",
        "  def __init__(self): \n",
        "    self.head = None\n",
        "\n",
        "  def printLinkedList(self):\n",
        "    temp = self.head \n",
        "    while temp: \n",
        "      print(temp.data) \n",
        "      temp = temp.next\n",
        "\n",
        "  # Added this code\n",
        "  def reverse(self):\n",
        "    curr = self.head\n",
        "    prev_node = None\n",
        "    next_node = None\n",
        "    while curr:\n",
        "      next_node = curr.next\n",
        "      curr.next = prev_node\n",
        "      prev_node = curr\n",
        "      curr = next_node\n",
        "    self.head = prev_node\n",
        "  \n",
        "\n",
        "\n",
        "if __name__=='__main__': \n",
        "  llist = LinkedList() \n",
        "\n",
        "  llist.head = Node(1) \n",
        "  second = Node(2) \n",
        "  third = Node(3)\n",
        "\n",
        "  llist.head.next = second\n",
        "  second.next = third\n",
        "\n",
        "  print(\"Before\")\n",
        "  llist.printLinkedList()\n",
        "  # added this code\n",
        "  llist.reverse()\n",
        "  print(\"After\")\n",
        "  llist.printLinkedList()"
      ],
      "execution_count": null,
      "outputs": []
    },
    {
      "cell_type": "markdown",
      "metadata": {
        "colab_type": "text",
        "id": "bYcWzYoLsGrY"
      },
      "source": [
        "## DIY:\n",
        "---"
      ]
    },
    {
      "cell_type": "markdown",
      "metadata": {
        "id": "DbBbGD4DxPoc",
        "colab_type": "text"
      },
      "source": [
        "1. Without looking at the above code, recreate the reverse function."
      ]
    },
    {
      "cell_type": "code",
      "metadata": {
        "colab_type": "code",
        "id": "-9T47u0FsGrZ",
        "colab": {}
      },
      "source": [
        "def reverse():\n",
        "  "
      ],
      "execution_count": null,
      "outputs": []
    },
    {
      "cell_type": "markdown",
      "metadata": {
        "id": "glCedjN-Gd6s",
        "colab_type": "text"
      },
      "source": [
        "# Concept 3: Size of Linked List\n",
        "---\n"
      ]
    },
    {
      "cell_type": "markdown",
      "metadata": {
        "id": "25oLA8_cHOH7",
        "colab_type": "text"
      },
      "source": [
        "## What is it?\n",
        "\n",
        "With arrays and lists, we can simply use `len()` to figure out their size. We will implement our own len function. With linked lists we need to iterate and count each element.\n",
        "\n",
        "Steps:\n",
        "1. Iterate through entire linked list\n",
        "2. Update a counter\n",
        "\n",
        "What is the time and space complexity?"
      ]
    },
    {
      "cell_type": "markdown",
      "metadata": {
        "id": "1ZBpqEKtG_oj",
        "colab_type": "text"
      },
      "source": [
        "## Examples:\n",
        "---"
      ]
    },
    {
      "cell_type": "code",
      "metadata": {
        "id": "_0450pN7HCoa",
        "colab_type": "code",
        "colab": {}
      },
      "source": [
        "class Node: \n",
        "\tdef __init__(self, data): \n",
        "\t\tself.data = data\n",
        "\t\tself.next = None \n",
        "\n",
        "class LinkedList: \n",
        "  def __init__(self): \n",
        "    self.head = None\n",
        "\n",
        "  def printLinkedList(self):\n",
        "    temp = self.head \n",
        "    while temp: \n",
        "      print(temp.data) \n",
        "      temp = temp.next\n",
        "\n",
        "# Added code\n",
        "  def size(self):\n",
        "    current = self.head\n",
        "    count = 0\n",
        "    while current:\n",
        "      count += 1\n",
        "      current = current.next\n",
        "    return count\n",
        "  \n",
        "\n",
        "\n",
        "if __name__=='__main__': \n",
        "  llist = LinkedList() \n",
        "\n",
        "  llist.head = Node(1) \n",
        "  second = Node(2) \n",
        "  third = Node(3)\n",
        "\n",
        "  llist.head.next = second\n",
        "  second.next = third\n",
        "\n",
        "  print(llist.size())"
      ],
      "execution_count": null,
      "outputs": []
    },
    {
      "cell_type": "markdown",
      "metadata": {
        "id": "lKe-QKCKHDHF",
        "colab_type": "text"
      },
      "source": [
        "## DIY:\n",
        "---"
      ]
    },
    {
      "cell_type": "markdown",
      "metadata": {
        "id": "zm_LwFeicR5I",
        "colab_type": "text"
      },
      "source": [
        "1. Without looking at the above code, recreate the size function."
      ]
    },
    {
      "cell_type": "code",
      "metadata": {
        "id": "x-Hkb0FFHFbp",
        "colab_type": "code",
        "colab": {}
      },
      "source": [
        "def size():\n",
        "  "
      ],
      "execution_count": null,
      "outputs": []
    },
    {
      "cell_type": "markdown",
      "metadata": {
        "colab_type": "text",
        "id": "mv20KuLpwwcF"
      },
      "source": [
        "# Concept 4: Application\n",
        "---\n"
      ]
    },
    {
      "cell_type": "markdown",
      "metadata": {
        "colab_type": "text",
        "id": "ixTwI7YjwwcM"
      },
      "source": [
        "## Here is an example:\n",
        "\n",
        "Ohio and Virginia want to connect with each other using a bullet train. We can simulate a virtual train using nodes and a linked list. Here are the rules:\n",
        "\n",
        "1. There are 10 modules of the train. Each module has their name (in numbers), container description, and a reference to the next module. i.e (Module 1 is carrying passengers and is linked to module 2)\n",
        "The modules are [passengers, baggage, crew, equipment, food, oil, emergency supplies, passengers, baggage, crew].\n",
        "2. The train traveled 2 hours and needs to unload the second wave of passengers, baggage, and crew. Ensure the train unloads the last 3 modules before heading to Ohio.\n",
        "3. We reached Ohio! Remove each module one-by-one until it reaches the crew module."
      ]
    },
    {
      "cell_type": "markdown",
      "metadata": {
        "colab_type": "text",
        "id": "QlAtYu5TwwcT"
      },
      "source": [
        "## DIY:\n",
        "---"
      ]
    },
    {
      "cell_type": "code",
      "metadata": {
        "colab_type": "code",
        "id": "ZXJvxU-RwwcU",
        "colab": {}
      },
      "source": [
        ""
      ],
      "execution_count": null,
      "outputs": []
    },
    {
      "cell_type": "markdown",
      "metadata": {
        "id": "Q7uCzxxmGzqP",
        "colab_type": "text"
      },
      "source": [
        "# Summary:\n",
        "---\n"
      ]
    },
    {
      "cell_type": "markdown",
      "metadata": {
        "id": "muTSrOQMImMq",
        "colab_type": "text"
      },
      "source": [
        "1. What is another real life example where linked lists are applied?\n",
        "2. What is the process of removing an element?\n",
        "3. What is the process of inserting an element?\n",
        "4. Are linked lists contiguous (next or together in sequence)? "
      ]
    },
    {
      "cell_type": "markdown",
      "metadata": {
        "id": "4AmHQnAO6UP9",
        "colab_type": "text"
      },
      "source": [
        "# Homework:\n",
        "---\n"
      ]
    },
    {
      "cell_type": "markdown",
      "metadata": {
        "id": "eXHsNwy3IlOn",
        "colab_type": "text"
      },
      "source": [
        "1. Replace an element with a different element in a linked list.\n",
        "For example, say the linked list is 1 -> 2 -> 3, replace 1 with 3. The new linked list returns 3 -> 2 -> 3. To keep it simple, make it work when it finds the first instance of the target and then exits out. \n",
        "\n",
        "I.E 1->2->2->3->4 replace(2,5) returns\n",
        "\n",
        "1->5->2->3->4 \n",
        "\n",
        "NOT 1->5->5->3->4 \n",
        "\n",
        "> Hint: A combination of find and insert\n",
        "\n",
        "> Hint 2: Think small, what happens if there is only 1 element, 2 , 3 , etc."
      ]
    },
    {
      "cell_type": "code",
      "metadata": {
        "id": "YmTERraIzlDW",
        "colab_type": "code",
        "colab": {}
      },
      "source": [
        "class Node: \n",
        "\tdef __init__(self, data): \n",
        "\t\tself.data = data\n",
        "\t\tself.next = None \n",
        "\n",
        "class LinkedList: \n",
        "  def __init__(self): \n",
        "    self.head = None\n",
        "\n",
        "  def printLinkedList(self):\n",
        "    temp = self.head \n",
        "    while temp: \n",
        "      print(temp.data) \n",
        "      temp = temp.next\n",
        "\n",
        "  # TODO\n",
        "  # To keep it simple, once you replace one value, \n",
        "  #  exit out of the function\n",
        "  def replace(target, newValue):\n",
        "    pass\n",
        "  \n",
        "\n",
        "if __name__=='__main__': \n",
        "  llist = LinkedList() \n",
        "\n",
        "  llist.head = Node(1) \n",
        "  second = Node(2) \n",
        "  third = Node(3)\n",
        "\n",
        "  llist.head.next = second\n",
        "  second.next = third\n",
        "\n",
        "  print(\"Before\")\n",
        "  llist.printLinkedList()\n",
        "  # added this code\n",
        "  llist.replace(1,3)\n",
        "  print(\"After\")\n",
        "  llist.printLinkedList()"
      ],
      "execution_count": null,
      "outputs": []
    },
    {
      "cell_type": "markdown",
      "metadata": {
        "id": "sGIYpA2949ZK",
        "colab_type": "text"
      },
      "source": [
        "# Notes on homework:\n",
        "---"
      ]
    },
    {
      "cell_type": "markdown",
      "metadata": {
        "id": "1W21sec6G3Rq",
        "colab_type": "text"
      },
      "source": [
        "I will check in on Thursday,  through email to check on your progress. Respond with any questions you might have. Otherwise, a simple “all good” is appropriate if you have no questions or comments. \n",
        "\n",
        "You will need to upload your coding homework assignments to GitHub.\n",
        "1. In gitbash, change directories to the homework directory: tomas_python/homework\n",
        "* TIP: use ‘cd’ to change directories\n",
        "* Use ‘cd ..’ to return to the previous directory\n",
        "* Use ‘pwd’ to show full pathname of the current working directory \n",
        "* Use ‘ls’ to list all your directories\n",
        "2. Once you’re in that directory, type in ‘git pull’\n",
        "* This ensures you have all updated files\n",
        "* If there is an error involved, email me immediately so we can try resolving it.\n",
        "* Otherwise, type your code below and we’ll resolve issues next class\n",
        "3. To create a new file, type in ‘touch hw01.py’ or the appropriate file name\n",
        "* ‘Touch’ creates a new file\n",
        "4. Open up the python file and start coding!\n",
        "\n",
        "Note: Become familiar with these actions. This is essentially what happens in the backend when you right-click and create a new folder/file!\n"
      ]
    }
  ]
}