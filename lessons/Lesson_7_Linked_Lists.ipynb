{
  "nbformat": 4,
  "nbformat_minor": 0,
  "metadata": {
    "colab": {
      "name": "Lesson 7: Linked Lists",
      "provenance": [],
      "collapsed_sections": [
        "QanMmuiXOoLE",
        "glCedjN-Gd6s",
        "1ZBpqEKtG_oj",
        "lKe-QKCKHDHF",
        "3h9KXoB22Dx5",
        "TYZo-3ZO2Dx8",
        "BUd7NCVj2Dx_",
        "vlEQORJr2LjC",
        "sGIYpA2949ZK"
      ]
    },
    "kernelspec": {
      "display_name": "Python 3",
      "name": "python3"
    }
  },
  "cells": [
    {
      "cell_type": "markdown",
      "metadata": {
        "id": "Uq6oR46pHrLH",
        "colab_type": "text"
      },
      "source": [
        "# Lesson 7: Linked Lists \n",
        "---\n",
        "Intro: We will continue our lesson with learning about another data structure."
      ]
    },
    {
      "cell_type": "markdown",
      "metadata": {
        "id": "QanMmuiXOoLE",
        "colab_type": "text"
      },
      "source": [
        "# Review\n",
        "---"
      ]
    },
    {
      "cell_type": "markdown",
      "metadata": {
        "id": "DaCl2d80AQnf",
        "colab_type": "text"
      },
      "source": [
        "HW:\n",
        "```\n",
        "def bubbleSort(arr):\n",
        "    n = len(arr)\n",
        " \n",
        "    # Traverse through all array elements\n",
        "    for i in range(n):\n",
        " \n",
        "        # Last i elements are already in place\n",
        "        for j in range(0, n-i-1):\n",
        " \n",
        "            # traverse the array from 0 to n-i-1\n",
        "            # Swap if the element found is greater\n",
        "            # than the next element\n",
        "            if arr[j] > arr[j+1] :\n",
        "                arr[j], arr[j+1] = arr[j+1], arr[j]\n",
        " \n",
        "# Driver code to test above\n",
        "arr = [64, 34, 25, 12, 22, 11, 90]\n",
        " \n",
        "bubbleSort(arr)\n",
        "```\n",
        "\n",
        "1. What is Big-O Notation?\n",
        "2. Which one is faster: O(n) or O(n^2)?\n",
        "3. What are lists?\n",
        "4. What is the time, space complexity of following code :"
      ]
    },
    {
      "cell_type": "code",
      "metadata": {
        "id": "-h_ftDQ5GAWd",
        "colab_type": "code",
        "colab": {}
      },
      "source": [
        "# assum rand() is O(1)\n",
        "a = 0\n",
        "b = 0    \n",
        "for i in range(N):\n",
        "  a = a + rand()\n",
        "for i in range(M)\n",
        "  b = b + rand()"
      ],
      "execution_count": null,
      "outputs": []
    },
    {
      "cell_type": "markdown",
      "metadata": {
        "id": "glCedjN-Gd6s",
        "colab_type": "text"
      },
      "source": [
        "# Concept 1: Linked Lists\n",
        "---\n"
      ]
    },
    {
      "cell_type": "markdown",
      "metadata": {
        "id": "25oLA8_cHOH7",
        "colab_type": "text"
      },
      "source": [
        "## What are they?\n",
        "A linked list is a sequence of data elements, which are connected together via links. Each data element contains a connection to another data element in form of a pointer. Python does not have linked lists in its standard library. We will implement the concept of linked lists using the concept of nodes. We are going to study the types of linked lists known as singly linked lists. In this type of data structure there is only one link between any two data elements. We create such a list and create additional methods to insert, update and remove elements from the list.\n",
        "\n",
        "Each element of a linked list is called a node, and every node has two different fields:\n",
        "\n",
        "* **Data** contains the value to be stored in the node.\n",
        "* **Next** contains a reference to the next node on the list.\n",
        "* Click [here](https://images.app.goo.gl/po65itgma7pX598i8) to see what a typical node looks like:\n",
        "\n",
        "A linked list is a collection of nodes. The first node is called the head, and it’s used as the starting point for any iteration through the list. If you delete the head, you delete everything so be careful! The last node must have its next reference pointing to None to determine the end of the list. \n",
        "\n",
        "In most programming languages, there are clear differences in the way linked lists and arrays are stored in memory. In Python, however, lists are dynamic arrays. That means that the memory usage of both lists and linked lists is very similar. Python’s list type is implemented as a dynamic array—which means it doesn’t suit the typical scenarios where you’d want to use a “proper” linked list data structure for performance reasons.\n",
        "\n",
        "Important take aways:\n",
        "* In memory, it is not contiguous like arrays. These \"pointers\" can point to different data in other parts of memory.\n",
        "* They are dynamic.\n",
        "* Usually needs another class like Node to be implemented. \n",
        "* In Python, lists and linked lists are similar because they are dynamic arrays. However to understand how linked lists work in general as well in other programming languages, we will implement our own linked list."
      ]
    },
    {
      "cell_type": "markdown",
      "metadata": {
        "id": "1ZBpqEKtG_oj",
        "colab_type": "text"
      },
      "source": [
        "## Examples:\n",
        "---"
      ]
    },
    {
      "cell_type": "markdown",
      "metadata": {
        "id": "m6u4nOyqmbIB",
        "colab_type": "text"
      },
      "source": [
        "1. Stacks and queues apply linked lists. We created our own stacks and queues using Python's list from the standard library. \n",
        "2. Lines at a grocery store\n",
        "3. A stack of plates"
      ]
    },
    {
      "cell_type": "markdown",
      "metadata": {
        "id": "lKe-QKCKHDHF",
        "colab_type": "text"
      },
      "source": [
        "## DIY:\n",
        "---"
      ]
    },
    {
      "cell_type": "markdown",
      "metadata": {
        "id": "-TfSR9x2twbS",
        "colab_type": "text"
      },
      "source": [
        "1. What does each node contain?\n",
        "2. What are the differences between a list and a linked list in Python?"
      ]
    },
    {
      "cell_type": "markdown",
      "metadata": {
        "colab_type": "text",
        "id": "3h9KXoB22Dx5"
      },
      "source": [
        "# Concept 2: Setting up the Code\n",
        "---\n"
      ]
    },
    {
      "cell_type": "markdown",
      "metadata": {
        "colab_type": "text",
        "id": "gz-R9CEy2Dx7"
      },
      "source": [
        "## What is it?\n",
        "A linked list is represented by a reference to the first node of the linked list. The first node is called the head. If a linked list is empty, then the value of head is None.\n",
        "\n",
        "Each node in a list consists of at least two parts:\n",
        "1. Data\n",
        "2. Pointer (Or Reference) to the next node\n",
        "\n",
        "```\n",
        "# Node class \n",
        "class Node: \n",
        "\n",
        "    # Function to initialise the node object \n",
        "    def __init__(self, data): \n",
        "        self.data = data  # Assign data \n",
        "        self.next = None  # Initialize next as null \n",
        "  \n",
        "# Linked List class contains a Node object \n",
        "class LinkedList: \n",
        "  \n",
        "    # Function to initialize head \n",
        "    def __init__(self): \n",
        "        self.head = None\n",
        "```\n",
        "Let's look at this further:\n",
        "* We have a class Node that will represent each node or element in the linked list. The constructor initializes the data and next element as null until we specify the next node.\n",
        "* Next we have a class LinkedList. Remember that a linked list consists of nodes. The first node is called the head so to initialize a linked list, you just need to initialize the head.\n",
        "\n",
        "This example shows you how to create a linked list of numbers. Below that is code without comments.\n"
      ]
    },
    {
      "cell_type": "code",
      "metadata": {
        "id": "8-Z0CpoOyW0W",
        "colab_type": "code",
        "colab": {}
      },
      "source": [
        "# A simple Python program to introduce a linked list \n",
        "\n",
        "# Node class \n",
        "class Node: \n",
        "\n",
        "\t# Function to initialise the node object \n",
        "\tdef __init__(self, data): \n",
        "\t\tself.data = data # Assign data \n",
        "\t\tself.next = None # Initialize next as null \n",
        "\n",
        "\n",
        "# Linked List class contains a Node object \n",
        "class LinkedList: \n",
        "\n",
        "\t# Function to initialize head \n",
        "\tdef __init__(self): \n",
        "\t\tself.head = None\n",
        "\n",
        "\n",
        "# Code execution starts here \n",
        "if __name__=='__main__': \n",
        "\n",
        "\t# Start with the empty list \n",
        "\tllist = LinkedList() \n",
        "\n",
        "\tllist.head = Node(1) \n",
        "\tsecond = Node(2) \n",
        "\tthird = Node(3) \n",
        "\n",
        "\t''' \n",
        "\tThree nodes have been created. \n",
        "\tWe have references to these three blocks as head, \n",
        "\tsecond and third \n",
        "\n",
        "\tllist.head\t second\t\t\t third \n",
        "\t\t|\t\t\t |\t\t\t\t | \n",
        "\t\t|\t\t\t |\t\t\t\t | \n",
        "\t+----+------+\t +----+------+\t +----+------+ \n",
        "\t| 1 | None |\t | 2 | None |\t | 3 | None | \n",
        "\t+----+------+\t +----+------+\t +----+------+ \n",
        "\t'''\n",
        "\n",
        "\tllist.head.next = second # Link first node with second \n",
        "\n",
        "\t''' \n",
        "\tNow next of first Node refers to second. So they \n",
        "\tboth are linked. \n",
        "\n",
        "\tllist.head\t second\t\t\t third \n",
        "\t\t|\t\t\t |\t\t\t\t | \n",
        "\t\t|\t\t\t |\t\t\t\t | \n",
        "\t+----+------+\t +----+------+\t +----+------+ \n",
        "\t| 1 | o-------->| 2 | null |\t | 3 | null | \n",
        "\t+----+------+\t +----+------+\t +----+------+ \n",
        "\t'''\n",
        "\n",
        "\tsecond.next = third # Link second node with the third node \n",
        "\n",
        "\t''' \n",
        "\tNow next of second Node refers to third. So all three \n",
        "\tnodes are linked. \n",
        "\n",
        "\tllist.head\t second\t\t\t third \n",
        "\t\t|\t\t\t |\t\t\t\t | \n",
        "\t\t|\t\t\t |\t\t\t\t | \n",
        "\t+----+------+\t +----+------+\t +----+------+ \n",
        "\t| 1 | o-------->| 2 | o-------->| 3 | null | \n",
        "\t+----+------+\t +----+------+\t +----+------+ \n",
        "\t'''"
      ],
      "execution_count": null,
      "outputs": []
    },
    {
      "cell_type": "code",
      "metadata": {
        "id": "7RGUHDNBGoKx",
        "colab_type": "code",
        "colab": {}
      },
      "source": [
        "class Node: \n",
        "\tdef __init__(self, data): \n",
        "\t\tself.data = data\n",
        "\t\tself.next = None \n",
        "\n",
        "class LinkedList: \n",
        "\tdef __init__(self): \n",
        "\t\tself.head = None\n",
        "\n",
        "\n",
        "if __name__=='__main__': \n",
        "\tllist = LinkedList() \n",
        "\n",
        "\tllist.head = Node(1) \n",
        "\tsecond = Node(2) \n",
        "\tthird = Node(3)\n",
        " \n",
        "\tllist.head.next = second\n",
        "\tsecond.next = third"
      ],
      "execution_count": null,
      "outputs": []
    },
    {
      "cell_type": "markdown",
      "metadata": {
        "colab_type": "text",
        "id": "TYZo-3ZO2Dx8"
      },
      "source": [
        "## Example:\n",
        "---"
      ]
    },
    {
      "cell_type": "markdown",
      "metadata": {
        "id": "QGTZct4aH1ig",
        "colab_type": "text"
      },
      "source": [
        "1. Assume we have the code above, here is the function to prepend an item to the linked list. (insert a new element at the beginning)"
      ]
    },
    {
      "cell_type": "code",
      "metadata": {
        "colab_type": "code",
        "id": "hz2U1lUK2Dx8",
        "colab": {}
      },
      "source": [
        "def prepend(self, data):\n",
        "  # hold the entire linked list into a temporary variable\n",
        "  tempHead = self.head\n",
        "  # Assign the original head to the new node\n",
        "  self.head = Node(data)\n",
        "  # Assign the next node with the original head\n",
        "  self.head.next = tempHead \n",
        "\n",
        "\n",
        "'''\n",
        "Original linked list\n",
        "\n",
        "  Step 1:\n",
        "\n",
        "                   +----+------+     +----+------+     +----+------+ \n",
        "self.head =         | 1 | o-------->| 2 | o-------->| 3 | null | \n",
        "                   +----+------+     +----+------+     +----+------+\n",
        "\n",
        "\n",
        "                   +----+------+     +----+------+     +----+------+ \n",
        "tempHead =         | 1 | o-------->| 2 | o-------->| 3 | null | \n",
        "                   +----+------+     +----+------+     +----+------+\n",
        "\n",
        "  Step 2:\n",
        "\n",
        "self.head =        +----+------+ \n",
        "                   | 4 | null | \n",
        "                   +----+------+\n",
        "\n",
        "  Step 3:\n",
        "\n",
        "self.head =        +----+------+     +----+------+     +----+------+    +----+------+ \n",
        "                   | 4 | o-------->| 1 | o-------->| 2 | o-------->   3 | null | \n",
        "                   +----+------+     +----+------+     +----+------+    +----+------+\n",
        "\n",
        "'''"
      ],
      "execution_count": null,
      "outputs": []
    },
    {
      "cell_type": "markdown",
      "metadata": {
        "colab_type": "text",
        "id": "BUd7NCVj2Dx_"
      },
      "source": [
        "## DIY / Walkthrough:\n",
        "---"
      ]
    },
    {
      "cell_type": "markdown",
      "metadata": {
        "id": "brBpRrA0Kreq",
        "colab_type": "text"
      },
      "source": [
        "1. Now create a function that appends an element to the end of the linked list. This is a bit more complicated so give it some more thought. Assume that we have the Node and Linked List class. Ask questions and thoroughly think it out. The concepts below will have more explanations.\n",
        "\n",
        "Hints:\n",
        "* Need to check if the linked list is empty or not\n",
        "* Need to iterate through the entire linked list until the end\n",
        "* Once you reach the end, append the item"
      ]
    },
    {
      "cell_type": "code",
      "metadata": {
        "colab_type": "code",
        "id": "_M3wLGl_2DyA",
        "colab": {}
      },
      "source": [
        "-def append(data):\n",
        "  if self.head == None:\n",
        "    self.head = Node(data)\n",
        "    return\n",
        "    current = self.head\n",
        "    while current.next:\n",
        "      current = current.next\n",
        "    current.next = Node(data)\n"
      ],
      "execution_count": null,
      "outputs": []
    },
    {
      "cell_type": "markdown",
      "metadata": {
        "id": "rLifU0fmQlum",
        "colab_type": "text"
      },
      "source": [
        "What is the time and space complexity?"
      ]
    },
    {
      "cell_type": "markdown",
      "metadata": {
        "colab_type": "text",
        "id": "rR2gZwpt2Li9"
      },
      "source": [
        "# Concept 3: Printing the Linked List\n",
        "---\n"
      ]
    },
    {
      "cell_type": "markdown",
      "metadata": {
        "colab_type": "text",
        "id": "mllbbPpF2Li-"
      },
      "source": [
        "## What is it?\n",
        "\n",
        "So now you got an idea of how to add and prepend an element to the linked list. Next, we will simply print out the elements of the list.\n",
        "\n",
        "Here are the steps:\n",
        "1. Using a temporary variable, check if the linked list is empty.\n",
        "2. If it is not empty, we need to iterate throught the entire linked list and print each element. \n",
        "\n",
        "The code:\n"
      ]
    },
    {
      "cell_type": "code",
      "metadata": {
        "id": "TsS11GIElxy5",
        "colab_type": "code",
        "colab": {}
      },
      "source": [
        "def printLinkedList():\n",
        "  temp = self.head \n",
        "  while temp: \n",
        "      print(temp.data) \n",
        "      temp = temp.next"
      ],
      "execution_count": null,
      "outputs": []
    },
    {
      "cell_type": "markdown",
      "metadata": {
        "id": "wf13YSwTOrzT",
        "colab_type": "text"
      },
      "source": [
        "Let's look at this further:\n",
        "\n",
        "* `temp = self.head` - We store the head of the linked list into a temporary variable. Although we can use the linked list directly, we need to temporarily store the linked list somewhere else so we don't accidentally mess with the data.\n",
        "* `while temp:` - shortcut to checking if the variable is null. If the variable is null, it will exit out of the loop. If the variable contains data, the while loop is true.\n",
        "* `print(temp.data)` - We print out the data.\n",
        "* `temp = temp.next` - In order to advance or iterate through the list, we need to call the next node. Recall that the last element in the linked list has a \"next\" referenced to null."
      ]
    },
    {
      "cell_type": "markdown",
      "metadata": {
        "id": "f3-kGnaBl3o-",
        "colab_type": "text"
      },
      "source": [
        "What is the time and space complexity?"
      ]
    },
    {
      "cell_type": "markdown",
      "metadata": {
        "colab_type": "text",
        "id": "YGDnmqWb2Li_"
      },
      "source": [
        "## Example:\n",
        "---"
      ]
    },
    {
      "cell_type": "code",
      "metadata": {
        "colab_type": "code",
        "id": "oF8gIcaD2LjA",
        "colab": {
          "base_uri": "https://localhost:8080/",
          "height": 68
        },
        "outputId": "e75df53e-3e91-4b2c-ba27-fe201b6d8aaf"
      },
      "source": [
        "class Node: \n",
        "\tdef __init__(self, data): \n",
        "\t\tself.data = data\n",
        "\t\tself.next = None \n",
        "\n",
        "class LinkedList: \n",
        "  def __init__(self): \n",
        "    self.head = None\n",
        "\n",
        "  # Added this code\n",
        "  def printLinkedList(self):\n",
        "    temp = self.head \n",
        "    while temp: \n",
        "      print(temp.data) \n",
        "      temp = temp.next\n",
        "\n",
        "\n",
        "if __name__=='__main__': \n",
        "  llist = LinkedList() \n",
        "\n",
        "  llist.head = Node(1) \n",
        "  second = Node(2) \n",
        "  third = Node(3)\n",
        "\n",
        "  llist.head.next = second\n",
        "  second.next = third\n",
        "\n",
        "  # Added this code\n",
        "  llist.printLinkedList()"
      ],
      "execution_count": null,
      "outputs": [
        {
          "output_type": "stream",
          "text": [
            "1\n",
            "2\n",
            "3\n"
          ],
          "name": "stdout"
        }
      ]
    },
    {
      "cell_type": "markdown",
      "metadata": {
        "colab_type": "text",
        "id": "vlEQORJr2LjC"
      },
      "source": [
        "## DIY:\n",
        "---"
      ]
    },
    {
      "cell_type": "markdown",
      "metadata": {
        "id": "bmboGOZYpizH",
        "colab_type": "text"
      },
      "source": [
        "1. Without looking at the above code, recreate the printLinkedList function.\n",
        "\n"
      ]
    },
    {
      "cell_type": "code",
      "metadata": {
        "colab_type": "code",
        "id": "txhvQSCN2LjE",
        "colab": {}
      },
      "source": [
        "def printLList():\n",
        "  current = self.head\n",
        "  while current:\n",
        "    print(current.data)\n",
        "    current = current.next"
      ],
      "execution_count": null,
      "outputs": []
    },
    {
      "cell_type": "markdown",
      "metadata": {
        "colab_type": "text",
        "id": "ENtnA49zQxPl"
      },
      "source": [
        "# Concept 4: Removing an element\n",
        "---\n"
      ]
    },
    {
      "cell_type": "markdown",
      "metadata": {
        "colab_type": "text",
        "id": "jxsL8ob_QxPn"
      },
      "source": [
        "## What is it?\n",
        "\n",
        "Removing an element is a bit more complex than usual. Imagine you have a row of people linking hands. \n",
        "\n",
        "Each person is a node and their arms are links. As you can imagine, the last person in line is holding no one so that represents a node referencing to None. \n",
        "\n",
        "What happens when a person in line removes themself? How does the line remain intact without letting go of their hands?\n",
        "\n",
        "Let's call the person that needs to be removed: Taylor.\n",
        "\n",
        "1. The person to the left of Taylor lets go of his hands and links with the person to the right of Taylor.\n",
        "2. Now Taylor can let go of both people and the line remains intact.\n",
        "\n",
        "These steps are critical when dealing with linked lists as you always want to keep the linked list intact either through temporary variables.\n",
        "\n",
        "So that example was for removing an element somewhere in a linked list. Pause here and think of ways to remove an element when it is the first node and the last node.\n",
        "\n",
        "Here are the steps:\n",
        "\n",
        "1. Iterate through the linked list to find the element to remove. O(n)\n",
        "2. Create variables called previous assigned to None and current assigned to head.\n",
        "3. Next, iterate through the loop while checking if the data is what we need to remove.\n",
        "4. Advance the loop by setting current to current's next and previous to current.\n",
        "5. The loop exits once the current's data is identical to the data that we need to remove.\n",
        "6. Outside the loop, we now check if current is at the head or at other places.\n",
        "7. If the previous is None meaning we are at the beginning of the linked list, set the head to current's next.\n",
        "8. Otherwise, check if the current is not None then set previous' next to current's next, and current's next to None.\n",
        "\n",
        "Below is the code.\n",
        "What is the time and space complexity?"
      ]
    },
    {
      "cell_type": "code",
      "metadata": {
        "id": "lWdpNT05y9xn",
        "colab_type": "code",
        "colab": {}
      },
      "source": [
        "def remove(self, key):\n",
        "      \"\"\"\n",
        "      Remove the first occurrence of `key` in the list.\n",
        "      Takes O(n) time.\n",
        "      \"\"\"\n",
        "      # Find the element and keep a\n",
        "      # reference to the element preceding it\n",
        "      curr = self.head\n",
        "      prev = None\n",
        "      while curr and curr.data != key:\n",
        "          prev = curr\n",
        "          curr = curr.next\n",
        "      # Unlink it from the list\n",
        "      if prev is None:\n",
        "          self.head = curr.next\n",
        "      elif curr:\n",
        "          prev.next = curr.next\n",
        "          curr.next = None\n",
        "'''\n",
        "Original linked list\n",
        "\n",
        "+----+------+     +----+------+     +----+------+ \n",
        "| 1 | o-------->| 2 | o-------->| 3 | null | \n",
        "+----+------+     +----+------+     +----+------+\n",
        "\n",
        "              --------------------|\n",
        "+----+------+ |   +----+------+   V   +----+------+ \n",
        "| 1 | o-------| | 2 | o-------->| 3 | null | \n",
        "+----+------+      +----+------+     +----+------+\n",
        "\n",
        "              --------------------|\n",
        "+----+------+ |   +----+------+   V   +----+------+ \n",
        "| 1 | o-------| | 2 |null         3 | null | \n",
        "+----+------+      +----+------+     +----+------+\n",
        "\n",
        "\n",
        "+----+------+     +----+------+ \n",
        "| 1 | o-------->| 3 | null | \n",
        "+----+------+     +----+------+    \n",
        "\n",
        "'''"
      ],
      "execution_count": null,
      "outputs": []
    },
    {
      "cell_type": "markdown",
      "metadata": {
        "colab_type": "text",
        "id": "exI1VGSoQxPn"
      },
      "source": [
        "## Example:\n",
        "---"
      ]
    },
    {
      "cell_type": "code",
      "metadata": {
        "colab_type": "code",
        "id": "V1TKKXEUQxPo",
        "colab": {
          "base_uri": "https://localhost:8080/",
          "height": 137
        },
        "outputId": "1eaceb33-75f3-4848-ba21-4c6774628566"
      },
      "source": [
        "class Node: \n",
        "\tdef __init__(self, data): \n",
        "\t\tself.data = data\n",
        "\t\tself.next = None \n",
        "\n",
        "class LinkedList: \n",
        "  def __init__(self): \n",
        "    self.head = None\n",
        "\n",
        "  def printLinkedList(self):\n",
        "    temp = self.head \n",
        "    while temp: \n",
        "      print(temp.data) \n",
        "      temp = temp.next\n",
        "\n",
        "  # Added this code\n",
        "  def remove(self, key):\n",
        "    \"\"\"\n",
        "    Remove the first occurrence of `key` in the list.\n",
        "    Takes O(n) time.\n",
        "    \"\"\"\n",
        "    # Find the element and keep a\n",
        "    # reference to the element preceding it\n",
        "    curr = self.head\n",
        "    prev = None\n",
        "    while curr and curr.data != key:\n",
        "      prev = curr\n",
        "      curr = curr.next\n",
        "    # Unlink it from the list\n",
        "    if prev is None:\n",
        "      self.head = curr.next\n",
        "    elif curr:\n",
        "      prev.next = curr.next\n",
        "      curr.next = None\n",
        "  \n",
        "\n",
        "\n",
        "if __name__=='__main__': \n",
        "  llist = LinkedList() \n",
        "\n",
        "  llist.head = Node(1) \n",
        "  second = Node(2) \n",
        "  third = Node(3)\n",
        "\n",
        "  llist.head.next = second\n",
        "  second.next = third\n",
        "\n",
        "  print(\"Before\")\n",
        "  llist.printLinkedList()\n",
        "  # added this code\n",
        "  llist.remove(2)\n",
        "  print(\"After\")\n",
        "  llist.printLinkedList()"
      ],
      "execution_count": null,
      "outputs": [
        {
          "output_type": "stream",
          "text": [
            "Before\n",
            "1\n",
            "2\n",
            "3\n",
            "After\n",
            "1\n",
            "3\n"
          ],
          "name": "stdout"
        }
      ]
    },
    {
      "cell_type": "markdown",
      "metadata": {
        "colab_type": "text",
        "id": "qhv2QGabQxPr"
      },
      "source": [
        "## DIY:\n",
        "---"
      ]
    },
    {
      "cell_type": "markdown",
      "metadata": {
        "id": "GVlXZPD35R4_",
        "colab_type": "text"
      },
      "source": [
        "1. Without looking at the above code, recreate the remove function.\n",
        "\n"
      ]
    },
    {
      "cell_type": "code",
      "metadata": {
        "colab_type": "code",
        "id": "QcjuD3UVQxPs",
        "colab": {}
      },
      "source": [
        "def remove(key):"
      ],
      "execution_count": null,
      "outputs": []
    },
    {
      "cell_type": "markdown",
      "metadata": {
        "colab_type": "text",
        "id": "Bp-Za2l_sGrS"
      },
      "source": [
        "# Concept 5: Reversing a Linked List\n",
        "---\n",
        "\n"
      ]
    },
    {
      "cell_type": "markdown",
      "metadata": {
        "colab_type": "text",
        "id": "6nl7l1p0sGrT"
      },
      "source": [
        "## What is it?\n",
        "\n",
        "Similar to removing an element, we need to keep track of the links. Yes we can simply just say the tail is the head and vice versa but the links are going to be different. We need to individually switch the links to reverse the linked list.\n",
        "\n",
        "Steps:\n",
        "1. Keep track of current, previous, and next nodes.\n",
        "2. Iterate through the entire list.\n",
        "3. Switch the next node with current's next.\n",
        "4. Assign current's next with previous node.\n",
        "5. Assign previous node with current.\n",
        "6. Assign current with next node.\n",
        "7. Once the loop exits, assign the head with the previous node.\n",
        "\n",
        "Watch this [video](https://youtu.be/D7y_hoT_YZI) now (2 min). The code is in Java but the concept is still similar.\n",
        "\n",
        "The code:\n",
        "```\n",
        "def reverse(self):\n",
        "  \"\"\"\n",
        "  Reverse the list in-place.\n",
        "  Takes O(n) time.\n",
        "  \"\"\"\n",
        "  curr = self.head\n",
        "  prev_node = None\n",
        "  next_node = None\n",
        "  while curr:\n",
        "    next_node = curr.next\n",
        "    curr.next = prev_node\n",
        "    prev_node = curr\n",
        "    curr = next_node\n",
        "  self.head = prev_node\n",
        "```\n",
        "\n",
        "Let's break it down further:\n",
        "* `curr = self.head`: Set the current node to the head\n",
        "* `prev_node, next_node`: Initialize these to None\n",
        "* `while curr:`: Iterate through the entire linked list (stops until it reaches None or the end of the list)\n",
        "* `next_node = curr.next`: Need to keep curr.next in a temporary variable. This would be the step or the incrementer to continue looping through the linked list.\n",
        "* `curr.next = prev_node`: This is reversing the links. What would have been the next node is now the previous node. \n",
        "* `prev_node = curr`: Similarly, we set the previous node to the current node.Again we are switching the links.\n",
        "* `curr = next_node`: Remember setting next_node? We now set curr to the next_node so we can continue advancing through the linked list.\n",
        "* `self.head = prev_node`: Once we reach the tail of the list, we can finally say that the tail is head. Here we assign the head with the previous node.\n",
        "\n",
        "What is the time and space complexity?\n"
      ]
    },
    {
      "cell_type": "markdown",
      "metadata": {
        "colab_type": "text",
        "id": "vfdAtsgnsGrU"
      },
      "source": [
        "## Example:\n",
        "---"
      ]
    },
    {
      "cell_type": "code",
      "metadata": {
        "colab_type": "code",
        "id": "BVZ7QuNAsGrU",
        "colab": {}
      },
      "source": [
        "class Node: \n",
        "\tdef __init__(self, data): \n",
        "\t\tself.data = data\n",
        "\t\tself.next = None \n",
        "\n",
        "class LinkedList: \n",
        "  def __init__(self): \n",
        "    self.head = None\n",
        "\n",
        "  def printLinkedList(self):\n",
        "    temp = self.head \n",
        "    while temp: \n",
        "      print(temp.data) \n",
        "      temp = temp.next\n",
        "\n",
        "  # Added this code\n",
        "  def reverse(self):\n",
        "    curr = self.head\n",
        "    prev_node = None\n",
        "    next_node = None\n",
        "    while curr:\n",
        "      next_node = curr.next\n",
        "      curr.next = prev_node\n",
        "      prev_node = curr\n",
        "      curr = next_node\n",
        "    self.head = prev_node\n",
        "  \n",
        "\n",
        "\n",
        "if __name__=='__main__': \n",
        "  llist = LinkedList() \n",
        "\n",
        "  llist.head = Node(1) \n",
        "  second = Node(2) \n",
        "  third = Node(3)\n",
        "\n",
        "  llist.head.next = second\n",
        "  second.next = third\n",
        "\n",
        "  print(\"Before\")\n",
        "  llist.printLinkedList()\n",
        "  # added this code\n",
        "  llist.reverse()\n",
        "  print(\"After\")\n",
        "  llist.printLinkedList()"
      ],
      "execution_count": null,
      "outputs": []
    },
    {
      "cell_type": "markdown",
      "metadata": {
        "colab_type": "text",
        "id": "bYcWzYoLsGrY"
      },
      "source": [
        "## DIY:\n",
        "---"
      ]
    },
    {
      "cell_type": "markdown",
      "metadata": {
        "id": "DbBbGD4DxPoc",
        "colab_type": "text"
      },
      "source": [
        "1. Without looking at the above code, recreate the reverse function."
      ]
    },
    {
      "cell_type": "code",
      "metadata": {
        "colab_type": "code",
        "id": "-9T47u0FsGrZ",
        "colab": {}
      },
      "source": [
        "def reverse():\n",
        "  "
      ],
      "execution_count": null,
      "outputs": []
    },
    {
      "cell_type": "markdown",
      "metadata": {
        "id": "Q7uCzxxmGzqP",
        "colab_type": "text"
      },
      "source": [
        "# Summary:\n",
        "---\n"
      ]
    },
    {
      "cell_type": "markdown",
      "metadata": {
        "id": "8KvONM0-19cX",
        "colab_type": "text"
      },
      "source": [
        "1. What are the advantages and disadvantages of linked lists?\n",
        "2. What is the process of appending an element to a linked list?\n",
        "2. What is the process of removing an element to a linked list?\n",
        "2. What is the process of reversing an element to a linked list?\n",
        "3. What is the time complexity of finding an element in the linked list?"
      ]
    },
    {
      "cell_type": "markdown",
      "metadata": {
        "id": "4AmHQnAO6UP9",
        "colab_type": "text"
      },
      "source": [
        "# Homework:\n",
        "---\n"
      ]
    },
    {
      "cell_type": "markdown",
      "metadata": {
        "id": "p5tAqsfX1_t_",
        "colab_type": "text"
      },
      "source": [
        "1. Using the starter code below, create a function that finds an element in a linked list. Return the element or `None` if not found. Takes O(n) time.\n",
        "\n",
        "> Hints: \n",
        "* Similar to what we did in removing an element\n",
        "* Need to iterate through the linked list\n",
        "* Check if current (another hint there) is the key"
      ]
    },
    {
      "cell_type": "code",
      "metadata": {
        "id": "aEwb50LQSsFd",
        "colab_type": "code",
        "colab": {}
      },
      "source": [
        "class Node: \n",
        "\tdef __init__(self, data): \n",
        "\t\tself.data = data\n",
        "\t\tself.next = None \n",
        "\n",
        "class LinkedList: \n",
        "  def __init__(self): \n",
        "    self.head = None\n",
        "\n",
        "  def printLinkedList(self):\n",
        "    temp = self.head \n",
        "    while temp: \n",
        "      print(temp.data) \n",
        "      temp = temp.next\n",
        "\n",
        "# TODO\n",
        "  def find(self, key):\n",
        "    pass\n",
        "\n",
        "\n",
        "if __name__=='__main__': \n",
        "  llist = LinkedList() \n",
        "\n",
        "  llist.head = Node(1) \n",
        "  second = Node(2) \n",
        "  third = Node(3)\n",
        "\n",
        "  llist.head.next = second\n",
        "  second.next = third\n",
        "\n",
        "  llist.printLinkedList()\n",
        "\n",
        "  # find method\n",
        "  llist.find(2)\n",
        "  llist.find(5)"
      ],
      "execution_count": null,
      "outputs": []
    },
    {
      "cell_type": "markdown",
      "metadata": {
        "id": "sGIYpA2949ZK",
        "colab_type": "text"
      },
      "source": [
        "# Notes on homework:\n",
        "---\n",
        "\n"
      ]
    },
    {
      "cell_type": "markdown",
      "metadata": {
        "id": "z__BvVar1wZl",
        "colab_type": "text"
      },
      "source": [
        "I will check in on Thursday,  through email to check on your progress. Respond with any questions you might have. Otherwise, a simple “all good” is appropriate if you have no questions or comments. \n",
        "\n",
        "You will need to upload your coding homework assignments to GitHub.\n",
        "1. In gitbash, change directories to the homework directory: tomas_python/homework\n",
        "* TIP: use ‘cd’ to change directories\n",
        "* Use ‘cd ..’ to return to the previous directory\n",
        "* Use ‘pwd’ to show full pathname of the current working directory \n",
        "* Use ‘ls’ to list all your directories\n",
        "2. Once you’re in that directory, type in ‘git pull’\n",
        "* This ensures you have all updated files\n",
        "* If there is an error involved, email me immediately so we can try resolving it.\n",
        "* Otherwise, type your code below and we’ll resolve issues next class\n",
        "3. To create a new file, type in ‘touch hw01.py’ or the appropriate file name\n",
        "* ‘Touch’ creates a new file\n",
        "4. Open up the python file and start coding!\n",
        "\n",
        "Note: Become familiar with these actions. This is essentially what happens in the backend when you right-click and create a new folder/file!"
      ]
    },
    {
      "cell_type": "markdown",
      "metadata": {
        "id": "ddKcgLGshg1S",
        "colab_type": "text"
      },
      "source": [
        "# DIY Solutions\n",
        "---"
      ]
    },
    {
      "cell_type": "code",
      "metadata": {
        "id": "gRSIvIhdhjzs",
        "colab_type": "code",
        "colab": {}
      },
      "source": [
        "def append(self, data):\n",
        "  \"\"\"\n",
        "  Insert a new element at the end of the list.\n",
        "  Takes O(n) time.\n",
        "  \"\"\"\n",
        "  # check if the head is None\n",
        "  if not self.head:\n",
        "      self.head = Node(data)\n",
        "      return\n",
        "  # iterate to the end\n",
        "  curr = self.head\n",
        "  while curr.next:\n",
        "      curr = curr.next\n",
        "  curr.next = Node(data)"
      ],
      "execution_count": null,
      "outputs": []
    }
  ]
}