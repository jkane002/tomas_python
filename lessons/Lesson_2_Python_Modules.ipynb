{
  "nbformat": 4,
  "nbformat_minor": 0,
  "metadata": {
    "colab": {
      "name": "Lesson 2: Python Modules",
      "provenance": [],
      "collapsed_sections": [
        "HaseTzhD2D2g"
      ],
      "toc_visible": true
    },
    "kernelspec": {
      "display_name": "Python 3",
      "name": "python3"
    }
  },
  "cells": [
    {
      "cell_type": "markdown",
      "metadata": {
        "id": "Uq6oR46pHrLH",
        "colab_type": "text"
      },
      "source": [
        "# Lesson 2: Common Python Modules for Beginners\n",
        "---\n",
        "Intro: Today we will look at common python modules and how to use them to improve your code!\n",
        "\n"
      ]
    },
    {
      "cell_type": "markdown",
      "metadata": {
        "id": "li5eb9osPeyc",
        "colab_type": "text"
      },
      "source": [
        "# Review\n",
        "---\n",
        "1. Review hw\n",
        "2. Github/version control\n",
        "3. While loops\n",
        "4. Functions\n"
      ]
    },
    {
      "cell_type": "markdown",
      "metadata": {
        "id": "glCedjN-Gd6s",
        "colab_type": "text"
      },
      "source": [
        "# Concept 1: Modules\n",
        "---\n"
      ]
    },
    {
      "cell_type": "markdown",
      "metadata": {
        "id": "25oLA8_cHOH7",
        "colab_type": "text"
      },
      "source": [
        "## What are they?\n",
        "A module allows you to logically organize your Python code. Grouping related code into a module makes the code easier to understand and use. A module is a Python object with arbitrarily named attributes that you can bind and reference.\n",
        "\n",
        "Simply, a module is a file consisting of Python code. A module can define functions, classes and variables. A module can also include runnable code.\n",
        "\n",
        "## Different types\n",
        "* GUI ( [tkinter](https://docs.python.org/3/library/tk.html),  [pyqt](https://wiki.python.org/moin/PyQt))\n",
        "* Databases ( [MySQLdb](https://mysqlclient.readthedocs.io/user_guide.html))\n",
        "* Websites ( [Beautiful Soup](https://www.crummy.com/software/BeautifulSoup/bs4/doc/))\n",
        "* Data Science ( [numpy](https://numpy.org/) and [scipy](https://www.scipy.org/))\n",
        "\n",
        "## How to use it?\n",
        "\n",
        "First, imagine that this code:\n",
        "```\n",
        "def print_func( par ):\n",
        "   print \"Hello : \", par\n",
        "   return\n",
        "```\n",
        "is saved in a file called support.py.\n",
        "\n",
        "You can use any Python source file as a module by executing an import statement in some other Python source file. The import has the following syntax −\n",
        "\n",
        "```\n",
        "import module1[, module2[,... moduleN]\n",
        "```\n",
        "\n",
        "When the interpreter encounters an import statement, it imports the module if the module is present in the search path. A search path is a list of directories that the interpreter searches before importing a module. For example, to import the module support.py, you need to put the following command at the top of the script −\n",
        "\n",
        "```\n",
        "#!/usr/bin/python\n",
        "\n",
        "# Import module support\n",
        "import support\n",
        "\n",
        "# Now you can call defined function that module as follows\n",
        "support.print_func(\"Zara\")\n",
        "```\n",
        "When the above code is executed, it produces the following result −\n",
        "\n",
        "```\n",
        "Hello : Zara\n",
        "```\n",
        "\n",
        "A module is loaded only once, regardless of the number of times it is imported. This prevents the module execution from happening over and over again if multiple imports occur.\n",
        "\n",
        "### The from...import Statement\n",
        "Python's from statement lets you import specific attributes from a module into the current namespace. The from...import has the following syntax −\n",
        "\n",
        "```\n",
        "from fib import fibonacci\n",
        "```\n",
        "For example, to import the function fibonacci from the module fib, use the following statement −\n",
        "```\n",
        "from fib import fibonacci\n",
        "```\n",
        "\n",
        "This statement does not import the entire module fib into the current namespace; it just introduces the item fibonacci from the module fib into the global symbol table of the importing module.\n",
        "\n",
        "### The from...import * Statement\n",
        "It is also possible to import all names from a module into the current namespace by using the following import statement −\n",
        "\n",
        "```\n",
        "from modname import *\n",
        "```\n",
        "This provides an easy way to import all the items from a module into the current namespace; however, this statement should be used sparingly.\n",
        "\n",
        "###  The dir( ) Function\n",
        "The dir() built-in function returns a sorted list of strings containing the names defined by a module.\n",
        "\n",
        "The list contains the names of all the modules, variables and functions that are defined in a module. Following is a simple example −\n",
        "```\n",
        "#!/usr/bin/python\n",
        "\n",
        "# Import built-in module math\n",
        "import math\n",
        "\n",
        "content = dir(math)\n",
        "print(content)\n",
        "```\n",
        "When the above code is executed, it produces the following result −\n",
        "```\n",
        "['__doc__', '__file__', '__name__', 'acos', 'asin', 'atan', \n",
        "'atan2', 'ceil', 'cos', 'cosh', 'degrees', 'e', 'exp', \n",
        "'fabs', 'floor', 'fmod', 'frexp', 'hypot', 'ldexp', 'log',\n",
        "'log10', 'modf', 'pi', 'pow', 'radians', 'sin', 'sinh', \n",
        "'sqrt', 'tan', 'tanh']\n",
        "```\n",
        "Here, the special string variable __ name __ is the module's name, and __ file __ is the filename from which the module was loaded.\n"
      ]
    },
    {
      "cell_type": "markdown",
      "metadata": {
        "id": "1ZBpqEKtG_oj",
        "colab_type": "text"
      },
      "source": [
        "## Examples:\n",
        "---\n",
        "In a file called mymodule.py"
      ]
    },
    {
      "cell_type": "code",
      "metadata": {
        "id": "_0450pN7HCoa",
        "colab_type": "code",
        "colab": {}
      },
      "source": [
        "def greeting(name):\n",
        "  print(\"Hello, \" + name)"
      ],
      "execution_count": null,
      "outputs": []
    },
    {
      "cell_type": "code",
      "metadata": {
        "id": "ZJBrRUl3y0ro",
        "colab_type": "code",
        "colab": {}
      },
      "source": [
        "import mymodule\n",
        "\n",
        "mymodule.greeting(\"Jonathan\")"
      ],
      "execution_count": null,
      "outputs": []
    },
    {
      "cell_type": "markdown",
      "metadata": {
        "id": "lKe-QKCKHDHF",
        "colab_type": "text"
      },
      "source": [
        "## DIY:\n",
        "---\n",
        "1. First code block is for a file called credentials.py\n",
        "2. For the second code block, import the file and print out the username and password."
      ]
    },
    {
      "cell_type": "code",
      "metadata": {
        "id": "_2nc8NVSzlz9",
        "colab_type": "code",
        "colab": {}
      },
      "source": [
        "username = \"abc@gmail.com\"\n",
        "password = \"1234567890\""
      ],
      "execution_count": null,
      "outputs": []
    },
    {
      "cell_type": "code",
      "metadata": {
        "id": "x-Hkb0FFHFbp",
        "colab_type": "code",
        "colab": {
          "base_uri": "https://localhost:8080/",
          "height": 336
        },
        "outputId": "984d2c13-b9f5-43d5-8b7c-83df7a54eb77"
      },
      "source": [
        "import credentials\n",
        "\n",
        "print(credentials.username, credentials.password)"
      ],
      "execution_count": null,
      "outputs": [
        {
          "output_type": "error",
          "ename": "ModuleNotFoundError",
          "evalue": "ignored",
          "traceback": [
            "\u001b[0;31m---------------------------------------------------------------------------\u001b[0m",
            "\u001b[0;31mModuleNotFoundError\u001b[0m                       Traceback (most recent call last)",
            "\u001b[0;32m<ipython-input-1-921ea13983fc>\u001b[0m in \u001b[0;36m<module>\u001b[0;34m()\u001b[0m\n\u001b[0;32m----> 1\u001b[0;31m \u001b[0;32mimport\u001b[0m \u001b[0mcredentials\u001b[0m\u001b[0;34m\u001b[0m\u001b[0;34m\u001b[0m\u001b[0m\n\u001b[0m\u001b[1;32m      2\u001b[0m \u001b[0;34m\u001b[0m\u001b[0m\n\u001b[1;32m      3\u001b[0m \u001b[0mprint\u001b[0m\u001b[0;34m(\u001b[0m\u001b[0mcredentials\u001b[0m\u001b[0;34m.\u001b[0m\u001b[0musername\u001b[0m\u001b[0;34m,\u001b[0m \u001b[0mcredentials\u001b[0m\u001b[0;34m.\u001b[0m\u001b[0mpassword\u001b[0m\u001b[0;34m)\u001b[0m\u001b[0;34m\u001b[0m\u001b[0;34m\u001b[0m\u001b[0m\n",
            "\u001b[0;31mModuleNotFoundError\u001b[0m: No module named 'credentials'",
            "",
            "\u001b[0;31m---------------------------------------------------------------------------\u001b[0;32m\nNOTE: If your import is failing due to a missing package, you can\nmanually install dependencies using either !pip or !apt.\n\nTo view examples of installing some common dependencies, click the\n\"Open Examples\" button below.\n\u001b[0;31m---------------------------------------------------------------------------\u001b[0m\n"
          ]
        }
      ]
    },
    {
      "cell_type": "markdown",
      "metadata": {
        "colab_type": "text",
        "id": "qsq-I1Le2CE9"
      },
      "source": [
        "# Concept 2: Datetime module\n",
        "---\n"
      ]
    },
    {
      "cell_type": "markdown",
      "metadata": {
        "colab_type": "text",
        "id": "AG_DIa4u2CFD"
      },
      "source": [
        "## What are they?\n",
        "The datetime module supplies classes for manipulating dates and times.\n",
        "\n",
        "You can open the [documentation](https://docs.python.org/3/library/datetime.html) to refer to it.\n",
        "\n",
        "## How to use it?\n",
        "```\n",
        "import datetime\n",
        "```\n",
        "or to import specific methods\n",
        "\n",
        "```\n",
        "from datetime import [method]\n",
        "```\n",
        "\n",
        "For the following examples and DIY, refer to the documentation."
      ]
    },
    {
      "cell_type": "markdown",
      "metadata": {
        "colab_type": "text",
        "id": "xutqVMEM2CFE"
      },
      "source": [
        "## Examples:\n",
        "---\n",
        "1. Get current date and time."
      ]
    },
    {
      "cell_type": "code",
      "metadata": {
        "colab_type": "code",
        "id": "cXY6sZzk2CFF",
        "colab": {
          "base_uri": "https://localhost:8080/",
          "height": 34
        },
        "outputId": "99ec2f8c-b40b-4cca-f9e9-8c8fbc639a10"
      },
      "source": [
        "import datetime\n",
        "\n",
        "datetime_object = datetime.datetime.now()\n",
        "print(datetime_object)"
      ],
      "execution_count": null,
      "outputs": [
        {
          "output_type": "stream",
          "text": [
            "2020-06-07 20:30:30.261631\n"
          ],
          "name": "stdout"
        }
      ]
    },
    {
      "cell_type": "markdown",
      "metadata": {
        "id": "KxVMsJlqYioG",
        "colab_type": "text"
      },
      "source": [
        "2. Get current date"
      ]
    },
    {
      "cell_type": "code",
      "metadata": {
        "id": "Ysu2EZb5YjGQ",
        "colab_type": "code",
        "colab": {
          "base_uri": "https://localhost:8080/",
          "height": 34
        },
        "outputId": "21bf2208-61dc-4202-cbe3-427a6cda67ab"
      },
      "source": [
        "import datetime\n",
        "\n",
        "date_object = datetime.date.today()\n",
        "print(date_object)"
      ],
      "execution_count": null,
      "outputs": [
        {
          "output_type": "stream",
          "text": [
            "2020-06-07\n"
          ],
          "name": "stdout"
        }
      ]
    },
    {
      "cell_type": "markdown",
      "metadata": {
        "colab_type": "text",
        "id": "9nOaLLjK2CFK"
      },
      "source": [
        "## DIY:\n",
        "---\n",
        "1. Using date from the datetime module, print today's year, month and day.\n",
        "Output should be like this:\n",
        "```\n",
        "Current year: 2020\n",
        "Current month: June\n",
        "Current day: 7\n",
        "```"
      ]
    },
    {
      "cell_type": "code",
      "metadata": {
        "colab_type": "code",
        "id": "LLmEuKKP2CFL",
        "colab": {
          "base_uri": "https://localhost:8080/",
          "height": 68
        },
        "outputId": "7ba11202-03ce-42c6-cdf8-a160af07d196"
      },
      "source": [
        "import datetime\n",
        "\n",
        "date_object = datetime.date.today()\n",
        "print('current year:' , date_object.year)\n",
        "print('current month:' , date_object.month)\n",
        "print('current day:' , date_object.day)"
      ],
      "execution_count": null,
      "outputs": [
        {
          "output_type": "stream",
          "text": [
            "current year: 2020\n",
            "current month: 6\n",
            "current day: 7\n"
          ],
          "name": "stdout"
        }
      ]
    },
    {
      "cell_type": "markdown",
      "metadata": {
        "id": "JRrQd8Mfd8IL",
        "colab_type": "text"
      },
      "source": [
        "2. Tell me how using the datetime module can be useful in daily life?"
      ]
    },
    {
      "cell_type": "markdown",
      "metadata": {
        "colab_type": "text",
        "id": "HaseTzhD2D2g"
      },
      "source": [
        "# Concept 3: Math module\n",
        "---\n"
      ]
    },
    {
      "cell_type": "markdown",
      "metadata": {
        "colab_type": "text",
        "id": "kc6FvTXd2D2h"
      },
      "source": [
        "## What are they?\n",
        "This module provides access to the mathematical functions defined by the C standard.\n",
        "\n",
        "These functions cannot be used with complex numbers; use the functions of the same name from the cmath module if you require support for complex numbers.\n",
        "\n",
        "## How to use it?\n",
        "See [math documentation](https://docs.python.org/3/library/math.html).\n",
        "\n",
        "```\n",
        "import math\n",
        "\n",
        "math.[method]\n",
        "```"
      ]
    },
    {
      "cell_type": "markdown",
      "metadata": {
        "colab_type": "text",
        "id": "5gUeRWeP2D2i"
      },
      "source": [
        "## Examples:\n",
        "---\n",
        "1. What is 3 to the exponent of 5?"
      ]
    },
    {
      "cell_type": "code",
      "metadata": {
        "colab_type": "code",
        "id": "osSJN6Mk2D2j",
        "colab": {
          "base_uri": "https://localhost:8080/",
          "height": 34
        },
        "outputId": "70bca23b-a0a2-4680-cfd2-bb72ed1e0aad"
      },
      "source": [
        "import math\n",
        "\n",
        "print(math.pow(3,5))"
      ],
      "execution_count": null,
      "outputs": [
        {
          "output_type": "stream",
          "text": [
            "243.0\n"
          ],
          "name": "stdout"
        }
      ]
    },
    {
      "cell_type": "markdown",
      "metadata": {
        "id": "g8vDfVrof-Lg",
        "colab_type": "text"
      },
      "source": [
        "2. What is the square root of 143?"
      ]
    },
    {
      "cell_type": "code",
      "metadata": {
        "id": "juynYmNEf-hw",
        "colab_type": "code",
        "colab": {
          "base_uri": "https://localhost:8080/",
          "height": 34
        },
        "outputId": "4973a02c-a8a1-4038-e6df-15e2e937c4d7"
      },
      "source": [
        "import math\n",
        "\n",
        "print(math.sqrt(143))"
      ],
      "execution_count": null,
      "outputs": [
        {
          "output_type": "stream",
          "text": [
            "11.958260743101398\n"
          ],
          "name": "stdout"
        }
      ]
    },
    {
      "cell_type": "markdown",
      "metadata": {
        "colab_type": "text",
        "id": "dyAdrivy2D2m"
      },
      "source": [
        "## DIY:\n",
        "---\n",
        "1. Find a volume of a cylinder given that the radius is 4 units and the height is 8 units.\n",
        "> Hint: volume of a cylinder is pi*r^2*height"
      ]
    },
    {
      "cell_type": "code",
      "metadata": {
        "colab_type": "code",
        "id": "wqc42DCa2D2m",
        "colab": {
          "base_uri": "https://localhost:8080/",
          "height": 34
        },
        "outputId": "25ccca18-ed13-47ad-f2fb-e206e08ecdb6"
      },
      "source": [
        "import math\n",
        "\n",
        "print(math.pi*pow(4,2)*8)"
      ],
      "execution_count": null,
      "outputs": [
        {
          "output_type": "stream",
          "text": [
            "402.1238596594935\n"
          ],
          "name": "stdout"
        }
      ]
    },
    {
      "cell_type": "markdown",
      "metadata": {
        "id": "Q7uCzxxmGzqP",
        "colab_type": "text"
      },
      "source": [
        "# Summary:\n",
        "---\n",
        "* You can separate code in different files and import all or some code through modules.\n",
        "* Use the keyword import to import modules\n",
        "* How do you know which type of module to use?\n",
        "> Experience, researching, python documentation\n",
        "* How to get better at using modules?\n",
        "> Researching, looking up documentation, knowing how objects, functions are used\n"
      ]
    },
    {
      "cell_type": "markdown",
      "metadata": {
        "id": "sGIYpA2949ZK",
        "colab_type": "text"
      },
      "source": [
        "# Notes on homework:\n",
        "---\n",
        "I will check in on Thursday June 11, through email to check on your progress. Respond with any questions you might have. Otherwise, a simple “all good” is appropriate if you have no questions or comments. \n",
        "\n",
        "You will need to upload your coding homework assignments to GitHub.\n",
        "1. In gitbash, change directories to the homework directory: tomas_python/homework\n",
        "* TIP: use ‘cd’ to change directories\n",
        "* Use ‘cd ..’ to return to the previous directory\n",
        "* Use ‘pwd’ to show full pathname of the current working directory \n",
        "* Use ‘ls’ to list all your directories\n",
        "2. Once you’re in that directory, type in ‘git pull’\n",
        "* This ensures you have all updated files\n",
        "* If there is an error involved, email me immediately so we can try resolving it.\n",
        "* Otherwise, type your code below and we’ll resolve issues next class\n",
        "3. To create a new file, type in ‘touch hw01.py’ or the appropriate file name\n",
        "* ‘Touch’ creates a new file\n",
        "4. Open up the python file and start coding!\n",
        "\n",
        "Note: Become familiar with these actions. This is essentially what happens in the backend when you right-click and create a new folder/file!\n"
      ]
    },
    {
      "cell_type": "markdown",
      "metadata": {
        "id": "4AmHQnAO6UP9",
        "colab_type": "text"
      },
      "source": [
        "# Homework:\n",
        "---\n",
        "1. Watch this [video](https://youtu.be/sKYiQLRe254) about modules. It reviews how to make them.\n",
        "2. Create a file called hw02.py under the tomas_python/homework directory.\n",
        "3. Import from the [statistics](https://docs.python.org/3/library/statistics.html) module. The documentation is hyperlinked. Check which methods you can call.\n",
        "4. Create a list called num containing 10 different numbers of your choice.\n",
        "5. Print out the mean and mode from that list. Definitions of mean and mode are in the documentation as well.\n"
      ]
    },
    {
      "cell_type": "markdown",
      "metadata": {
        "id": "UFjTA22XZTYq",
        "colab_type": "text"
      },
      "source": [
        "# DIY Solution\n",
        "---"
      ]
    },
    {
      "cell_type": "code",
      "metadata": {
        "id": "PJtV_2fUZWIl",
        "colab_type": "code",
        "colab": {}
      },
      "source": [
        "from datetime import date\n",
        "\n",
        "# date object of today's date\n",
        "today = date.today() \n",
        "\n",
        "print(\"Current year:\", today.year)\n",
        "print(\"Current month:\", today.month)\n",
        "print(\"Current day:\", today.day)"
      ],
      "execution_count": null,
      "outputs": []
    },
    {
      "cell_type": "code",
      "metadata": {
        "id": "6jq2qhEAgmB-",
        "colab_type": "code",
        "colab": {}
      },
      "source": [
        "import math \n",
        "\n",
        "vol = math.pi * math.pow(4,2) * 8\n",
        "print(vol)"
      ],
      "execution_count": null,
      "outputs": []
    }
  ]
}