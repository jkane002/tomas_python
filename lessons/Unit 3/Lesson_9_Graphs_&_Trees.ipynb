{
  "nbformat": 4,
  "nbformat_minor": 0,
  "metadata": {
    "colab": {
      "name": "Lesson 9: Graphs & Trees",
      "provenance": [],
      "collapsed_sections": [
        "QanMmuiXOoLE",
        "glCedjN-Gd6s",
        "ckkUEwswWuRU",
        "lZl_I6FgWtz6",
        "nqUNg_Cpj6TF",
        "4AmHQnAO6UP9"
      ]
    },
    "kernelspec": {
      "display_name": "Python 3",
      "name": "python3"
    }
  },
  "cells": [
    {
      "cell_type": "markdown",
      "metadata": {
        "id": "Uq6oR46pHrLH",
        "colab_type": "text"
      },
      "source": [
        "# Lesson 9: Introduction to Graphs and Trees\n",
        "---\n"
      ]
    },
    {
      "cell_type": "markdown",
      "metadata": {
        "id": "QanMmuiXOoLE",
        "colab_type": "text"
      },
      "source": [
        "# Review\n",
        "---"
      ]
    },
    {
      "cell_type": "markdown",
      "metadata": {
        "id": "B4znJroiGyau",
        "colab_type": "text"
      },
      "source": [
        "1. Below, type in the steps in pseudocode for reversing a linked list."
      ]
    },
    {
      "cell_type": "code",
      "metadata": {
        "id": "teWj0RO-ylxS",
        "colab_type": "code",
        "colab": {}
      },
      "source": [
        ""
      ],
      "execution_count": null,
      "outputs": []
    },
    {
      "cell_type": "markdown",
      "metadata": {
        "id": "0NMs9mpfyvAG",
        "colab_type": "text"
      },
      "source": [
        "2. A review of syntax: \n",
        "\n",
        "Match the symbols to the data structure\n",
        "\n",
        "Sets, dictionary, list, tuple\n",
        "\n",
        "a. ()\n",
        "b. {}\n",
        "c. []\n",
        "d. () "
      ]
    },
    {
      "cell_type": "markdown",
      "metadata": {
        "id": "glCedjN-Gd6s",
        "colab_type": "text"
      },
      "source": [
        "# Concept 1: Intro to Graphs\n",
        "---\n"
      ]
    },
    {
      "cell_type": "markdown",
      "metadata": {
        "id": "25oLA8_cHOH7",
        "colab_type": "text"
      },
      "source": [
        "## What are they?\n",
        "By now you have learned about dictionaries, sets, lists, and more complex - linked lists. Graphs are widely used in networks, social media, mapping, and etc. For example: \n",
        "\n",
        "* Google Maps uses a series of dots and lines to model the road network and give you directions to your final destination\n",
        "* Facebook friend networks are a graph where each person is a dot, and the friendships between people are lines\n",
        "* The Internet is a giant graph, where web pages are dots and the links between pages are lines\n",
        "\n",
        "First, here is a visual representaion of a graph. Click [here](https://images.app.goo.gl/QKancNyhSAEaREy28).\n",
        "\n",
        "These dots and lines have more common names.\n",
        "Similar to linked lists, Graphs have:\n",
        "* Vertex (singular) / Vertices (plural)\n",
        "* Edges (the lines)\n",
        "\n",
        "\n",
        "\n",
        "## Undirected and Directed Graphs\n",
        "Take a look at both [here](https://miro.medium.com/max/1400/1*t9lHiQpKm_vdLp2Cadog7g.jpeg).\n",
        "\n",
        "\n",
        "Some terminology to describe the way an edge is pointing:\n",
        "* The head of an edge is the vertex that the edge is pointing toward\n",
        "* The tail of an edge is vertex that the edge is pointing away from.\n",
        "\n",
        "\n",
        "\n",
        "\n"
      ]
    },
    {
      "cell_type": "markdown",
      "metadata": {
        "id": "1ZBpqEKtG_oj",
        "colab_type": "text"
      },
      "source": [
        "## Examples:\n",
        "---"
      ]
    },
    {
      "cell_type": "markdown",
      "metadata": {
        "id": "yxmbvQXY79gU",
        "colab_type": "text"
      },
      "source": [
        "1. [Finding the shortest path](https://images.app.goo.gl/GYLVG1LsbkJkZLvo6)\n",
        "\n",
        "2. [Social Media's Hashtags](https://images.app.goo.gl/jYor7jZLm2nJKu4a8)"
      ]
    },
    {
      "cell_type": "markdown",
      "metadata": {
        "id": "lKe-QKCKHDHF",
        "colab_type": "text"
      },
      "source": [
        "## DIY:\n",
        "---"
      ]
    },
    {
      "cell_type": "markdown",
      "metadata": {
        "id": "SVqqtWlg8FJm",
        "colab_type": "text"
      },
      "source": [
        "1. Google uses graphs for their search engine. What are the vertices and edges in this example?\n",
        "2. What is the difference between an undirected and directed graph?"
      ]
    },
    {
      "cell_type": "markdown",
      "metadata": {
        "colab_type": "text",
        "id": "ckkUEwswWuRU"
      },
      "source": [
        "# Concept 2: Different Representations\n",
        "---\n"
      ]
    },
    {
      "cell_type": "markdown",
      "metadata": {
        "colab_type": "text",
        "id": "WKEkAAoKWuRU"
      },
      "source": [
        "## Cyclic vs. Acyclic\n",
        "* Cyclic: there is a cycle (the edges loop itself)\n",
        "* Acyclic: No cycle\n",
        "\n",
        "If your undirected graph contains a loop where you can follow the edges and return to a point, then you have a cyclic graph.\n",
        "\n",
        "If your directed graph has a loop where you can follow the edges in the correct direction and return to a point, then that graph is also cyclic.\n",
        "\n",
        "Click on this picture showing a [Cycle in a directed graph](https://images.app.goo.gl/WroHfYApWoWZsuQk7)\n",
        "\n",
        "## Weighted Edges\n",
        "If we want to make our calculations more interesting when finding the shortest path, for instance, we can add weight to the edges of our graph.\n",
        "\n",
        "Click here to view a [weighted graph](https://miro.medium.com/max/1134/1*FpM--G8JvbV_yMOaIjNChw.jpeg)\n",
        "\n",
        "Google uses weighting to take into account things like traffic when it gives you directions.\n",
        "There are all kinds of applications of weights. They might represent strength, distance, difficulty, or desirability. It’s up to you!"
      ]
    },
    {
      "cell_type": "markdown",
      "metadata": {
        "colab_type": "text",
        "id": "ko2iYjxoWuRV"
      },
      "source": [
        "## Examples:\n",
        "---"
      ]
    },
    {
      "cell_type": "markdown",
      "metadata": {
        "id": "gCPxlizeE1Za",
        "colab_type": "text"
      },
      "source": [
        "1. [Undirected Weighted Graph](https://images.app.goo.gl/NUkRJmW2B57cCd2j6)\n",
        "2. [Names](https://images.app.goo.gl/9KvXCSnrzLvcymag9)"
      ]
    },
    {
      "cell_type": "markdown",
      "metadata": {
        "colab_type": "text",
        "id": "mfUJUy6BWuRY"
      },
      "source": [
        "## DIY:\n",
        "---"
      ]
    },
    {
      "cell_type": "markdown",
      "metadata": {
        "id": "4O6tCLR-DPF4",
        "colab_type": "text"
      },
      "source": [
        "1. What is the difference between cyclic and acylic? Give examples of each.\n",
        "2. Why are weights useful when using graphs?"
      ]
    },
    {
      "cell_type": "markdown",
      "metadata": {
        "colab_type": "text",
        "id": "zEPH6J2wWusU"
      },
      "source": [
        "# Concept 3: The Code\n",
        "---\n"
      ]
    },
    {
      "cell_type": "markdown",
      "metadata": {
        "id": "9hKSjRitzWj_",
        "colab_type": "text"
      },
      "source": [
        "## What is it?\n",
        "\n",
        "Graphs in Python are represented using dictionaries. \n",
        "In general, graphs are shown using an adjacency list and adjacency matrix.\n",
        "\n",
        "\n",
        "## Adjacency Matrix\n",
        "\n",
        "Click [here](https://images.app.goo.gl/zuDbywFpgHXx4TFo6) for a picture of an adjacency matrix.\n",
        "\n",
        "One of the easiest ways to implement a graph is to use a two-dimensional matrix. In this matrix implementation, each of the rows and columns represent a vertex in the graph. The value that is stored in the cell at the intersection of row 𝑣 and column 𝑤 indicates if there is an edge from vertex 𝑣 to vertex 𝑤. 1 means there is a connection, 0 means no connection. When two vertices are connected by an edge, we say that they are adjacent.\n",
        "\n",
        "\n",
        "## Adjacency List\n",
        "\n",
        "Click [here](https://images.app.goo.gl/4r8BF3LMrvPMeLoD6) for a picture of an adjacency list.\n",
        "\n",
        "The first column contains all the vertices in the graph. Each row corresponds to the vertices connecting to the first vertex. Each list describes the set of neighbors of a vertex in the graph.\n",
        "\n",
        "For this example we will use the adjacency list:\n",
        "```\n",
        "g = { \"a\" : [\"d\"],\n",
        "      \"b\" : [\"c\"],\n",
        "      \"c\" : [\"b\", \"c\", \"d\", \"e\"],\n",
        "      \"d\" : [\"a\", \"c\"],\n",
        "      \"e\" : [\"c\"],\n",
        "      \"f\" : []\n",
        "    }\n",
        "```\n",
        "\n",
        "Here you can see we have 6 vertices. A is connected to D, B is connected to C, and so on.\n",
        "\n",
        "So we know:\n",
        "1. A graph is represented as a dictionary.\n",
        "\n",
        "Let's put it in a class"
      ]
    },
    {
      "cell_type": "code",
      "metadata": {
        "id": "yxSjr4259VQg",
        "colab_type": "code",
        "colab": {}
      },
      "source": [
        "# 1. define the class and constructor\n",
        "class Graph:\n",
        "    def __init__(self, graph_dict=None):\n",
        "        \"\"\" initializes a graph object \n",
        "            If no dictionary or None is given, \n",
        "            an empty dictionary will be used\n",
        "        \"\"\"\n",
        "        if graph_dict == None:\n",
        "            graph_dict = {}\n",
        "        self.graph_dict = graph_dict"
      ],
      "execution_count": null,
      "outputs": []
    },
    {
      "cell_type": "markdown",
      "metadata": {
        "id": "-vBbhiV3_dG0",
        "colab_type": "text"
      },
      "source": [
        "1. Create a class called `Graph`\n",
        "2. The only parameter is the graph dictionary denoted by `graph_dict`. \n",
        "3. `graph_dict=None` is used because if no dictionary is given, an empty dictionary will be created\n",
        "4. Check again `if graph_dict == None:` then create an empty dictionary.\n",
        "5. Initialize `graph_dict.`\n",
        "\n",
        "Now we need functions to represent vertices and edges."
      ]
    },
    {
      "cell_type": "code",
      "metadata": {
        "id": "IhU78nkbD7v_",
        "colab_type": "code",
        "colab": {}
      },
      "source": [
        "def vertices(self):\n",
        "    \"\"\" returns the vertices of a graph \"\"\"\n",
        "    return list(self.graph_dict.keys())\n",
        "\n",
        "def edges(self):\n",
        "    \"\"\" returns the edges of a graph \"\"\"\n",
        "    edges = []\n",
        "    for vertex in self.graph_dict:\n",
        "        for neighbor in self.graph_dict[vertex]:\n",
        "            if {neighbor, vertex} not in edges:\n",
        "                edges.append({vertex, neighbor})\n",
        "    return edges"
      ],
      "execution_count": null,
      "outputs": []
    },
    {
      "cell_type": "markdown",
      "metadata": {
        "id": "5ZVS_PkzEAN2",
        "colab_type": "text"
      },
      "source": [
        "### Vertices\n",
        "1. Returning vertices is simple as they are the keys in the dictionary. We simply get the keys and store them into a list.\n",
        "\n",
        "### Edges\n",
        "1. This is a bit more complex because some edges are shared among vertices so we need to separate them and single out the edges.\n",
        "2. `edges = []` : Create an empty list for edges.\n",
        "3. `for vertex in self.graph_dict:`: Need to iterate through each vertex in the graph dictionary.\n",
        "4. `for neighbour in self.graph_dict[vertex]:` : So graph_dict[vertex] is the notation to get the values (edges) from the key-value pairing. We iterate using the variable neighbor through all the edges of a vertex.\n",
        "5. `if {neighbor, vertex} not in edges:`: Check if the edge, vertex pair is already in the edges list. This essentially ignores any duplicates.\n",
        "6. `edges.append({vertex, neighbor})`: If the pair is not in the list, append it.\n",
        "\n",
        "Here is the full code:"
      ]
    },
    {
      "cell_type": "code",
      "metadata": {
        "id": "03mkdG-Ryr6t",
        "colab_type": "code",
        "colab": {}
      },
      "source": [
        "class Graph:\n",
        "\n",
        "    def __init__(self, graph_dict=None):\n",
        "        \"\"\" initializes a graph object \n",
        "            If no dictionary or None is given, \n",
        "            an empty dictionary will be used\n",
        "        \"\"\"\n",
        "        if graph_dict == None:\n",
        "            graph_dict = {}\n",
        "        self.graph_dict = graph_dict\n",
        "\n",
        "    def vertices(self):\n",
        "        \"\"\" returns the vertices of a graph \"\"\"\n",
        "        return list(self.graph_dict.keys())\n",
        "\n",
        "    def edges(self):\n",
        "        \"\"\" returns the edges of a graph \"\"\"\n",
        "        edges = []\n",
        "        for vertex in self.graph_dict:\n",
        "            for neighbor in self.graph_dict[vertex]:\n",
        "                if {neighbor, vertex} not in edges:\n",
        "                    edges.append({vertex, neighbor})\n",
        "        return edges\n",
        "\n",
        "\n",
        "if __name__ == \"__main__\":\n",
        "\n",
        "    g = { \"a\" : [\"d\"],\n",
        "          \"b\" : [\"c\"],\n",
        "          \"c\" : [\"b\", \"d\", \"e\"],\n",
        "          \"d\" : [\"a\", \"c\"],\n",
        "          \"e\" : [\"c\"],\n",
        "          \"f\" : []\n",
        "        }\n",
        "\n",
        "\n",
        "    graph = Graph(g)\n",
        "\n",
        "    print(\"Vertices of graph:\")\n",
        "    print(graph.vertices())\n",
        "\n",
        "    print(\"Edges of graph:\")\n",
        "    print(graph.edges())"
      ],
      "execution_count": null,
      "outputs": []
    },
    {
      "cell_type": "markdown",
      "metadata": {
        "colab_type": "text",
        "id": "1zcQ-re9WusY"
      },
      "source": [
        "## DIY:\n",
        "---"
      ]
    },
    {
      "cell_type": "markdown",
      "metadata": {
        "id": "z1ohBqTGOvn_",
        "colab_type": "text"
      },
      "source": [
        "1. If there is still time, create a graph dictionary and insert your own vertices and edges."
      ]
    },
    {
      "cell_type": "code",
      "metadata": {
        "colab_type": "code",
        "id": "ZdeAVQLjWusZ",
        "colab": {}
      },
      "source": [
        ""
      ],
      "execution_count": null,
      "outputs": []
    },
    {
      "cell_type": "markdown",
      "metadata": {
        "colab_type": "text",
        "id": "lZl_I6FgWtz6"
      },
      "source": [
        "# Concept 4: Graph Applications\n",
        "---\n"
      ]
    },
    {
      "cell_type": "markdown",
      "metadata": {
        "colab_type": "text",
        "id": "rWpQ02o8Wtz8"
      },
      "source": [
        "## Why do we need graphs?\n",
        "\n",
        "* Find the shortest path between two points\n",
        "* Identify groups of relationships\n",
        "* Store data and create links between it in almost any context (think linked lists and trees)\n",
        "\n",
        "## Real Life Applications\n",
        "* Google Maps would not be very useful if its instructions told you to turn the wrong way down a one way street.\n",
        "Sometimes edges of graphs need to point in a direction. When this is the case, we call it a directed graph. We use arrows when we draw a directed graph so everyone knows what we mean.\n",
        "* Twitter is a directed graph because relationships only go in one direction. You can have lots of followers without needing to follow all of them back.\n",
        "* In contrast, Facebook friends are an undirected graph. When you become friends with someone new, that relationship goes both ways and there’s no directionality to your relationship."
      ]
    },
    {
      "cell_type": "markdown",
      "metadata": {
        "colab_type": "text",
        "id": "kJZs17_qWt0C"
      },
      "source": [
        "## DIY:\n",
        "---"
      ]
    },
    {
      "cell_type": "markdown",
      "metadata": {
        "id": "itAwPhMYx4a0",
        "colab_type": "text"
      },
      "source": [
        "1. Can you think of another way graphs are used in real life?"
      ]
    },
    {
      "cell_type": "markdown",
      "metadata": {
        "colab_type": "text",
        "id": "_1A7EYbTjzZd"
      },
      "source": [
        "# Concept 5: Intro to Trees\n",
        "---\n"
      ]
    },
    {
      "cell_type": "markdown",
      "metadata": {
        "colab_type": "text",
        "id": "DoLfu7FhjzZg"
      },
      "source": [
        "## What are they?\n",
        "\n",
        "Trees are similar to graphs but this time, there is a root node that directs other nodes. Unlike trees in nature, the tree data structure is upside down: the root of the tree is on top. A tree consists of nodes and its connections are called edges. The very bottom nodes are also named leaf nodes.\n",
        "\n",
        "Click [here](https://images.app.goo.gl/sRZPc13LodF6MhQDA) to view an image of a tree.\n",
        "\n",
        "Answer this: Which one is the root node and which are the leaf nodes?\n",
        "\n",
        "\n",
        "A tree node typically has these data members:\n",
        "* data\n",
        "* left child\n",
        "* right child\n",
        "\n",
        "Click [here](https://miro.medium.com/max/778/1*rWxH9Y0uHM1Pd7A9tfpnpQ.png) to view the terminology.\n",
        "\n",
        "\n",
        "Part of what makes implementing a tree difficult (in general), is the hidden complexity a tree carries with it, here are some common terms you might encounter along with their graphical description [(Click here)](https://miro.medium.com/max/2000/1*YMqkwxqb1KhEAkwymNFnbA.png). You won't be tested on this but just get familiar with the most important terms.\n",
        "\n",
        "The key thing here is that these children have only one parent, if they had more this wouldn’t strictly be a tree (it would be some sort of graph), some examples:\n",
        "\n",
        "* Dad -> Son, Daughter\n",
        "* Boss -> Manager_1, Manager_2, Manager_3\n",
        "* Favorite Foods -> Chinese, Pizza, Tacos\n",
        "\n",
        "### Binary Tree vs Tree\n",
        "\n",
        "For the most part, we will be learning and implementing a binary tree. A binary tree is a tree whose elements have at most 2 children. Since each element in a binary tree can have only 2 children, we typically name them the left and right child. \n",
        "\n",
        "From the examples above, which are/(is a) binary tree(s) if the item on the left of the arrow is the root.\n",
        "\n",
        "\n",
        "\n",
        "\n"
      ]
    },
    {
      "cell_type": "markdown",
      "metadata": {
        "colab_type": "text",
        "id": "KvZakpeAjzZg"
      },
      "source": [
        "## Examples:\n",
        "---"
      ]
    },
    {
      "cell_type": "markdown",
      "metadata": {
        "id": "xDcZCPUXQEFN",
        "colab_type": "text"
      },
      "source": [
        "They are useful when:\n",
        "* finding elements efficiently - binary search tree\n",
        "* creating family trees - ancestry.com\n",
        "* building artificial intelligence - game solver"
      ]
    },
    {
      "cell_type": "markdown",
      "metadata": {
        "colab_type": "text",
        "id": "McChzOR-jzZk"
      },
      "source": [
        "## DIY:\n",
        "---"
      ]
    },
    {
      "cell_type": "markdown",
      "metadata": {
        "id": "PjLM4ifPQpnt",
        "colab_type": "text"
      },
      "source": [
        "1. What types of data members does a tree node contain?\n",
        "2. What are bottom nodes called?"
      ]
    },
    {
      "cell_type": "markdown",
      "metadata": {
        "colab_type": "text",
        "id": "hipvw17fj68P"
      },
      "source": [
        "# Concept 6: The Code\n",
        "\n",
        "---\n"
      ]
    },
    {
      "cell_type": "markdown",
      "metadata": {
        "colab_type": "text",
        "id": "vDcGBmtBj68Q"
      },
      "source": [
        "## What is it?\n",
        "\n",
        "We designate one node as root node and then add more nodes as child nodes.  Below is a program to create a tree with only a root node."
      ]
    },
    {
      "cell_type": "code",
      "metadata": {
        "id": "kwF6bo9iYOGi",
        "colab_type": "code",
        "colab": {}
      },
      "source": [
        "class TreeNode:\n",
        "  def __init__(self, data):\n",
        "    self.data = data\n",
        "    self.left = None\n",
        "    self.right = None\n",
        "\n",
        "root = TreeNode(10)\n",
        "\n",
        "print(\"The root's data: \", root.data)"
      ],
      "execution_count": null,
      "outputs": []
    },
    {
      "cell_type": "markdown",
      "metadata": {
        "id": "hyzPYDjjZzc2",
        "colab_type": "text"
      },
      "source": [
        "Let's look at this further:\n",
        "* `class Tree:`: Frist name the class Tree\n",
        "* `def __init__(self, data):`: The constructor for the tree with one parameter for the data.\n",
        "* `data, left, right`: The 3 data members of a tree node.\n",
        "* `root = TreeNode(10)`: We instantiate an object of TreeNode giving it an data argument of 10.\n",
        "\n",
        "## Insertion\n",
        "\n",
        "Now let's look at inserting an element into the tree.\n",
        "> Hint: We will need recursion to accomplish this. Do you know why?"
      ]
    },
    {
      "cell_type": "code",
      "metadata": {
        "id": "DVrkN84NcfRU",
        "colab_type": "code",
        "colab": {}
      },
      "source": [
        "def insert(self, data):\n",
        "# Compare the new value with the parent node\n",
        "      if self.data:\n",
        "          if data < self.data:\n",
        "              if self.left is None:\n",
        "                  self.left = TreeNode(data)\n",
        "              else:\n",
        "                  self.left.insert(data)\n",
        "          elif data > self.data:\n",
        "              if self.right is None:\n",
        "                  self.right = TreeNode(data)\n",
        "              else:\n",
        "                  self.right.insert(data)\n",
        "      else:\n",
        "          self.data = data"
      ],
      "execution_count": null,
      "outputs": []
    },
    {
      "cell_type": "markdown",
      "metadata": {
        "id": "3lr2EstScoXw",
        "colab_type": "text"
      },
      "source": [
        "The code may be confusing at first but we are comparing the new value with the parent node. The parent node is `self.data` because it's already in the tree and the child node (the node to be inserted) is `data` as we are passing that in through the function. \n",
        "\n",
        "* `if self.data: / else: self.data = data`: Let's look at the overall if statement. If there is a parent node, continue with the rest of the code.\n",
        "If there is no parent node, the new value becomes the parent.\n",
        "* `if data < self.data:/ elif data > self.data:`: Let's check again at the next if statement. Since we are implementing a binary tree, there can be at most 2 child nodes. It's either the data is less than or greater than the parent node. Notice there is no == sign. Depending on the problem, you can insert the == next to the < or > sign. For this example, we are ignoring duplicates.\n",
        "* \n",
        "``` \n",
        "if self.left is None:\n",
        "    self.left = TreeNode(data)\n",
        "else:\n",
        "    self.left.insert(data) \n",
        "```\n",
        "If the left child is a leaf or is None, then you create a new TreeNode and assign it to the left. If there is already a node there, we need to recurse all the way down until we reach the leaf. This goes for the right child too.\n",
        "\n",
        "\n",
        "## Printing the Tree\n",
        "Next we need to print the tree but now it is a bit more difficult because we have layers of nodes that we have to go through. We need a tree traversal called inorder that essentially visits each node in order and then prints out the data.\n",
        "\n",
        "Let's look at the code then we can explain:"
      ]
    },
    {
      "cell_type": "code",
      "metadata": {
        "id": "2n9F_ouzkjUd",
        "colab_type": "code",
        "colab": {}
      },
      "source": [
        "# Print the tree\n",
        "def PrintTree(self):\n",
        "  if self.left:\n",
        "    self.left.PrintTree()\n",
        "  print( self.data)\n",
        "  if self.right:\n",
        "    self.right.PrintTree()  "
      ],
      "execution_count": null,
      "outputs": []
    },
    {
      "cell_type": "markdown",
      "metadata": {
        "id": "cCAHrCV_kufe",
        "colab_type": "text"
      },
      "source": [
        "1. `if self.left: self.left.PrintTree()` : We use recursion again to go to most-left node of the subtree. \n",
        "2. `print( self.data)`: Once we reach the leaf, we can print it out. \n",
        "3. `if self.right: self.right.PrintTree()` : We use recursion again to go to most-right node of the subtree. \n",
        "\n",
        "It's best to follow an example so here is a [video](https://www.youtube.com/watch?v=5dySuyZf9Qg) about inorder traversal (3 min)."
      ]
    },
    {
      "cell_type": "markdown",
      "metadata": {
        "colab_type": "text",
        "id": "o1TO-6-mj68R"
      },
      "source": [
        "## Example:\n",
        "---"
      ]
    },
    {
      "cell_type": "code",
      "metadata": {
        "colab_type": "code",
        "id": "k6cIZCPQj68R",
        "colab": {}
      },
      "source": [
        "class TreeNode:\n",
        "\n",
        "    def __init__(self, data):\n",
        "\n",
        "        self.left = None\n",
        "        self.right = None\n",
        "        self.data = data\n",
        "\n",
        "    def insert(self, data):\n",
        "# Compare the new value with the parent node\n",
        "        if self.data:\n",
        "            if data < self.data:\n",
        "                if self.left is None:\n",
        "                    self.left = TreeNode(data)\n",
        "                else:\n",
        "                    self.left.insert(data)\n",
        "            elif data > self.data:\n",
        "                if self.right is None:\n",
        "                    self.right = TreeNode(data)\n",
        "                else:\n",
        "                    self.right.insert(data)\n",
        "        else:\n",
        "            self.data = data\n",
        "\n",
        "# Print the tree\n",
        "    def PrintTree(self):\n",
        "        if self.left:\n",
        "            self.left.PrintTree()\n",
        "        print( self.data),\n",
        "        if self.right:\n",
        "            self.right.PrintTree()\n",
        "\n",
        "# Use the insert method to add nodes\n",
        "root = TreeNode(12)\n",
        "root.insert(6)\n",
        "root.insert(14)\n",
        "root.insert(3)\n",
        "\n",
        "root.PrintTree()"
      ],
      "execution_count": null,
      "outputs": []
    },
    {
      "cell_type": "markdown",
      "metadata": {
        "colab_type": "text",
        "id": "AZn-emmrj68U"
      },
      "source": [
        "## DIY:\n",
        "---"
      ]
    },
    {
      "cell_type": "markdown",
      "metadata": {
        "id": "O1f-t9KZlslt",
        "colab_type": "text"
      },
      "source": [
        "1. If there is time left, describe the process of inserting a node into a binary tree."
      ]
    },
    {
      "cell_type": "markdown",
      "metadata": {
        "id": "Q7uCzxxmGzqP",
        "colab_type": "text"
      },
      "source": [
        "# Summary:\n",
        "---\n"
      ]
    },
    {
      "cell_type": "markdown",
      "metadata": {
        "id": "xaXI7McM1Csf",
        "colab_type": "text"
      },
      "source": [
        "1. What is a graph?\n",
        "2. How are graphs implemented in real life?\n",
        "3. What is a tree?\n",
        "4. How are trees implemented in real life?"
      ]
    },
    {
      "cell_type": "markdown",
      "metadata": {
        "id": "4AmHQnAO6UP9",
        "colab_type": "text"
      },
      "source": [
        "# Homework:\n",
        "---\n",
        "\n"
      ]
    },
    {
      "cell_type": "markdown",
      "metadata": {
        "id": "4HWwIuZpL3Qt",
        "colab_type": "text"
      },
      "source": [
        "1. Study for the final exam!"
      ]
    },
    {
      "cell_type": "markdown",
      "metadata": {
        "id": "ddKcgLGshg1S",
        "colab_type": "text"
      },
      "source": [
        "# DIY Solutions\n",
        "---"
      ]
    },
    {
      "cell_type": "code",
      "metadata": {
        "id": "gRSIvIhdhjzs",
        "colab_type": "code",
        "colab": {}
      },
      "source": [
        ""
      ],
      "execution_count": null,
      "outputs": []
    }
  ]
}