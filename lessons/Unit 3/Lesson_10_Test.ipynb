{
  "nbformat": 4,
  "nbformat_minor": 0,
  "metadata": {
    "colab": {
      "name": "Lesson 10: Test",
      "provenance": [],
      "collapsed_sections": [
        "o1z2eYfYLsg8"
      ]
    },
    "kernelspec": {
      "display_name": "Python 3",
      "name": "python3"
    }
  },
  "cells": [
    {
      "cell_type": "markdown",
      "metadata": {
        "id": "Uq6oR46pHrLH",
        "colab_type": "text"
      },
      "source": [
        "Cumulative Test\n",
        "---\n",
        "Intro: Congrats on making it this far! You should be able to finish this in 45-50 minutes. There are 21 questions. Just let me know once you're finished. I will mute myself but periodically check on your progress. To reduce pressure, I will be working on other tasks."
      ]
    },
    {
      "cell_type": "markdown",
      "metadata": {
        "id": "QanMmuiXOoLE",
        "colab_type": "text"
      },
      "source": [
        "# 1. \n",
        "---"
      ]
    },
    {
      "cell_type": "markdown",
      "metadata": {
        "id": "B4znJroiGyau",
        "colab_type": "text"
      },
      "source": [
        "What is the difference between `=` and `==`?"
      ]
    },
    {
      "cell_type": "code",
      "metadata": {
        "id": "uVUJnB2BLp6a",
        "colab_type": "code",
        "cellView": "form",
        "colab": {}
      },
      "source": [
        "Equals = '' #@param {type:\"string\"}\n",
        "DoubleEquals = '' #@param {type:\"string\"}\n",
        "\n"
      ],
      "execution_count": null,
      "outputs": []
    },
    {
      "cell_type": "markdown",
      "metadata": {
        "colab_type": "text",
        "id": "o1z2eYfYLsg8"
      },
      "source": [
        "# 2.\n",
        "---"
      ]
    },
    {
      "cell_type": "markdown",
      "metadata": {
        "colab_type": "text",
        "id": "W9ointIILsg-"
      },
      "source": [
        "Given this for loop\n",
        "\n",
        "`for i in range(2, 107, 30):`\n",
        "\n",
        "select the appropriate terms:\n"
      ]
    },
    {
      "cell_type": "code",
      "metadata": {
        "colab_type": "code",
        "id": "ljznq9ZSLsg_",
        "cellView": "form",
        "colab": {}
      },
      "source": [
        "end = 'Select an answer' #@param [\"Select an answer\",\"2\", \"107\", \"30\"]\n",
        "stop = 'Select an answer' #@param [\"Select an answer\",\"2\", \"107\", \"30\"]\n",
        "start = 'Select an answer' #@param [\"Select an answer\",\"2\", \"107\", \"30\"]"
      ],
      "execution_count": null,
      "outputs": []
    },
    {
      "cell_type": "markdown",
      "metadata": {
        "colab_type": "text",
        "id": "SZor4YVoLs5o"
      },
      "source": [
        "# 3.\n",
        "---"
      ]
    },
    {
      "cell_type": "markdown",
      "metadata": {
        "colab_type": "text",
        "id": "m4ZO9eYoLs5p"
      },
      "source": [
        "Given the following code, which is the correct instantiation?\n",
        "```\n",
        "class Dog:\n",
        "  def __init__(self,name):\n",
        "    self.name = name\n",
        "  def bark(self):\n",
        "    print(\"I am barking!\")\n",
        "```"
      ]
    },
    {
      "cell_type": "code",
      "metadata": {
        "colab_type": "code",
        "id": "d37DDk11Ls5p",
        "cellView": "form",
        "colab": {}
      },
      "source": [
        "Answer = \"Select\" #@param [\"Select\", \"Max = Max(Dog)\", \"Dog(\\\"Max\\\") = Max \", \"Max = Dog(\\\"Max\\\")\"]"
      ],
      "execution_count": null,
      "outputs": []
    },
    {
      "cell_type": "markdown",
      "metadata": {
        "colab_type": "text",
        "id": "XEqbFxYULtVk"
      },
      "source": [
        "# 4.\n",
        "---"
      ]
    },
    {
      "cell_type": "markdown",
      "metadata": {
        "colab_type": "text",
        "id": "ZZIY6hqsLtVk"
      },
      "source": [
        "Create a function called coneVolume that passes in two parameters - height and radius. Return the volume of a cone. The equation is V=1/3 * h * π * r². H is the height, π is pi, and r is radius. The height is 13 and the radius is 3.\n",
        "\n",
        "> Hint: Use the math module"
      ]
    },
    {
      "cell_type": "code",
      "metadata": {
        "colab_type": "code",
        "id": "IBWVvkqJLtVl",
        "colab": {}
      },
      "source": [
        ""
      ],
      "execution_count": null,
      "outputs": []
    },
    {
      "cell_type": "markdown",
      "metadata": {
        "colab_type": "text",
        "id": "3Sat9gwZLt-N"
      },
      "source": [
        "#  5.\n",
        "---"
      ]
    },
    {
      "cell_type": "markdown",
      "metadata": {
        "colab_type": "text",
        "id": "JNhy65DjLt-O"
      },
      "source": [
        "Which one is a list?"
      ]
    },
    {
      "cell_type": "code",
      "metadata": {
        "colab_type": "code",
        "id": "OHQ0kHOsLt-R",
        "cellView": "form",
        "colab": {}
      },
      "source": [
        "Answer = \"Select\" #@param [\"Select\", \"[5.7 , 4, ‘yes’, 5.7]\", \"(5.7 , 4, ‘yes’, 5.7)\", \"{5.7 , 4, ‘yes’, 5.7}\", \"{‘June’: 75, ‘Jul’: 89}\"]"
      ],
      "execution_count": null,
      "outputs": []
    },
    {
      "cell_type": "markdown",
      "metadata": {
        "colab_type": "text",
        "id": "1iN-1_47FyYI"
      },
      "source": [
        "#  6.\n",
        "---"
      ]
    },
    {
      "cell_type": "markdown",
      "metadata": {
        "colab_type": "text",
        "id": "mKcVey5tFyjv"
      },
      "source": [
        "What are the differences between a list and a set?"
      ]
    },
    {
      "cell_type": "code",
      "metadata": {
        "colab_type": "code",
        "id": "LWbybDUFFyjw",
        "cellView": "form",
        "colab": {}
      },
      "source": [
        "Answer = \"Select\" #@param [\"Select\", \"The elements of a list are mutable whereas the elements of a tuple are immutable.\", \"Elements of a tuple are enclosed in parenthesis whereas the elements of list are enclosed in square bracket.\", \"All of the Above\", \"None of the Above\"]"
      ],
      "execution_count": null,
      "outputs": []
    },
    {
      "cell_type": "markdown",
      "metadata": {
        "colab_type": "text",
        "id": "NTesb1LVFyju"
      },
      "source": [
        "#  7.\n",
        "---"
      ]
    },
    {
      "cell_type": "markdown",
      "metadata": {
        "colab_type": "text",
        "id": "FCe6EREyFyYK"
      },
      "source": [
        "Short answer (type your response)\n",
        "\n",
        "In general, what are graphs? Type out all the information you know about graphs."
      ]
    },
    {
      "cell_type": "code",
      "metadata": {
        "colab_type": "code",
        "id": "XogU3U-kFyYK",
        "colab": {}
      },
      "source": [
        ""
      ],
      "execution_count": null,
      "outputs": []
    },
    {
      "cell_type": "markdown",
      "metadata": {
        "colab_type": "text",
        "id": "FppizgjkFxgv"
      },
      "source": [
        "#  8.\n",
        "---"
      ]
    },
    {
      "cell_type": "markdown",
      "metadata": {
        "colab_type": "text",
        "id": "zGzPiSJUFxgy"
      },
      "source": [
        "Which one is a tuple?"
      ]
    },
    {
      "cell_type": "code",
      "metadata": {
        "colab_type": "code",
        "id": "Ct_T1tlNFxgz",
        "cellView": "form",
        "colab": {}
      },
      "source": [
        "Answer = \"Select\" #@param [\"Select\", \"[5.7 , 4, ‘yes’, 5.7]\", \"(5.7 , 4, ‘yes’, 5.7)\", \"{5.7 , 4, ‘yes’, 5.7}\", \"{‘June’: 75, ‘Jul’: 89}\"]"
      ],
      "execution_count": null,
      "outputs": []
    },
    {
      "cell_type": "markdown",
      "metadata": {
        "colab_type": "text",
        "id": "aIib1sKYLuRK"
      },
      "source": [
        "# 9.\n",
        "---"
      ]
    },
    {
      "cell_type": "markdown",
      "metadata": {
        "colab_type": "text",
        "id": "9mkxc4c4LuRL"
      },
      "source": [
        "Short answer (Type your response below)\n",
        "\n",
        "What is Big O Notation?"
      ]
    },
    {
      "cell_type": "code",
      "metadata": {
        "colab_type": "code",
        "id": "z7Lwx2GsLuRL",
        "colab": {}
      },
      "source": [
        ""
      ],
      "execution_count": null,
      "outputs": []
    },
    {
      "cell_type": "markdown",
      "metadata": {
        "colab_type": "text",
        "id": "7dfP9bM_LutR"
      },
      "source": [
        "# 10.\n",
        "---\n"
      ]
    },
    {
      "cell_type": "markdown",
      "metadata": {
        "colab_type": "text",
        "id": "_Y1b9r0gLutS"
      },
      "source": [
        "Assuming the comments represent the time complexity for that if statement. What is the time complexity of this entire function?\n",
        "```\n",
        "def compare(a,b):\n",
        "  if a<b:\n",
        "    // O(n^2) [N-Squared]\n",
        "  elif a>b:\n",
        "    // O(log(n)) [Log of n]\n",
        "  else:\n",
        "    // O(n) [n]\n",
        "```"
      ]
    },
    {
      "cell_type": "code",
      "metadata": {
        "colab_type": "code",
        "id": "Khw1yke4LutT",
        "cellView": "form",
        "colab": {}
      },
      "source": [
        "Answer = \"Select\" #@param [\"Select\", \"O(n)\", \"O(log(n))\", \"O(n^2)\", \"O(1)\"]"
      ],
      "execution_count": null,
      "outputs": []
    },
    {
      "cell_type": "markdown",
      "metadata": {
        "colab_type": "text",
        "id": "5ytfm6-fbxRl"
      },
      "source": [
        "# 11.\n",
        "---\n"
      ]
    },
    {
      "cell_type": "markdown",
      "metadata": {
        "colab_type": "text",
        "id": "jogpWRrkbxRn"
      },
      "source": [
        "We used web scraping using BeautifulSoup. Assume we instantiated an object called soup. Which method did we use?"
      ]
    },
    {
      "cell_type": "code",
      "metadata": {
        "colab_type": "code",
        "id": "A7WV2Pp4bxRo",
        "cellView": "form",
        "colab": {}
      },
      "source": [
        "Answer = \"Select\" #@param [\"Select\", \"soup.lookfor('a')\", \"soup.search('a')\", \"soup.find('a')\", \"soup.found('a')\"]"
      ],
      "execution_count": null,
      "outputs": []
    },
    {
      "cell_type": "markdown",
      "metadata": {
        "colab_type": "text",
        "id": "-QIAXmWub1Ph"
      },
      "source": [
        "# 12.\n",
        "---\n"
      ]
    },
    {
      "cell_type": "markdown",
      "metadata": {
        "colab_type": "text",
        "id": "Poxu8h7Tb1Pi"
      },
      "source": [
        "Short answer (Type your response below)\n",
        "\n",
        "What are the differences and similarities of a linked list and Python's list?"
      ]
    },
    {
      "cell_type": "code",
      "metadata": {
        "colab_type": "code",
        "id": "kYgTsaUGb1Pi",
        "colab": {}
      },
      "source": [
        ""
      ],
      "execution_count": null,
      "outputs": []
    },
    {
      "cell_type": "markdown",
      "metadata": {
        "colab_type": "text",
        "id": "07OEDlUDb1-6"
      },
      "source": [
        "# 13.\n",
        "---\n"
      ]
    },
    {
      "cell_type": "markdown",
      "metadata": {
        "colab_type": "text",
        "id": "VB7dUwsbb1-7"
      },
      "source": [
        "Given the linked list code below:\n",
        "\n",
        "Create the find function. If it's found, return True, otherwise return False."
      ]
    },
    {
      "cell_type": "code",
      "metadata": {
        "colab_type": "code",
        "id": "BrfeGJvzb1-8",
        "colab": {}
      },
      "source": [
        "class Node: \n",
        "\tdef __init__(self, data): \n",
        "\t\tself.data = data\n",
        "\t\tself.next = None \n",
        "\n",
        "class LinkedList: \n",
        "  def __init__(self): \n",
        "    self.head = None\n",
        "\n",
        "  def printLinkedList(self):\n",
        "    temp = self.head \n",
        "    while temp: \n",
        "      print(temp.data) \n",
        "      temp = temp.next\n",
        "\n",
        "  # TODO: Edit here\n",
        "  def find(self, target):\n",
        "    pass\n",
        "\n",
        "llist = LinkedList() \n",
        "\n",
        "llist.head = Node(32) \n",
        "second = Node(36) \n",
        "third = Node(30)\n",
        "fourth = Node(29)\n",
        "fifth = Node(15)\n",
        "\n",
        "llist.head.next = second\n",
        "second.next = third\n",
        "third.next = fourth\n",
        "fourth.next = fifth\n",
        "\n",
        "llist.printLinkedList()\n",
        "\n",
        "# TODO\n",
        "llist.find(10)\n",
        "llist.find(15)"
      ],
      "execution_count": null,
      "outputs": []
    },
    {
      "cell_type": "markdown",
      "metadata": {
        "colab_type": "text",
        "id": "B5pmHlkY7F6X"
      },
      "source": [
        "# 14.\n",
        "---\n"
      ]
    },
    {
      "cell_type": "markdown",
      "metadata": {
        "colab_type": "text",
        "id": "GDe0UcvU7F6Z"
      },
      "source": [
        "Short answer (type your response)\n",
        "\n",
        "What is the difference between a for loop and a while loop?"
      ]
    },
    {
      "cell_type": "code",
      "metadata": {
        "colab_type": "code",
        "id": "dSflXNzF7F6Z",
        "colab": {}
      },
      "source": [
        ""
      ],
      "execution_count": null,
      "outputs": []
    },
    {
      "cell_type": "markdown",
      "metadata": {
        "colab_type": "text",
        "id": "9nfIIGPY7GWQ"
      },
      "source": [
        "# 15. \n",
        "---\n"
      ]
    },
    {
      "cell_type": "markdown",
      "metadata": {
        "colab_type": "text",
        "id": "wE7i3-BZ7GWR"
      },
      "source": [
        "Short answer (type your response)\n",
        "\n",
        "What is `self`?"
      ]
    },
    {
      "cell_type": "code",
      "metadata": {
        "colab_type": "code",
        "id": "3L-SolAL7GWS",
        "colab": {}
      },
      "source": [
        ""
      ],
      "execution_count": null,
      "outputs": []
    },
    {
      "cell_type": "markdown",
      "metadata": {
        "colab_type": "text",
        "id": "r59RkV_g7Gtc"
      },
      "source": [
        "# 16. \n",
        "---\n"
      ]
    },
    {
      "cell_type": "markdown",
      "metadata": {
        "colab_type": "text",
        "id": "92ugo7bm7Gtc"
      },
      "source": [
        "Short answer (type your response)\n",
        "\n",
        "What are sets? What is unique about them? How can they be used in programming?\n",
        "\n",
        "i.e. {'a', 'c', 'd'} & {'c' , 'd', 'e', 'f'}"
      ]
    },
    {
      "cell_type": "code",
      "metadata": {
        "colab_type": "code",
        "id": "gkAAWDbY7Gtd",
        "colab": {}
      },
      "source": [
        "\n"
      ],
      "execution_count": null,
      "outputs": []
    },
    {
      "cell_type": "markdown",
      "metadata": {
        "colab_type": "text",
        "id": "4WmOWluD7fSG"
      },
      "source": [
        "# 17. \n",
        "---\n"
      ]
    },
    {
      "cell_type": "markdown",
      "metadata": {
        "colab_type": "text",
        "id": "MJv9Rody7fSI"
      },
      "source": [
        "Short answer (type your response)\n",
        "\n",
        "What are tuples? What is unique about them? How can they be used in programming?\n",
        "\n",
        "i.e. (1, 2.8, \"Hello World\")"
      ]
    },
    {
      "cell_type": "code",
      "metadata": {
        "colab_type": "code",
        "id": "n7iNDSBl7fSJ",
        "colab": {}
      },
      "source": [
        ""
      ],
      "execution_count": null,
      "outputs": []
    },
    {
      "cell_type": "markdown",
      "metadata": {
        "colab_type": "text",
        "id": "bxPCEtjn7gbe"
      },
      "source": [
        "# 18. \n",
        "---\n"
      ]
    },
    {
      "cell_type": "markdown",
      "metadata": {
        "colab_type": "text",
        "id": "WjsuRjgc7gbf"
      },
      "source": [
        "Short answer (type your response)\n",
        "\n",
        "What are dictionaries? What is unique about them? How can they be used in programming?\n",
        "\n",
        "i.e. { 'Lebron James' : 23, 'Anthony Davis': 3, 'Steph Curry' : 30}"
      ]
    },
    {
      "cell_type": "code",
      "metadata": {
        "colab_type": "code",
        "id": "c3AxtHFV7gbg",
        "colab": {}
      },
      "source": [
        "\n"
      ],
      "execution_count": null,
      "outputs": []
    },
    {
      "cell_type": "markdown",
      "metadata": {
        "colab_type": "text",
        "id": "VTkBiUir7hSE"
      },
      "source": [
        "# 19. \n",
        "---\n"
      ]
    },
    {
      "cell_type": "markdown",
      "metadata": {
        "colab_type": "text",
        "id": "XzUydyuK7hSE"
      },
      "source": [
        "Short answer (type your response)\n",
        "\n",
        "What are lists? What is unique about them? How can they be used in programming?\n",
        "\n",
        "i.e. ['apple', 'banana', 'orange']"
      ]
    },
    {
      "cell_type": "code",
      "metadata": {
        "colab_type": "code",
        "id": "HnFlmgDn7hSF",
        "colab": {}
      },
      "source": [
        ""
      ],
      "execution_count": null,
      "outputs": []
    },
    {
      "cell_type": "markdown",
      "metadata": {
        "colab_type": "text",
        "id": "Dhuw30YX7HEb"
      },
      "source": [
        "# 20.\n",
        "---\n"
      ]
    },
    {
      "cell_type": "markdown",
      "metadata": {
        "colab_type": "text",
        "id": "N_K9F-RF7HEc"
      },
      "source": [
        "Short answer (type your response)\n",
        "\n",
        "What is the difference between a frozen set and a set?\n",
        "\n",
        "i.e {'a','e','i','o','u'} vs. frozenset{'a','e','i','o','u'}"
      ]
    },
    {
      "cell_type": "code",
      "metadata": {
        "colab_type": "code",
        "id": "QLJNmgsf7HEc",
        "colab": {}
      },
      "source": [
        ""
      ],
      "execution_count": null,
      "outputs": []
    },
    {
      "cell_type": "markdown",
      "metadata": {
        "colab_type": "text",
        "id": "aeimLX4TALQu"
      },
      "source": [
        "# 21.\n",
        "---\n"
      ]
    },
    {
      "cell_type": "markdown",
      "metadata": {
        "colab_type": "text",
        "id": "IcBYehkyALQ0"
      },
      "source": [
        "Short answer (type your response)\n",
        "\n",
        "In general, what are trees? Type out all the information you know about trees."
      ]
    },
    {
      "cell_type": "code",
      "metadata": {
        "colab_type": "code",
        "id": "-uP9limJALQ1",
        "colab": {}
      },
      "source": [
        ""
      ],
      "execution_count": null,
      "outputs": []
    },
    {
      "cell_type": "markdown",
      "metadata": {
        "id": "6tKr5zfjjKB8",
        "colab_type": "text"
      },
      "source": [
        "# You've reached the end!\n",
        "\n",
        "1. Notify me once you are finished.\n",
        "2. Open this [link](https://docs.google.com/document/d/1fnYyFl50aEU1UMlWJ4iKKkdOEF6iimyt9kz4zeB2nCs/edit?usp=sharing) to check your answers."
      ]
    }
  ]
}