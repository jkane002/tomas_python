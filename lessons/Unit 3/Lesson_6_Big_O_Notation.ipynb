{
  "nbformat": 4,
  "nbformat_minor": 0,
  "metadata": {
    "colab": {
      "name": "Lesson 6: Big O Notation",
      "provenance": [],
      "collapsed_sections": []
    },
    "kernelspec": {
      "display_name": "Python 3",
      "name": "python3"
    }
  },
  "cells": [
    {
      "cell_type": "markdown",
      "metadata": {
        "id": "Uq6oR46pHrLH",
        "colab_type": "text"
      },
      "source": [
        "# Lesson 6: Big O Notation \n",
        "---\n"
      ]
    },
    {
      "cell_type": "markdown",
      "metadata": {
        "id": "QanMmuiXOoLE",
        "colab_type": "text"
      },
      "source": [
        "# Review\n",
        "---"
      ]
    },
    {
      "cell_type": "markdown",
      "metadata": {
        "id": "-H9R7TQicYsZ",
        "colab_type": "text"
      },
      "source": [
        "1. What is an array?\n",
        "2. Specifically in Python there are differences in syntax regarding arrays and lists. Do you remember what differs?\n",
        "2. What do you think are linked lists?\n",
        "3. Below, instantiate an object from the class BeautifulSoup and pass in a document called mywiki using html.parser."
      ]
    },
    {
      "cell_type": "code",
      "metadata": {
        "id": "dNjqZakQcaFc",
        "colab_type": "code",
        "colab": {}
      },
      "source": [
        "soup = BeautifulSoup(mywiki, 'html.parser')"
      ],
      "execution_count": null,
      "outputs": []
    },
    {
      "cell_type": "markdown",
      "metadata": {
        "id": "glCedjN-Gd6s",
        "colab_type": "text"
      },
      "source": [
        "# Concept 1: Big O Notation\n",
        "---\n",
        "\n"
      ]
    },
    {
      "cell_type": "markdown",
      "metadata": {
        "id": "25oLA8_cHOH7",
        "colab_type": "text"
      },
      "source": [
        "## What is it?\n",
        "\n",
        "Big O Notation is used to describe the complexity and performance of an algorithm. There are two types of complexity: time complexity and space complexity.\n",
        "\n",
        "1. Time complexity refers to how long the algorithm takes to run given\n",
        "any input size.\n",
        "2. Space complexity refers to how much extra space is needed (to store things like temporary variables, bu\u000bers, etc).\n",
        "\n",
        "Efficiency is a big part of software engineering and in life too. We don't want software apps to operate slowly or take up a huge amount of memory on our phones. By knowing Big O Notation or more mathematically speaking, asymptotic notation, we can gauge the efficiency of algorithms.\n",
        "\n",
        "What we really want to know is how long these algorithms take. We're interested in time. The running time of an algorithm depends on how long it takes a computer to run the lines of code of the algorithm and that depends on the speed of the computer, the programming language, and the compiler that translates the program from the programming language into code that runs directly on the computer, among other factors.\n",
        "\n",
        "Big O Notation allows us to check the efficiency of algorithms."
      ]
    },
    {
      "cell_type": "markdown",
      "metadata": {
        "id": "1ZBpqEKtG_oj",
        "colab_type": "text"
      },
      "source": [
        "## Examples:\n",
        "---"
      ]
    },
    {
      "cell_type": "markdown",
      "metadata": {
        "id": "OO-YQ37bsnxH",
        "colab_type": "text"
      },
      "source": [
        "1. Look at the code below. This code will run until it traverses the entire array. Let's say this array has N elements, where N is the total amount of elements in the array. For simplicity, we can say this algorithm runs in N time. Since the array takes up N spaces in memory, this has a space complexity of N."
      ]
    },
    {
      "cell_type": "code",
      "metadata": {
        "id": "_0450pN7HCoa",
        "colab_type": "code",
        "colab": {}
      },
      "source": [
        "# Returns the index if the value is found in the array\n",
        "def findElement(array, targetValue):\n",
        "  for n in range(len(array)): \n",
        "    if array[n] == targetValue: \n",
        "      return n \n",
        "    \n",
        "  return -1"
      ],
      "execution_count": null,
      "outputs": []
    },
    {
      "cell_type": "markdown",
      "metadata": {
        "id": "dOaSl7pWtaBz",
        "colab_type": "text"
      },
      "source": [
        "2. Look at the code below. Given what you know from the previous example, what can you tell about this? \n",
        "> Hint: The nested loops are a big deal."
      ]
    },
    {
      "cell_type": "code",
      "metadata": {
        "id": "zTIvTMsptbfE",
        "colab_type": "code",
        "colab": {
          "base_uri": "https://localhost:8080/",
          "height": 171
        },
        "outputId": "3f9f238a-8e48-416d-a9f1-d42797fcc7bd"
      },
      "source": [
        "adj = [\"red\", \"big\", \"tasty\"]\n",
        "fruits = [\"apple\", \"banana\", \"cherry\"]\n",
        "\n",
        "for a in adj:\n",
        "  for b in fruits:\n",
        "    print(a, b)"
      ],
      "execution_count": null,
      "outputs": [
        {
          "output_type": "stream",
          "text": [
            "red apple\n",
            "red banana\n",
            "red cherry\n",
            "big apple\n",
            "big banana\n",
            "big cherry\n",
            "tasty apple\n",
            "tasty banana\n",
            "tasty cherry\n"
          ],
          "name": "stdout"
        }
      ]
    },
    {
      "cell_type": "markdown",
      "metadata": {
        "id": "mN9ITXJdvoUn",
        "colab_type": "text"
      },
      "source": [
        "Let O be each element of adj.\n",
        "Let X be ecah element of fruits.\n",
        "\n",
        "O | X X X \n",
        "\n",
        "O | X X X \n",
        "\n",
        "O | X X X \n",
        "\n",
        "You can see we have a total of 9 X's. 3^2 is 9. Using this small example, we show that this is N^2.\n",
        "> Note: N is an arbitrary number. In production this can be in the millions or billions.\n",
        "\n",
        "> Note 2: Just because this is a nested loop doesn't always mean it will be N^2. "
      ]
    },
    {
      "cell_type": "markdown",
      "metadata": {
        "id": "lKe-QKCKHDHF",
        "colab_type": "text"
      },
      "source": [
        "## DIY:\n",
        "---"
      ]
    },
    {
      "cell_type": "markdown",
      "metadata": {
        "id": "Cd7uHk1V1SzG",
        "colab_type": "text"
      },
      "source": [
        "1. What is the run time of this code?"
      ]
    },
    {
      "cell_type": "code",
      "metadata": {
        "id": "x-Hkb0FFHFbp",
        "colab_type": "code",
        "colab": {}
      },
      "source": [
        "x = [2, 4, 6, 8, 10, 12]\n",
        "\n",
        "y = [2, 2, 2, 2, 2, 2]\n",
        "\n",
        "plot(x, y, 'Rainfall in inches')"
      ],
      "execution_count": null,
      "outputs": []
    },
    {
      "cell_type": "markdown",
      "metadata": {
        "colab_type": "text",
        "id": "Bm4UJUdvpSlu"
      },
      "source": [
        "# Concept 2: The Notation\n",
        "---\n",
        "\n",
        "\n"
      ]
    },
    {
      "cell_type": "markdown",
      "metadata": {
        "colab_type": "text",
        "id": "gfXTDFM2pSl0"
      },
      "source": [
        "## What are they?\n",
        "\n",
        "There are 3 types of asymptotic notation that you should know about:\n",
        "1. Big Theta (Lower Bound)- Best case running time for a running algorithm\n",
        "2. Big Omega (Tight Bound)- Average case running time for a running algorithm\n",
        "3. Big O (Upper Bound)- Worst case running time for a running algorithm\n",
        "\n",
        "There is more to it than knowing what is best or worst, but you will learn more about this in your advanced math classes.\n",
        "\n",
        "Click on [this](https://images.app.goo.gl/QQgTkHk99557WktDA) to see a graph.\n",
        "For this instance, the higher the graph is, the more inefficient it is. In mathematical terms, visualize y=x^2 and y=3. Since y=x^2 has more \"height,\" it is rather inefficient. \n",
        "\n",
        "Here is an example:\n",
        ">  Suppose you have 10 dollars in your pocket. You go up to your friend and say, \"I have an amount of money in my pocket, and I guarantee that it's no more than one million dollars.\" Your statement is absolutely true, though not terribly precise. One million dollars is an upper bound or (big O) on 10 dollars. Think of efficiency here. Let's imagine that dollars is equivalent to seconds. In computer science terms, we can say the worst case this algorithm runs is a million seconds. The lower bound is 0 dollars because you can't have a negative amount of money. The tight bound is \\$10 because it shows you the \\~exact~ amount. \n",
        "\n",
        "\n",
        "You should know the general differences between these 3 but in an industry setting and for simplicity, we normally use Big O so we can prepare for the \"worst case\" but also acknowledge better options.\n",
        "\n",
        "Example:\n",
        "> Someone can say \"This algorithm is generally O(n^2) but in some cases it can be O(n).\n",
        "\n",
        "## The following are some of the most common Big-O functions:\n",
        "\n",
        "Organized by efficiency.\n",
        "> Note: In most cases this is the general rule of thumb. However in other times, the logs can perform better or worse that already stated.\n",
        "\n",
        "* Name\t| Big O\n",
        "* Constant\tO(1)\n",
        "* Logarithmic\tO(log(n))\n",
        "* Linear\tO(n)\n",
        "* Log Linear\tO(nlog(n))\n",
        "* Quadratic\tO(n^2)\n",
        "* Cubic\tO(n^3)\n",
        "* Exponential\tO(2^n)\n",
        "* Factorial O(n!)\n",
        "* O(n^n)\n",
        "\n",
        "\n",
        "### Example of O(1)\n",
        "\n",
        "No matter what, it always take the same time.\n",
        "\n",
        "O(1) describes an algorithm that will always execute in the same time (or space) regardless of the size of the input data set.\n",
        "\n",
        "```\n",
        "def IsFirstElementNone(elements):\n",
        "    return elements[0] is None\n",
        "```\n",
        "### Example of O(n)\n",
        "\n",
        "Scales with the size of a list.\n",
        "\n",
        "O(N) describes an algorithm whose performance will grow linearly and in direct proportion to the size of the input data set. The example below also demonstrates how Big O favours the worst-case performance scenario; a matching string could be found during any iteration of the for loop and the function would return early, but Big O notation will always assume the upper limit where the algorithm will perform the maximum number of iterations.\n",
        "\n",
        "```\n",
        "def ContainsValue(elements,value):\n",
        "    for element in elements:\n",
        "      if element == value:\n",
        "       return True\n",
        "    return False\n",
        "}\n",
        "```\n",
        "### Example of O(n^2)\n",
        "\n",
        "Twice as long as the input size.\n",
        "\n",
        "O(N2) represents an algorithm whose performance is directly proportional to the square of the size of the input data set. This is common with algorithms that involve nested iterations over the data set. Deeper nested iterations will result in O(N3), O(N4) etc.\n",
        "```\n",
        "def printElements(elements):\n",
        "    for i in range(len(elements)):\n",
        "      for j in elements:\n",
        "        print(i,j)\n",
        "}\n",
        "```\n",
        "### Example of Logarithms\n",
        "\n",
        "Halves everytime.\n",
        "\n",
        "Click [here](https://images.app.goo.gl/bHZJ8pULzWWbmNHA6) for an image of a log graph. Just know for algorithms running in logarithmic time, they are growing proportional to the log function. Logarithms are expressions of halving (dividing). \n",
        "\n",
        "> Example: Log based 2 of 8 => $log_2$(8) = 3. How many 2s do we multiply to get 8? We are dividing 8 by 2, 3 times. 8 -> 4 -> 2 -> 1.\n",
        "\n",
        "We will see the examples of logarithmic running times in more complex algorithms.\n",
        "\n",
        "### Significant Numbers\n",
        "\n",
        "Drop constants and have priority for dominant cases.\n",
        "\n",
        "Since we are looking at Big O or the upper bound, we only consider the highest upper bound there is for an algorithm. When the input (which has length n in this case) becomes extremely large, the constants become insignificant i.e. twice or half of the infinity still remains infinity. Therefore, we can ignore the constants. If an algorithm is O(3n +5), we drop the insignificant numbers and just say that the algorithm is O(n).  Let's look at the first example below.\n",
        "\n",
        "\n"
      ]
    },
    {
      "cell_type": "markdown",
      "metadata": {
        "colab_type": "text",
        "id": "Mt9-KLiEpSl1"
      },
      "source": [
        "## Examples:\n",
        "---"
      ]
    },
    {
      "cell_type": "code",
      "metadata": {
        "colab_type": "code",
        "id": "1o_FSQmTpSl2",
        "colab": {}
      },
      "source": [
        "# Returns the index if the value is found in the array\n",
        "\n",
        "def findElement(array, targetValue):\n",
        "  for n in range(len(array)): # O(n)\n",
        "    if array[n] == targetValue: # O(1)\n",
        "      return n # O(1)\n",
        "    \n",
        "  return -1 # O(1)\n",
        "\n",
        "# O(n) + O(1) + O(1) + O(1) = O(n) "
      ],
      "execution_count": null,
      "outputs": []
    },
    {
      "cell_type": "markdown",
      "metadata": {
        "id": "3VzZAbBfwRtq",
        "colab_type": "text"
      },
      "source": [
        "Here are the running times of some operations we might perform on the phone book, from fastest to slowest:\n",
        "\n",
        "* O(1) (in the worst case): Given the page that a business's name is on and the business name, find the phone number.\n",
        "\n",
        "* O(1) (in the average case): Given the page that a person's name is on and their name, find the phone number.\n",
        "\n",
        "* O(log n): Given a person's name, find the phone number by picking a random point about halfway through the part of the book you haven't searched yet, then checking to see whether the person's name is at that point. Then repeat the process about halfway through the part of the book where the person's name lies. (We halve the book.)\n",
        "\n",
        "* O(n): Find all people whose phone numbers contain the digit \"5\".\n"
      ]
    },
    {
      "cell_type": "markdown",
      "metadata": {
        "colab_type": "text",
        "id": "RGIs1tQUpSl9"
      },
      "source": [
        "## DIY:\n",
        "---"
      ]
    },
    {
      "cell_type": "markdown",
      "metadata": {
        "id": "j8cypHZQxsSk",
        "colab_type": "text"
      },
      "source": [
        "1. What is the running time of this algorithm? space complexity?"
      ]
    },
    {
      "cell_type": "code",
      "metadata": {
        "colab_type": "code",
        "id": "HkHGqgh-pSl9",
        "colab": {}
      },
      "source": [
        "def linear_algo(items):\n",
        "    for item in items:\n",
        "        print(item)\n",
        "\n",
        "    for item in items:\n",
        "        print(item)\n",
        "\n",
        "linear_algo([4, 5, 6, 8])"
      ],
      "execution_count": null,
      "outputs": []
    },
    {
      "cell_type": "markdown",
      "metadata": {
        "id": "pcoyLtqIxv8T",
        "colab_type": "text"
      },
      "source": [
        "2. What is the running time of this algorithm? space complexity?"
      ]
    },
    {
      "cell_type": "code",
      "metadata": {
        "id": "HsxzjnDoxwVf",
        "colab_type": "code",
        "colab": {}
      },
      "source": [
        "def complex_algo(items):\n",
        "\n",
        "    for i in range(5):\n",
        "        print (\"Python is awesome\")\n",
        "\n",
        "    for item in items:\n",
        "        print(item)\n",
        "\n",
        "    for item in items:\n",
        "        print(item)\n",
        "\n",
        "    print(\"Big O\")\n",
        "    print(\"Big O\")\n",
        "    print(\"Big O\")\n",
        "\n",
        "complex_algo([4, 5, 6, 8])"
      ],
      "execution_count": null,
      "outputs": []
    },
    {
      "cell_type": "markdown",
      "metadata": {
        "colab_type": "text",
        "id": "Itx9OJ1apZDf"
      },
      "source": [
        "# Concept 3: Analyze our Previous Code\n",
        "---\n",
        "\n"
      ]
    },
    {
      "cell_type": "markdown",
      "metadata": {
        "colab_type": "text",
        "id": "WrCtaoFEpZDg"
      },
      "source": [
        "## Importance of Analysis\n",
        "\n",
        "Answer this: Why do you think it is important to analyze your code?\n",
        "\n",
        "## The Common List Operations And Their Big-O Notations\n",
        "1. Insertion O(n)\n",
        "2. Deletion O(n)\n",
        "3. Getting an item: O(1)\n",
        "4. Iteration: O(n)\n",
        "5. Get length: O(1)\n",
        "\n",
        "## The Common Stack Operations And Their Big-O Notations\n",
        "1. Insertion O(1)\n",
        "2. Deletion O(1)\n",
        "3. Getting an item: O(n)\n",
        "4. Iteration: O(n)\n",
        "5. Get length: O(n)\n",
        "\n",
        "## The Common Queue Operations And Their Big-O Notations\n",
        "1. Insertion O(1)\n",
        "2. Deletion O(1)\n",
        "3. Getting an item: O(n)\n",
        "4. Iteration: O(n)\n",
        "5. Get length: O(n)"
      ]
    },
    {
      "cell_type": "markdown",
      "metadata": {
        "colab_type": "text",
        "id": "RolyRTFIpZDg"
      },
      "source": [
        "## Examples:\n",
        "---"
      ]
    },
    {
      "cell_type": "markdown",
      "metadata": {
        "id": "eTQu-yIFESEL",
        "colab_type": "text"
      },
      "source": [
        "For each example, describe the time and space complexity."
      ]
    },
    {
      "cell_type": "code",
      "metadata": {
        "colab_type": "code",
        "id": "UrqqdbGjpZDh",
        "colab": {}
      },
      "source": [
        "from datetime import date\n",
        "\n",
        "# date object of today's date\n",
        "today = date.today() \n",
        "\n",
        "print(\"Current year:\", today.year)\n",
        "print(\"Current month:\", today.month)\n",
        "print(\"Current day:\", today.day)"
      ],
      "execution_count": null,
      "outputs": []
    },
    {
      "cell_type": "code",
      "metadata": {
        "id": "JxSSslEEEeDs",
        "colab_type": "code",
        "colab": {}
      },
      "source": [
        "html_doc = \"\"\"\n",
        "<html><head><title>The Dormouse's story</title></head>\n",
        "<body>\n",
        "<p class=\"title\"><b>The Dormouse's story</b></p>\n",
        " \n",
        "<p class=\"story\">Once upon a time there were three little sisters; and their names were\n",
        "<a href=\"http://example.com/elsie\" class=\"sister\" id=\"link1\">Elsie</a>,\n",
        "<a href=\"http://example.com/lacie\" class=\"sister\" id=\"link2\">Lacie</a> and\n",
        "<a href=\"http://example.com/tillie\" class=\"sister\" id=\"link3\">Tillie</a>;\n",
        "and they lived at the bottom of a well.</p>\n",
        " \n",
        "<p class=\"story\">...</p>\n",
        "\"\"\"\n",
        " \n",
        "from bs4 import BeautifulSoup\n",
        "soup = BeautifulSoup(html_doc, 'html.parser')\n",
        "soup.find_all('a')"
      ],
      "execution_count": null,
      "outputs": []
    },
    {
      "cell_type": "code",
      "metadata": {
        "id": "J9yHfOl7Fu8y",
        "colab_type": "code",
        "colab": {}
      },
      "source": [
        "presidents = [\"Washington\", \"Adams\", \"Jefferson\", \"Madison\", \"Monroe\", \"Adams\", \"Jackson\"]\n",
        "for num, name in enumerate(presidents, start=1):\n",
        "    print(\"President {}: {}\".format(num, name))"
      ],
      "execution_count": null,
      "outputs": []
    },
    {
      "cell_type": "code",
      "metadata": {
        "id": "nJ_ASI4gFvnW",
        "colab_type": "code",
        "colab": {}
      },
      "source": [
        "class Dinner:\n",
        "  def __init__(self, food, drink):\n",
        "    self.f = food\n",
        "    self.d = drink\n",
        "init = Dinner(1, 2)"
      ],
      "execution_count": null,
      "outputs": []
    },
    {
      "cell_type": "code",
      "metadata": {
        "id": "rbg4gmsgFva_",
        "colab_type": "code",
        "colab": {}
      },
      "source": [
        "def fibonacci(n):\n",
        "    if n <= 1:\n",
        "        return n\n",
        "    return fibonacci(n-1) + fibonacci(n-2)"
      ],
      "execution_count": null,
      "outputs": []
    },
    {
      "cell_type": "markdown",
      "metadata": {
        "id": "Q7uCzxxmGzqP",
        "colab_type": "text"
      },
      "source": [
        "# Summary:\n",
        "---\n"
      ]
    },
    {
      "cell_type": "markdown",
      "metadata": {
        "id": "4Ye064SE2VdG",
        "colab_type": "text"
      },
      "source": [
        "1. What is Big O notation?\n",
        "2. Differences between big theta, omega, and O?\n",
        "3. Which one is faster: O(n) or O(log(n))?\n",
        "4. Explain time complexity.\n",
        "5. Explain space complexity."
      ]
    },
    {
      "cell_type": "markdown",
      "metadata": {
        "id": "4AmHQnAO6UP9",
        "colab_type": "text"
      },
      "source": [
        "# Homework:\n",
        "---\n"
      ]
    },
    {
      "cell_type": "markdown",
      "metadata": {
        "id": "NjHcevyPEIxs",
        "colab_type": "text"
      },
      "source": [
        "\n",
        "1. Watch this [video](https://www.youtube.com/watch?v=__vX2sjlpXU) on Big-O Notation (5 min). \n",
        "2. You are given two sets. Set A= 1,2,3,4,5,6 and Set B= 2,3,4,5,6,7,8.\n",
        "How many elements are present in A union B? A intersection B? (Refer to Lesson 3 for help)\n",
        "3. Create a function that calculates an area of a triangle. Formatting code is up to you.\n",
        "4. Analyze the time and space complexity of the code below. In your homework file, just print out a statement stating the times. i.e.\n",
        "```\n",
        "The time complexity is O(23) and the space complexity is O(n^3).\n",
        "```"
      ]
    },
    {
      "cell_type": "code",
      "metadata": {
        "id": "yxrtfy7t6GuM",
        "colab_type": "code",
        "colab": {}
      },
      "source": [
        "def bubbleSort(arr):\n",
        "    n = len(arr)\n",
        " \n",
        "    # Traverse through all array elements\n",
        "    for i in range(n):\n",
        " \n",
        "        # Last i elements are already in place\n",
        "        for j in range(0, n-i-1):\n",
        " \n",
        "            # traverse the array from 0 to n-i-1\n",
        "            # Swap if the element found is greater\n",
        "            # than the next element\n",
        "            if arr[j] > arr[j+1] :\n",
        "                arr[j], arr[j+1] = arr[j+1], arr[j]\n",
        " \n",
        "# Driver code to test above\n",
        "arr = [64, 34, 25, 12, 22, 11, 90]\n",
        " \n",
        "bubbleSort(arr)"
      ],
      "execution_count": null,
      "outputs": []
    },
    {
      "cell_type": "markdown",
      "metadata": {
        "id": "sGIYpA2949ZK",
        "colab_type": "text"
      },
      "source": [
        "# Notes on homework:\n",
        "---\n",
        "\n"
      ]
    },
    {
      "cell_type": "markdown",
      "metadata": {
        "id": "mBaIcTUSpcYA",
        "colab_type": "text"
      },
      "source": [
        "I will check in on Thursday,  through email to check on your progress. Respond with any questions you might have. Otherwise, a simple “all good” is appropriate if you have no questions or comments. \n",
        "\n",
        "You will need to upload your coding homework assignments to GitHub.\n",
        "1. In gitbash, change directories to the homework directory: tomas_python/homework\n",
        "* TIP: use ‘cd’ to change directories\n",
        "* Use ‘cd ..’ to return to the previous directory\n",
        "* Use ‘pwd’ to show full pathname of the current working directory \n",
        "* Use ‘ls’ to list all your directories\n",
        "2. Once you’re in that directory, type in ‘git pull’\n",
        "* This ensures you have all updated files\n",
        "* If there is an error involved, email me immediately so we can try resolving it.\n",
        "* Otherwise, type your code below and we’ll resolve issues next class\n",
        "3. To create a new file, type in ‘touch hw01.py’ or the appropriate file name\n",
        "* ‘Touch’ creates a new file\n",
        "4. Open up the python file and start coding!\n",
        "\n",
        "Note: Become familiar with these actions. This is essentially what happens in the backend when you right-click and create a new folder/file!"
      ]
    }
  ]
}