{
  "nbformat": 4,
  "nbformat_minor": 0,
  "metadata": {
    "colab": {
      "name": "Lesson 3: Sets",
      "provenance": [],
      "collapsed_sections": [
        "Q7uCzxxmGzqP",
        "sGIYpA2949ZK"
      ]
    },
    "kernelspec": {
      "display_name": "Python 3",
      "name": "python3"
    }
  },
  "cells": [
    {
      "cell_type": "markdown",
      "metadata": {
        "id": "Uq6oR46pHrLH",
        "colab_type": "text"
      },
      "source": [
        "# Lesson 3: Sets in Python\n",
        "---\n",
        "Intro: Today we will learn about sets used in math and in Python!"
      ]
    },
    {
      "cell_type": "markdown",
      "metadata": {
        "id": "QanMmuiXOoLE",
        "colab_type": "text"
      },
      "source": [
        "# Review\n",
        "---\n",
        "1. What are modules?\n",
        "2. How do you use modules?\n",
        "3. Give an example of how you would use them."
      ]
    },
    {
      "cell_type": "markdown",
      "metadata": {
        "id": "glCedjN-Gd6s",
        "colab_type": "text"
      },
      "source": [
        "# Concept 1: Sets\n",
        "---\n"
      ]
    },
    {
      "cell_type": "markdown",
      "metadata": {
        "id": "25oLA8_cHOH7",
        "colab_type": "text"
      },
      "source": [
        "## What are they?\n",
        "A set is an unordered collection, similar to a list, with no duplicate elements. Common uses include membership testing, or determining if some item is in a set, and eliminating duplicate elements. If we create a set that has repeating elements, it will automatically remove any duplicates. Each element in Python set is unique.\n",
        "\n",
        "To create sets, you can use braces or the set() function. To create an empty set, simply just call set() with no arguments.\n",
        "\n",
        "To check if an element is in a set, use 'in'"
      ]
    },
    {
      "cell_type": "code",
      "metadata": {
        "id": "YHfX7uzFGMiZ",
        "colab_type": "code",
        "colab": {
          "base_uri": "https://localhost:8080/",
          "height": 34
        },
        "outputId": "e6dfe3a3-0d91-4d49-d040-51387895c429"
      },
      "source": [
        "basket = {'orange', 'orange', 'grapes', 'pear', 'banana'}\n",
        "print(basket)"
      ],
      "execution_count": null,
      "outputs": [
        {
          "output_type": "stream",
          "text": [
            "{'orange', 'grapes', 'banana', 'pear'}\n"
          ],
          "name": "stdout"
        }
      ]
    },
    {
      "cell_type": "code",
      "metadata": {
        "id": "zcT_tSueGX6y",
        "colab_type": "code",
        "colab": {
          "base_uri": "https://localhost:8080/",
          "height": 34
        },
        "outputId": "77f346a2-9eb5-4964-bfc0-09e2b8f270d0"
      },
      "source": [
        "basket = {'orange', 'orange', 'grapes', 'pear', 'banana'}\n",
        "'pear' in basket"
      ],
      "execution_count": null,
      "outputs": [
        {
          "output_type": "execute_result",
          "data": {
            "text/plain": [
              "True"
            ]
          },
          "metadata": {
            "tags": []
          },
          "execution_count": 2
        }
      ]
    },
    {
      "cell_type": "markdown",
      "metadata": {
        "id": "1ZBpqEKtG_oj",
        "colab_type": "text"
      },
      "source": [
        "## Examples:\n",
        "---"
      ]
    },
    {
      "cell_type": "code",
      "metadata": {
        "id": "_0450pN7HCoa",
        "colab_type": "code",
        "colab": {
          "base_uri": "https://localhost:8080/",
          "height": 34
        },
        "outputId": "03cd4ced-a4e3-4542-98c4-8bd399fb58b2"
      },
      "source": [
        "myname = set('tomasderrow')\n",
        "myname"
      ],
      "execution_count": null,
      "outputs": [
        {
          "output_type": "execute_result",
          "data": {
            "text/plain": [
              "{'a', 'd', 'e', 'm', 'o', 'r', 's', 't', 'w'}"
            ]
          },
          "metadata": {
            "tags": []
          },
          "execution_count": 3
        }
      ]
    },
    {
      "cell_type": "code",
      "metadata": {
        "id": "8cGkzLBVZymG",
        "colab_type": "code",
        "colab": {
          "base_uri": "https://localhost:8080/",
          "height": 34
        },
        "outputId": "5099b702-00cd-4d7d-c754-5401522d6378"
      },
      "source": [
        "num = {1,1,1,1,1,2,3,4,5,6}\n",
        "num\n",
        "4 in num"
      ],
      "execution_count": null,
      "outputs": [
        {
          "output_type": "execute_result",
          "data": {
            "text/plain": [
              "True"
            ]
          },
          "metadata": {
            "tags": []
          },
          "execution_count": 4
        }
      ]
    },
    {
      "cell_type": "markdown",
      "metadata": {
        "id": "lKe-QKCKHDHF",
        "colab_type": "text"
      },
      "source": [
        "## DIY:\n",
        "---\n",
        "1. Create a set using the set() function containing five different colors.\n",
        "2. Create a set using braces containing three different cars as a string data type."
      ]
    },
    {
      "cell_type": "code",
      "metadata": {
        "id": "x-Hkb0FFHFbp",
        "colab_type": "code",
        "colab": {
          "base_uri": "https://localhost:8080/",
          "height": 34
        },
        "outputId": "c04365e3-0e73-4093-c89b-2d624ec72fc4"
      },
      "source": [
        "colors = set({\"red\", \"blue\", \"purple\", \"yellow\", \"orange\"})\n",
        "print(colors)"
      ],
      "execution_count": null,
      "outputs": [
        {
          "output_type": "stream",
          "text": [
            "{'yellow', 'blue', 'red', 'orange', 'purple'}\n"
          ],
          "name": "stdout"
        }
      ]
    },
    {
      "cell_type": "code",
      "metadata": {
        "id": "WU1VHAxq8eU4",
        "colab_type": "code",
        "colab": {
          "base_uri": "https://localhost:8080/",
          "height": 34
        },
        "outputId": "8970a220-01f6-4a30-877d-6cc906547f85"
      },
      "source": [
        "cars = {'honda', 'ferrari', 'toyota'}\n",
        "print(cars)"
      ],
      "execution_count": null,
      "outputs": [
        {
          "output_type": "stream",
          "text": [
            "{'honda', 'toyota', 'ferrari'}\n"
          ],
          "name": "stdout"
        }
      ]
    },
    {
      "cell_type": "markdown",
      "metadata": {
        "colab_type": "text",
        "id": "SLZAn5YX_DrV"
      },
      "source": [
        "# Concept 2: Mathematical Set Operations\n",
        "---\n"
      ]
    },
    {
      "cell_type": "markdown",
      "metadata": {
        "colab_type": "text",
        "id": "TjFX2als_Dre"
      },
      "source": [
        "## What are they?\n",
        "\n",
        "Set objects support mathematical operations such as union, intersection, difference, and symmetric difference.\n",
        "\n",
        "Go to this website to see a graphic:\n",
        "[https://images.app.goo.gl/hSDTckK1rZsDf7Hh6](https://images.app.goo.gl/hSDTckK1rZsDf7Hh6)\n",
        "\n",
        "For example:\n",
        "```\n",
        "a = set('basketball')\n",
        "b = set('football')\n",
        "# prints the unique letters in a\n",
        "a\n",
        "# letters in a but not in b (difference)\n",
        "a-b\n",
        "# letters in a or b or both (union)\n",
        "a|b\n",
        "# letters in both a and b (intersection)\n",
        "a&b\n",
        "# letters in a or b but not both (symmetric difference)\n",
        "a ^ b\n",
        "```\n"
      ]
    },
    {
      "cell_type": "markdown",
      "metadata": {
        "colab_type": "text",
        "id": "rVPdwF9u_Drf"
      },
      "source": [
        "## Examples:\n",
        "---"
      ]
    },
    {
      "cell_type": "code",
      "metadata": {
        "colab_type": "code",
        "id": "lOeRs5gi_Drg",
        "colab": {
          "base_uri": "https://localhost:8080/",
          "height": 34
        },
        "outputId": "8c9ff904-346a-4bf0-b3a3-2626754612e2"
      },
      "source": [
        "a = set('basketball')\n",
        "b = set('football')\n",
        "# letters in a but not in b (difference)\n",
        "a^b"
      ],
      "execution_count": null,
      "outputs": [
        {
          "output_type": "execute_result",
          "data": {
            "text/plain": [
              "{'e', 'f', 'k', 'o', 's'}"
            ]
          },
          "metadata": {
            "tags": []
          },
          "execution_count": 17
        }
      ]
    },
    {
      "cell_type": "code",
      "metadata": {
        "id": "lzqXHI_GNR93",
        "colab_type": "code",
        "colab": {
          "base_uri": "https://localhost:8080/",
          "height": 34
        },
        "outputId": "006f2b49-59e8-425e-870f-6434a5c4f342"
      },
      "source": [
        "first = {45, 12, 90, 24}\n",
        "second = {23, 45, 9, 25, 24}\n",
        "first & second"
      ],
      "execution_count": null,
      "outputs": [
        {
          "output_type": "execute_result",
          "data": {
            "text/plain": [
              "{24, 45}"
            ]
          },
          "metadata": {
            "tags": []
          },
          "execution_count": 18
        }
      ]
    },
    {
      "cell_type": "markdown",
      "metadata": {
        "colab_type": "text",
        "id": "Coi0Fbum_Drl"
      },
      "source": [
        "## DIY:\n",
        "---\n",
        "1. Create a set of prime numbers startin from 1-20\n",
        "2. Create another set of odd numbers from 1-20\n",
        "3. Perform all operations on both sets"
      ]
    },
    {
      "cell_type": "code",
      "metadata": {
        "colab_type": "code",
        "id": "O0vnjjot_Drl",
        "colab": {
          "base_uri": "https://localhost:8080/",
          "height": 34
        },
        "outputId": "91175658-1392-4c82-8f2f-2c96ed389a0e"
      },
      "source": [
        "prime = set({1, 3, 5, 7})\n",
        "odd = set({1, 3, 5 ,7, 9})\n",
        "prime|odd"
      ],
      "execution_count": null,
      "outputs": [
        {
          "output_type": "execute_result",
          "data": {
            "text/plain": [
              "{1, 3, 5, 7, 9}"
            ]
          },
          "metadata": {
            "tags": []
          },
          "execution_count": 22
        }
      ]
    },
    {
      "cell_type": "markdown",
      "metadata": {
        "colab_type": "text",
        "id": "QqTLi4eg_EKj"
      },
      "source": [
        "# Concept 3: Set Operations\n",
        "---\n",
        "\n",
        "\n",
        "\n"
      ]
    },
    {
      "cell_type": "markdown",
      "metadata": {
        "colab_type": "text",
        "id": "Fnma4FuM_EKk"
      },
      "source": [
        "## What are they?\n",
        "\n",
        "### Create an Empty Set\n",
        "The following is an incorrect way of creating an empty set. This will create an empty dictionary:\n",
        "\n",
        "```\n",
        ">>> empty={}\n",
        "\n",
        ">>> type(empty)\n",
        "<class 'dict'>\n",
        "```\n",
        "The correct way to create is shown below. To create an empty set, use the set method with empty constructor as shown below.\n",
        "```\n",
        ">>> empty=set()\n",
        "\n",
        ">>> type(empty)\n",
        "<class 'set'>\n",
        "```\n",
        "While trying to create empty set, use constructor method. Otherwise using 1st method will make an empty dictionary instead.\n",
        "\n",
        "### Create Set from Tuple\n",
        "First, create a tuple as shown below.\n",
        "\n",
        "```\n",
        ">>> p=(3,5,7,11,13)\n",
        "\n",
        ">>> p\n",
        "(3, 5, 7, 11, 13)\n",
        "\n",
        ">>> type(p)\n",
        "<class 'tuple'>\n",
        "```\n",
        "To learn more about tuples, refer to this: [Python Tuples Examples](https://www.thegeekstuff.com/2019/03/python-tuple-examples/)\n",
        "\n",
        "Next, create a set from the above tuple:\n",
        "```\n",
        ">>> primes=set(p)\n",
        "\n",
        ">>> p\n",
        "(3, 5, 7, 11, 13)\n",
        "\n",
        ">>> type(primes)\n",
        "<class 'set'>\n",
        "\n",
        ">>> primes\n",
        "{3, 5, 7, 11, 13}\n",
        "```\n",
        "### Access a Specific Value in Set\n",
        "Set elements cannot be accessed specifically, there is no index attached to it. We cannot access elements of set.\n",
        "\n",
        "```\n",
        ">>> primes = {3, 5, 7, 11, 13}\n",
        "\n",
        ">>> primes[1]\n",
        "Traceback (most recent call last):\n",
        "File \"<pyshell#21>\", line 1, in <module>\n",
        "primes[1]\n",
        "TypeError: 'set' object does not support indexing\n",
        "```\n",
        "\n",
        "### Add an element\n",
        "Items can be added to set using two methods add and update. Add method can insert single element but update method can insert tuple, lists too.\n",
        "```\n",
        ">>> primes={3,5,7,11}\n",
        "\n",
        ">>> primes\n",
        "{11, 3, 5, 7}\n",
        "\n",
        ">>> primes.add(19)\n",
        "\n",
        ">>> primes\n",
        "{3, 5, 7, 11, 19}\n",
        "```\n",
        "The following will add the items from the plist to the primes set.\n",
        "\n",
        "```\n",
        ">>> plist=[12,14,15,16]\n",
        "\n",
        ">>> primes.update(plist)\n",
        "\n",
        ">>> primes\n",
        "{3, 5, 7, 11, 12, 14, 15, 16, 19}\n",
        "```\n",
        "### Delete an element\n",
        "Items can be removed from set using discard and remove method. While removing items, if item does not exist, remove reports and error while discard doesn’t.\n",
        "\n",
        "```\n",
        ">>> primes\n",
        "{3, 5, 'santosh', 7, 11, 12, 14, 15, 16, 19}\n",
        "\n",
        ">>> primes.discard(\"santosh\")\n",
        ">>> primes\n",
        "{3, 5, 7, 11, 12, 14, 15, 16, 19}\n",
        "\n",
        ">>> primes.discard(\"santosh\")\n",
        "```\n",
        "While trying to remove already removed item, discard does not report an error.\n",
        "\n",
        "Currently primes set has the following values.\n",
        "```\n",
        ">>> primes\n",
        "{3, 5, 7, 11, 12, 14, 15, 16, 19}\n",
        "The following will remove the item with value 11 from the primes set.\n",
        "\n",
        ">>> primes.remove(11);\n",
        "As you see below, we don’t see item with value 11 anymore in primes set.\n",
        "\n",
        ">>> primes\n",
        "{3, 5, 7, 12, 14, 15, 16, 19}\n",
        "\n",
        ">>> primes.remove(11)\n",
        "Traceback (most recent call last):\n",
        "File \"<pyshell#23>\", line 1, in <module>\n",
        "primes.remove(11)\n",
        "KeyError: 11\n",
        "```\n",
        "Remove method reported error when trying to remove element which does not exist.\n",
        "\n",
        "### Iterate through a set\n",
        "Let us use the following primes set for this example.\n",
        "\n",
        "```\n",
        ">>> primes={3,5,7,11,91,101}\n",
        "\n",
        "use for loop to loop through the set elements.\n",
        ">>> for prime in primes:\n",
        "print(prime);\n",
        "3\n",
        "5\n",
        "101\n",
        "7\n",
        "11\n",
        "```\n",
        "\n",
        "###Clearing a Set\n",
        "Using clear method, all the items of set can be deleted.\n",
        "\n",
        "```\n",
        ">>> prime1\n",
        "{3, 5, 101, 7, 11, 91}\n",
        "\n",
        ">>> prime1.clear()\n",
        "\n",
        ">>> prime1\n",
        "set()\n",
        "```"
      ]
    },
    {
      "cell_type": "markdown",
      "metadata": {
        "colab_type": "text",
        "id": "50MFU3cc_EKl"
      },
      "source": [
        "## Examples:\n",
        "---"
      ]
    },
    {
      "cell_type": "code",
      "metadata": {
        "colab_type": "code",
        "id": "xn4z_LjH_EKl",
        "colab": {
          "base_uri": "https://localhost:8080/",
          "height": 137
        },
        "outputId": "761e2099-3a61-46ce-de14-fcf021f4ad94"
      },
      "source": [
        "num_list = [23, 32, 8, 24, 9, 10, 1]\n",
        "numbers_set = set(num_list)\n",
        "# iterate through the set\n",
        "for i in numbers_set:\n",
        "  print(i)"
      ],
      "execution_count": null,
      "outputs": [
        {
          "output_type": "stream",
          "text": [
            "32\n",
            "1\n",
            "8\n",
            "9\n",
            "10\n",
            "23\n",
            "24\n"
          ],
          "name": "stdout"
        }
      ]
    },
    {
      "cell_type": "code",
      "metadata": {
        "id": "xN5bUIxhxewp",
        "colab_type": "code",
        "colab": {
          "base_uri": "https://localhost:8080/",
          "height": 51
        },
        "outputId": "f69c10ec-b9ca-427c-f76c-445dbd10b072"
      },
      "source": [
        "abc_set = {'a', 'b', 'c', 'd' , 'd'}\n",
        "print(\"Before: \" + str(abc_set))\n",
        "abc_set.add('e')\n",
        "print(\"After: \" + str(abc_set))"
      ],
      "execution_count": null,
      "outputs": [
        {
          "output_type": "stream",
          "text": [
            "Before: {'c', 'd', 'b', 'a'}\n",
            "After: {'e', 'd', 'b', 'c', 'a'}\n"
          ],
          "name": "stdout"
        }
      ]
    },
    {
      "cell_type": "markdown",
      "metadata": {
        "colab_type": "text",
        "id": "cz9PLmZf_EKo"
      },
      "source": [
        "## DIY:\n",
        "---\n",
        "1. Congrats! You've been drafted 3rd overall to the Los Angeles Lakers. Next you have to pick your number but you can't use a retired number.\n",
        "Given this set\n",
        "```\n",
        "8, 13, 22, 24, 25, 32, 33, 34, 42, 44, 52\n",
        "```\n",
        "Check to see if your number is in the set.\n",
        "First choice, number 24. Second choice number 9."
      ]
    },
    {
      "cell_type": "code",
      "metadata": {
        "colab_type": "code",
        "id": "xIjcblVd_EKo",
        "colab": {
          "base_uri": "https://localhost:8080/",
          "height": 34
        },
        "outputId": "5493b3ed-4ed3-4567-9ad6-d5d23456ef6e"
      },
      "source": [
        "retired = set({8, 13, 22, 24, 25, 32, 33, 34, 42, 44, 52})\n",
        "choices = set({24, 8})\n",
        "retired&choices"
      ],
      "execution_count": null,
      "outputs": [
        {
          "output_type": "execute_result",
          "data": {
            "text/plain": [
              "{8, 24}"
            ]
          },
          "metadata": {
            "tags": []
          },
          "execution_count": 26
        }
      ]
    },
    {
      "cell_type": "markdown",
      "metadata": {
        "id": "pALg8ZsNEi3q",
        "colab_type": "text"
      },
      "source": [
        "2. Lebron James decided to retire and the Lakers want to hang his jersey up into the rafters. Add his number (23) to the set."
      ]
    },
    {
      "cell_type": "code",
      "metadata": {
        "id": "v8-wAuu9Eu8P",
        "colab_type": "code",
        "colab": {
          "base_uri": "https://localhost:8080/",
          "height": 34
        },
        "outputId": "cf789b00-5fec-4cda-9c32-4e0be28d6dfd"
      },
      "source": [
        "retired = set({8, 13, 22, 24, 25, 32, 33, 34, 42, 44, 52})\n",
        "retired.add(23)\n",
        "retired"
      ],
      "execution_count": null,
      "outputs": [
        {
          "output_type": "execute_result",
          "data": {
            "text/plain": [
              "{8, 13, 22, 23, 24, 25, 32, 33, 34, 42, 44, 52}"
            ]
          },
          "metadata": {
            "tags": []
          },
          "execution_count": 1
        }
      ]
    },
    {
      "cell_type": "markdown",
      "metadata": {
        "colab_type": "text",
        "id": "N6QDhpYT_E0t"
      },
      "source": [
        "# Concept 4: Frozen Sets\n",
        "---\n"
      ]
    },
    {
      "cell_type": "markdown",
      "metadata": {
        "colab_type": "text",
        "id": "o6O8K_qk_E0u"
      },
      "source": [
        "## What are they?\n",
        "There are two types of built-in set types:\n",
        "\n",
        "* set: Python set type is mutable\n",
        "* frozen set: Python frozen set type is immutable\n",
        "\n",
        "The frozenset() function returns an immutable frozenset object initialized with elements from the given iterable.\n",
        "Frozen set is just an immutable version of a Python set object. While elements of a set can be modified at any time, elements of the frozen set remain the same after creation.\n",
        "\n",
        "Due to this, frozen sets can be used as keys in Dictionary or as elements of another set. But like sets, it is not ordered (the elements can be set at any index).\n",
        "\n",
        "The syntax of frozenset() function is:\n",
        "```\n",
        "frozenset([iterable])\n",
        "```"
      ]
    },
    {
      "cell_type": "markdown",
      "metadata": {
        "colab_type": "text",
        "id": "uk38WxW7_E0v"
      },
      "source": [
        "## Examples:\n",
        "---"
      ]
    },
    {
      "cell_type": "code",
      "metadata": {
        "colab_type": "code",
        "id": "l47ER-M6_E0v",
        "colab": {
          "base_uri": "https://localhost:8080/",
          "height": 68
        },
        "outputId": "ea49e6e7-b1d1-4637-c38f-01e59798e77d"
      },
      "source": [
        "a = frozenset([1,2,3,4,5,6,2,3,1])\n",
        "b = set([1,2,3,4,5,6,2,3,1,7])\n",
        "print(a)\n",
        "print(b)\n",
        "print(a&b)"
      ],
      "execution_count": null,
      "outputs": [
        {
          "output_type": "stream",
          "text": [
            "frozenset({1, 2, 3, 4, 5, 6})\n",
            "{1, 2, 3, 4, 5, 6, 7}\n",
            "frozenset({1, 2, 3, 4, 5, 6})\n"
          ],
          "name": "stdout"
        }
      ]
    },
    {
      "cell_type": "markdown",
      "metadata": {
        "colab_type": "text",
        "id": "Z-Y4fxX4_E0y"
      },
      "source": [
        "## DIY:\n",
        "---\n",
        "1. Create a frozen set of vowels. \n",
        "2. Why would a frozen set be an ideal data structure for vowels?\n",
        "3. Try add in a consonent.\n",
        "4. Check if a is in the set of vowels."
      ]
    },
    {
      "cell_type": "code",
      "metadata": {
        "colab_type": "code",
        "id": "TcGumXPz_E0y",
        "colab": {
          "base_uri": "https://localhost:8080/",
          "height": 34
        },
        "outputId": "b74c89c2-03c7-4699-9408-84f6d27f24d7"
      },
      "source": [
        "vowels = frozenset(['a', 'e', 'i', 'o', 'u'])\n",
        "if 'a' in vowels:\n",
        "  print('True')"
      ],
      "execution_count": null,
      "outputs": [
        {
          "output_type": "stream",
          "text": [
            "True\n"
          ],
          "name": "stdout"
        }
      ]
    },
    {
      "cell_type": "markdown",
      "metadata": {
        "id": "Q7uCzxxmGzqP",
        "colab_type": "text"
      },
      "source": [
        "# Summary:\n",
        "---\n"
      ]
    },
    {
      "cell_type": "markdown",
      "metadata": {
        "id": "p2vDDsSDF5xG",
        "colab_type": "text"
      },
      "source": [
        "1. What are sets?\n",
        "2. What kinds of operations can you use with sets?\n",
        "3. What's the difference between a set and a frozen set?\n",
        "4. Daily uses of a set?"
      ]
    },
    {
      "cell_type": "markdown",
      "metadata": {
        "id": "4AmHQnAO6UP9",
        "colab_type": "text"
      },
      "source": [
        "# Homework:\n",
        "---\n",
        "1. Build a class called Facebook with class variables called username, setOfFollowers, numOfPosts, numOfLikes. Username is type string, setOfFollowers is a set of strings, and numOfPosts and numOfLikes are integers.\n",
        "2. Build a class called Twitter with class variables called username, setOfFollowers, numOfPosts, numOfLikes. Username is type string, setOfFollowers is a set of strings, and numOfPosts and numOfLikes are integers.\n",
        "3. Create an instance of the class Facebook with the above arguments. Name that object Lebron.\n",
        "4. Create an instance of the class Twitter with the above arguments. Name that object Giannis.\n",
        "\n",
        "Find a union and intersection of followers these two players might have. Add both their total number of posts together. Add both their total amount of likes together. Print out each of their usernames.\n",
        "\n",
        "Tip:\n",
        "A sample instantiation for Lebron is:\n",
        "```\n",
        "followerset = set(\"Bronny\", \"Anthony Davis\", \"Dwyane Wade\", \"Luka Doncic\")\n",
        "lebron = Facebook(\"kingjames\", followerset, 243, 898)\n",
        "```\n",
        "\n",
        "A sample output would be this:\n",
        "```\n",
        "In total, Bronny, Anthony Davis, Dwyane Wade, Luka Doncic, Kris Middleton, Kawhi Leonard follow either Lebron or Giannis.\n",
        "Lebron and Giannis have Anthony Davis, Luka Doncic following them.\n",
        "Together, Lebron and Giannis have 849 posts.\n",
        "Together, Lebron and Giannis have 1928 likes.\n",
        "Lebon's username is kingjames.\n",
        "Giannis's username is superman.\n",
        "\n",
        "```\n"
      ]
    },
    {
      "cell_type": "markdown",
      "metadata": {
        "id": "sGIYpA2949ZK",
        "colab_type": "text"
      },
      "source": [
        "# Notes on homework:\n",
        "---\n",
        "\n"
      ]
    },
    {
      "cell_type": "markdown",
      "metadata": {
        "id": "gMmzjAwgFTXS",
        "colab_type": "text"
      },
      "source": [
        "I will check in on Thursday,  through email to check on your progress. Respond with any questions you might have. Otherwise, a simple “all good” is appropriate if you have no questions or comments. \n",
        "\n",
        "You will need to upload your coding homework assignments to GitHub.\n",
        "1. In gitbash, change directories to the homework directory: tomas_python/homework\n",
        "* TIP: use ‘cd’ to change directories\n",
        "* Use ‘cd ..’ to return to the previous directory\n",
        "* Use ‘pwd’ to show full pathname of the current working directory \n",
        "* Use ‘ls’ to list all your directories\n",
        "2. Once you’re in that directory, type in ‘git pull’\n",
        "* This ensures you have all updated files\n",
        "* If there is an error involved, email me immediately so we can try resolving it.\n",
        "* Otherwise, type your code below and we’ll resolve issues next class\n",
        "3. To create a new file, type in ‘touch hw01.py’ or the appropriate file name\n",
        "* ‘Touch’ creates a new file\n",
        "4. Open up the python file and start coding!\n",
        "\n",
        "Note: Become familiar with these actions. This is essentially what happens in the backend when you right-click and create a new folder/file!"
      ]
    },
    {
      "cell_type": "markdown",
      "metadata": {
        "id": "ddKcgLGshg1S",
        "colab_type": "text"
      },
      "source": [
        "# DIY Solutions\n",
        "---"
      ]
    },
    {
      "cell_type": "code",
      "metadata": {
        "id": "9Qbis0KYGQhN",
        "colab_type": "code",
        "colab": {}
      },
      "source": [
        "listofcolors = {'yellow', 'red', 'green', 'black', 'white'}\n",
        "mycolors = set(listofcolors)\n",
        "print(mycolors)"
      ],
      "execution_count": null,
      "outputs": []
    },
    {
      "cell_type": "code",
      "metadata": {
        "id": "pkxbkl1uGXKk",
        "colab_type": "code",
        "colab": {}
      },
      "source": [
        "cars = {\"ferrari\", \"toyota\", \"tesla\"}\n",
        "print(cars)"
      ],
      "execution_count": null,
      "outputs": []
    },
    {
      "cell_type": "code",
      "metadata": {
        "id": "J7o5ogRkG9qs",
        "colab_type": "code",
        "colab": {}
      },
      "source": [
        "primenums = set([2, 3, 5, 7, 11, 13, 17, 19])\n",
        "oddnums = set([1, 3, 5, 7, 9, 11, 13, 15, 17, 19])\n",
        "print(primenums&oddnums)\n",
        "print(primenums|oddnums)\n",
        "print(primenums-oddnums)\n",
        "print(primenums^oddnums)"
      ],
      "execution_count": null,
      "outputs": []
    },
    {
      "cell_type": "code",
      "metadata": {
        "id": "dwCY6-GPH_67",
        "colab_type": "code",
        "colab": {}
      },
      "source": [
        "lakers_retirednums = {8, 13, 22, 24, 25, 32, 33, 34, 42, 44, 52}\n",
        "if 24 in lakers_retirednums:\n",
        "  print('yes')\n",
        "else:\n",
        "  print('no')\n",
        "\n",
        "if 9 in lakers_retirednums:\n",
        "  print('yes')\n",
        "else:\n",
        "  print('no')"
      ],
      "execution_count": null,
      "outputs": []
    },
    {
      "cell_type": "code",
      "metadata": {
        "id": "3LoihrZeIQAd",
        "colab_type": "code",
        "colab": {}
      },
      "source": [
        "lakers_retirednums = {8, 13, 22, 24, 25, 32, 33, 34, 42, 44, 52}\n",
        "lakers_retirednums.add(23)\n",
        "print(lakers_retirednums)"
      ],
      "execution_count": null,
      "outputs": []
    },
    {
      "cell_type": "code",
      "metadata": {
        "id": "gRSIvIhdhjzs",
        "colab_type": "code",
        "colab": {}
      },
      "source": [
        "# tuple of vowels\n",
        "vowels = ('a', 'e', 'i', 'o', 'u')\n",
        "\n",
        "myset = frozenset(vowels)\n",
        "print('The frozen set is:', myset)\n",
        "print('The empty frozen set is:', frozenset())\n",
        "\n",
        "# frozensets are immutable\n",
        "myset.add('v')\n",
        "\n",
        "if 'a' in myset:\n",
        "  print('yes')\n",
        "\n"
      ],
      "execution_count": null,
      "outputs": []
    }
  ]
}