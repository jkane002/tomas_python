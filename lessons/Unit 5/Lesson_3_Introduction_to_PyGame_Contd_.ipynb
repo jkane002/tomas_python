{
  "nbformat": 4,
  "nbformat_minor": 0,
  "metadata": {
    "colab": {
      "name": "Lesson 3: Introduction to PyGame Contd.",
      "provenance": [],
      "collapsed_sections": [
        "bpH_aRCh2iOo",
        "QanMmuiXOoLE",
        "ZrLvBErMoe9u",
        "glCedjN-Gd6s",
        "lKe-QKCKHDHF",
        "KehcQuxkw9Zp",
        "6KS5uEoKw90N",
        "Q7uCzxxmGzqP",
        "4AmHQnAO6UP9",
        "sGIYpA2949ZK",
        "ddKcgLGshg1S"
      ]
    },
    "kernelspec": {
      "display_name": "Python 3",
      "name": "python3"
    }
  },
  "cells": [
    {
      "cell_type": "markdown",
      "metadata": {
        "id": "Uq6oR46pHrLH"
      },
      "source": [
        "# Lesson 3: Introduction to PyGame Continued\n",
        "---\n",
        "Intro: Let's start with firing our bullets at each other!"
      ]
    },
    {
      "cell_type": "markdown",
      "metadata": {
        "id": "bpH_aRCh2iOo"
      },
      "source": [
        "# Homework Review:\n",
        "---\n",
        "\n"
      ]
    },
    {
      "cell_type": "markdown",
      "metadata": {
        "id": "AVb2iHEf2iO0"
      },
      "source": [
        "Say you have an array for which the ith element is the price of a given stock on day i.\n",
        "\n",
        "If you were only permitted to complete at most one transaction (i.e., buy one and sell one share of the stock), design an algorithm to find the maximum profit.\n",
        "\n",
        "Note that you cannot sell a stock before you buy one.\n",
        "\n",
        "Example 1:\n",
        "\n",
        "* Input: [7,1,5,3,6,4]\n",
        "* Output: 5\n",
        "* Explanation: Buy on day 2 (price = 1) and sell on day 5 (price = 6), profit = 6-1 = 5. Not 7-1 = 6, as selling price needs to be larger than buying price.\n",
        "\n",
        "Example 2:\n",
        "\n",
        "* Input: [7,6,4,3,1]\n",
        "* Output: 0\n",
        "* Explanation: In this case, no transaction is done, i.e. max profit = 0."
      ]
    },
    {
      "cell_type": "markdown",
      "metadata": {
        "id": "5KHOVZgL3yDc"
      },
      "source": [
        "## Answer\n",
        "---"
      ]
    },
    {
      "cell_type": "code",
      "metadata": {
        "id": "78jV1uuFT6lO"
      },
      "source": [
        "profit = 0\n",
        "minprice = 9999999 #arbitrary large num\n",
        "\n",
        "for i in range(len(prices)):\n",
        "  if prices[i] < minprice:\n",
        "      minprice = prices[i]\n",
        "  elif prices[i] - minprice > profit:\n",
        "      profit = prices[i] - minprice\n",
        "\n",
        "return profit"
      ],
      "execution_count": null,
      "outputs": []
    },
    {
      "cell_type": "markdown",
      "metadata": {
        "id": "QanMmuiXOoLE"
      },
      "source": [
        "# Review\n",
        "---"
      ]
    },
    {
      "cell_type": "markdown",
      "metadata": {
        "id": "B4znJroiGyau"
      },
      "source": [
        "\n",
        "1. Given the code, complete the key press when the user presses on W. Some variables you may need - `ship` and `speed`. `ship` has x and y coordinates."
      ]
    },
    {
      "cell_type": "code",
      "metadata": {
        "id": "lEyCbBnViAW-"
      },
      "source": [
        "if keys_pressed[pygame.K_w]:\n",
        "      # UP"
      ],
      "execution_count": null,
      "outputs": []
    },
    {
      "cell_type": "markdown",
      "metadata": {
        "id": "bf50ZpFbjJkV"
      },
      "source": [
        "2. In the code space below, create a horizontal border."
      ]
    },
    {
      "cell_type": "code",
      "metadata": {
        "id": "ESwmS4hNjLkS"
      },
      "source": [
        "# Parameters\n",
        "# BORDER = pygame.Rect(x,y,width,height)"
      ],
      "execution_count": null,
      "outputs": []
    },
    {
      "cell_type": "markdown",
      "metadata": {
        "id": "ZrLvBErMoe9u"
      },
      "source": [
        "# Concept 1: Bullets\n",
        "---\n"
      ]
    },
    {
      "cell_type": "markdown",
      "metadata": {
        "id": "uZXBfN2Eoe9x"
      },
      "source": [
        "## Objective\n",
        "Let's now have projectiles flying across the screen. We need a separate key to handle this situation. \n",
        "## What are they?\n",
        "1. First, we need to keep track of all the bullets. In the main function below yellow and red, initialize an empty list for the yellow and red spaceships- \n",
        "```\n",
        "yellow_bullets = []\n",
        "red_bullets = []\n",
        "```\n",
        "2. Let's give the bullets some velocity so at the top create this - `BULLET_VEL = 7` (you can change the velocity later on)\n",
        "3. Now we need a way to create a bullet and be able to fire it. We will use the control buttons to fire bullets for each player. The left control would be for the left player and vice versa. For now, each player will have a limited number of bullets. \n",
        "4. In the `for event in pygame.event.get()` loop, enter the following if statement right below the condition where it checks if the game guits- \n",
        "```\n",
        "if event.type == pygame.KEYDOWN:\n",
        "        if event.key == pygame.K_LCTRL:\n",
        "        if event.key == pygame.K_RCTRL:\n",
        "```\n",
        "* This checks if a key is pressed and it's the left control or the right control. ([documentation](https://www.pygame.org/docs/ref/event.html?highlight=keydown))\n",
        "5. For the left control, we want the bullet to move to the right. So first let's create a bullet and append it to the list of bullets. Add the following to the code -\n",
        "```\n",
        "if event.key == pygame.K_LCTRL:\n",
        "        bullet = pygame.Rect(yellow.x + yellow.width, yellow.y + yellow.height//2 - 2, 10, 5)\n",
        "        yellow_bullets.append(bullet)\n",
        "```\n",
        "* Try to really understand this part. Recall these arguments for rect - `rect(x,y,width,height)`. \n",
        "* We want the bullets to spawn or appear at the edge of the spaceship so the bullet's x coordinate would be the spaceship's x coordinate plus its width.\n",
        "* `yellow.y + yellow.height//2 - 2` - Take the y value of the spaceship and add it by half its height so the bullets can spawn from the middle. We subtract 2 (half of the bullet size) to move the bullets even closer to the middle.\n",
        "* `10` - 10 pixels for bullet's width\n",
        "* `5` - 5 pixels for the height. \n",
        "6. Let's do the exact same thing for the right control. Simply copy the code from step 5 and edit some code.\n",
        "7. Change all yellow variables to red. Remove `red.width` because now we want the bullet to come from the left side. \n",
        "8. Now let's have a limit to the number of bullets being fired so each player's shot is strategic. You can change this later to have unlimited ammo. At the top include this `MAX_BULLETS = 5`\n",
        "9. Check if the player has enough bullets when they press on the control buttons. Edit the if statement to look like this - \n",
        "```\n",
        "if event.key == pygame.K_LCTRL and len(yellow_bullets) < MAX_BULLETS:\n",
        "```\n",
        "* So if the length of bullets array is less than the max bullets, they are loaded.\n",
        "* Do the same for the other if statement.\n",
        "\n",
        "## Handle Bullets\n",
        "10. Let's create a function at the top that handles the bullets' velocities and collisions. Name it `handle_bullets(yellow_bullets, red_bullets, yellow, red)`\n",
        "* It will take in each spaceship and its list of bullets.\n",
        "11. Be sure to call it in between the handle movements and draw window - \n",
        "\n",
        "```\n",
        "yellow_handle_movement(keys_pressed, yellow)\n",
        "red_handle_movement(keys_pressed, red)\n",
        "\n",
        "# new code\n",
        "handle_bullets(yellow_bullets, red_bullets, yellow, red)\n",
        "\n",
        "draw_window(red, yellow)\n",
        "```\n",
        "12. Let's display the code and explain each line. Don't copy and paste this part. Try to understand it.\n",
        "\n",
        "```\n",
        "def handle_bullets(yellow_bullets, red_bullets, yellow, red): \n",
        "  for bullet in yellow_bullets:\n",
        "      bullet.x += BULLET_VEL\n",
        "      if red.colliderect(bullet):\n",
        "          pygame.event.post(pygame.event.Event(RED_HIT))\n",
        "          yellow_bullets.remove(bullet)\n",
        "      elif bullet.x > WIDTH:\n",
        "          yellow_bullets.remove(bullet)\n",
        "```\n",
        "* Iterate through the list of bullets. \n",
        "* For each yellow bullet increase the velocity (bullets move to the right)\n",
        "* Check if the red spaceship collides with the bullet ([documentation](https://www.pygame.org/docs/ref/rect.html#pygame.Rect.colliderect))\n",
        "* If the bullet hits the red spaceship, raise an event ([documentation](https://www.pygame.org/docs/ref/event.html#pygame.event.post)) and remove the bullet from the list. See step 13 for `RED_HIT`.\n",
        "* Also check if the bullet goes off the screen, remove the bullet.\n",
        "\n",
        "13. `RED_HIT` and, in just a bit, `YELLOW_HIT` are Pygame's userevents. User events are custom events created by the user. Enter the following variables at the top -\n",
        "```\n",
        "YELLOW_HIT = pygame.USEREVENT + 1\n",
        "RED_HIT = pygame.USEREVENT + 2\n",
        "```\n",
        "* User events represent a code or an arbitrary number. Think of it this way, let's say `pygame.USEREVENT == 500`. We can check if the yellow spaceship got attacked if it matches the user event plus 1. Similarly, we can check if the red spaceship got attacked if it matches the user event plus 2.\n",
        "\n",
        "14. Now in the `handle_bullets` function, create a similar for loop for the red bullets. Be sure to change the variables, velocity, and double check the condition once bullets go off the screen.\n",
        "15. Overall it should look like this:"
      ]
    },
    {
      "cell_type": "code",
      "metadata": {
        "id": "IZrHJJyxfMlq"
      },
      "source": [
        "def handle_bullets(yellow_bullets, red_bullets, yellow, red):\n",
        "    for bullet in yellow_bullets:\n",
        "        bullet.x += BULLET_VEL\n",
        "        if red.colliderect(bullet):\n",
        "            pygame.event.post(pygame.event.Event(RED_HIT))\n",
        "            yellow_bullets.remove(bullet)\n",
        "        elif bullet.x > WIDTH:\n",
        "            # Remove bullets once it goes off the screen\n",
        "            yellow_bullets.remove(bullet)\n",
        "\n",
        "    for bullet in red_bullets:\n",
        "        bullet.x -= BULLET_VEL\n",
        "        if yellow.colliderect(bullet):\n",
        "            pygame.event.post(pygame.event.Event(YELLOW_HIT))\n",
        "            red_bullets.remove(bullet)\n",
        "        elif bullet.x < 0:\n",
        "            # Remove bullets once it goes off the screen\n",
        "            red_bullets.remove(bullet)"
      ],
      "execution_count": null,
      "outputs": []
    },
    {
      "cell_type": "markdown",
      "metadata": {
        "id": "SXyf5AZefwla"
      },
      "source": [
        "## Drawing bullets\n",
        "\n",
        "16. We have the game logic for our bullets so now let's draw them.\n",
        "17. Edit the `draw_window` function so it can take in more arguments - `draw_window(red, yellow, red_bullets, yellow_bullets)`\n",
        "18. Add the following for loops right before display.update - \n",
        "\n",
        "```\n",
        "for bullet in red_bullets:\n",
        "      pygame.draw.rect(WIN, (255,0,0), bullet)\n",
        "\n",
        "for bullet in yellow_bullets:\n",
        "    pygame.draw.rect(WIN, (255,255,0), bullet)\n",
        "```\n",
        "* This essentially iterates through the list of bullets and draws them on the window given the specified color. Feel free to change the color."
      ]
    },
    {
      "cell_type": "markdown",
      "metadata": {
        "id": "KFG_svTVoe9z"
      },
      "source": [
        "## DIY:\n",
        "---"
      ]
    },
    {
      "cell_type": "markdown",
      "metadata": {
        "id": "dbptBaVBoe9z"
      },
      "source": [
        "1. Describe the code in `handle_bullets`.\n",
        "2. What are user events?\n",
        "3. Which method do we use to detect if the bullet hits the spaceship?"
      ]
    },
    {
      "cell_type": "markdown",
      "metadata": {
        "id": "glCedjN-Gd6s"
      },
      "source": [
        "# Concept 2: Adding a Background\n",
        "---\n"
      ]
    },
    {
      "cell_type": "markdown",
      "metadata": {
        "id": "25oLA8_cHOH7"
      },
      "source": [
        "## Objective\n",
        "Let's add a space background instead of it being a plain white color.\n",
        "## Steps\n",
        "1. Create a variable called `SPACE_LOAD` at the top. Next, load the image as such - \n",
        "```\n",
        "SPACE_LOAD = pygame.image.load(os.path.join('Assets', 'space.png'))\n",
        "```\n",
        "* Here we are loading the image called `space.png` from the Assets folder and then loading it onto pygame. ([documentation](https://www.pygame.org/docs/ref/image.html#pygame.image.load))\n",
        "\n",
        "2. Under that create a variable called `SPACE`. Let's resize the image to match our screen's dimensions.\n",
        "```\n",
        "SPACE = pygame.transform.scale(SPACE_LOAD,(WIDTH, HEIGHT))\n",
        "```\n",
        "* This simply scales the image to our screen's width and height.\n",
        "3. Now let's draw it onto the screen. In `draw_window()`, replace `WIN.fill((255,255,255))` with `WIN.blit(SPACE, (0,0))`. We place it at 0,0 because it will start at the top left.\n",
        "4. Run it and see the screen change."
      ]
    },
    {
      "cell_type": "markdown",
      "metadata": {
        "id": "lKe-QKCKHDHF"
      },
      "source": [
        "## DIY:\n",
        "---"
      ]
    },
    {
      "cell_type": "markdown",
      "metadata": {
        "id": "aUupJ8gENARw"
      },
      "source": [
        "1. What would happen if we remove `WIN.blit(SPACE, (0,0))`? What would be the background?\n",
        "2. What does the function `blit` do again?\n",
        "3. How do we load the image onto the screen?"
      ]
    },
    {
      "cell_type": "markdown",
      "metadata": {
        "id": "KehcQuxkw9Zp"
      },
      "source": [
        "# Concept 3: Registering Hits\n",
        "---\n"
      ]
    },
    {
      "cell_type": "markdown",
      "metadata": {
        "id": "vGvfuEcZw9Zq"
      },
      "source": [
        "## Objective\n",
        "Let's now create actions when a spaceship is hit.\n",
        "## Steps\n",
        "1. Let's now incorporate health. In our main function, include these variables - \n",
        "```\n",
        "red_health = 10\n",
        "yellow_health = 10\n",
        "```\n",
        "2. Within `for event in pygame.event.get():`, let's check for those hits. Recall that we created user events once a spaceship is hit. So in the for loop, add this - \n",
        "```\n",
        "if event.type == RED_HIT:\n",
        "    # subtract 1 from red's health\n",
        "if event.type == YELLOW_HIT:\n",
        "    # subtract 1 from yellow's health\n",
        "```\n",
        "* This checks each event to see if the red or yellow spaceship got attacked.\n",
        "* Fill in the code from the comments.\n",
        "3. Now outside the while loop, let's display who won.\n",
        "\n",
        "```\n",
        "winner_text = \"\"\n",
        "if red_health <= 0:\n",
        "    winner_text = \"Yellow Wins!\"\n",
        "\n",
        "if yellow_health <= 0:\n",
        "    winner_text = \"Red Wins!\"\n",
        "\n",
        "if winner_text != \"\":\n",
        "    draw_winner(winner_text)\n",
        "    break\n",
        "```\n",
        "* Create a variable called `winner_text` and set it to an empty string.\n",
        "* Then check if each health is less than or equal to 0. If it is, set `winner_text` to each spaceship winning.\n",
        "* Now, if there is a winner then that means `winner_text` is not identical to an empty string and it will call `draw_winner()` (We'll work on that next). If there is no winner, `winner_text` remains empty.\n",
        "\n",
        "4. Before creating the `draw_winner` function, let's add the red and yellow health to our `draw_window` function. We are doing this because we will keep updating the health as the game progresses. So `draw_window` becomes - \n",
        "```\n",
        "draw_window(red, yellow, red_bullets, yellow_bullets, red_health, yellow_health)\n",
        "```\n",
        "* Don't forget to change these parameters when you defined the function.\n",
        "5. Now, we will render a font to display the health text of each spaceship. So at the very top, add `pygame.font.init()`\n",
        "* This initializes the pygame font library.\n",
        "6. At the top, define these different fonts - \n",
        "```\n",
        "HEALTH_FONT = pygame.font.SysFont('comicsans', 40)\n",
        "WINNER_FONT = pygame.font.SysFont('comicsans', 100)\n",
        "```\n",
        "* Let's stick with comicsans as our font. We give the font a size of 40 and 100. ([documentation](https://www.pygame.org/docs/ref/font.html#pygame.font.SysFont))\n",
        "7. In `draw_window()` after you draw the border, include this -\n",
        "```\n",
        "red_health_text = HEALTH_FONT.render( \"Health: \" + str(red_health), 1, WHITE)\n",
        "yellow_health_text = HEALTH_FONT.render( \"Health: \" + str(yellow_health), 1, WHITE) \n",
        "``` \n",
        "* We shall render the text of each spaceship's health.([documentation](https://www.pygame.org/docs/ref/font.html#pygame.font.Font.render))\n",
        "* 1st argument: displayed text\n",
        "* 2nd argument:  The antialias argument is a boolean: if true the characters will have smooth edges. \n",
        "* 3rd argument: color. If WHITE is not defined, create a tuple for white (255,255,255)\n",
        "\n",
        "8. Now to draw these text onto the screen, we will use blit - \n",
        "```\n",
        "WIN.blit(red_health_text, (WIDTH - red_health_text.get_width() - 10, 10))\n",
        "WIN.blit(yellow_health_text, (10, 10))\n",
        "```\n",
        "* We first use the health_text as our source. The placement is our destination. ([documentation](https://www.pygame.org/docs/ref/surface.html?highlight=blit#pygame.Surface.blit))\n",
        "* With the red health text, we want it to be on the right hand side so we grab the width and subtract the text's width. We also subtract 10 (an arbitrary number) to provide padding. Feel free to play with the numbers\n",
        "* With the yellow health text, we will place it 10 pixels to the right and down from the origin.\n",
        "9. Now let's work on `draw_winner()`. We will go through each line one by one. Try not to copy and paste.\n",
        "\n",
        "```\n",
        "def draw_winner(text):\n",
        "    draw_text = WINNER_FONT.render(text, 1, WHITE)\n",
        "    WIN.blit(draw_text, (WIDTH/2 - draw_text.get_width() /\n",
        "                         2, HEIGHT/2 - draw_text.get_height()/2))\n",
        "    pygame.display.update()\n",
        "    pygame.time.delay(5000)\n",
        "```\n",
        "* `draw_text` - Renders the passed in text parameter with a white font color. \n",
        "* `WIN.blit` - This places the text in the middle of the screen. Feel free to play around with the code.\n",
        "* `pygame.display.update()` - Updates the screen\n",
        "* `pygame.time.delay(5000)` - This is optional but it delays the game for 5 seconds."
      ]
    },
    {
      "cell_type": "markdown",
      "metadata": {
        "id": "0hpHHWuiw9Zq"
      },
      "source": [
        "## DIY:\n",
        "---"
      ]
    },
    {
      "cell_type": "markdown",
      "metadata": {
        "id": "Y9y3cbxtM9wZ"
      },
      "source": [
        "1. Which part of the code lets you know a spaceship is hit?\n",
        "2. How can you tell if you won or lost the game?"
      ]
    },
    {
      "cell_type": "markdown",
      "metadata": {
        "id": "6KS5uEoKw90N"
      },
      "source": [
        "# Concept 4: Sounds\n",
        "---\n"
      ]
    },
    {
      "cell_type": "markdown",
      "metadata": {
        "id": "y60fdQ0Tw90N"
      },
      "source": [
        "## Objective\n",
        "Now it's time to add sounds to our game. We will add sounds once a spaceship is attacked and once it fires a bullet.\n",
        "## Steps\n",
        "1. `pygame.mixer.init()` - Add this to the very top. This initializes the mixer module ([documentation](https://www.pygame.org/docs/ref/mixer.html#pygame.mixer.init))\n",
        "2. Now load the sounds. Be sure to check the names of the sounds in the Assets folder. You may need to pull from git. - \n",
        "```\n",
        "BULLET_HIT_SOUND = pygame.mixer.Sound('Assets/grenade.mp3')\n",
        "BULLET_FIRE_SOUND = pygame.mixer.Sound('Assets/gun.mp3')\n",
        "```\n",
        "* We use `pygame.mixer.Sound` to create a new sound. ([documentation](https://www.pygame.org/docs/ref/mixer.html#pygame.mixer.Sound))\n",
        "3. Now figure out where we should play the fire and hit sounds. The syntax for this is -\n",
        "```\n",
        "BULLET_FIRE(HIT)_SOUND.play()\n",
        "```"
      ]
    },
    {
      "cell_type": "markdown",
      "metadata": {
        "id": "8ngyrlOyw90P"
      },
      "source": [
        "## DIY:\n",
        "---"
      ]
    },
    {
      "cell_type": "markdown",
      "metadata": {
        "id": "KsOt_yuFM7cF"
      },
      "source": [
        "1. How do we load a sound onto pygame?\n",
        "2. How do we play a sound?"
      ]
    },
    {
      "cell_type": "markdown",
      "metadata": {
        "id": "Q7uCzxxmGzqP"
      },
      "source": [
        "# Summary:\n",
        "---\n"
      ]
    },
    {
      "cell_type": "markdown",
      "metadata": {
        "id": "cCuonwBfo2_E"
      },
      "source": [
        "1. What functions were used to rotate the spaceship?\n",
        "2. How can pygame detect keyboard inputs?\n",
        "3. Which function was used to detect collisions?\n",
        "4. What are user events?"
      ]
    },
    {
      "cell_type": "markdown",
      "metadata": {
        "id": "4AmHQnAO6UP9"
      },
      "source": [
        "# Homework:\n",
        "---\n",
        "\n"
      ]
    },
    {
      "cell_type": "markdown",
      "metadata": {
        "id": "4HWwIuZpL3Qt"
      },
      "source": [
        "Given an integer x, return true if x is palindrome integer.\n",
        "\n",
        "An integer is a palindrome when it reads the same backward as forward. For example, 121 is palindrome while 123 is not.\n",
        "\n",
        "Example 1:\n",
        "\n",
        "* Input: x = 121\n",
        "* Output: true\n",
        "\n",
        "Example 2:\n",
        "\n",
        "* Input: x = -121\n",
        "* Output: false\n",
        "* Explanation: From left to right, it reads -121. From right to left, it becomes 121-. Therefore it is not a palindrome.\n",
        "\n",
        "Example 3:\n",
        "\n",
        "* Input: x = 10\n",
        "* Output: false\n",
        "* Explanation: Reads 01 from right to left. Therefore it is not a palindrome.\n",
        "\n",
        "Example 4:\n",
        "\n",
        "* Input: x = -101\n",
        "* Output: false "
      ]
    },
    {
      "cell_type": "markdown",
      "metadata": {
        "id": "sGIYpA2949ZK"
      },
      "source": [
        "# Notes on homework:\n",
        "---"
      ]
    },
    {
      "cell_type": "markdown",
      "metadata": {
        "id": "1W21sec6G3Rq"
      },
      "source": [
        "I will check in on Thursday,  through email to check on your progress. Respond with any questions you might have. Otherwise, a simple “all good” is appropriate if you have no questions or comments. \n",
        "\n",
        "You will need to upload your coding homework assignments to GitHub.\n",
        "1. In gitbash, change directories to the homework directory: tomas_python/homework\n",
        "* TIP: use ‘cd’ to change directories\n",
        "* Use ‘cd ..’ to return to the previous directory\n",
        "* Use ‘pwd’ to show full pathname of the current working directory \n",
        "* Use ‘ls’ to list all your directories\n",
        "2. Once you’re in that directory, type in ‘git pull’\n",
        "* This ensures you have all updated files\n",
        "* If there is an error involved, email me immediately so we can try resolving it.\n",
        "* Otherwise, type your code below and we’ll resolve issues next class\n",
        "3. To create a new file, type in ‘touch hw01.py’ or the appropriate file name\n",
        "* ‘Touch’ creates a new file\n",
        "4. Open up the python file and start coding!\n",
        "\n",
        "Note: Become familiar with these actions. This is essentially what happens in the backend when you right-click and create a new folder/file!\n"
      ]
    },
    {
      "cell_type": "markdown",
      "metadata": {
        "id": "ddKcgLGshg1S"
      },
      "source": [
        "# DIY Solutions\n",
        "---"
      ]
    },
    {
      "cell_type": "code",
      "metadata": {
        "id": "gRSIvIhdhjzs"
      },
      "source": [
        ""
      ],
      "execution_count": null,
      "outputs": []
    }
  ]
}