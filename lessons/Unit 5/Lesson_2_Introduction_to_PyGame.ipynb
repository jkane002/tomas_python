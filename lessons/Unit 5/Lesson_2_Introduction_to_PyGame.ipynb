{
  "nbformat": 4,
  "nbformat_minor": 0,
  "metadata": {
    "colab": {
      "name": "Lesson 2: Introduction to PyGame",
      "provenance": [],
      "collapsed_sections": [
        "bpH_aRCh2iOo",
        "5KHOVZgL3yDc",
        "QanMmuiXOoLE",
        "glCedjN-Gd6s",
        "KehcQuxkw9Zp",
        "6KS5uEoKw90N",
        "ZrLvBErMoe9u",
        "KFG_svTVoe9z",
        "Q7uCzxxmGzqP",
        "4AmHQnAO6UP9",
        "sGIYpA2949ZK",
        "9u8u3ZJBPcKN"
      ]
    },
    "kernelspec": {
      "display_name": "Python 3",
      "name": "python3"
    }
  },
  "cells": [
    {
      "cell_type": "markdown",
      "metadata": {
        "id": "Uq6oR46pHrLH"
      },
      "source": [
        "# Lesson 2: Introduction to PyGame Continued\n",
        "---\n",
        "Intro: Let's work on rotating the spaceships as well as controlling the spaceships with keyboard inputs."
      ]
    },
    {
      "cell_type": "markdown",
      "metadata": {
        "id": "bpH_aRCh2iOo"
      },
      "source": [
        "# Homework Review:\n",
        "---\n",
        "\n"
      ]
    },
    {
      "cell_type": "markdown",
      "metadata": {
        "id": "AVb2iHEf2iO0"
      },
      "source": [
        "Say you have an array for which the ith element is the price of a given stock on day i.\n",
        "\n",
        "If you were only permitted to complete at most one transaction (i.e., buy one and sell one share of the stock), design an algorithm to find the maximum profit.\n",
        "\n",
        "Note that you cannot sell a stock before you buy one.\n",
        "\n",
        "Example 1:\n",
        "\n",
        "* Input: [7,1,5,3,6,4]\n",
        "* Output: 5\n",
        "* Explanation: Buy on day 2 (price = 1) and sell on day 5 (price = 6), profit = 6-1 = 5. Not 7-1 = 6, as selling price needs to be larger than buying price.\n",
        "\n",
        "Example 2:\n",
        "\n",
        "* Input: [7,6,4,3,1]\n",
        "* Output: 0\n",
        "* Explanation: In this case, no transaction is done, i.e. max profit = 0."
      ]
    },
    {
      "cell_type": "markdown",
      "metadata": {
        "id": "5KHOVZgL3yDc"
      },
      "source": [
        "## Answer\n",
        "---"
      ]
    },
    {
      "cell_type": "code",
      "metadata": {
        "id": "78jV1uuFT6lO"
      },
      "source": [
        "profit = 0\n",
        "minprice = 9999999 #arbitrary large num\n",
        "\n",
        "for i in range(len(prices)):\n",
        "  if prices[i] < minprice:\n",
        "      minprice = prices[i]\n",
        "  elif prices[i] - minprice > profit:\n",
        "      profit = prices[i] - minprice\n",
        "\n",
        "return profit"
      ],
      "execution_count": null,
      "outputs": []
    },
    {
      "cell_type": "markdown",
      "metadata": {
        "id": "QanMmuiXOoLE"
      },
      "source": [
        "# Review\n",
        "---"
      ]
    },
    {
      "cell_type": "markdown",
      "metadata": {
        "id": "B4znJroiGyau"
      },
      "source": [
        "1. What are virtual environments?\n",
        "3. What methods do you use to change the scale of an asset or surface?\n",
        "2. Below, how do you activate and deactivate a virtual environment?"
      ]
    },
    {
      "cell_type": "code",
      "metadata": {
        "id": "M4NYAq3iznsb"
      },
      "source": [
        ""
      ],
      "execution_count": null,
      "outputs": []
    },
    {
      "cell_type": "markdown",
      "metadata": {
        "id": "glCedjN-Gd6s"
      },
      "source": [
        "# Concept 1: GitIgnore\n",
        "---\n"
      ]
    },
    {
      "cell_type": "markdown",
      "metadata": {
        "id": "25oLA8_cHOH7"
      },
      "source": [
        "## Objective\n",
        "First off, let's push our code from the last lesson without including the virtual environment.\n",
        "## GitIgnore\n",
        "1. We first need to undo our `git add & git commit`. To do this, type in `git reset` - This unstages the commits.\n",
        "2. Next let's edit the `.gitignore` file. Make sure you are in the root directory.\n",
        "3. Go to [Github's GitIgnore](https://raw.githubusercontent.com/github/gitignore/master/Python.gitignore) for Python. Copy and paste it into our gitignore file.\n",
        "4. Now push the code to GitHub."
      ]
    },
    {
      "cell_type": "markdown",
      "metadata": {
        "id": "KehcQuxkw9Zp"
      },
      "source": [
        "# Concept 2: Rotation\n",
        "---\n"
      ]
    },
    {
      "cell_type": "markdown",
      "metadata": {
        "id": "vGvfuEcZw9Zq"
      },
      "source": [
        "## Objective\n",
        "We learned how to scale and now let's rotate the spaceships to face each other.\n",
        "## Rotation\n",
        "1. First off, let's have variables for the ships' width and height. So at the top set these variablse - \n",
        "```\n",
        "SPACESHIP_WIDTH, SPACESHIP_HEIGHT = 60,50\n",
        "```\n",
        "2. Then replace the space ship's width and height with these variables. \n",
        "3. Let's rename the `YELLOW_SPACESHIP` variable to `YELLOW_SPACESHIP_SCALED`. Then take a look at the docs for rotation first. ([documentation](https://www.pygame.org/docs/ref/transform.html#pygame.transform.rotate))\n",
        "4. The surface is the `YELLOW_SPACESHIP_SCALED` and the rotation will be 90 degrees. In the rotate function, pass in `YELLOW_SPACESHIP_SCALED` and 90 degrees (facing the right side) - \n",
        "```\n",
        "YELLOW_SPACESHIP_SCALED = pygame.transform.scale(\n",
        "    YELLOW_SPACESHIP_IMAGE, (SPACESHIP_WIDTH, SPACESHIP_HEIGHT))\n",
        "YELLOW_SPACESHIP = pygame.transform.rotate(YELLOW_SPACESHIP_SCALED, 90)\n",
        "```\n",
        "5. Repeat this for the red shapeship with a rotation of 270 degrees (facing the left side).\n",
        "6. Ensure the red shapeship is drawn onto the screen using the `blit` function and inside `draw_window()`.\n"
      ]
    },
    {
      "cell_type": "markdown",
      "metadata": {
        "id": "0hpHHWuiw9Zq"
      },
      "source": [
        "## DIY:\n",
        "---"
      ]
    },
    {
      "cell_type": "markdown",
      "metadata": {
        "id": "Y9y3cbxtM9wZ"
      },
      "source": [
        "1. In which direction would a spaceship face if its rotation is at 45 degrees? 0 degrees?"
      ]
    },
    {
      "cell_type": "markdown",
      "metadata": {
        "id": "6KS5uEoKw90N"
      },
      "source": [
        "# Concept 3: Keyboard Movement\n",
        "---\n"
      ]
    },
    {
      "cell_type": "markdown",
      "metadata": {
        "id": "y60fdQ0Tw90N"
      },
      "source": [
        "## Objective\n",
        "Now with our spaceships ready for battle, let's move them using keyboard inputs. We need a way to track their x and y positions and change where to draw them.\n",
        "## Keyboard Inputs\n",
        "1. Let's create a rectangle around the spaceships as a boundary box. In doing so, we can retrieve the x and y coordinates of the spaceships as well as preserving the spaceship's width and height.\n",
        "```\n",
        "red = pygame.Rect(700, 300, SPACESHIP_WIDTH, SPACESHIP_HEIGHT)\n",
        "yellow = pygame.Rect(100, 300, SPACESHIP_WIDTH, SPACESHIP_HEIGHT)\n",
        "```\n",
        "* Look at the ([documentation](https://www.pygame.org/docs/ref/rect.html)) for pygame.Rect.\n",
        "2. Now we need to pass these values as arguments into `draw_window(red, yellow)` as such. Be sure to edit the function parameters where you defined the function.\n",
        "3. In the `draw_window()`, edit the blit methods so they take in the yellow spaceship's x and y coordinates using `yellow.x` and `yellow.y`. It should look like this - \n",
        "```\n",
        "WIN.blit(YELLOW_SPACESHIP, (yellow.x, yellow.y))\n",
        "WIN.blit(RED_SPACESHIP, (red.x, red.y)) \n",
        "``` \n",
        "4. Great! We can now begin with key inputs. Take a look at the [documentation](https://www.pygame.org/docs/ref/key.html#pygame.key.get_pressed) for `key.get_pressed()`. It tells us what keys are currently being pressed down at our framerate of 60 fps. Now enter the code as shown below"
      ]
    },
    {
      "cell_type": "code",
      "metadata": {
        "id": "tGBvFTxPG-TS"
      },
      "source": [
        "for event in pygame.event.get()\n",
        "  ...\n",
        "\n",
        "# new code\n",
        "keys_pressed = pygame.key.get_pressed()"
      ],
      "execution_count": null,
      "outputs": []
    },
    {
      "cell_type": "markdown",
      "metadata": {
        "id": "qav-obsMHSbO"
      },
      "source": [
        "5. Below `keys_pressed`, let's create these functions called - \n",
        "```\n",
        "yellow_handle_movement(keys_pressed, yellow)\n",
        "red_handle_movement(keys_pressed, red)\n",
        "```\n",
        "* These functions, as stated, control movement of the spaceships. They don't exist yet so let's create these functions at the top.\n",
        "\n",
        "6. Start with `yellow_handle_movement()`. The parameters are keys_pressed and the yellow spaceship. We'll use the wasd keys for the yellow space ship. The following code looks like this -\n"
      ]
    },
    {
      "cell_type": "code",
      "metadata": {
        "id": "frs7zAE_E9x7"
      },
      "source": [
        "def yellow_handle_movement(keys_pressed, yellow):\n",
        "  if keys_pressed[pygame.K_a]:  \n",
        "      # LEFT\n",
        "  if keys_pressed[pygame.K_d]:  \n",
        "      # RIGHT\n",
        "  if keys_pressed[pygame.K_w]:\n",
        "      # UP\n",
        "  if keys_pressed[pygame.K_s]:\n",
        "      # DOWN"
      ],
      "execution_count": null,
      "outputs": []
    },
    {
      "cell_type": "markdown",
      "metadata": {
        "id": "Ixhsd1MmFa7w"
      },
      "source": [
        "* First off, check the [documentation](https://www.pygame.org/docs/ref/key.html) for key inputs.\n",
        "* So this entire function checks which key is pressed and then moves the spaceship at a constant velocity. \n",
        "* Create a velocity variable outside of this function and set it to 5. This needs to be outside the function because we'll use this variable in other functions.\n",
        "* Complete the function. What makes the yellow spaceship move left? How can you move the spaceship?\n",
        "7. Once you have figured out the `yellow_handle_movement` function, now do the same for the `red_handle_movement` function. This time instead of wasd, use the arrow keys. If you are unsure about the syntax, check the documentation.\n",
        "\n",
        "## Border\n",
        "Each player will have its own boundary box. We'll have one player on the left side and one on the right side. This just makes it easier to view as a gamer and gives fair movement for the spaceships. Let's also put a boundary around the screen's edges.\n",
        "\n",
        "8. First, let's draw a border onto the screen. At the top, Let's create a border -\n",
        "```\n",
        "BORDER = pygame.Rect(WIDTH//2 - 5, 0, 10, HEIGHT)\n",
        "```\n",
        "* Recall the rectangle parameter's are `(x, y, width, height)`. \n",
        "> * The x coordinate will be half of the screen's width minus half of the rectangle's width. We need to subtract half from the rectangle's width to keep the border in the center of the screen. \n",
        "> * y = 0, we want the the border to start at the top of the screen.\n",
        "> * The width of the border is 10 (this can be changed later on)\n",
        "> * height is the screen's height.\n",
        "\n",
        "9. Now let's draw this onto the screen. In `draw_window()` after we fill the screen with color, enter this - \n",
        "```\n",
        "pygame.draw.rect(WIN, (0,0,0), BORDER)\n",
        "```\n",
        "* Read the docs first([documentation](https://www.pygame.org/docs/ref/draw.html#pygame.draw.rect))\n",
        "* The surface is the window, the color is black or any other darker color, and the rectangle is the border.\n",
        "\n",
        "10. Let's try it out. You should see a border in the middle of the screen. Feel free to play around with the code.\n",
        "\n",
        "## Border boundaries\n",
        "Great! We have a border in place. Now let's write some code to not cross the border.\n",
        "11. What can we edit or add to not have our spaceships cross the border? Pause here. \n",
        "12. We will restrict the movements of each player. If a spaceship's coordinates reach the border or the edge of the screen, restrict it.\n",
        "13. Let's edit the `yellow_handle_movement` function. For the yellow spaceship, start with the a key (left key). We need to make sure the spaceship's x coordinate and its velocity is greater than 0. If it's negative, then that means it's off the screen. It becomes this - \n",
        "```\n",
        "if keys_pressed[pygame.K_a] and yellow.x - VEL > 0:\n",
        "```\n",
        "14. Try figure out the rest of the keys for the yellow and red spaceships. Hint: accommodate for the border's width and the spaceship's width for certain conditions.\n",
        "15. Once you're finished, scroll to the very bottom of this lesson to check your answer."
      ]
    },
    {
      "cell_type": "markdown",
      "metadata": {
        "id": "8ngyrlOyw90P"
      },
      "source": [
        "## DIY:\n",
        "---"
      ]
    },
    {
      "cell_type": "markdown",
      "metadata": {
        "id": "KsOt_yuFM7cF"
      },
      "source": [
        "1. Why do we need to also incorporate the velocity when handling boundary movements?\n",
        "2. If we want a horizontal border instead of a vertical border, how can we change the code? Enter your answer below."
      ]
    },
    {
      "cell_type": "code",
      "metadata": {
        "id": "tJ57CJwSP6LF"
      },
      "source": [
        ""
      ],
      "execution_count": null,
      "outputs": []
    },
    {
      "cell_type": "markdown",
      "metadata": {
        "id": "Q7uCzxxmGzqP"
      },
      "source": [
        "# Summary:\n",
        "---\n"
      ]
    },
    {
      "cell_type": "markdown",
      "metadata": {
        "id": "cCuonwBfo2_E"
      },
      "source": [
        "1. What functions were used to rotate the spaceship?\n",
        "2. How can pygame detect keyboard inputs?\n",
        "3. Which function was used to detect collisions?\n",
        "4. What are user events?"
      ]
    },
    {
      "cell_type": "markdown",
      "metadata": {
        "id": "4AmHQnAO6UP9"
      },
      "source": [
        "# Homework:\n",
        "---\n",
        "\n"
      ]
    },
    {
      "cell_type": "markdown",
      "metadata": {
        "id": "4HWwIuZpL3Qt"
      },
      "source": [
        "Given an integer x, return true if x is palindrome integer.\n",
        "\n",
        "An integer is a palindrome when it reads the same backward as forward. For example, 121 is palindrome while 123 is not.\n",
        "\n",
        "Example 1:\n",
        "\n",
        "* Input: x = 121\n",
        "* Output: true\n",
        "\n",
        "Example 2:\n",
        "\n",
        "* Input: x = -121\n",
        "* Output: false\n",
        "* Explanation: From left to right, it reads -121. From right to left, it becomes 121-. Therefore it is not a palindrome.\n",
        "\n",
        "Example 3:\n",
        "\n",
        "* Input: x = 10\n",
        "* Output: false\n",
        "* Explanation: Reads 01 from right to left. Therefore it is not a palindrome.\n",
        "\n",
        "Example 4:\n",
        "\n",
        "* Input: x = -101\n",
        "* Output: false "
      ]
    },
    {
      "cell_type": "markdown",
      "metadata": {
        "id": "sGIYpA2949ZK"
      },
      "source": [
        "# Notes on homework:\n",
        "---"
      ]
    },
    {
      "cell_type": "markdown",
      "metadata": {
        "id": "1W21sec6G3Rq"
      },
      "source": [
        "I will check in on Thursday,  through email to check on your progress. Respond with any questions you might have. Otherwise, a simple “all good” is appropriate if you have no questions or comments. \n",
        "\n",
        "You will need to upload your coding homework assignments to GitHub.\n",
        "1. In gitbash, change directories to the homework directory: tomas_python/homework\n",
        "* TIP: use ‘cd’ to change directories\n",
        "* Use ‘cd ..’ to return to the previous directory\n",
        "* Use ‘pwd’ to show full pathname of the current working directory \n",
        "* Use ‘ls’ to list all your directories\n",
        "2. Once you’re in that directory, type in ‘git pull’\n",
        "* This ensures you have all updated files\n",
        "* If there is an error involved, email me immediately so we can try resolving it.\n",
        "* Otherwise, type your code below and we’ll resolve issues next class\n",
        "3. To create a new file, type in ‘touch hw01.py’ or the appropriate file name\n",
        "* ‘Touch’ creates a new file\n",
        "4. Open up the python file and start coding!\n",
        "\n",
        "Note: Become familiar with these actions. This is essentially what happens in the backend when you right-click and create a new folder/file!\n"
      ]
    },
    {
      "cell_type": "markdown",
      "metadata": {
        "id": "9u8u3ZJBPcKN"
      },
      "source": [
        "# Boundary Movement Answers"
      ]
    },
    {
      "cell_type": "code",
      "metadata": {
        "id": "xZIACTVaPgKy"
      },
      "source": [
        "def yellow_handle_movement(keys_pressed, yellow):\n",
        "    if keys_pressed[pygame.K_a] and yellow.x - VEL > 0:  # LEFT\n",
        "        yellow.x -= VEL\n",
        "    if keys_pressed[pygame.K_d] and yellow.x + VEL + yellow.width < BORDER.x:  # RIGHT\n",
        "        yellow.x += VEL\n",
        "    if keys_pressed[pygame.K_w] and yellow.y - VEL > 0:  # UP\n",
        "        yellow.y -= VEL\n",
        "    if keys_pressed[pygame.K_s] and yellow.y + VEL + yellow.height < HEIGHT - 15:  # DOWN\n",
        "        yellow.y += VEL\n",
        "\n",
        "\n",
        "def red_handle_movement(keys_pressed, red):\n",
        "    if keys_pressed[pygame.K_LEFT] and red.x - VEL > BORDER.x + BORDER.width:  # LEFT\n",
        "        red.x -= VEL\n",
        "    if keys_pressed[pygame.K_RIGHT] and red.x + VEL + red.width < WIDTH:  # RIGHT\n",
        "        red.x += VEL\n",
        "    if keys_pressed[pygame.K_UP] and red.y - VEL > 0:  # UP\n",
        "        red.y -= VEL\n",
        "    if keys_pressed[pygame.K_DOWN] and red.y + VEL + red.height < HEIGHT - 15:  # DOWN\n",
        "        red.y += VEL"
      ],
      "execution_count": null,
      "outputs": []
    }
  ]
}