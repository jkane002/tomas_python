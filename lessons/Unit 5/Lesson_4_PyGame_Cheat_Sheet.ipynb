{
  "nbformat": 4,
  "nbformat_minor": 0,
  "metadata": {
    "colab": {
      "name": "Lesson 4: PyGame Cheat Sheet",
      "provenance": [],
      "collapsed_sections": [
        "bpH_aRCh2iOo",
        "QanMmuiXOoLE",
        "DBKm1cSvBS2w",
        "C_7PihH8w4HV",
        "zRA3jkbCzMJd",
        "I27Rk4HIP7bR",
        "D76xVCtFTwbq",
        "QKOW6AJbT9K7",
        "kbJ2cbLpUhU9",
        "glCedjN-Gd6s",
        "CChmMJBYPBf9",
        "KehcQuxkw9Zp",
        "IkqRYwh0aGsz",
        "4AmHQnAO6UP9",
        "sGIYpA2949ZK"
      ]
    },
    "kernelspec": {
      "display_name": "Python 3",
      "name": "python3"
    }
  },
  "cells": [
    {
      "cell_type": "markdown",
      "metadata": {
        "id": "Uq6oR46pHrLH"
      },
      "source": [
        "# Lesson 4: PyGame Cheat Sheet \n",
        "---\n",
        "Intro: This detailed cheat sheet contains all the steps we took when creating our first game. ([Cheat Sheet](https://canberragpn.github.io/static/doc/PygameCheatSheet.pdf))"
      ]
    },
    {
      "cell_type": "markdown",
      "metadata": {
        "id": "bpH_aRCh2iOo"
      },
      "source": [
        "# Homework Review:\n",
        "---\n",
        "\n"
      ]
    },
    {
      "cell_type": "markdown",
      "metadata": {
        "id": "AVb2iHEf2iO0"
      },
      "source": [
        "Say you have an array for which the ith element is the price of a given stock on day i.\n",
        "\n",
        "If you were only permitted to complete at most one transaction (i.e., buy one and sell one share of the stock), design an algorithm to find the maximum profit.\n",
        "\n",
        "Note that you cannot sell a stock before you buy one.\n",
        "\n",
        "Example 1:\n",
        "\n",
        "* Input: [7,1,5,3,6,4]\n",
        "* Output: 5\n",
        "* Explanation: Buy on day 2 (price = 1) and sell on day 5 (price = 6), profit = 6-1 = 5. Not 7-1 = 6, as selling price needs to be larger than buying price.\n",
        "\n",
        "Example 2:\n",
        "\n",
        "* Input: [7,6,4,3,1]\n",
        "* Output: 0\n",
        "* Explanation: In this case, no transaction is done, i.e. max profit = 0."
      ]
    },
    {
      "cell_type": "markdown",
      "metadata": {
        "id": "5KHOVZgL3yDc"
      },
      "source": [
        "## Answer\n",
        "---"
      ]
    },
    {
      "cell_type": "code",
      "metadata": {
        "id": "78jV1uuFT6lO"
      },
      "source": [
        "profit = 0\n",
        "minprice = 9999999 #arbitrary large num\n",
        "\n",
        "for i in range(len(prices)):\n",
        "  if prices[i] < minprice:\n",
        "      minprice = prices[i]\n",
        "  elif prices[i] - minprice > profit:\n",
        "      profit = prices[i] - minprice\n",
        "\n",
        "return profit"
      ],
      "execution_count": null,
      "outputs": []
    },
    {
      "cell_type": "markdown",
      "metadata": {
        "id": "QanMmuiXOoLE"
      },
      "source": [
        "# Review\n",
        "---"
      ]
    },
    {
      "cell_type": "markdown",
      "metadata": {
        "id": "B4znJroiGyau"
      },
      "source": [
        "1. Give a summary of how we spawned bullets from one of the spaceships.\n",
        "2. What are user events?"
      ]
    },
    {
      "cell_type": "markdown",
      "metadata": {
        "id": "DBKm1cSvBS2w"
      },
      "source": [
        "# Concept 1: Python Virtual Environment\n",
        "---\n"
      ]
    },
    {
      "cell_type": "markdown",
      "metadata": {
        "id": "IWRFnTwdBS20"
      },
      "source": [
        "\n",
        "Python applications will often use packages and modules that don’t come as part of the standard library. Applications will sometimes need a specific version of a library, because the application may require that a particular bug has been fixed or the application may be written using an obsolete version of the library’s interface.\n",
        "\n",
        "This means it may not be possible for one Python installation to meet the requirements of every application. If application A needs version 1.0 of a particular module but application B needs version 2.0, then the requirements are in conflict and installing either version 1.0 or 2.0 will leave one application unable to run.\n",
        "\n",
        "The solution for this problem is to create a virtual environment, a self-contained directory tree that contains a Python installation for a particular version of Python, plus a number of additional packages.\n",
        "\n",
        "## Virtual Environments Example\n",
        "\n",
        "Local machine\n",
        "* a=1.0\n",
        "* b=2.2\n",
        "* c=3.3\n",
        "\n",
        "Virtual environment for a specific project\n",
        "* a=2.0\n",
        "* b=2.0\n",
        "* c=2.0\n",
        "\n",
        "**Let's keep it a habit now to use virtual environments.**\n",
        "\n",
        "1. To get started with virtual environments in any Python project, go to your root directory of your project. Then ensure you have installed the virtual environment package using `pip install virtualenv`\n",
        "2. `python -m venv venv` - This creates a virtual environment for the project. \n",
        "* `python -m` means we are going to execute a command using **m**odules.\n",
        "* `venv` - The first venv means to create a virtual environment\n",
        "* `venv` - The second venv is the name of our virtual environment. We can name it anything we want but it's customary to name it either venv or env.\n",
        "3. Now to activate them use `source env/bin/activate`. You should see the virtual environment appear in parentheses. \n",
        "4. To check what packages are installed, use `pip list`. Test this out in your virtual environment and on your local machine. \n",
        "5. To exit out of the virtual environment, type `deactivate`.\n",
        "6. Before pushing your project to GitHub. Include [this](https://raw.githubusercontent.com/github/gitignore/master/Python.gitignore) into the `gitignore`.\n",
        "\n",
        "\n",
        "For more information about virtual environments, check out the [documentation](https://docs.python.org/3/tutorial/venv.html).\n"
      ]
    },
    {
      "cell_type": "markdown",
      "metadata": {
        "id": "o3sjPcXPBS22"
      },
      "source": [
        "## DIY:\n",
        "---"
      ]
    },
    {
      "cell_type": "markdown",
      "metadata": {
        "id": "lHapKTGHHous"
      },
      "source": [
        "1. What are virtual environments?\n",
        "3. How can developers benefit from virtual environments?"
      ]
    },
    {
      "cell_type": "markdown",
      "metadata": {
        "id": "C_7PihH8w4HV"
      },
      "source": [
        "# Concept 2: Installing PyGame\n",
        "---\n"
      ]
    },
    {
      "cell_type": "markdown",
      "metadata": {
        "id": "yxGkfht_w4HY"
      },
      "source": [
        "\n",
        "Pygame is a cross-platform set of Python modules designed for writing video games. It includes computer graphics and sound libraries designed to be used with the Python programming language.\n",
        "\n",
        "You control your main loop. You call pygame functions, they don't call your functions. This gives you greater control when using other libraries, and for different types of programs.\n",
        "\n",
        "1. View the [PyGame documentation](https://www.pygame.org/docs/). Get familiar with this as we will be using the documentation throughout the course.\n",
        "4. Now create a virtual environment. Use the steps from the last concept if you need help.\n",
        "5. Once you have created the virtual environment, activate it.\n",
        "6. Next, `pip install pygame` - This installs the pygame package.\n",
        "\n"
      ]
    },
    {
      "cell_type": "markdown",
      "metadata": {
        "id": "AVWznMExw4Ha"
      },
      "source": [
        "## DIY:\n",
        "---"
      ]
    },
    {
      "cell_type": "markdown",
      "metadata": {
        "id": "EzgT4IwPE3F0"
      },
      "source": [
        "1. What is Pygame?\n"
      ]
    },
    {
      "cell_type": "markdown",
      "metadata": {
        "id": "zRA3jkbCzMJd"
      },
      "source": [
        "# Concept 3: Setting Screen Dimensions\n",
        "---\n"
      ]
    },
    {
      "cell_type": "markdown",
      "metadata": {
        "id": "bDVxvdwizMJh"
      },
      "source": [
        "\n",
        "1. `import pygame` - This imports the PyGame module\n",
        "3. Now let's first get a screen working. Create a function called main and invoke the function right below it.\n",
        "4. `if __name__ == \"__main__\":` - Before you invoke the main function, let's use a dunder method. This checks if the `name` module is main. You may have seen this before and ask what are the differences between:\n",
        "```\n",
        "if __name__ == \"__main__\":\n",
        "  main()\n",
        "```\n",
        "and \n",
        "```\n",
        "main()\n",
        "```\n",
        "\n",
        "* Both accomplish the same thing - provide a main function to encapsulate code. If we imported the python file without the dunder function, it may not run because it may use another file's main function. Using the dunder function ensures the main function runs.\n",
        "> If you need more explanations - [check this out](https://www.freecodecamp.org/news/if-name-main-python-example/).\n",
        "\n",
        "* So far your code should like this:\n"
      ]
    },
    {
      "cell_type": "code",
      "metadata": {
        "id": "iv7YpqhXQUoB"
      },
      "source": [
        "import pygame\n",
        "\n",
        "def main():\n",
        "  pass\n",
        "\n",
        "if __name__ == \"__main__\":\n",
        "  main()"
      ],
      "execution_count": null,
      "outputs": []
    },
    {
      "cell_type": "markdown",
      "metadata": {
        "id": "7Mr5UxDgQVJn"
      },
      "source": [
        "4. Now let's set the screen dimensions above the main function - \n",
        "```\n",
        "WIDTH, HEIGHT = 900, 500\n",
        "WIN = pygame.display.set_mode((WIDTH, HEIGHT))\n",
        "```\n",
        "* This gives the screen of 900 pixels as a width and 500 pixels for the height. We then set a window mode to display the width and height. ([documentation](https://www.pygame.org/docs/ref/display.html#pygame.display.set_mode))\n"
      ]
    },
    {
      "cell_type": "markdown",
      "metadata": {
        "id": "qY_eybo5zMJi"
      },
      "source": [
        "## DIY:\n",
        "---"
      ]
    },
    {
      "cell_type": "markdown",
      "metadata": {
        "id": "V6ZW_IutfONA"
      },
      "source": [
        "1. How does `set_mode` set the screen's dimensions?"
      ]
    },
    {
      "cell_type": "markdown",
      "metadata": {
        "id": "I27Rk4HIP7bR"
      },
      "source": [
        "# Concept 4: Event Handling & Framerate\n",
        "---\n"
      ]
    },
    {
      "cell_type": "markdown",
      "metadata": {
        "id": "A4FkMWPQP7bU"
      },
      "source": [
        "1. Next, let's set up an event game loop that will continuously run until we quit the game - an infinite loop. This will be in our main function.\n",
        "```\n",
        "run = True\n",
        "while run:\n",
        "```\n",
        "* By setting a variable to `True`, this creates an infinite loop.\n",
        "2. An event's job is to watch all the different inputs (keyboard, mouse, joysticks, etc.) and process them as they occur. Lets' read through the [event documentation](https://www.pygame.org/docs/ref/event.html#module-pygame.event). Now in our while loop, let's iterate through the list of events and if it is the quit event, this quits the game.\n",
        "\n",
        "```\n",
        "while run:\n",
        "  for event in pygame.event.get():\n",
        "      if event.type == pygame.QUIT:\n",
        "        run = False\n",
        "```\n",
        "* By assigning run to False, it stops the infinite loop\n",
        "3. `pygame.quit()` - Add this after the while loop, so once run is False then it calls pygame's quit method.\n",
        "9. Let's try it out and run the program. You should see a blank screen and once you click exit, it triggers the event to quit.\n",
        "10. Next, customize the caption or title of the screen. Add this below the the window dimensions using \n",
        "```\n",
        "pygame.display.set_caption(\"My First Game!\")\n",
        "```\n",
        "* This simply titles our window. ([documentation](https://www.pygame.org/docs/ref/display.html#pygame.display.set_caption))\n",
        "6. Run it again and see what changed.\n",
        "12. Now let's fill the screen with color. Within the while loop and after the for loop, type this in - \n",
        "```\n",
        "WIN.fill((255,255,255))\n",
        "pygame.display.update()\n",
        "```\n",
        "* We fill the screen with an RGB color notation which represents white. RGB stands for red, green, blue. Any mixture of it can represent any color on the screen. The values go from 0-255. 0 means an absence of the selected color. 255 means full color. Feel free to change the numbers.\n",
        "* Then we need to update the screen after we filled the display, so it continuously displays white. ([Documentation](https://www.pygame.org/docs/ref/display.html#pygame.display.update))\n",
        "8. Let's organize our code a bit more. Put step 12 in a function called `draw_window()` and place that function above main.\n",
        "14. Overall it should look like this:"
      ]
    },
    {
      "cell_type": "code",
      "metadata": {
        "id": "aSkdxXnD9tn8"
      },
      "source": [
        "# new code\n",
        "def draw_window():\n",
        "  WIN.fill((255,255,255))\n",
        "  pygame.display.update()\n",
        "\n",
        "def main():\n",
        "  run = True\n",
        "  while run:\n",
        "    for event in pygame.event.get():\n",
        "        if event.type == pygame.QUIT:\n",
        "          run = False\n",
        "\n",
        "    # new code\n",
        "    draw_window()\n",
        "  pygame.quit()"
      ],
      "execution_count": null,
      "outputs": []
    },
    {
      "cell_type": "markdown",
      "metadata": {
        "id": "Gip0Ddbq-KlV"
      },
      "source": [
        "10.  Now set the framerate. Up at the top, define a variable called `FPS` and set it to 60 frames per second.\n",
        "16. We will use the clock method from pygame to track the timing. ([documentation](https://www.pygame.org/docs/ref/time.html#pygame.time.Clock)). Within the main function and before the run declaration, type this in `clock = pygame.tick.Clock()`. Then in the while loop before the for loop, add this `clock.tick(FPS)`.\n",
        "* This will control the speed of the loop at 60 fps. This limits the speed to 60 fps. If the framerate is any higher, it will stop at 60 fps. If the framerate is lower, the computer will do its best to reach 60 fps.\n",
        "\n",
        "```\n",
        "def main():\n",
        "  # New code\n",
        "  clock = pygame.tick.Clock()\n",
        "  \n",
        "  run = True\n",
        "  while run:\n",
        "\n",
        "    # new code\n",
        "    clock.tick(FPS)\n",
        "\n",
        "    for event in pygame.event.get():\n",
        "        if event.type == pygame.QUIT:\n",
        "```"
      ]
    },
    {
      "cell_type": "markdown",
      "metadata": {
        "id": "GsOlJXDkP7bV"
      },
      "source": [
        "## DIY:\n",
        "---"
      ]
    },
    {
      "cell_type": "markdown",
      "metadata": {
        "id": "eu3Bc8F4P7bV"
      },
      "source": [
        "1. What is framerate and why is it important in gaming?\n",
        "2. Why do we need to continually update the screen?"
      ]
    },
    {
      "cell_type": "markdown",
      "metadata": {
        "id": "D76xVCtFTwbq"
      },
      "source": [
        "# Concept 5: Asset Loading\n",
        "---\n"
      ]
    },
    {
      "cell_type": "markdown",
      "metadata": {
        "id": "zVCCFh34Twbs"
      },
      "source": [
        "\n",
        "## Asset Loading\n",
        "1. Check if you have the assets folder in your root directory.\n",
        "2. Great! Next let's import them using pygame's load method ([documentation](https://www.pygame.org/docs/ref/image.html))\n",
        "3. At the very top, `import os` - we need the operating system to link the paths from our Assets folder to our main file.\n",
        "4. Now create a variable that loads an image for a spaceship.\n",
        "```\n",
        "YELLOW_SPACESHIP_IMAGE = pygame.image.load(os.path.join('Assets', 'spaceship_yellow.png'))\n",
        "```\n",
        "* Pygame loads an image from Assets/spaceship_yellow.png\n",
        "* os.path.join joins directory paths ([documentation](https://www.geeksforgeeks.org/python-os-path-join-method/))\n",
        "5. Do this again for the red spaceship. Check for the correct name in the assets folder.\n",
        "6. Now let's display these spaceships. In the draw_window function and after the screen is filled with a color, enter this - \n",
        "```\n",
        "def draw_window():\n",
        "  WIN.fill(color)\n",
        "  \n",
        "  # new code\n",
        "  WIN.blit(YELLOW_SPACESHIP_IMAGE, (300,100))\n",
        "\n",
        "  pygame.display\n",
        "```\n",
        "* We use blit to draw surfaces onto the screen. It accepts the following parameters - the asset or surface to display and the position of the asset. ([documentation](http://www.pygame.org/docs/ref/surface.html#pygame.Surface.blit))\n",
        "> In computer graphics, the top left is the origin of the screen starting at x,y = (0,0). As you increase x, you move to the right. When you increase y, you move downwards.\n",
        "7. Try it out, the image should appear.\n",
        "8. Let's transform the image and scale it down. Add this code below the YELLOW_SPACESHIP_IMAGE variable- \n",
        "`YELLOW_SPACESHIP = pygame.transform.scale(YELLOW_SPACESHIP_IMAGE, (55,40))`\n",
        "* We initialize a new variable scaled down to 55 pixels in width and 40 pixels in height. ([documentation](https://www.pygame.org/docs/ref/transform.html))\n",
        "9. Repeat this for the red spaceship."
      ]
    },
    {
      "cell_type": "markdown",
      "metadata": {
        "id": "AXnz5MupTwbt"
      },
      "source": [
        "## DIY:\n",
        "---"
      ]
    },
    {
      "cell_type": "markdown",
      "metadata": {
        "id": "Kfh0-Srq5k0B"
      },
      "source": [
        "1. Do we render the space ship first or the background?\n",
        "2. What does blit do?\n",
        "3. How do we edit the shape of a surface?"
      ]
    },
    {
      "cell_type": "markdown",
      "metadata": {
        "id": "QKOW6AJbT9K7"
      },
      "source": [
        "# Concept 6: Rotation\n",
        "---\n"
      ]
    },
    {
      "cell_type": "markdown",
      "metadata": {
        "id": "zpG0oCwNT9K-"
      },
      "source": [
        "\n",
        "## Rotation\n",
        "1. First off, let's have variables for the ships' width and height. So at the top set these variablse - \n",
        "```\n",
        "SPACESHIP_WIDTH, SPACESHIP_HEIGHT = 60,50\n",
        "```\n",
        "2. Then replace the space ship's width and height with these variables. \n",
        "3. Let's rename the `YELLOW_SPACESHIP` variable to `YELLOW_SPACESHIP_SCALED`. Then take a look at the docs for rotation first. ([documentation](https://www.pygame.org/docs/ref/transform.html#pygame.transform.rotate))\n",
        "4. The surface is the `YELLOW_SPACESHIP_SCALED` and the rotation will be 90 degrees. In the rotate function, pass in `YELLOW_SPACESHIP_SCALED` and 90 degrees (facing the right side) - \n",
        "```\n",
        "YELLOW_SPACESHIP_SCALED = pygame.transform.scale(\n",
        "    YELLOW_SPACESHIP_IMAGE, (SPACESHIP_WIDTH, SPACESHIP_HEIGHT))\n",
        "YELLOW_SPACESHIP = pygame.transform.rotate(YELLOW_SPACESHIP_SCALED, 90)\n",
        "```\n",
        "5. Repeat this for the red shapeship with a rotation of 270 degrees (facing the left side).\n",
        "6. Ensure the red shapeship is drawn onto the screen using the `blit` function and inside `draw_window()`.\n"
      ]
    },
    {
      "cell_type": "markdown",
      "metadata": {
        "id": "YGns28PkT9K-"
      },
      "source": [
        "## DIY:\n",
        "---"
      ]
    },
    {
      "cell_type": "markdown",
      "metadata": {
        "id": "PmC6uqBTT9K_"
      },
      "source": [
        "1. In which direction would a spaceship face if its rotation is at 45 degrees? 0 degrees?"
      ]
    },
    {
      "cell_type": "markdown",
      "metadata": {
        "id": "kbJ2cbLpUhU9"
      },
      "source": [
        "# Concept 7: Keyboard Movement\n",
        "---\n"
      ]
    },
    {
      "cell_type": "markdown",
      "metadata": {
        "id": "B1F69g6sUhU9"
      },
      "source": [
        "\n",
        "## Keyboard Inputs\n",
        "1. Let's create a rectangle around the spaceships as a boundary box. In doing so, we can retrieve the x and y coordinates of the spaceships as well as preserving the spaceship's width and height.\n",
        "```\n",
        "red = pygame.Rect(700, 300, SPACESHIP_WIDTH, SPACESHIP_HEIGHT)\n",
        "yellow = pygame.Rect(100, 300, SPACESHIP_WIDTH, SPACESHIP_HEIGHT)\n",
        "```\n",
        "* Look at the ([documentation](https://www.pygame.org/docs/ref/rect.html)) for pygame.Rect.\n",
        "2. Now we need to pass these values as arguments into `draw_window(red, yellow)` as such. Be sure to edit the function parameters where you defined the function.\n",
        "3. In the `draw_window()`, edit the blit methods so they take in the yellow spaceship's x and y coordinates using `yellow.x` and `yellow.y`. It should look like this - \n",
        "```\n",
        "WIN.blit(YELLOW_SPACESHIP, (yellow.x, yellow.y))\n",
        "WIN.blit(RED_SPACESHIP, (red.x, red.y)) \n",
        "``` \n",
        "4. Great! We can now begin with key inputs. Take a look at the [documentation](https://www.pygame.org/docs/ref/key.html#pygame.key.get_pressed) for `key.get_pressed()`. It tells us what keys are currently being pressed down at our framerate of 60 fps. Now enter the code as shown below"
      ]
    },
    {
      "cell_type": "code",
      "metadata": {
        "id": "tGBvFTxPG-TS"
      },
      "source": [
        "for event in pygame.event.get()\n",
        "  ...\n",
        "\n",
        "# new code\n",
        "keys_pressed = pygame.key.get_pressed()"
      ],
      "execution_count": null,
      "outputs": []
    },
    {
      "cell_type": "markdown",
      "metadata": {
        "id": "qav-obsMHSbO"
      },
      "source": [
        "5. Below `keys_pressed`, let's create these functions called - \n",
        "```\n",
        "yellow_handle_movement(keys_pressed, yellow)\n",
        "red_handle_movement(keys_pressed, red)\n",
        "```\n",
        "* These functions, as stated, control movement of the spaceships. They don't exist yet so let's create these functions at the top.\n",
        "\n",
        "6. Start with `yellow_handle_movement()`. The parameters are keys_pressed and the yellow spaceship. We'll use the wasd keys for the yellow space ship. The following code looks like this -\n"
      ]
    },
    {
      "cell_type": "code",
      "metadata": {
        "id": "frs7zAE_E9x7"
      },
      "source": [
        "def yellow_handle_movement(keys_pressed, yellow):\n",
        "  if keys_pressed[pygame.K_a]:  \n",
        "      # LEFT\n",
        "  if keys_pressed[pygame.K_d]:  \n",
        "      # RIGHT\n",
        "  if keys_pressed[pygame.K_w]:\n",
        "      # UP\n",
        "  if keys_pressed[pygame.K_s]:\n",
        "      # DOWN"
      ],
      "execution_count": null,
      "outputs": []
    },
    {
      "cell_type": "markdown",
      "metadata": {
        "id": "Ixhsd1MmFa7w"
      },
      "source": [
        "* First off, check the [documentation](https://www.pygame.org/docs/ref/key.html) for key inputs.\n",
        "* So this entire function checks which key is pressed and then moves the spaceship at a constant velocity. \n",
        "* Create a velocity variable outside of this function and set it to 5. This needs to be outside the function because we'll use this variable in other functions.\n",
        "* Complete the function. What makes the yellow spaceship move left? How can you move the spaceship?\n",
        "7. Once you have figured out the `yellow_handle_movement` function, now do the same for the `red_handle_movement` function. This time instead of wasd, use the arrow keys. If you are unsure about the syntax, check the documentation.\n",
        "\n",
        "## Specific Key Event Inputs\n",
        "8. In the `for event in pygame.event.get()` loop, enter the following if statement right below the condition where it checks if the game guits- \n",
        "```\n",
        "if event.type == pygame.KEYDOWN:\n",
        "        if event.key == pygame.K_LCTRL:\n",
        "        if event.key == pygame.K_RCTRL:\n",
        "```\n",
        "* This checks if a key is pressed and it's the left control or the right control. ([documentation](https://www.pygame.org/docs/ref/event.html?highlight=keydown))"
      ]
    },
    {
      "cell_type": "markdown",
      "metadata": {
        "id": "gHvhjfIAUhVA"
      },
      "source": [
        "## DIY:\n",
        "---"
      ]
    },
    {
      "cell_type": "markdown",
      "metadata": {
        "id": "UtZIVk2tUhVA"
      },
      "source": [
        "1. Imagine the player needs to press `r` to raise a platform. How would you handle this instance?"
      ]
    },
    {
      "cell_type": "markdown",
      "metadata": {
        "id": "glCedjN-Gd6s"
      },
      "source": [
        "# Concept 8: User Events\n",
        "---\n"
      ]
    },
    {
      "cell_type": "markdown",
      "metadata": {
        "id": "25oLA8_cHOH7"
      },
      "source": [
        "## Objective\n",
        "Take this example and learn from the user event. Refer to the [documentation](https://www.pygame.org/docs/ref/event.html) regarding user events.\n",
        "## Example\n",
        "1. Let's display the code and explain each line. Don't copy and paste this part. Try to understand it.\n",
        "\n",
        "```\n",
        "def handle_bullets(yellow_bullets, red_bullets, yellow, red): \n",
        "  for bullet in yellow_bullets:\n",
        "      bullet.x += BULLET_VEL\n",
        "      if red.colliderect(bullet):\n",
        "          pygame.event.post(pygame.event.Event(RED_HIT))\n",
        "          yellow_bullets.remove(bullet)\n",
        "      elif bullet.x > WIDTH:\n",
        "          yellow_bullets.remove(bullet)\n",
        "```\n",
        "* Iterate through the list of bullets. \n",
        "* For each yellow bullet increase the velocity (bullets move to the right)\n",
        "* Check if the red spaceship collides with the bullet ([documentation](https://www.pygame.org/docs/ref/rect.html#pygame.Rect.colliderect))\n",
        "* If the bullet hits the red spaceship, raise an event ([documentation](https://www.pygame.org/docs/ref/event.html#pygame.event.post)) and remove the bullet from the list. See step 13 for `RED_HIT`.\n",
        "* Also check if the bullet goes off the screen, remove the bullet.\n",
        "\n",
        "2. `RED_HIT` and, in just a bit, `YELLOW_HIT` are Pygame's userevents. User events are custom events created by the user. Enter the following variables at the top -\n",
        "```\n",
        "YELLOW_HIT = pygame.USEREVENT + 1\n",
        "RED_HIT = pygame.USEREVENT + 2\n",
        "```\n",
        "* User events represent a code or an arbitrary number. Think of it this way, let's say `pygame.USEREVENT == 500`. We can check if the yellow spaceship got attacked if it matches the user event plus 1. Similarly, we can check if the red spaceship got attacked if it matches the user event plus 2."
      ]
    },
    {
      "cell_type": "markdown",
      "metadata": {
        "id": "1ZBpqEKtG_oj"
      },
      "source": [
        "## Examples:\n",
        "---"
      ]
    },
    {
      "cell_type": "code",
      "metadata": {
        "id": "_0450pN7HCoa"
      },
      "source": [
        ""
      ],
      "execution_count": null,
      "outputs": []
    },
    {
      "cell_type": "markdown",
      "metadata": {
        "id": "lKe-QKCKHDHF"
      },
      "source": [
        "## DIY:\n",
        "---"
      ]
    },
    {
      "cell_type": "markdown",
      "metadata": {
        "id": "aUupJ8gENARw"
      },
      "source": [
        ""
      ]
    },
    {
      "cell_type": "markdown",
      "metadata": {
        "id": "CChmMJBYPBf9"
      },
      "source": [
        "# Concept 9: Sounds\n",
        "---\n"
      ]
    },
    {
      "cell_type": "markdown",
      "metadata": {
        "id": "_v_jRcB0PBf_"
      },
      "source": [
        "## Objective\n",
        "Now it's time to add sounds to our game. We will add sounds once a spaceship is attacked and once it fires a bullet.\n",
        "## Steps\n",
        "1. `pygame.mixer.init()` - Add this to the very top. This initializes the mixer module ([documentation](https://www.pygame.org/docs/ref/mixer.html#pygame.mixer.init))\n",
        "2. Now load the sounds. Be sure to check the names of the sounds in the Assets folder. You may need to pull from git. - \n",
        "```\n",
        "BULLET_HIT_SOUND = pygame.mixer.Sound('Assets/grenade.mp3')\n",
        "BULLET_FIRE_SOUND = pygame.mixer.Sound('Assets/gun.mp3')\n",
        "```\n",
        "* We use `pygame.mixer.Sound` to create a new sound. ([documentation](https://www.pygame.org/docs/ref/mixer.html#pygame.mixer.Sound))\n",
        "3. Now figure out where we should play the fire and hit sounds. The syntax for this is -\n",
        "```\n",
        "BULLET_FIRE(HIT)_SOUND.play()\n",
        "```"
      ]
    },
    {
      "cell_type": "markdown",
      "metadata": {
        "id": "mOKi9irFPBgA"
      },
      "source": [
        "## DIY:\n",
        "---"
      ]
    },
    {
      "cell_type": "markdown",
      "metadata": {
        "id": "IybrTczTPBgA"
      },
      "source": [
        "1. How do we load a sound onto pygame?\n",
        "2. How do we play a sound?"
      ]
    },
    {
      "cell_type": "markdown",
      "metadata": {
        "id": "KehcQuxkw9Zp"
      },
      "source": [
        "# Concept 10: Overview\n",
        "---\n"
      ]
    },
    {
      "cell_type": "markdown",
      "metadata": {
        "id": "vGvfuEcZw9Zq"
      },
      "source": [
        "## Setting Up\n",
        "* Virtual Environment\n",
        "* Installing PyGame\n",
        "* Setting the Screen\n",
        "\n",
        "## Events\n",
        "* Event List\n",
        "* User Events\n",
        "* Event types / keys\n",
        "\n",
        "## Assets\n",
        "* Loading assets\n",
        "* Boundary box\n",
        "* Transforms (rotations/scaling/etc)\n",
        "* Drawing onto the screen (blit)\n",
        "\n",
        "## Keyboard Input\n",
        "* Key events\n",
        "* Event keys\n",
        "* Handle movement function\n",
        "\n",
        "## Sounds\n",
        "* Loading sounds\n",
        "* Playing sounds"
      ]
    },
    {
      "cell_type": "code",
      "metadata": {
        "id": "p6UpcJgq-vAO"
      },
      "source": [
        ""
      ],
      "execution_count": null,
      "outputs": []
    },
    {
      "cell_type": "markdown",
      "metadata": {
        "id": "IkqRYwh0aGsz"
      },
      "source": [
        "# Brainstorming\n",
        "---"
      ]
    },
    {
      "cell_type": "markdown",
      "metadata": {
        "id": "fx7G_GqTaJHu"
      },
      "source": [
        "## Brainstorm\n",
        "In the input box below, write 2-3 sentences for each point.\n",
        "\n",
        "1. Storyline \n",
        "2. Characters\n",
        "3. Protagonist/ Antagonist\n",
        "4. Attacks\n",
        "5. Defense\n",
        "6. Goal (How to win)"
      ]
    },
    {
      "cell_type": "code",
      "metadata": {
        "id": "sh7oYolH9RIO"
      },
      "source": [
        ""
      ],
      "execution_count": null,
      "outputs": []
    },
    {
      "cell_type": "markdown",
      "metadata": {
        "id": "4AmHQnAO6UP9"
      },
      "source": [
        "# Homework:\n",
        "---\n",
        "\n"
      ]
    },
    {
      "cell_type": "markdown",
      "metadata": {
        "id": "4HWwIuZpL3Qt"
      },
      "source": [
        "1. Check out this [PyGame video](https://youtu.be/qxwO1wyz50w).\n",
        "\n",
        "2. Given an integer x, return true if x is palindrome integer.\n",
        "\n",
        "An integer is a palindrome when it reads the same backward as forward. For example, 121 is palindrome while 123 is not.\n",
        "\n",
        "Example 1:\n",
        "\n",
        "* Input: x = 121\n",
        "* Output: true\n",
        "\n",
        "Example 2:\n",
        "\n",
        "* Input: x = -121\n",
        "* Output: false\n",
        "* Explanation: From left to right, it reads -121. From right to left, it becomes 121-. Therefore it is not a palindrome.\n",
        "\n",
        "Example 3:\n",
        "\n",
        "* Input: x = 10\n",
        "* Output: false\n",
        "* Explanation: Reads 01 from right to left. Therefore it is not a palindrome.\n",
        "\n",
        "Example 4:\n",
        "\n",
        "* Input: x = -101\n",
        "* Output: false  "
      ]
    },
    {
      "cell_type": "markdown",
      "metadata": {
        "id": "sGIYpA2949ZK"
      },
      "source": [
        "# Notes on homework:\n",
        "---"
      ]
    },
    {
      "cell_type": "markdown",
      "metadata": {
        "id": "1W21sec6G3Rq"
      },
      "source": [
        "I will check in on Thursday,  through email to check on your progress. Respond with any questions you might have. Otherwise, a simple “all good” is appropriate if you have no questions or comments. \n",
        "\n",
        "You will need to upload your coding homework assignments to GitHub.\n",
        "1. In gitbash, change directories to the homework directory: tomas_python/homework\n",
        "* TIP: use ‘cd’ to change directories\n",
        "* Use ‘cd ..’ to return to the previous directory\n",
        "* Use ‘pwd’ to show full pathname of the current working directory \n",
        "* Use ‘ls’ to list all your directories\n",
        "2. Once you’re in that directory, type in ‘git pull’\n",
        "* This ensures you have all updated files\n",
        "* If there is an error involved, email me immediately so we can try resolving it.\n",
        "* Otherwise, type your code below and we’ll resolve issues next class\n",
        "3. To create a new file, type in ‘touch hw01.py’ or the appropriate file name\n",
        "* ‘Touch’ creates a new file\n",
        "4. Open up the python file and start coding!\n",
        "\n",
        "Note: Become familiar with these actions. This is essentially what happens in the backend when you right-click and create a new folder/file!\n"
      ]
    }
  ]
}