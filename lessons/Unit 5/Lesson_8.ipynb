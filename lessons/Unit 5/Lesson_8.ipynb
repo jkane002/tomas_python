{
  "nbformat": 4,
  "nbformat_minor": 0,
  "metadata": {
    "colab": {
      "name": "Lesson 8",
      "provenance": [],
      "collapsed_sections": [
        "QanMmuiXOoLE",
        "glCedjN-Gd6s",
        "Q7uCzxxmGzqP",
        "4AmHQnAO6UP9",
        "sGIYpA2949ZK"
      ]
    },
    "kernelspec": {
      "display_name": "Python 3",
      "name": "python3"
    }
  },
  "cells": [
    {
      "cell_type": "markdown",
      "metadata": {
        "id": "Uq6oR46pHrLH"
      },
      "source": [
        "# Lesson 8: Enemy Movements \n",
        "---"
      ]
    },
    {
      "cell_type": "markdown",
      "metadata": {
        "id": "QanMmuiXOoLE"
      },
      "source": [
        "# Review\n",
        "---"
      ]
    },
    {
      "cell_type": "markdown",
      "metadata": {
        "id": "B4znJroiGyau"
      },
      "source": [
        "1. What is the process of moving a character with the background?\n",
        "2. Overall, what are a few things you've learned from creating your own game?\n",
        "3. Are you enjoying this project?"
      ]
    },
    {
      "cell_type": "markdown",
      "metadata": {
        "id": "n3ryWLNcaXxE"
      },
      "source": [
        "# Schedule\n",
        "---"
      ]
    },
    {
      "cell_type": "markdown",
      "metadata": {
        "id": "DZ0C0OtjaZj2"
      },
      "source": [
        "## Due on:\n",
        "Week 7:\n",
        "* Scrolling background with keyboard inputs\n",
        "\n",
        "Week 8:\n",
        "* implement gravity\n",
        "\n",
        "Week 9:\n",
        "* Enemy characters\n",
        "\n",
        "Week 10:\n",
        "* Attacks / Defense\n",
        "\n",
        "Week 11:\n",
        "* Level Design\n",
        "\n",
        "Week 12:\n",
        "\n",
        "Week 13:\n",
        "\n",
        "Week 14:\n",
        "\n",
        "Week 15: Quiz, Parent Meeting"
      ]
    },
    {
      "cell_type": "markdown",
      "metadata": {
        "id": "glCedjN-Gd6s"
      },
      "source": [
        "# Concept 1: Enemy Movement\n",
        "---\n"
      ]
    },
    {
      "cell_type": "markdown",
      "metadata": {
        "id": "25oLA8_cHOH7"
      },
      "source": [
        "## Objective\n",
        "The enemy movement tutorial is based on https://www.youtube.com/watch?v=vc1pJ8XdZa0 (15 min) and the code is found [here](https://github.com/techwithtim/Pygame-Tutorials/blob/master/Game/Tutorial%20%236.py). This will be an overview to enemy movement so for more details, research on your own.\n",
        "## Steps\n",
        "In general, you will automate the enemies' movements by changing the velocity after a certain time frame or once they reach a destination. You can set hit boxes on the enemies and on their weapons so when the player collides with them, they lose health or die. These are general steps that would be need to be taken.\n",
        "1. Design your enemy character. Ideally have a sprite sheet for every movement for animating.\n",
        "2. Create a list of loading images. You can retrieve the index for a particular movement. (i.e. right foot forward is at index 1, we need the character to move his right foot, load image at index 1)\n",
        "3. Create a move function for the enemy. This will automatically move your character from left to right. Simply check if the velocity is negative then allow the character to move left and vice versa.\n",
        "4. You can create a `walkCount` variable determining how far you want the enemy to move.\n",
        "5. Create a draw function that indexes the sprite sheet to get the correct character movement. The direction can be checked by determining if the velocity is positive or negative.\n",
        "6. For enemy weapons, you can shoot \"fireballs\" at random time intervals using the random module. (This can be done at another time.)"
      ]
    },
    {
      "cell_type": "markdown",
      "metadata": {
        "id": "Q7uCzxxmGzqP"
      },
      "source": [
        "# Summary:\n",
        "---\n"
      ]
    },
    {
      "cell_type": "markdown",
      "metadata": {
        "id": "cCuonwBfo2_E"
      },
      "source": [
        "1. What are 3 points that are important from this lesson?\n",
        "2. In general, how do you automate character movement? "
      ]
    },
    {
      "cell_type": "markdown",
      "metadata": {
        "id": "4AmHQnAO6UP9"
      },
      "source": [
        "# Homework:\n",
        "---\n",
        "\n"
      ]
    },
    {
      "cell_type": "markdown",
      "metadata": {
        "id": "4HWwIuZpL3Qt"
      },
      "source": [
        "1. Design your character and start implementing movement."
      ]
    },
    {
      "cell_type": "markdown",
      "metadata": {
        "id": "sGIYpA2949ZK"
      },
      "source": [
        "# Notes on homework:\n",
        "---"
      ]
    },
    {
      "cell_type": "markdown",
      "metadata": {
        "id": "1W21sec6G3Rq"
      },
      "source": [
        "I will check in on Thursday,  through email to check on your progress. Respond with any questions you might have. Otherwise, a simple “all good” is appropriate if you have no questions or comments. \n",
        "\n",
        "You will need to upload your coding homework assignments to GitHub.\n",
        "1. In gitbash, change directories to the homework directory: tomas_python/homework\n",
        "* TIP: use ‘cd’ to change directories\n",
        "* Use ‘cd ..’ to return to the previous directory\n",
        "* Use ‘pwd’ to show full pathname of the current working directory \n",
        "* Use ‘ls’ to list all your directories\n",
        "2. Once you’re in that directory, type in ‘git pull’\n",
        "* This ensures you have all updated files\n",
        "* If there is an error involved, email me immediately so we can try resolving it.\n",
        "* Otherwise, type your code below and we’ll resolve issues next class\n",
        "3. To create a new file, type in ‘touch hw01.py’ or the appropriate file name\n",
        "* ‘Touch’ creates a new file\n",
        "4. Open up the python file and start coding!\n",
        "\n",
        "Note: Become familiar with these actions. This is essentially what happens in the backend when you right-click and create a new folder/file!\n"
      ]
    }
  ]
}