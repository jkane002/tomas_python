{
  "nbformat": 4,
  "nbformat_minor": 0,
  "metadata": {
    "colab": {
      "name": "Lesson 1: Introduction to PyGame",
      "provenance": [],
      "collapsed_sections": [
        "QanMmuiXOoLE",
        "glCedjN-Gd6s",
        "1ZBpqEKtG_oj",
        "lKe-QKCKHDHF",
        "C_7PihH8w4HV",
        "zRA3jkbCzMJd",
        "KehcQuxkw9Zp",
        "Q7uCzxxmGzqP",
        "4AmHQnAO6UP9",
        "sGIYpA2949ZK"
      ]
    },
    "kernelspec": {
      "display_name": "Python 3",
      "name": "python3"
    }
  },
  "cells": [
    {
      "cell_type": "markdown",
      "metadata": {
        "id": "Uq6oR46pHrLH"
      },
      "source": [
        "# Lesson 1: Introduction to PyGame \n",
        "---\n",
        "Intro: \n",
        "Welcome back! Today we will learn about gaming and Python. Let's get started."
      ]
    },
    {
      "cell_type": "markdown",
      "metadata": {
        "id": "QanMmuiXOoLE"
      },
      "source": [
        "# Review\n",
        "---"
      ]
    },
    {
      "cell_type": "markdown",
      "metadata": {
        "id": "B4znJroiGyau"
      },
      "source": [
        "1. What are Python modules?\n",
        "2. How do you import modules?\n",
        "3. What is an infinite loop? How do you make it finite?"
      ]
    },
    {
      "cell_type": "markdown",
      "metadata": {
        "id": "glCedjN-Gd6s"
      },
      "source": [
        "# Concept 1: Python Virtual Environment\n",
        "---\n"
      ]
    },
    {
      "cell_type": "markdown",
      "metadata": {
        "id": "25oLA8_cHOH7"
      },
      "source": [
        "## Objective\n",
        "Before starting with PyGame, let's talk about Python virtual environments. \n",
        "## What are they?\n",
        "Python applications will often use packages and modules that don’t come as part of the standard library. Applications will sometimes need a specific version of a library, because the application may require that a particular bug has been fixed or the application may be written using an obsolete version of the library’s interface.\n",
        "\n",
        "This means it may not be possible for one Python installation to meet the requirements of every application. If application A needs version 1.0 of a particular module but application B needs version 2.0, then the requirements are in conflict and installing either version 1.0 or 2.0 will leave one application unable to run.\n",
        "\n",
        "The solution for this problem is to create a virtual environment, a self-contained directory tree that contains a Python installation for a particular version of Python, plus a number of additional packages.\n",
        "\n",
        "> You've heard of environment variables and now virtual environments. They are different. Environment variables are variables stored on your local machine (`os.environ.get('myvar')`). These are great for secret keys. Virtual environments store specific versions of packages suitable for your application.\n",
        "\n",
        "## Virtual Environments Example\n",
        "\n",
        "Local machine\n",
        "* a=1.0\n",
        "* b=2.2\n",
        "* c=3.3\n",
        "\n",
        "Virtual environment for a specific project\n",
        "* a=2.0\n",
        "* b=2.0\n",
        "* c=2.0\n",
        "\n",
        "**Let's keep it a habit now to use virtual environments.**\n",
        "\n",
        "1. To get started with virtual environments in any Python project, go to your root directory of your project. Then ensure you have installed the virtual environment package using `pip install virtualenv`\n",
        "2. `python -m venv venv` - This creates a virtual environment for the project. \n",
        "* `python -m` means we are going to execute a command using **m**odules.\n",
        "* `venv` - The first venv means to create a virtual environment\n",
        "* `venv` - The second venv is the name of our virtual environment. We can name it anything we want but it's customary to name it either venv or env.\n",
        "3. Now to activate them use `source env/bin/activate`. You should see the virtual environment appear in parentheses. \n",
        "4. To check what packages are installed, use `pip list`. Test this out in your virtual environment and on your local machine. \n",
        "5. To exit out of the virtual environment, type `deactivate`.\n",
        "\n",
        "\n",
        "For more information about virtual environments, check out the [documentation](https://docs.python.org/3/tutorial/venv.html).\n"
      ]
    },
    {
      "cell_type": "markdown",
      "metadata": {
        "id": "1ZBpqEKtG_oj"
      },
      "source": [
        "## Examples:\n",
        "---"
      ]
    },
    {
      "cell_type": "markdown",
      "metadata": {
        "id": "0BkT8LvrIChw"
      },
      "source": [
        "* Pretend the below code space is Git Bash. How do you create a virtual environment? Activate and deactivate it."
      ]
    },
    {
      "cell_type": "code",
      "metadata": {
        "id": "_0450pN7HCoa"
      },
      "source": [
        ""
      ],
      "execution_count": null,
      "outputs": []
    },
    {
      "cell_type": "markdown",
      "metadata": {
        "id": "lKe-QKCKHDHF"
      },
      "source": [
        "## DIY:\n",
        "---"
      ]
    },
    {
      "cell_type": "markdown",
      "metadata": {
        "id": "lHapKTGHHous"
      },
      "source": [
        "1. What are virtual environments?\n",
        "2. What are the differences and similarities between environment variables and virtual environments?\n",
        "3. How can developers benefit from virtual environments?"
      ]
    },
    {
      "cell_type": "markdown",
      "metadata": {
        "id": "C_7PihH8w4HV"
      },
      "source": [
        "# Concept 2: PyGame\n",
        "---\n"
      ]
    },
    {
      "cell_type": "markdown",
      "metadata": {
        "id": "yxGkfht_w4HY"
      },
      "source": [
        "## Objective\n",
        "We will use PyGame to implement our game.\n",
        "## What is it?\n",
        "Pygame is a cross-platform set of Python modules designed for writing video games. It includes computer graphics and sound libraries designed to be used with the Python programming language.\n",
        "\n",
        "You control your main loop. You call pygame functions, they don't call your functions. This gives you greater control when using other libraries, and for different types of programs.\n",
        "\n",
        "1. View the [PyGame documentation](https://www.pygame.org/docs/). Get familiar with this as we will be using the documentation throughout the course.\n",
        "2. Let's get started with an example. Go to Git Bash and `git pull` from the tomas_python directory.\n",
        "3. CD into the `pygame_example` directory.\n",
        "4. Now create a virtual environment. Use the steps from the last concept if you need help.\n",
        "5. Once you have created the virtual environment, activate it.\n",
        "6. Next, `pip install pygame` - This installs the pygame package.\n",
        "7. Now to start the example type in `python -m pygame.examples.aliens`\n"
      ]
    },
    {
      "cell_type": "markdown",
      "metadata": {
        "id": "AVWznMExw4Ha"
      },
      "source": [
        "## DIY:\n",
        "---"
      ]
    },
    {
      "cell_type": "markdown",
      "metadata": {
        "id": "EzgT4IwPE3F0"
      },
      "source": [
        "1. What is Pygame?\n",
        "2. What are the steps in installing it?"
      ]
    },
    {
      "cell_type": "markdown",
      "metadata": {
        "id": "zRA3jkbCzMJd"
      },
      "source": [
        "# Concept 3: Getting Started\n",
        "---\n"
      ]
    },
    {
      "cell_type": "markdown",
      "metadata": {
        "id": "bDVxvdwizMJh"
      },
      "source": [
        "## Objective\n",
        "Now let's get started with PyGame! We'll start off with a basic game -  a space ship battle.\n",
        "## Steps\n",
        "\n",
        "1. Let's open a new file in Atom and name it `ex01.py`.\n",
        "2. `import pygame` - This imports the PyGame module\n",
        "3. Now let's first get a screen working. Create a function called main and invoke the function right below it.\n",
        "4. `if __name__ == \"__main__\":` - Before you invoke the main function, let's use a dunder method. This checks if the `name` module is main. You may have seen this before and ask what are the differences between:\n",
        "```\n",
        "if __name__ == \"__main__\":\n",
        "  main()\n",
        "```\n",
        "and \n",
        "```\n",
        "main()\n",
        "```\n",
        "\n",
        "* Both accomplish the same thing - provide a main function to encapsulate code. If we imported the python file without the dunder function, it may not run because it may use another file's main function. Using the dunder function ensures the main function runs.\n",
        "> If you need more explanations - [check this out](https://www.freecodecamp.org/news/if-name-main-python-example/).\n",
        "\n",
        "* So far your code should like this:\n"
      ]
    },
    {
      "cell_type": "code",
      "metadata": {
        "id": "iv7YpqhXQUoB"
      },
      "source": [
        "import pygame\n",
        "\n",
        "def main():\n",
        "  pass\n",
        "\n",
        "if __name__ == \"__main__\":\n",
        "  main()"
      ],
      "execution_count": null,
      "outputs": []
    },
    {
      "cell_type": "markdown",
      "metadata": {
        "id": "7Mr5UxDgQVJn"
      },
      "source": [
        "5. Now let's set the screen dimensions above the main function - \n",
        "```\n",
        "WIDTH, HEIGHT = 900, 500\n",
        "WIN = pygame.display.set_mode((WIDTH, HEIGHT))\n",
        "```\n",
        "* This gives the screen of 900 pixels as a width and 500 pixels for the height. We then set a window mode to display the width and height. ([documentation](https://www.pygame.org/docs/ref/display.html#pygame.display.set_mode))\n",
        "6. Next, let's set up an event game loop that will continuously run until we quit the game - an infinite loop. This will be in our main function.\n",
        "```\n",
        "run = True\n",
        "while run:\n",
        "```\n",
        "* By setting a variable to `True`, this creates an infinite loop.\n",
        "7. An event's job is to watch all the different inputs (keyboard, mouse, joysticks, etc.) and process them as they occur. Lets' read through the [event documentation](https://www.pygame.org/docs/ref/event.html#module-pygame.event). Now in our while loop, let's iterate through the list of events and if it is the quit event, this quits the game.\n",
        "\n",
        "```\n",
        "while run:\n",
        "  for event in pygame.event.get():\n",
        "      if event.type == pygame.QUIT:\n",
        "        run = False\n",
        "```\n",
        "* By assigning run to False, it stops the infinite loop\n",
        "8. `pygame.quit()` - Add this after the while loop, so once run is False then it calls pygame's quit method.\n",
        "9. Let's try it out and run the program. You should see a blank screen and once you click exit, it triggers the event to quit.\n",
        "10. Next, customize the caption or title of the screen. Add this below the the window dimensions using \n",
        "```\n",
        "pygame.display.set_caption(\"My First Game!\")\n",
        "```\n",
        "* This simply titles our window. ([documentation](https://www.pygame.org/docs/ref/display.html#pygame.display.set_caption))\n",
        "11. Run it again and see what changed.\n",
        "12. Now let's fill the screen with color. Within the while loop and after the for loop, type this in - \n",
        "```\n",
        "WIN.fill((255,255,255))\n",
        "pygame.display.update()\n",
        "```\n",
        "* We fill the screen with an RGB color notation which represents white. RGB stands for red, green, blue. Any mixture of it can represent any color on the screen. The values go from 0-255. 0 means an absence of the selected color. 255 means full color. Feel free to change the numbers.\n",
        "* Then we need to update the screen after we filled the display, so it continuously displays white. ([Documentation](https://www.pygame.org/docs/ref/display.html#pygame.display.update))\n",
        "13. Let's organize our code a bit more. Put step 12 in a function called `draw_window()` and place that function above main.\n",
        "14. Overall it should look like this:"
      ]
    },
    {
      "cell_type": "code",
      "metadata": {
        "id": "aSkdxXnD9tn8"
      },
      "source": [
        "# new code\n",
        "def draw_window():\n",
        "  WIN.fill((255,255,255))\n",
        "  pygame.display.update()\n",
        "\n",
        "def main():\n",
        "  run = True\n",
        "  while run:\n",
        "    for event in pygame.event.get():\n",
        "        if event.type == pygame.QUIT:\n",
        "          run = False\n",
        "\n",
        "    # new code\n",
        "    draw_window()\n",
        "  pygame.quit()"
      ],
      "execution_count": null,
      "outputs": []
    },
    {
      "cell_type": "markdown",
      "metadata": {
        "id": "Gip0Ddbq-KlV"
      },
      "source": [
        "15.  Now set the framerate. Up at the top, define a variable called `FPS` and set it to 60 frames per second.\n",
        "16. We will use the clock method from pygame to track the timing. ([documentation](https://www.pygame.org/docs/ref/time.html#pygame.time.Clock)). Within the main function and before the run declaration, type this in `clock = pygame.tick.Clock()`. Then in the while loop before the for loop, add this `clock.tick(FPS)`.\n",
        "* This will control the speed of the loop at 60 fps. This limits the speed to 60 fps. If the framerate is any higher, it will stop at 60 fps. If the framerate is lower, the computer will do its best to reach 60 fps.\n",
        "\n",
        "```\n",
        "def main():\n",
        "  # New code\n",
        "  clock = pygame.tick.Clock()\n",
        "  \n",
        "  run = True\n",
        "  while run:\n",
        "\n",
        "    # new code\n",
        "    clock.tick(FPS)\n",
        "\n",
        "    for event in pygame.event.get():\n",
        "        if event.type == pygame.QUIT:\n",
        "```"
      ]
    },
    {
      "cell_type": "markdown",
      "metadata": {
        "id": "qY_eybo5zMJi"
      },
      "source": [
        "## DIY:\n",
        "---"
      ]
    },
    {
      "cell_type": "markdown",
      "metadata": {
        "id": "V6ZW_IutfONA"
      },
      "source": [
        "1. What is framerate and why is it important in gaming?\n",
        "2. Why do we need to continually update the screen?"
      ]
    },
    {
      "cell_type": "markdown",
      "metadata": {
        "id": "KehcQuxkw9Zp"
      },
      "source": [
        "# Concept 4: Asset Loading\n",
        "---\n"
      ]
    },
    {
      "cell_type": "markdown",
      "metadata": {
        "id": "vGvfuEcZw9Zq"
      },
      "source": [
        "## Objective\n",
        "Let's import some assets as our players. Game assets include everything that can go into a game, including 3D models, sprites, sound effects, music, code snippets and modules, and even complete projects that can be used by a game engine.\n",
        "## Asset Loading\n",
        "1. Check if you have the assets folder in your root directory.\n",
        "2. Great! Next let's import them using pygame's load method ([documentation](https://www.pygame.org/docs/ref/image.html))\n",
        "3. At the very top, `import os` - we need the operating system to link the paths from our Assets folder to our main file.\n",
        "4. Now create a variable that loads an image for a spaceship.\n",
        "```\n",
        "YELLOW_SPACESHIP_IMAGE = pygame.image.load(os.path.join('Assets', 'spaceship_yellow.png'))\n",
        "```\n",
        "* Pygame loads an image from Assets/spaceship_yellow.png\n",
        "* os.path.join joins directory paths ([documentation](https://www.geeksforgeeks.org/python-os-path-join-method/))\n",
        "5. Do this again for the red spaceship. Check for the correct name in the assets folder.\n",
        "6. Now let's display these spaceships. In the draw_window function and after the screen is filled with a color, enter this - \n",
        "```\n",
        "def draw_window():\n",
        "  WIN.fill(color)\n",
        "  \n",
        "  # new code\n",
        "  WIN.blit(YELLOW_SPACESHIP_IMAGE, (300,100))\n",
        "\n",
        "  pygame.display\n",
        "```\n",
        "* We use blit to draw surfaces onto the screen. It accepts the following parameters - the asset or surface to display and the position of the asset. ([documentation](http://www.pygame.org/docs/ref/surface.html#pygame.Surface.blit))\n",
        "> In computer graphics, the top left is the origin of the screen starting at x,y = (0,0). As you increase x, you move to the right. When you increase y, you move downwards.\n",
        "7. Try it out, the image should appear.\n",
        "8. Let's transform the image and scale it down. Add this code below the YELLOW_SPACESHIP_IMAGE variable- \n",
        "`YELLOW_SPACESHIP = pygame.transform.scale(YELLOW_SPACESHIP_IMAGE, (55,40))`\n",
        "* We initialize a new variable scaled down to 55 pixels in width and 40 pixels in height. ([documentation](https://www.pygame.org/docs/ref/transform.html))\n",
        "9. Repeat this for the red spaceship."
      ]
    },
    {
      "cell_type": "markdown",
      "metadata": {
        "id": "0hpHHWuiw9Zq"
      },
      "source": [
        "## DIY:\n",
        "---"
      ]
    },
    {
      "cell_type": "markdown",
      "metadata": {
        "id": "Kfh0-Srq5k0B"
      },
      "source": [
        "1. Do we render the space ship first or the background?\n",
        "2. What does blit do?\n",
        "3. How do we edit the shape of a surface?"
      ]
    },
    {
      "cell_type": "markdown",
      "metadata": {
        "id": "Q7uCzxxmGzqP"
      },
      "source": [
        "# Summary:\n",
        "---\n"
      ]
    },
    {
      "cell_type": "markdown",
      "metadata": {
        "id": "cCuonwBfo2_E"
      },
      "source": [
        "1. What is PyGame?\n",
        "2. Do you think Python is a great programming language for gaming?\n",
        "3. What does the following code do?"
      ]
    },
    {
      "cell_type": "code",
      "metadata": {
        "id": "1cIWwFSNka9Q"
      },
      "source": [
        "for event in pygame.event.get():\n",
        "        if event.type == pygame.QUIT:\n",
        "          run = False"
      ],
      "execution_count": null,
      "outputs": []
    },
    {
      "cell_type": "markdown",
      "metadata": {
        "id": "4AmHQnAO6UP9"
      },
      "source": [
        "# Homework:\n",
        "---\n",
        "\n"
      ]
    },
    {
      "cell_type": "markdown",
      "metadata": {
        "id": "4HWwIuZpL3Qt"
      },
      "source": [
        "Say you have an array for which the ith element is the price of a given stock on day i.\n",
        "\n",
        "If you were only permitted to complete at most one transaction (i.e., buy one and sell one share of the stock), design an algorithm to find the maximum profit.\n",
        "\n",
        "Note that you cannot sell a stock before you buy one.\n",
        "\n",
        "Example 1:\n",
        "\n",
        "* Input: [7,1,5,3,6,4]\n",
        "* Output: 5\n",
        "* Explanation: Buy on day 2 (price = 1) and sell on day 5 (price = 6), profit = 6-1 = 5. Not 7-1 = 6, as selling price needs to be larger than buying price.\n",
        "\n",
        "Example 2:\n",
        "\n",
        "* Input: [7,6,4,3,1]\n",
        "* Output: 0\n",
        "* Explanation: In this case, no transaction is done, i.e. max profit = 0."
      ]
    },
    {
      "cell_type": "markdown",
      "metadata": {
        "id": "sGIYpA2949ZK"
      },
      "source": [
        "# Notes on homework:\n",
        "---"
      ]
    },
    {
      "cell_type": "markdown",
      "metadata": {
        "id": "1W21sec6G3Rq"
      },
      "source": [
        "I will check in on Thursday,  through email to check on your progress. Respond with any questions you might have. Otherwise, a simple “all good” is appropriate if you have no questions or comments. \n",
        "\n",
        "You will need to upload your coding homework assignments to GitHub.\n",
        "1. In gitbash, change directories to the homework directory: tomas_python/homework\n",
        "* TIP: use ‘cd’ to change directories\n",
        "* Use ‘cd ..’ to return to the previous directory\n",
        "* Use ‘pwd’ to show full pathname of the current working directory \n",
        "* Use ‘ls’ to list all your directories\n",
        "2. Once you’re in that directory, type in ‘git pull’\n",
        "* This ensures you have all updated files\n",
        "* If there is an error involved, email me immediately so we can try resolving it.\n",
        "* Otherwise, type your code below and we’ll resolve issues next class\n",
        "3. To create a new file, type in ‘touch hw01.py’ or the appropriate file name\n",
        "* ‘Touch’ creates a new file\n",
        "4. Open up the python file and start coding!\n",
        "\n",
        "Note: Become familiar with these actions. This is essentially what happens in the backend when you right-click and create a new folder/file!\n"
      ]
    }
  ]
}