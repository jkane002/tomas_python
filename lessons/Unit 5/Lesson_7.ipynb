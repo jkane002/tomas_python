{
  "nbformat": 4,
  "nbformat_minor": 0,
  "metadata": {
    "colab": {
      "name": "Lesson 7",
      "provenance": [],
      "collapsed_sections": [
        "QanMmuiXOoLE",
        "NeK2Z44PoFnX",
        "glCedjN-Gd6s",
        "irI50xJP9R2W",
        "4AmHQnAO6UP9",
        "sGIYpA2949ZK"
      ]
    },
    "kernelspec": {
      "display_name": "Python 3",
      "name": "python3"
    }
  },
  "cells": [
    {
      "cell_type": "markdown",
      "metadata": {
        "id": "Uq6oR46pHrLH"
      },
      "source": [
        "# Lesson 7\n",
        "---"
      ]
    },
    {
      "cell_type": "markdown",
      "metadata": {
        "id": "QanMmuiXOoLE"
      },
      "source": [
        "# Review\n",
        "---"
      ]
    },
    {
      "cell_type": "markdown",
      "metadata": {
        "id": "B4znJroiGyau"
      },
      "source": [
        "1. Explain the concept of a scrolling background.\n",
        "2. What methods do we need to load an image?\n",
        "\n",
        "Help on gravity\n",
        "\n",
        "```\n",
        "clock = pygame.time.Clock()\n",
        "while True:    \n",
        "    dt = clock.tick(fps)\n",
        "    y.speed += .002 * dt\n",
        "```"
      ]
    },
    {
      "cell_type": "markdown",
      "metadata": {
        "id": "n3ryWLNcaXxE"
      },
      "source": [
        "# Schedule\n",
        "---"
      ]
    },
    {
      "cell_type": "markdown",
      "metadata": {
        "id": "DZ0C0OtjaZj2"
      },
      "source": [
        "## Due on:\n",
        "Week 7:\n",
        "* implement gravity\n",
        "\n",
        "Week 8:\n",
        "* Scrolling background with keyboard inputs\n",
        "\n",
        "Week 9:\n",
        "* Enemy characters\n",
        "\n",
        "Week 10:\n",
        "* Attacks / Defense\n",
        "\n",
        "Week 11:\n",
        "* Level Design\n",
        "\n",
        "Week 12:\n",
        "\n",
        "Week 13:\n",
        "\n",
        "Week 14:\n",
        "\n",
        "Week 15: Quiz, Parent Meeting"
      ]
    },
    {
      "cell_type": "markdown",
      "metadata": {
        "id": "NeK2Z44PoFnX"
      },
      "source": [
        "# Concept 1: Scrolling Background\n",
        "---\n"
      ]
    },
    {
      "cell_type": "markdown",
      "metadata": {
        "id": "f8pzM79ioFnZ"
      },
      "source": [
        "## Objective\n",
        "This tutorial is based on this [video](https://youtu.be/AX8YU2hLBUg) (14 min). When moving the character, the screen moves along with it. Concept 2 uses a similar approach but it is from a bird's eye perspective which you may need later on. \n",
        "\n",
        "The following steps generalize the necessary steps so to get a more detailed overview, click the link.\n",
        "## Steps\n",
        "1. Ensure you have a background loaded.\n",
        "2. Retrieve the background width and height using `bgWidth, bgHeight = background.get_rect().size`\n",
        "3. Let's define a stage width variable and initialize it to the background width multiplied by 2.\n",
        "`stageWidth = bgWidth * 2`\n",
        "* The stage width is the width where the character can move freely but not go outside. Think of the stage as the entire scrolling background.\n",
        "4. Next define the following variables for the stage - \n",
        "```\n",
        "stagePosX = 0\n",
        "startScrollingPosX = (WIDTH / 2)\n",
        "```\n",
        "* `stagePosX` - Defines the x value of the stage\n",
        "* `startScrollingPosX` - Defines the scrolling x value. We set it to the screen's width / 2 because we want the player to be in the middle.\n",
        "5. Next define the following variables for the player -\n",
        "```\n",
        "playerPosX = player.x\n",
        "playerPosY = 500\n",
        "playerVelocityX = 0\n",
        "```\n",
        "* `playerPosX`- This is x coordinate of the player as it moves along with the scrolling background. You might need to subtract half of the player's width to reach the true middle.\n",
        "* `playerPosY`- The y position is above the grass line.\n",
        "* `playerVelocityX`- the speed and direction in which the player is moving.\n",
        "6. Next, edit your key presses to address the player's velocity. \n",
        "* `playerVelocityX = 1` when pressing right\n",
        "* `playerVelocityX = -1` when pressing left\n",
        "* else `playerVelocityX = 0` sitting still\n",
        "* Then `playerPosX += playerVelocityX` \n",
        "\n",
        "7. Next let's set the stage boundaries. \n",
        "\n",
        "```\n",
        "if playerPosX > stageWidth - player.width: \n",
        "      playerPosX = stageWidth - player.width\n",
        "if playerPosX < player.width:\n",
        "      playerPosX = player.width\n",
        "if playerPosX < startScrollingPosX:\n",
        "      player.x = playerPosX\n",
        "elif playerPosX > stageWidth - startScrollingPosX: \n",
        "      player.x = playerPosX - stageWidth + W\n",
        "else:\n",
        "      player.x = startScrollingPosX\n",
        "      stagePosX += -playerVelocityX\n",
        "\t\n",
        "```\n",
        "\n",
        "* `if playerPosX > stageWidth - player.width` - This sets the right-most boundary so the player does not go off the screen. Again you may need to edit player.width\n",
        "* `if playerPosX < player.width:` - This sets the left-most boundary so the player does not go off the screen. Again you may need to edit player.width\n",
        "* `if playerPosX < startScrollingPosX` - This moves the background relative to the player.\n",
        "* `elif playerPosX > stageWidth - startScrollingPosX` - This moves the player until it reaches the very end of the screen\n",
        "* `else` - The else condition assigns the scrolling position to the player's x coordinate and adds the velocity to the stage position.\n",
        "\n",
        "8. Ensure the boundary checks are before the scrolling background calculations. You may need to edit variables.\n",
        "\n",
        "```\n",
        "rel_x = stagePosX % bgWidth\n",
        "DS.blit(bg, (rel_x - bgWidth, 0))\n",
        "if rel_x < W:\n",
        "  DS.blit(bg, (rel_x, 0))\n",
        "```"
      ]
    },
    {
      "cell_type": "markdown",
      "metadata": {
        "id": "glCedjN-Gd6s"
      },
      "source": [
        "# Concept 2: Scrolling Background based on Keyboard Input\n",
        "---\n"
      ]
    },
    {
      "cell_type": "markdown",
      "metadata": {
        "id": "25oLA8_cHOH7"
      },
      "source": [
        "## Objective\n",
        "This tutorial is based on [Scrolling Backgrounds in Pygame (8 min)](https://www.youtube.com/watch?v=8ppKSy8aUZc). This will be a general approach so feel free to tailor to your code.\n",
        "## Steps\n",
        "The big picture is having each frame update whenever you move your character. If the character moves right, the screen moves left and vice versa.\n",
        "1. First you need to download the `pygame_functions` folder and then import it into your game. The folder can be found [here](https://github.com/StevePaget/Pygame_Functions). Either clone the repo or download the pygame_functions folder.\n",
        "2. `setBackgroundImage('name')` - This takes in a string name of your background image. This can be arranged into a list or a list of lists to represent your different backgrounds. A list of backgrounds is linear and a list of lists is a 2-dimensional list of backgrounds. ([documentation](https://github.com/StevePaget/Pygame_Functions/wiki/setBackgroundImage))\n",
        "3. `scrollBackground(x,y)` - Where x is the horizontal shift in pixels and y is the vertical shift in pixels. Use this when moving your character with keyboard inputs. ([documentation](https://github.com/StevePaget/Pygame_Functions/wiki/scrollBackground))\n",
        "\n",
        "4. Note: You may need to animate according to your clock. You can set your `nextframe = clock()` and check if the clock is greater than your nextframe, loop over the frame.\n",
        "\n",
        "```\n",
        "nextframe = clock()\n",
        "\n",
        "# in while loop\n",
        "while True:\n",
        "    if clock() > nextframe:\n",
        "          frame = (frame + 1) % 8\n",
        "          nextframe += 80\n",
        "```\n",
        "Refer back to the [video](https://www.youtube.com/watch?v=8ppKSy8aUZc) if you need additional information."
      ]
    },
    {
      "cell_type": "markdown",
      "metadata": {
        "id": "irI50xJP9R2W"
      },
      "source": [
        "# Summary:\n",
        "---\n"
      ]
    },
    {
      "cell_type": "markdown",
      "metadata": {
        "id": "ob68WMk79R2Z"
      },
      "source": [
        "1. Be sure to push your code to GitHub and make necessary comments.\n",
        "2. Highlight 3 points that were important in today's session."
      ]
    },
    {
      "cell_type": "markdown",
      "metadata": {
        "id": "4AmHQnAO6UP9"
      },
      "source": [
        "# Homework:\n",
        "---\n",
        "\n"
      ]
    },
    {
      "cell_type": "markdown",
      "metadata": {
        "id": "4HWwIuZpL3Qt"
      },
      "source": [
        "1. Implement a scrolling background based on keyboard input."
      ]
    },
    {
      "cell_type": "markdown",
      "metadata": {
        "id": "sGIYpA2949ZK"
      },
      "source": [
        "# Notes on homework:\n",
        "---"
      ]
    },
    {
      "cell_type": "markdown",
      "metadata": {
        "id": "1W21sec6G3Rq"
      },
      "source": [
        "I will check in on Thursday,  through email to check on your progress. Respond with any questions you might have. Otherwise, a simple “all good” is appropriate if you have no questions or comments. \n",
        "\n",
        "You will need to upload your coding homework assignments to GitHub.\n",
        "1. In gitbash, change directories to the homework directory: tomas_python/homework\n",
        "* TIP: use ‘cd’ to change directories\n",
        "* Use ‘cd ..’ to return to the previous directory\n",
        "* Use ‘pwd’ to show full pathname of the current working directory \n",
        "* Use ‘ls’ to list all your directories\n",
        "2. Once you’re in that directory, type in ‘git pull’\n",
        "* This ensures you have all updated files\n",
        "* If there is an error involved, email me immediately so we can try resolving it.\n",
        "* Otherwise, type your code below and we’ll resolve issues next class\n",
        "3. To create a new file, type in ‘touch hw01.py’ or the appropriate file name\n",
        "* ‘Touch’ creates a new file\n",
        "4. Open up the python file and start coding!\n",
        "\n",
        "Note: Become familiar with these actions. This is essentially what happens in the backend when you right-click and create a new folder/file!\n"
      ]
    }
  ]
}