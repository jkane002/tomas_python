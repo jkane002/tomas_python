{
  "nbformat": 4,
  "nbformat_minor": 0,
  "metadata": {
    "colab": {
      "name": "Lesson 5",
      "provenance": [],
      "collapsed_sections": [
        "QanMmuiXOoLE",
        "glCedjN-Gd6s",
        "KehcQuxkw9Zp",
        "4AmHQnAO6UP9",
        "sGIYpA2949ZK"
      ]
    },
    "kernelspec": {
      "display_name": "Python 3",
      "name": "python3"
    }
  },
  "cells": [
    {
      "cell_type": "markdown",
      "metadata": {
        "id": "Uq6oR46pHrLH"
      },
      "source": [
        "# Lesson 5\n",
        "---\n",
        "Intro: \n",
        "Let's begin creating our game!"
      ]
    },
    {
      "cell_type": "markdown",
      "metadata": {
        "id": "QanMmuiXOoLE"
      },
      "source": [
        "# Review\n",
        "---"
      ]
    },
    {
      "cell_type": "markdown",
      "metadata": {
        "id": "B4znJroiGyau"
      },
      "source": [
        "1. What are sprites?\n",
        "2. How does PyGame handle events?\n",
        "3. How do you define the screen size?"
      ]
    },
    {
      "cell_type": "markdown",
      "metadata": {
        "id": "glCedjN-Gd6s"
      },
      "source": [
        "# Concept 1: Setup\n",
        "---\n"
      ]
    },
    {
      "cell_type": "markdown",
      "metadata": {
        "id": "25oLA8_cHOH7"
      },
      "source": [
        "## Objective\n",
        "If you haven't already, start setting up PyGame. For more detailed information, check previous lessons. \n",
        "## Setup\n",
        "1. Create a virtual environment\n",
        "2. Ensure this is ignored by the `gitignore`\n",
        "3. Create an assets folder - this is where you will store your images, sounds, background, etc.\n",
        "4. Before coding, activate your virtual environment.\n",
        "5. Install pygame - `pip install pygame`\n",
        "6. Create a main function\n",
        "7. Set up the screen dimensions\n",
        "8. Handle PyGame events"
      ]
    },
    {
      "cell_type": "markdown",
      "metadata": {
        "id": "KehcQuxkw9Zp"
      },
      "source": [
        "# Concept 2: Character Sprites\n",
        "---\n"
      ]
    },
    {
      "cell_type": "markdown",
      "metadata": {
        "id": "vGvfuEcZw9Zq"
      },
      "source": [
        "## Objective\n",
        "Get started with character sprites! You can either download free assets online, use the sprites from the example game, or create your own. Be mindful that the game functionality is important.\n",
        "## Steps\n",
        "1. http://programarcadegames.com/python_examples/en/sprite_sheets/\n",
        "2. https://ehmatthes.github.io/pcc_2e/beyond_pcc/pygame_sprite_sheets/\n",
        "3. https://www.youtube.com/watch?v=ou8VkQB2sos (8 min)\n",
        "4. Use the above websites as inspiration to creating sprites.\n",
        "\n",
        "> If you haven't already, spend at most a week on this. We need to get the functionality of the game working.\n",
        "\n",
        "5. Once you have the sprites ready, load your sprites from the assets folder.\n",
        "6. Be sure to create a hitbox using the rectangle method.\n",
        "7. Adjust the scaling, position, and rotation as needed."
      ]
    },
    {
      "cell_type": "markdown",
      "metadata": {
        "id": "Q7uCzxxmGzqP"
      },
      "source": [
        "# Summary:\n",
        "---\n"
      ]
    },
    {
      "cell_type": "markdown",
      "metadata": {
        "id": "cCuonwBfo2_E"
      },
      "source": [
        "1. Be sure to push your code to GitHub and make necessary comments.\n",
        "2. Highlight 3 points that were important in today's session."
      ]
    },
    {
      "cell_type": "markdown",
      "metadata": {
        "id": "4AmHQnAO6UP9"
      },
      "source": [
        "# Homework:\n",
        "---\n",
        "\n"
      ]
    },
    {
      "cell_type": "markdown",
      "metadata": {
        "id": "4HWwIuZpL3Qt"
      },
      "source": [
        "1. Finish up creating the sprites!"
      ]
    },
    {
      "cell_type": "markdown",
      "metadata": {
        "id": "sGIYpA2949ZK"
      },
      "source": [
        "# Notes on homework:\n",
        "---"
      ]
    },
    {
      "cell_type": "markdown",
      "metadata": {
        "id": "1W21sec6G3Rq"
      },
      "source": [
        "I will check in on Thursday,  through email to check on your progress. Respond with any questions you might have. Otherwise, a simple “all good” is appropriate if you have no questions or comments. \n",
        "\n",
        "You will need to upload your coding homework assignments to GitHub.\n",
        "1. In gitbash, change directories to the homework directory: tomas_python/homework\n",
        "* TIP: use ‘cd’ to change directories\n",
        "* Use ‘cd ..’ to return to the previous directory\n",
        "* Use ‘pwd’ to show full pathname of the current working directory \n",
        "* Use ‘ls’ to list all your directories\n",
        "2. Once you’re in that directory, type in ‘git pull’\n",
        "* This ensures you have all updated files\n",
        "* If there is an error involved, email me immediately so we can try resolving it.\n",
        "* Otherwise, type your code below and we’ll resolve issues next class\n",
        "3. To create a new file, type in ‘touch hw01.py’ or the appropriate file name\n",
        "* ‘Touch’ creates a new file\n",
        "4. Open up the python file and start coding!\n",
        "\n",
        "Note: Become familiar with these actions. This is essentially what happens in the backend when you right-click and create a new folder/file!\n"
      ]
    }
  ]
}