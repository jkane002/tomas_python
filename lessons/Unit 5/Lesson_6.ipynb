{
  "nbformat": 4,
  "nbformat_minor": 0,
  "metadata": {
    "colab": {
      "name": "Lesson 6",
      "provenance": [],
      "collapsed_sections": [
        "QanMmuiXOoLE",
        "glCedjN-Gd6s",
        "irI50xJP9R2W",
        "4AmHQnAO6UP9",
        "sGIYpA2949ZK"
      ]
    },
    "kernelspec": {
      "display_name": "Python 3",
      "name": "python3"
    }
  },
  "cells": [
    {
      "cell_type": "markdown",
      "metadata": {
        "id": "Uq6oR46pHrLH"
      },
      "source": [
        "# Lesson 6\n",
        "---\n",
        "Intro: Continue making your game!"
      ]
    },
    {
      "cell_type": "markdown",
      "metadata": {
        "id": "QanMmuiXOoLE"
      },
      "source": [
        "# Review\n",
        "---"
      ]
    },
    {
      "cell_type": "markdown",
      "metadata": {
        "id": "B4znJroiGyau"
      },
      "source": [
        "1. Explain the additional steps taken to jump.\n",
        "2. Suppose you'd want clouds in the background. Similar to how you created the grass, how do you make it?"
      ]
    },
    {
      "cell_type": "markdown",
      "metadata": {
        "id": "n3ryWLNcaXxE"
      },
      "source": [
        "# Schedule\n",
        "---"
      ]
    },
    {
      "cell_type": "markdown",
      "metadata": {
        "id": "DZ0C0OtjaZj2"
      },
      "source": [
        "## Due on:\n",
        "\n",
        "Week 6:\n",
        "\n",
        "Week 7:\n",
        "* scrolling background\n",
        "* implement gravity\n",
        "* \n",
        "\n",
        "Week 8:\n",
        "\n",
        "Week 9:\n",
        "\n",
        "Week 10:\n",
        "\n",
        "Week 11:\n",
        "\n",
        "Week 12:\n",
        "\n",
        "Week 13:\n",
        "\n",
        "Week 14:\n",
        "\n",
        "Week 15: Quiz, Parent Meeting"
      ]
    },
    {
      "cell_type": "markdown",
      "metadata": {
        "id": "glCedjN-Gd6s"
      },
      "source": [
        "# Concept 1: Scrolling Backgrounds\n",
        "---\n"
      ]
    },
    {
      "cell_type": "markdown",
      "metadata": {
        "id": "25oLA8_cHOH7"
      },
      "source": [
        "## Objective\n",
        "To appear as if the character is moving across a course, we need the concept of scrolling backgrounds. This tutorial is based on https://www.youtube.com/watch?v=US3HSusUBeI (10 min) and an additional resource is https://www.youtube.com/watch?v=8ppKSy8aUZc (8 min).\n",
        "## Steps\n",
        "Keep in mind how you'd want to scroll the background. Let's start with the automatic scrolling background. If you want the background to change as the character moves, then look at the second video tutorial.\n",
        "1. Begin with the automatic scrolling background. First, start with rendering the background in the main loop. `WINDOW.blit(bkgd, (x, 0))` This render the background onto the window screen at the given x value with the y value of 0.\n",
        "2. Underneath it include this code `x -=1`. This will move the background image to the left every frame.\n",
        "3. The problem is it doesn't loop once the original background image passes. We need to use modulus to return to the beginning of the image once it passes. `rel_x = x % bkgd.get_rect().width` We define a variable called `rel_x` and set x to the x modulo the width of the image.\n",
        "4. Be sure to edit the blit paramter also.\n",
        "5. Test it out and you see it is not moving because we need to subtract the width of the image in order to start from the beginning.\n",
        "Edit so it becomes this `DS.blit(bkgd, (rel_x - bkgd.get_rect().width, 0))`\n",
        "6. Then check if the relative x is less than the screen width to draw the next image in sequence. \n",
        "```\n",
        "if rel_x < W:\n",
        "\t\tDS.blit(bkgd, (rel_x, 0)\n",
        "```\n",
        "* The position is now rel_x because as it will continually update as it's scrolling.\n"
      ]
    },
    {
      "cell_type": "markdown",
      "metadata": {
        "id": "irI50xJP9R2W"
      },
      "source": [
        "# Summary:\n",
        "---\n"
      ]
    },
    {
      "cell_type": "markdown",
      "metadata": {
        "id": "ob68WMk79R2Z"
      },
      "source": [
        "1. Be sure to push your code to GitHub and make necessary comments.\n",
        "2. Highlight 3 points that were important in today's session."
      ]
    },
    {
      "cell_type": "markdown",
      "metadata": {
        "id": "4AmHQnAO6UP9"
      },
      "source": [
        "# Homework:\n",
        "---\n",
        "\n"
      ]
    },
    {
      "cell_type": "markdown",
      "metadata": {
        "id": "4HWwIuZpL3Qt"
      },
      "source": [
        "1. Work on scrolling backgrounds.\n",
        "2. If necessary, work on key presses to adjust the background as the character is moving. This is shown through the second video tutorial."
      ]
    },
    {
      "cell_type": "markdown",
      "metadata": {
        "id": "sGIYpA2949ZK"
      },
      "source": [
        "# Notes on homework:\n",
        "---"
      ]
    },
    {
      "cell_type": "markdown",
      "metadata": {
        "id": "1W21sec6G3Rq"
      },
      "source": [
        "I will check in on Thursday,  through email to check on your progress. Respond with any questions you might have. Otherwise, a simple “all good” is appropriate if you have no questions or comments. \n",
        "\n",
        "You will need to upload your coding homework assignments to GitHub.\n",
        "1. In gitbash, change directories to the homework directory: tomas_python/homework\n",
        "* TIP: use ‘cd’ to change directories\n",
        "* Use ‘cd ..’ to return to the previous directory\n",
        "* Use ‘pwd’ to show full pathname of the current working directory \n",
        "* Use ‘ls’ to list all your directories\n",
        "2. Once you’re in that directory, type in ‘git pull’\n",
        "* This ensures you have all updated files\n",
        "* If there is an error involved, email me immediately so we can try resolving it.\n",
        "* Otherwise, type your code below and we’ll resolve issues next class\n",
        "3. To create a new file, type in ‘touch hw01.py’ or the appropriate file name\n",
        "* ‘Touch’ creates a new file\n",
        "4. Open up the python file and start coding!\n",
        "\n",
        "Note: Become familiar with these actions. This is essentially what happens in the backend when you right-click and create a new folder/file!\n"
      ]
    }
  ]
}